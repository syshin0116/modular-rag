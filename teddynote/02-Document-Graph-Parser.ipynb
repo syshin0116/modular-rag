{
 "cells": [
  {
   "cell_type": "code",
   "execution_count": 1,
   "metadata": {},
   "outputs": [
    {
     "name": "stdout",
     "output_type": "stream",
     "text": [
      "LangSmith 추적을 시작합니다.\n",
      "[프로젝트명]\n",
      "TeddyNote-Parser\n"
     ]
    }
   ],
   "source": [
    "from dotenv import load_dotenv\n",
    "from langchain_teddynote import logging\n",
    "\n",
    "load_dotenv()\n",
    "logging.langsmith(\"TeddyNote-Parser\")"
   ]
  },
  {
   "cell_type": "code",
   "execution_count": null,
   "metadata": {},
   "outputs": [],
   "source": [
    "!pip install -qU langchain-teddynote"
   ]
  },
  {
   "cell_type": "markdown",
   "metadata": {},
   "source": [
    "## 저장할 State 정의"
   ]
  },
  {
   "cell_type": "code",
   "execution_count": 2,
   "metadata": {},
   "outputs": [],
   "source": [
    "from typing import TypedDict\n",
    "\n",
    "\n",
    "# GraphState 상태를 저장하는 용도로 사용합니다.\n",
    "class GraphState(TypedDict):\n",
    "    filepath: str  # path\n",
    "    filetype: str  # pdf\n",
    "    page_numbers: list[int]  # page numbers\n",
    "    batch_size: int  # batch size\n",
    "    split_filepaths: list[str]  # split files\n",
    "    analyzed_files: list[str]  # analyzed files\n",
    "    page_elements: dict[int, dict[str, list[dict]]]  # page elements\n",
    "    page_metadata: dict[int, dict]  # page metadata\n",
    "    page_summary: dict[int, str]  # page summary\n",
    "    images: list[str]  # image paths\n",
    "    images_summary: list[str]  # image summary\n",
    "    tables: list[str]  # table\n",
    "    tables_summary: dict[int, str]  # table summary\n",
    "    texts: list[str]  # text\n",
    "    texts_summary: list[str]  # text summary"
   ]
  },
  {
   "cell_type": "markdown",
   "metadata": {},
   "source": [
    "## 문서를 배치 단위로 분할 (10 page)"
   ]
  },
  {
   "cell_type": "code",
   "execution_count": 3,
   "metadata": {},
   "outputs": [],
   "source": [
    "import os\n",
    "import pymupdf\n",
    "import json\n",
    "import requests\n",
    "from PIL import Image"
   ]
  },
  {
   "cell_type": "code",
   "execution_count": 4,
   "metadata": {},
   "outputs": [],
   "source": [
    "def split_pdf(state: GraphState):\n",
    "    \"\"\"\n",
    "    입력 PDF를 여러 개의 작은 PDF 파일로 분할합니다.\n",
    "\n",
    "    :param state: GraphState 객체, PDF 파일 경로와 배치 크기 정보를 포함\n",
    "    :return: 분할된 PDF 파일 경로 목록을 포함한 GraphState 객체\n",
    "    \"\"\"\n",
    "    # PDF 파일 경로와 배치 크기 추출\n",
    "    filepath = state[\"filepath\"]\n",
    "    batch_size = state[\"batch_size\"]\n",
    "\n",
    "    # PDF 파일 열기\n",
    "    input_pdf = pymupdf.open(filepath)\n",
    "    num_pages = len(input_pdf)\n",
    "    print(f\"총 페이지 수: {num_pages}\")\n",
    "\n",
    "    ret = []\n",
    "    # PDF 분할 작업 시작\n",
    "    for start_page in range(0, num_pages, batch_size):\n",
    "        # 배치의 마지막 페이지 계산 (전체 페이지 수를 초과하지 않도록)\n",
    "        end_page = min(start_page + batch_size, num_pages) - 1\n",
    "\n",
    "        # 분할된 PDF 파일명 생성\n",
    "        input_file_basename = os.path.splitext(filepath)[0]\n",
    "        output_file = f\"{input_file_basename}_{start_page:04d}_{end_page:04d}.pdf\"\n",
    "        print(f\"분할 PDF 생성: {output_file}\")\n",
    "\n",
    "        # 새로운 PDF 파일 생성 및 페이지 삽입\n",
    "        with pymupdf.open() as output_pdf:\n",
    "            output_pdf.insert_pdf(input_pdf, from_page=start_page, to_page=end_page)\n",
    "            output_pdf.save(output_file)\n",
    "            ret.append(output_file)\n",
    "\n",
    "    # 원본 PDF 파일 닫기\n",
    "    input_pdf.close()\n",
    "\n",
    "    # 분할된 PDF 파일 경로 목록을 포함한 GraphState 객체 반환\n",
    "    return GraphState(split_filepaths=ret)"
   ]
  },
  {
   "cell_type": "code",
   "execution_count": 5,
   "metadata": {},
   "outputs": [
    {
     "name": "stdout",
     "output_type": "stream",
     "text": [
      "총 페이지 수: 22\n",
      "분할 PDF 생성: data/sample-report_0000_0009.pdf\n",
      "분할 PDF 생성: data/sample-report_0010_0019.pdf\n",
      "분할 PDF 생성: data/sample-report_0020_0021.pdf\n"
     ]
    },
    {
     "data": {
      "text/plain": [
       "{'filepath': 'data/sample-report.pdf',\n",
       " 'batch_size': 10,\n",
       " 'split_filepaths': ['data/sample-report_0000_0009.pdf',\n",
       "  'data/sample-report_0010_0019.pdf',\n",
       "  'data/sample-report_0020_0021.pdf']}"
      ]
     },
     "execution_count": 5,
     "metadata": {},
     "output_type": "execute_result"
    }
   ],
   "source": [
    "state = GraphState(filepath=\"data/sample-report.pdf\", batch_size=10)\n",
    "state_out = split_pdf(state)\n",
    "state.update(state_out)\n",
    "state"
   ]
  },
  {
   "cell_type": "markdown",
   "metadata": {},
   "source": [
    "## Layout Analyzer 를 사용하여 문서를 element 단위로 분할"
   ]
  },
  {
   "cell_type": "code",
   "execution_count": 6,
   "metadata": {},
   "outputs": [],
   "source": [
    "class LayoutAnalyzer:\n",
    "    def __init__(self, api_key):\n",
    "        \"\"\"\n",
    "        LayoutAnalyzer 클래스의 생성자\n",
    "\n",
    "        :param api_key: Upstage API 인증을 위한 API 키\n",
    "        \"\"\"\n",
    "        self.api_key = api_key\n",
    "\n",
    "    def _upstage_layout_analysis(self, input_file):\n",
    "        \"\"\"\n",
    "        Upstage의 레이아웃 분석 API를 호출하여 문서 분석을 수행합니다.\n",
    "\n",
    "        :param input_file: 분석할 PDF 파일의 경로\n",
    "        :return: 분석 결과가 저장된 JSON 파일의 경로\n",
    "        \"\"\"\n",
    "        # API 요청 헤더 설정\n",
    "        headers = {\"Authorization\": f\"Bearer {self.api_key}\"}\n",
    "\n",
    "        # API 요청 데이터 설정 (OCR 비활성화)\n",
    "        data = {\"ocr\": False}\n",
    "\n",
    "        # 분석할 PDF 파일 열기\n",
    "        files = {\"document\": open(input_file, \"rb\")}\n",
    "\n",
    "        # API 요청 보내기\n",
    "        response = requests.post(\n",
    "            \"https://api.upstage.ai/v1/document-ai/layout-analysis\",\n",
    "            headers=headers,\n",
    "            data=data,\n",
    "            files=files,\n",
    "        )\n",
    "\n",
    "        # API 응답 처리 및 결과 저장\n",
    "        if response.status_code == 200:\n",
    "            # 분석 결과를 저장할 JSON 파일 경로 생성\n",
    "            output_file = os.path.splitext(input_file)[0] + \".json\"\n",
    "\n",
    "            # 분석 결과를 JSON 파일로 저장\n",
    "            with open(output_file, \"w\") as f:\n",
    "                json.dump(response.json(), f, ensure_ascii=False)\n",
    "\n",
    "            return output_file\n",
    "        else:\n",
    "            # API 요청이 실패한 경우 예외 발생\n",
    "            raise ValueError(f\"API 요청 실패. 상태 코드: {response.status_code}\")\n",
    "\n",
    "    def execute(self, input_file):\n",
    "        \"\"\"\n",
    "        주어진 입력 파일에 대해 레이아웃 분석을 실행합니다.\n",
    "\n",
    "        :param input_file: 분석할 PDF 파일의 경로\n",
    "        :return: 분석 결과가 저장된 JSON 파일의 경로\n",
    "        \"\"\"\n",
    "        return self._upstage_layout_analysis(input_file)"
   ]
  },
  {
   "cell_type": "code",
   "execution_count": 7,
   "metadata": {},
   "outputs": [],
   "source": [
    "def analyze_layout(state: GraphState):\n",
    "    # 분할된 PDF 파일 목록을 가져옵니다.\n",
    "    split_files = state[\"split_filepaths\"]\n",
    "\n",
    "    # LayoutAnalyzer 객체를 생성합니다. API 키는 환경 변수에서 가져옵니다.\n",
    "    analyzer = LayoutAnalyzer(os.environ.get(\"UPSTAGE_API_KEY\"))\n",
    "\n",
    "    # 분석된 파일들의 경로를 저장할 리스트를 초기화합니다.\n",
    "    analyzed_files = []\n",
    "\n",
    "    # 각 분할된 PDF 파일에 대해 레이아웃 분석을 수행합니다.\n",
    "    for file in split_files:\n",
    "        # 레이아웃 분석을 실행하고 결과 파일 경로를 리스트에 추가합니다.\n",
    "        analyzed_files.append(analyzer.execute(file))\n",
    "\n",
    "    # 분석된 파일 경로들을 정렬하여 새로운 GraphState 객체를 생성하고 반환합니다.\n",
    "    # 정렬은 파일들의 순서를 유지하기 위해 수행됩니다.\n",
    "    return GraphState(analyzed_files=sorted(analyzed_files))"
   ]
  },
  {
   "cell_type": "code",
   "execution_count": 8,
   "metadata": {},
   "outputs": [
    {
     "data": {
      "text/plain": [
       "{'filepath': 'data/sample-report.pdf',\n",
       " 'batch_size': 10,\n",
       " 'split_filepaths': ['data/sample-report_0000_0009.pdf',\n",
       "  'data/sample-report_0010_0019.pdf',\n",
       "  'data/sample-report_0020_0021.pdf'],\n",
       " 'analyzed_files': ['data/sample-report_0000_0009.json',\n",
       "  'data/sample-report_0010_0019.json',\n",
       "  'data/sample-report_0020_0021.json']}"
      ]
     },
     "execution_count": 8,
     "metadata": {},
     "output_type": "execute_result"
    }
   ],
   "source": [
    "state_out = analyze_layout(state)\n",
    "state.update(state_out)\n",
    "state"
   ]
  },
  {
   "cell_type": "markdown",
   "metadata": {},
   "source": [
    "## 페이지 메타데이터 추출"
   ]
  },
  {
   "cell_type": "code",
   "execution_count": 9,
   "metadata": {},
   "outputs": [],
   "source": [
    "import re\n",
    "\n",
    "\n",
    "def extract_start_end_page(filename):\n",
    "    \"\"\"\n",
    "    파일 이름에서 시작 페이지와 끝 페이지 번호를 추출하는 함수입니다.\n",
    "\n",
    "    :param filename: 분석할 파일의 이름\n",
    "    :return: 시작 페이지 번호와 끝 페이지 번호를 튜플로 반환\n",
    "    \"\"\"\n",
    "    # 파일 경로에서 파일 이름만 추출\n",
    "    file_name = os.path.basename(filename)\n",
    "    # 파일 이름을 '_' 기준으로 분리\n",
    "    file_name_parts = file_name.split(\"_\")\n",
    "\n",
    "    if len(file_name_parts) >= 3:\n",
    "        # 파일 이름의 뒤에서 두 번째 부분에서 숫자를 추출하여 시작 페이지로 설정\n",
    "        start_page = int(re.findall(r\"(\\d+)\", file_name_parts[-2])[0])\n",
    "        # 파일 이름의 마지막 부분에서 숫자를 추출하여 끝 페이지로 설정\n",
    "        end_page = int(re.findall(r\"(\\d+)\", file_name_parts[-1])[0])\n",
    "    else:\n",
    "        # 파일 이름 형식이 예상과 다를 경우 기본값 설정\n",
    "        start_page, end_page = 0, 0\n",
    "\n",
    "    return start_page, end_page\n",
    "\n",
    "\n",
    "def extract_page_metadata(state: GraphState):\n",
    "    \"\"\"\n",
    "    분석된 JSON 파일들에서 페이지 메타데이터를 추출하는 함수입니다.\n",
    "\n",
    "    :param state: 현재의 GraphState 객체\n",
    "    :return: 페이지 메타데이터가 추가된 새로운 GraphState 객체\n",
    "    \"\"\"\n",
    "    # 분석된 JSON 파일 목록 가져오기\n",
    "    json_files = state[\"analyzed_files\"]\n",
    "\n",
    "    # 페이지 메타데이터를 저장할 딕셔너리 초기화\n",
    "    page_metadata = dict()\n",
    "\n",
    "    for json_file in json_files:\n",
    "        # JSON 파일 열기 및 데이터 로드\n",
    "        with open(json_file, \"r\") as f:\n",
    "            data = json.load(f)\n",
    "\n",
    "        # 파일명에서 시작 페이지 번호 추출\n",
    "        start_page, _ = extract_start_end_page(json_file)\n",
    "\n",
    "        # JSON 데이터에서 각 페이지의 메타데이터 추출\n",
    "        for element in data[\"metadata\"][\"pages\"]:\n",
    "            # 원본 페이지 번호\n",
    "            original_page = int(element[\"page\"])\n",
    "            # 상대적 페이지 번호 계산 (전체 문서 기준)\n",
    "            relative_page = start_page + original_page - 1\n",
    "\n",
    "            # 페이지 크기 정보 추출\n",
    "            metadata = {\n",
    "                \"size\": [\n",
    "                    int(element[\"width\"]),\n",
    "                    int(element[\"height\"]),\n",
    "                ],\n",
    "            }\n",
    "            # 상대적 페이지 번호를 키로 하여 메타데이터 저장\n",
    "            page_metadata[relative_page] = metadata\n",
    "\n",
    "    # 추출된 페이지 메타데이터로 새로운 GraphState 객체 생성 및 반환\n",
    "    return GraphState(page_metadata=page_metadata)"
   ]
  },
  {
   "cell_type": "markdown",
   "metadata": {},
   "source": [
    "페이지별 사이즈를 추출합니다."
   ]
  },
  {
   "cell_type": "code",
   "execution_count": 10,
   "metadata": {},
   "outputs": [
    {
     "data": {
      "text/plain": [
       "{0: {'size': [1241, 1754]},\n",
       " 1: {'size': [1241, 1754]},\n",
       " 2: {'size': [1241, 1754]},\n",
       " 3: {'size': [1241, 1754]},\n",
       " 4: {'size': [1241, 1754]},\n",
       " 5: {'size': [1241, 1754]},\n",
       " 6: {'size': [1241, 1754]},\n",
       " 7: {'size': [1241, 1754]},\n",
       " 8: {'size': [1241, 1754]},\n",
       " 9: {'size': [1241, 1754]},\n",
       " 10: {'size': [1241, 1754]},\n",
       " 11: {'size': [1241, 1754]},\n",
       " 12: {'size': [1241, 1754]},\n",
       " 13: {'size': [1241, 1754]},\n",
       " 14: {'size': [1241, 1754]},\n",
       " 15: {'size': [1241, 1754]},\n",
       " 16: {'size': [1241, 1754]},\n",
       " 17: {'size': [1241, 1754]},\n",
       " 18: {'size': [1241, 1754]},\n",
       " 19: {'size': [1241, 1754]},\n",
       " 20: {'size': [1241, 1754]},\n",
       " 21: {'size': [1241, 1754]}}"
      ]
     },
     "execution_count": 10,
     "metadata": {},
     "output_type": "execute_result"
    }
   ],
   "source": [
    "state_out = extract_page_metadata(state)\n",
    "state.update(state_out)\n",
    "state[\"page_metadata\"]"
   ]
  },
  {
   "cell_type": "markdown",
   "metadata": {},
   "source": [
    "## 페이지별 HTML Element 추출"
   ]
  },
  {
   "cell_type": "code",
   "execution_count": 11,
   "metadata": {},
   "outputs": [],
   "source": [
    "def extract_page_elements(state: GraphState):\n",
    "    # 분석된 JSON 파일 목록을 가져옵니다.\n",
    "    json_files = state[\"analyzed_files\"]\n",
    "\n",
    "    # 페이지별 요소를 저장할 딕셔너리를 초기화합니다.\n",
    "    page_elements = dict()\n",
    "\n",
    "    # 전체 문서에서 고유한 요소 ID를 부여하기 위한 카운터입니다.\n",
    "    element_id = 0\n",
    "\n",
    "    # 각 JSON 파일을 순회하며 처리합니다.\n",
    "    for json_file in json_files:\n",
    "        # 파일명에서 시작 페이지 번호를 추출합니다.\n",
    "        start_page, _ = extract_start_end_page(json_file)\n",
    "\n",
    "        # JSON 파일을 열어 데이터를 로드합니다.\n",
    "        with open(json_file, \"r\") as f:\n",
    "            data = json.load(f)\n",
    "\n",
    "        # JSON 데이터의 각 요소를 처리합니다.\n",
    "        for element in data[\"elements\"]:\n",
    "            # 원본 페이지 번호를 정수로 변환합니다.\n",
    "            original_page = int(element[\"page\"])\n",
    "            # 전체 문서 기준의 상대적 페이지 번호를 계산합니다.\n",
    "            relative_page = start_page + original_page - 1\n",
    "\n",
    "            # 해당 페이지의 요소 리스트가 없으면 새로 생성합니다.\n",
    "            if relative_page not in page_elements:\n",
    "                page_elements[relative_page] = []\n",
    "\n",
    "            # 요소에 고유 ID를 부여합니다.\n",
    "            element[\"id\"] = element_id\n",
    "            element_id += 1\n",
    "\n",
    "            # 요소의 페이지 번호를 상대적 페이지 번호로 업데이트합니다.\n",
    "            element[\"page\"] = relative_page\n",
    "            # 요소를 해당 페이지의 리스트에 추가합니다.\n",
    "            page_elements[relative_page].append(element)\n",
    "\n",
    "    # 추출된 페이지별 요소 정보로 새로운 GraphState 객체를 생성하여 반환합니다.\n",
    "    return GraphState(page_elements=page_elements)"
   ]
  },
  {
   "cell_type": "code",
   "execution_count": 12,
   "metadata": {},
   "outputs": [
    {
     "data": {
      "text/plain": [
       "[{'bounding_box': [{'x': 815, 'y': 154},\n",
       "   {'x': 1148, 'y': 154},\n",
       "   {'x': 1148, 'y': 209},\n",
       "   {'x': 815, 'y': 209}],\n",
       "  'category': 'heading1',\n",
       "  'html': \"<h1 id='0' style='font-size:22px'>Argus Bitumen</h1>\",\n",
       "  'id': 0,\n",
       "  'page': 0,\n",
       "  'text': 'Argus Bitumen'},\n",
       " {'bounding_box': [{'x': 398, 'y': 218},\n",
       "   {'x': 1151, 'y': 218},\n",
       "   {'x': 1151, 'y': 273},\n",
       "   {'x': 398, 'y': 273}],\n",
       "  'category': 'paragraph',\n",
       "  'html': \"<br><p id='1' data-category='paragraph' style='font-size:20px'>Europe, Africa, Middle East and Asia-Pacific prices and commentary<br>Incorporating Argus Asphalt Report</p>\",\n",
       "  'id': 1,\n",
       "  'page': 0,\n",
       "  'text': 'Europe, Africa, Middle East and Asia-Pacific prices and commentary\\nIncorporating Argus Asphalt Report'},\n",
       " {'bounding_box': [{'x': 779, 'y': 283},\n",
       "   {'x': 1150, 'y': 283},\n",
       "   {'x': 1150, 'y': 311},\n",
       "   {'x': 779, 'y': 311}],\n",
       "  'category': 'paragraph',\n",
       "  'html': \"<br><p id='2' data-category='paragraph' style='font-size:18px'>Issue 21-39 | Friday 1 October 2021</p>\",\n",
       "  'id': 2,\n",
       "  'page': 0,\n",
       "  'text': 'Issue 21-39 | Friday 1 October 2021'},\n",
       " {'bounding_box': [{'x': 91, 'y': 393},\n",
       "   {'x': 202, 'y': 393},\n",
       "   {'x': 202, 'y': 417},\n",
       "   {'x': 91, 'y': 417}],\n",
       "  'category': 'paragraph',\n",
       "  'html': \"<p id='3' data-category='paragraph' style='font-size:20px'>Summary</p>\",\n",
       "  'id': 3,\n",
       "  'page': 0,\n",
       "  'text': 'Summary'},\n",
       " {'bounding_box': [{'x': 89, 'y': 450},\n",
       "   {'x': 601, 'y': 450},\n",
       "   {'x': 601, 'y': 498},\n",
       "   {'x': 89, 'y': 498}],\n",
       "  'category': 'paragraph',\n",
       "  'html': \"<p id='4' data-category='paragraph' style='font-size:16px'>Bitumen cargo values gained across Europe and Asia-Pacific,<br>boosted by a jump in crude and fuel oil values.</p>\",\n",
       "  'id': 4,\n",
       "  'page': 0,\n",
       "  'text': 'Bitumen cargo values gained across Europe and Asia-Pacific,\\nboosted by a jump in crude and fuel oil values.'},\n",
       " {'bounding_box': [{'x': 90, 'y': 504},\n",
       "   {'x': 534, 'y': 504},\n",
       "   {'x': 534, 'y': 553},\n",
       "   {'x': 90, 'y': 553}],\n",
       "  'category': 'paragraph',\n",
       "  'html': \"<br><p id='5' data-category='paragraph' style='font-size:16px'>Domestic truck prices across Europe also mostly<br>strengthened as October started.</p>\",\n",
       "  'id': 5,\n",
       "  'page': 0,\n",
       "  'text': 'Domestic truck prices across Europe also mostly\\nstrengthened as October started.'},\n",
       " {'bounding_box': [{'x': 90, 'y': 559},\n",
       "   {'x': 609, 'y': 559},\n",
       "   {'x': 609, 'y': 689},\n",
       "   {'x': 90, 'y': 689}],\n",
       "  'category': 'paragraph',\n",
       "  'html': \"<br><p id='6' data-category='paragraph' style='font-size:16px'>Cargo premiums to high-sulphur fuel oil (HSFO) in Rot-<br>terdam and the Baltics fell by $2-3/t, but outright values<br>continued to rise, while in the Mediterranean premium<br>values were steady on the week as refiners held their ground<br>amid rising outright values and slowing demand.</p>\",\n",
       "  'id': 6,\n",
       "  'page': 0,\n",
       "  'text': 'Cargo premiums to high-sulphur fuel oil (HSFO) in Rot-\\nterdam and the Baltics fell by $2-3/t, but outright values\\ncontinued to rise, while in the Mediterranean premium\\nvalues were steady on the week as refiners held their ground\\namid rising outright values and slowing demand.'},\n",
       " {'bounding_box': [{'x': 91, 'y': 693},\n",
       "   {'x': 600, 'y': 693},\n",
       "   {'x': 600, 'y': 770},\n",
       "   {'x': 91, 'y': 770}],\n",
       "  'category': 'paragraph',\n",
       "  'html': \"<br><p id='7' data-category='paragraph' style='font-size:16px'>The Asia-Pacific bitumen market remained mostly firm,<br>despite the expected slowdown due to the week-long break<br>in China for Golden Week holidays.</p>\",\n",
       "  'id': 7,\n",
       "  'page': 0,\n",
       "  'text': 'The Asia-Pacific bitumen market remained mostly firm,\\ndespite the expected slowdown due to the week-long break\\nin China for Golden Week holidays.'},\n",
       " {'bounding_box': [{'x': 90, 'y': 776},\n",
       "   {'x': 606, 'y': 776},\n",
       "   {'x': 606, 'y': 933},\n",
       "   {'x': 90, 'y': 933}],\n",
       "  'category': 'paragraph',\n",
       "  'html': \"<br><p id='8' data-category='paragraph' style='font-size:16px'>The continued buoyancy in crude and HSFO prices in the<br>Asia-Pacific region pushed refiners to either seek price hikes<br>or mull production cuts at their units. Supply for October<br>was seen to be balanced in key export export locations like<br>Singapore and South Korea on the back of lower bitumen<br>production at some units.</p>\",\n",
       "  'id': 8,\n",
       "  'page': 0,\n",
       "  'text': 'The continued buoyancy in crude and HSFO prices in the\\nAsia-Pacific region pushed refiners to either seek price hikes\\nor mull production cuts at their units. Supply for October\\nwas seen to be balanced in key export export locations like\\nSingapore and South Korea on the back of lower bitumen\\nproduction at some units.'},\n",
       " {'bounding_box': [{'x': 90, 'y': 937},\n",
       "   {'x': 601, 'y': 937},\n",
       "   {'x': 601, 'y': 1014},\n",
       "   {'x': 90, 'y': 1014}],\n",
       "  'category': 'paragraph',\n",
       "  'html': \"<br><p id='9' data-category='paragraph' style='font-size:16px'>Demand is expected to improve from Vietnam, Australia,<br>China and India in the coming weeks supported by seasonal<br>pick-up or the easing of pandemic-related restrictions.</p>\",\n",
       "  'id': 9,\n",
       "  'page': 0,\n",
       "  'text': 'Demand is expected to improve from Vietnam, Australia,\\nChina and India in the coming weeks supported by seasonal\\npick-up or the easing of pandemic-related restrictions.'},\n",
       " {'bounding_box': [{'x': 90, 'y': 1016},\n",
       "   {'x': 606, 'y': 1016},\n",
       "   {'x': 606, 'y': 1096},\n",
       "   {'x': 90, 'y': 1096}],\n",
       "  'category': 'paragraph',\n",
       "  'html': \"<br><p id='10' data-category='paragraph' style='font-size:16px'>Bitumen prices shot up across sub-Saharan Africa, with<br>delivered cargo and drummed import prices racing higher, as<br>did domestic and export values for South African volumes.</p>\",\n",
       "  'id': 10,\n",
       "  'page': 0,\n",
       "  'text': 'Bitumen prices shot up across sub-Saharan Africa, with\\ndelivered cargo and drummed import prices racing higher, as\\ndid domestic and export values for South African volumes.'},\n",
       " {'bounding_box': [{'x': 629, 'y': 391},\n",
       "   {'x': 708, 'y': 391},\n",
       "   {'x': 708, 'y': 419},\n",
       "   {'x': 629, 'y': 419}],\n",
       "  'category': 'paragraph',\n",
       "  'html': \"<br><p id='11' data-category='paragraph' style='font-size:20px'>prICES</p>\",\n",
       "  'id': 11,\n",
       "  'page': 0,\n",
       "  'text': 'prICES'},\n",
       " {'bounding_box': [{'x': 632, 'y': 455},\n",
       "   {'x': 1147, 'y': 455},\n",
       "   {'x': 1147, 'y': 1134},\n",
       "   {'x': 632, 'y': 1134}],\n",
       "  'category': 'table',\n",
       "  'html': '<table id=\\'12\\' style=\\'font-size:14px\\'><tr><td colspan=\"5\">Bitumen prices at key locations, 25 Sep-1 oct $/t</td></tr><tr><td></td><td></td><td>Low</td><td>High</td><td>±</td></tr><tr><td colspan=\"2\">Export cargo prices fob</td><td></td><td></td><td></td></tr><tr><td>Mediterranean</td><td></td><td>448.58</td><td>453.58</td><td>+20.93</td></tr><tr><td>Rotterdam</td><td></td><td>460.90</td><td>465.90</td><td>+18.95</td></tr><tr><td>Baltic</td><td></td><td>453.90</td><td>457.90</td><td>+18.95</td></tr><tr><td>Singapore</td><td></td><td>405</td><td>415</td><td>+5.00</td></tr><tr><td>South Korea</td><td></td><td>395</td><td>405</td><td>nc</td></tr><tr><td>Mideast Gulf</td><td></td><td>298</td><td>425</td><td>+5.50</td></tr><tr><td colspan=\"2\">Delivered cargo prices cfr</td><td></td><td></td><td></td></tr><tr><td>North Africa</td><td>Alexandria, bulk</td><td>486</td><td>496</td><td>+18.00</td></tr><tr><td>East Africa</td><td>Mombasa, drum</td><td>465</td><td>475</td><td>+26.00</td></tr><tr><td>West Africa</td><td>Lagos, bulk</td><td>600</td><td>610</td><td>+21.00</td></tr><tr><td>East China coast</td><td></td><td>425</td><td>475</td><td>+2.50</td></tr><tr><td>Domestic prices</td><td></td><td></td><td></td><td></td></tr><tr><td>Antwerp</td><td>ex-works</td><td>490</td><td>507</td><td>+20.50</td></tr><tr><td>Southern Germany</td><td>ex-works</td><td>431</td><td>449</td><td>+8.50</td></tr><tr><td>Hungary</td><td>ex-works</td><td>443</td><td>455</td><td>-3.00</td></tr><tr><td>Italy</td><td>ex-works inc tax</td><td>455</td><td>466</td><td>-3.00</td></tr><tr><td>Indonesia</td><td>ex-works</td><td>444</td><td>444</td><td>-1.00</td></tr><tr><td>Mumbai</td><td>bulk</td><td>544</td><td>594</td><td>+17.00</td></tr></table>',\n",
       "  'id': 12,\n",
       "  'page': 0,\n",
       "  'text': 'Bitumen prices at key locations, 25 Sep-1 oct $/t\\n   Low High ±\\n Export cargo prices fob   \\n Mediterranean  448.58 453.58 +20.93\\n Rotterdam  460.90 465.90 +18.95\\n Baltic  453.90 457.90 +18.95\\n Singapore  405 415 +5.00\\n South Korea  395 405 nc\\n Mideast Gulf  298 425 +5.50\\n Delivered cargo prices cfr   \\n North Africa Alexandria, bulk 486 496 +18.00\\n East Africa Mombasa, drum 465 475 +26.00\\n West Africa Lagos, bulk 600 610 +21.00\\n East China coast  425 475 +2.50\\n Domestic prices    \\n Antwerp ex-works 490 507 +20.50\\n Southern Germany ex-works 431 449 +8.50\\n Hungary ex-works 443 455 -3.00\\n Italy ex-works inc tax 455 466 -3.00\\n Indonesia ex-works 444 444 -1.00\\n Mumbai bulk 544 594 +17.00'},\n",
       " {'bounding_box': [{'x': 103, 'y': 1234},\n",
       "   {'x': 528, 'y': 1234},\n",
       "   {'x': 528, 'y': 1259},\n",
       "   {'x': 103, 'y': 1259}],\n",
       "  'category': 'paragraph',\n",
       "  'html': \"<p id='13' data-category='paragraph' style='font-size:16px'>Rotterdam domestic differential to HSFO barges</p>\",\n",
       "  'id': 13,\n",
       "  'page': 0,\n",
       "  'text': 'Rotterdam domestic differential to HSFO barges'},\n",
       " {'bounding_box': [{'x': 570, 'y': 1235},\n",
       "   {'x': 599, 'y': 1235},\n",
       "   {'x': 599, 'y': 1256},\n",
       "   {'x': 570, 'y': 1256}],\n",
       "  'category': 'paragraph',\n",
       "  'html': \"<br><p id='14' data-category='paragraph' style='font-size:16px'>$/t</p>\",\n",
       "  'id': 14,\n",
       "  'page': 0,\n",
       "  'text': '$/t'},\n",
       " {'bounding_box': [{'x': 96, 'y': 1266},\n",
       "   {'x': 598, 'y': 1266},\n",
       "   {'x': 598, 'y': 1608},\n",
       "   {'x': 96, 'y': 1608}],\n",
       "  'category': 'figure',\n",
       "  'html': '<br><figure><img id=\\'15\\' style=\\'font-size:14px\\' alt=\"120\\n110\\n100\\n90\\n80\\n70\\n60\\n50\\n40\\n22 Jan 16 Apr 9 Jul 1 Oct\" data-coord=\"top-left:(95,1265); bottom-right:(597,1607)\" /></figure>',\n",
       "  'id': 15,\n",
       "  'page': 0,\n",
       "  'text': '120\\n110\\n100\\n90\\n80\\n70\\n60\\n50\\n40\\n22 Jan 16 Apr 9 Jul 1 Oct'},\n",
       " {'bounding_box': [{'x': 90, 'y': 1649},\n",
       "   {'x': 508, 'y': 1649},\n",
       "   {'x': 508, 'y': 1700},\n",
       "   {'x': 90, 'y': 1700}],\n",
       "  'category': 'paragraph',\n",
       "  'html': \"<p id='16' data-category='paragraph' style='font-size:14px'>Copyright © 2021 Argus Media group<br>Licensed to: Shi Jia Lim, Argus Media Limited (London)</p>\",\n",
       "  'id': 16,\n",
       "  'page': 0,\n",
       "  'text': 'Copyright © 2021 Argus Media group\\nLicensed to: Shi Jia Lim, Argus Media Limited (London)'},\n",
       " {'bounding_box': [{'x': 629, 'y': 1312},\n",
       "   {'x': 749, 'y': 1312},\n",
       "   {'x': 749, 'y': 1337},\n",
       "   {'x': 629, 'y': 1337}],\n",
       "  'category': 'paragraph',\n",
       "  'html': \"<br><p id='17' data-category='paragraph' style='font-size:20px'>ContEntS</p>\",\n",
       "  'id': 17,\n",
       "  'page': 0,\n",
       "  'text': 'ContEntS'},\n",
       " {'bounding_box': [{'x': 628, 'y': 1344},\n",
       "   {'x': 1154, 'y': 1344},\n",
       "   {'x': 1154, 'y': 1603},\n",
       "   {'x': 628, 'y': 1603}],\n",
       "  'category': 'table',\n",
       "  'html': \"<br><table id='18' style='font-size:16px'><tr><td>Key bitumen prices</td><td>1</td></tr><tr><td>Map of waterborne bitumen prices</td><td>2</td></tr><tr><td>Northwest and central Europe</td><td>3-5</td></tr><tr><td>Mediterranean</td><td>6-8</td></tr><tr><td>Sub-Saharan Africa</td><td>9-11</td></tr><tr><td>Asia-Pacific and Middle East</td><td>12-17</td></tr><tr><td>Vessel tracking indications</td><td>18</td></tr><tr><td>Bitumen news</td><td>19-22</td></tr></table>\",\n",
       "  'id': 18,\n",
       "  'page': 0,\n",
       "  'text': 'Key bitumen prices 1\\n Map of waterborne bitumen prices 2\\n Northwest and central Europe 3-5\\n Mediterranean 6-8\\n Sub-Saharan Africa 9-11\\n Asia-Pacific and Middle East 12-17\\n Vessel tracking indications 18\\n Bitumen news 19-22'},\n",
       " {'bounding_box': [{'x': 815, 'y': 1646},\n",
       "   {'x': 1151, 'y': 1646},\n",
       "   {'x': 1151, 'y': 1674},\n",
       "   {'x': 815, 'y': 1674}],\n",
       "  'category': 'footer',\n",
       "  'html': \"<footer id='19' style='font-size:16px'>Available on the Argus Publications App</footer>\",\n",
       "  'id': 19,\n",
       "  'page': 0,\n",
       "  'text': 'Available on the Argus Publications App'}]"
      ]
     },
     "execution_count": 12,
     "metadata": {},
     "output_type": "execute_result"
    }
   ],
   "source": [
    "state_out = extract_page_elements(state)\n",
    "state.update(state_out)\n",
    "state[\"page_elements\"][0]"
   ]
  },
  {
   "cell_type": "markdown",
   "metadata": {},
   "source": [
    "추출된 페이지를 확인"
   ]
  },
  {
   "cell_type": "code",
   "execution_count": null,
   "metadata": {},
   "outputs": [],
   "source": [
    "state[\"page_elements\"].keys()"
   ]
  },
  {
   "cell_type": "markdown",
   "metadata": {},
   "source": [
    "## 각 페이지의 태그를 분해합니다.\n",
    "\n",
    "- images, tables, text 를 분해합니다."
   ]
  },
  {
   "cell_type": "code",
   "execution_count": 17,
   "metadata": {},
   "outputs": [],
   "source": [
    "def extract_tag_elements_per_page(state: GraphState):\n",
    "    # GraphState 객체에서 페이지 요소들을 가져옵니다.\n",
    "    page_elements = state[\"page_elements\"]\n",
    "\n",
    "    # 파싱된 페이지 요소들을 저장할 새로운 딕셔너리를 생성합니다.\n",
    "    parsed_page_elements = dict()\n",
    "\n",
    "    # 각 페이지와 해당 페이지의 요소들을 순회합니다.\n",
    "    for key, page_element in page_elements.items():\n",
    "        # 이미지, 테이블, 텍스트 요소들을 저장할 리스트를 초기화합니다.\n",
    "        image_elements = []\n",
    "        table_elements = []\n",
    "        text_elements = []\n",
    "\n",
    "        # 페이지의 각 요소를 순회하며 카테고리별로 분류합니다.\n",
    "        for element in page_element:\n",
    "            if element[\"category\"] == \"figure\":\n",
    "                # 이미지 요소인 경우 image_elements 리스트에 추가합니다.\n",
    "                image_elements.append(element)\n",
    "            elif element[\"category\"] == \"table\":\n",
    "                # 테이블 요소인 경우 table_elements 리스트에 추가합니다.\n",
    "                table_elements.append(element)\n",
    "            else:\n",
    "                # 그 외의 요소는 모두 텍스트 요소로 간주하여 text_elements 리스트에 추가합니다.\n",
    "                text_elements.append(element)\n",
    "\n",
    "        # 분류된 요소들을 페이지 키와 함께 새로운 딕셔너리에 저장합니다.\n",
    "        parsed_page_elements[key] = {\n",
    "            \"image_elements\": image_elements,\n",
    "            \"table_elements\": table_elements,\n",
    "            \"text_elements\": text_elements,\n",
    "            \"elements\": page_element,  # 원본 페이지 요소도 함께 저장합니다.\n",
    "        }\n",
    "\n",
    "    # 파싱된 페이지 요소들을 포함한 새로운 GraphState 객체를 반환합니다.\n",
    "    return GraphState(page_elements=parsed_page_elements)"
   ]
  },
  {
   "cell_type": "code",
   "execution_count": 18,
   "metadata": {},
   "outputs": [],
   "source": [
    "state_out = extract_tag_elements_per_page(state)\n",
    "state.update(state_out)"
   ]
  },
  {
   "cell_type": "code",
   "execution_count": 19,
   "metadata": {},
   "outputs": [
    {
     "data": {
      "text/plain": [
       "dict_keys([0, 1, 2, 3, 4, 5, 6, 7, 8, 9, 10, 11, 12, 13, 14, 15, 16, 17, 18, 19, 20, 21])"
      ]
     },
     "execution_count": 19,
     "metadata": {},
     "output_type": "execute_result"
    }
   ],
   "source": [
    "state[\"page_elements\"].keys()"
   ]
  },
  {
   "cell_type": "code",
   "execution_count": 20,
   "metadata": {},
   "outputs": [
    {
     "data": {
      "text/plain": [
       "dict_keys(['image_elements', 'table_elements', 'text_elements', 'elements'])"
      ]
     },
     "execution_count": 20,
     "metadata": {},
     "output_type": "execute_result"
    }
   ],
   "source": [
    "state[\"page_elements\"][2].keys()"
   ]
  },
  {
   "cell_type": "code",
   "execution_count": 21,
   "metadata": {},
   "outputs": [
    {
     "data": {
      "text/plain": [
       "[{'bounding_box': [{'x': 90, 'y': 1229},\n",
       "   {'x': 598, 'y': 1229},\n",
       "   {'x': 598, 'y': 1557},\n",
       "   {'x': 90, 'y': 1557}],\n",
       "  'category': 'figure',\n",
       "  'html': '<figure><img id=\\'52\\' style=\\'font-size:14px\\' alt=\"Southern UK domestic Rotterdam domestic\\n550\\n500\\n450 hhhhhhhhhhh\\n400\\n350\\n22 Jan 16 Apr 9 Jul 1 Oct\" data-coord=\"top-left:(89,1228); bottom-right:(597,1557)\" /></figure>',\n",
       "  'id': 52,\n",
       "  'page': 2,\n",
       "  'text': 'Southern UK domestic Rotterdam domestic\\n550\\n500\\n450 hhhhhhhhhhh\\n400\\n350\\n22 Jan 16 Apr 9 Jul 1 Oct'}]"
      ]
     },
     "execution_count": 21,
     "metadata": {},
     "output_type": "execute_result"
    }
   ],
   "source": [
    "state[\"page_elements\"][2][\"image_elements\"]"
   ]
  },
  {
   "cell_type": "code",
   "execution_count": 22,
   "metadata": {},
   "outputs": [
    {
     "data": {
      "text/plain": [
       "[{'bounding_box': [{'x': 632, 'y': 261},\n",
       "   {'x': 1147, 'y': 261},\n",
       "   {'x': 1147, 'y': 1022},\n",
       "   {'x': 632, 'y': 1022}],\n",
       "  'category': 'table',\n",
       "  'html': '<br><table id=\\'50\\' style=\\'font-size:14px\\'><tr><td></td><td colspan=\"3\">€/t</td><td colspan=\"3\">$/t</td></tr><tr><td></td><td>Low</td><td>high</td><td>±</td><td>Low</td><td>high</td><td>±</td></tr><tr><td>Domestic prices, ex-works</td><td></td><td></td><td></td><td></td><td></td><td></td></tr><tr><td>Southern UK £/t</td><td>380</td><td>390</td><td>+20.00</td><td>516</td><td>529</td><td>+22.50</td></tr><tr><td>Rotterdam, Netherlands</td><td>420</td><td>435</td><td>+20.00</td><td>490</td><td>507</td><td>+20.50</td></tr><tr><td>Antwerp, Belgium</td><td>420</td><td>435</td><td>+20.00</td><td>490</td><td>507</td><td>+20.50</td></tr><tr><td>Northern Germany</td><td>385</td><td>395</td><td>+10.00</td><td>449</td><td>460</td><td>+8.50</td></tr><tr><td>Northeast Germany</td><td>350</td><td>360</td><td>+10.00</td><td>408</td><td>420</td><td>+9.00</td></tr><tr><td>Southern Germany</td><td>370</td><td>385</td><td>+10.00</td><td>431</td><td>449</td><td>+8.50</td></tr><tr><td>Southwest Germany</td><td>365</td><td>380</td><td>+10.00</td><td>425</td><td>443</td><td>+8.50</td></tr><tr><td>Western Germany</td><td>375</td><td>385</td><td>+10.00</td><td>437</td><td>449</td><td>+9.00</td></tr><tr><td>Hungary</td><td>380</td><td>390</td><td>nc</td><td>443</td><td>455</td><td>-3.00</td></tr><tr><td>Romania</td><td>410</td><td>420</td><td>nc</td><td>478</td><td>490</td><td>-3.00</td></tr><tr><td>Czech Republic</td><td>375</td><td>385</td><td>+15.00</td><td>437</td><td>449</td><td>+14.50</td></tr><tr><td>Export prices, ex-works</td><td></td><td></td><td></td><td></td><td></td><td></td></tr><tr><td>Poland-Germany (truck)</td><td>345</td><td>355</td><td>+5.00</td><td>402</td><td>414</td><td>+3.00</td></tr><tr><td>Czech Republic-Germany (truck)</td><td>345</td><td>355</td><td>+5.00</td><td>402</td><td>414</td><td>+3.00</td></tr><tr><td>Poland-Romania (truck)</td><td>350</td><td>360</td><td>nc</td><td>408</td><td>420</td><td>-3.00</td></tr><tr><td>Hungary-Romania (truck)</td><td>390</td><td>400</td><td>nc</td><td>455</td><td>466</td><td>-3.00</td></tr><tr><td>Rotterdam (cargo)</td><td></td><td></td><td></td><td>460.90</td><td>465.90</td><td>+18.95</td></tr><tr><td>Baltic (cargo)</td><td></td><td></td><td></td><td>453.90</td><td>457.90</td><td>+18.95</td></tr><tr><td>Domestic prices, delivered</td><td></td><td></td><td></td><td></td><td></td><td></td></tr><tr><td>Southern UK £/t</td><td>395</td><td>405</td><td>+20.00</td><td>536</td><td>550</td><td>+22.20</td></tr><tr><td>Brussels</td><td>430</td><td>445</td><td>+20.00</td><td>501</td><td>519</td><td>+20.00</td></tr><tr><td>Northern France</td><td>475</td><td>485</td><td>+20.00</td><td>554</td><td>565</td><td>+19.50</td></tr><tr><td>Central France</td><td>475</td><td>485</td><td>+20.00</td><td>554</td><td>565</td><td>+19.50</td></tr></table>',\n",
       "  'id': 50,\n",
       "  'page': 2,\n",
       "  'text': '€/t $/t\\n  Low high ± Low high ±\\n Domestic prices, ex-works      \\n Southern UK £/t 380 390 +20.00 516 529 +22.50\\n Rotterdam, Netherlands 420 435 +20.00 490 507 +20.50\\n Antwerp, Belgium 420 435 +20.00 490 507 +20.50\\n Northern Germany 385 395 +10.00 449 460 +8.50\\n Northeast Germany 350 360 +10.00 408 420 +9.00\\n Southern Germany 370 385 +10.00 431 449 +8.50\\n Southwest Germany 365 380 +10.00 425 443 +8.50\\n Western Germany 375 385 +10.00 437 449 +9.00\\n Hungary 380 390 nc 443 455 -3.00\\n Romania 410 420 nc 478 490 -3.00\\n Czech Republic 375 385 +15.00 437 449 +14.50\\n Export prices, ex-works      \\n Poland-Germany (truck) 345 355 +5.00 402 414 +3.00\\n Czech Republic-Germany (truck) 345 355 +5.00 402 414 +3.00\\n Poland-Romania (truck) 350 360 nc 408 420 -3.00\\n Hungary-Romania (truck) 390 400 nc 455 466 -3.00\\n Rotterdam (cargo)    460.90 465.90 +18.95\\n Baltic (cargo)    453.90 457.90 +18.95\\n Domestic prices, delivered      \\n Southern UK £/t 395 405 +20.00 536 550 +22.20\\n Brussels 430 445 +20.00 501 519 +20.00\\n Northern France 475 485 +20.00 554 565 +19.50\\n Central France 475 485 +20.00 554 565 +19.50'},\n",
       " {'bounding_box': [{'x': 633, 'y': 1063},\n",
       "   {'x': 1147, 'y': 1063},\n",
       "   {'x': 1147, 'y': 1297},\n",
       "   {'x': 633, 'y': 1297}],\n",
       "  'category': 'table',\n",
       "  'html': '<br><table id=\\'54\\' style=\\'font-size:14px\\'><tr><td colspan=\"5\">Crude and refined products, 25 Sep-1 Oct</td></tr><tr><td></td><td>Low</td><td>high</td><td>average</td><td>±</td></tr><tr><td>Ice Brent minute marker week range $/bl</td><td>78.50</td><td>79.60</td><td>78.934</td><td>+3.12</td></tr><tr><td>Fuel oil 3.5%S, fob RMG barge $/t</td><td>432.00</td><td>439.50</td><td>435.900</td><td>+21.45</td></tr><tr><td>Urals cif Rotterdam $/bl</td><td>75.47</td><td>76.75</td><td></td><td>+3.69</td></tr><tr><td>Fuel oil straight-run 0.5% fob cargo $/t</td><td>566.75</td><td>584.75</td><td></td><td>+20.25</td></tr><tr><td>Fuel oil straight-run M-100 cif cargo $/t</td><td>472.50</td><td>479.00</td><td></td><td>+24.75</td></tr><tr><td>Vacuum gasoil 0.5%S cif cargo $/t</td><td>580.25</td><td>598.25</td><td></td><td>+20.13</td></tr></table>',\n",
       "  'id': 54,\n",
       "  'page': 2,\n",
       "  'text': 'Crude and refined products, 25 Sep-1 Oct\\n  Low high average ±\\n Ice Brent minute marker week range $/bl 78.50 79.60 78.934 +3.12\\n Fuel oil 3.5%S, fob RMG barge $/t 432.00 439.50 435.900 +21.45\\n Urals cif Rotterdam $/bl 75.47 76.75  +3.69\\n Fuel oil straight-run 0.5% fob cargo $/t 566.75 584.75  +20.25\\n Fuel oil straight-run M-100 cif cargo $/t 472.50 479.00  +24.75\\n Vacuum gasoil 0.5%S cif cargo $/t 580.25 598.25  +20.13'},\n",
       " {'bounding_box': [{'x': 631, 'y': 1328},\n",
       "   {'x': 1148, 'y': 1328},\n",
       "   {'x': 1148, 'y': 1496},\n",
       "   {'x': 631, 'y': 1496}],\n",
       "  'category': 'table',\n",
       "  'html': \"<table id='55' style='font-size:14px'><tr><td>Northern Europe cargo freight rates</td><td></td><td></td><td>$/t</td></tr><tr><td></td><td>Low</td><td>high</td><td>±</td></tr><tr><td>Rotterdam-Thames</td><td>22</td><td>24</td><td>-0.50</td></tr><tr><td>Hamburg-Thames</td><td>29</td><td>31</td><td>-0.50</td></tr><tr><td>Klaipeda-Thames</td><td>47</td><td>49</td><td>-1.00</td></tr><tr><td>La Coruna-Thames</td><td>39</td><td>43</td><td>-1.00</td></tr></table>\",\n",
       "  'id': 55,\n",
       "  'page': 2,\n",
       "  'text': 'Northern Europe cargo freight rates   $/t\\n  Low high ±\\n Rotterdam-Thames 22 24 -0.50\\n Hamburg-Thames 29 31 -0.50\\n Klaipeda-Thames 47 49 -1.00\\n La Coruna-Thames 39 43 -1.00'}]"
      ]
     },
     "execution_count": 22,
     "metadata": {},
     "output_type": "execute_result"
    }
   ],
   "source": [
    "state_out[\"page_elements\"][2][\"table_elements\"]"
   ]
  },
  {
   "cell_type": "code",
   "execution_count": 23,
   "metadata": {},
   "outputs": [
    {
     "data": {
      "text/plain": [
       "[{'bounding_box': [{'x': 91, 'y': 83},\n",
       "   {'x': 222, 'y': 83},\n",
       "   {'x': 222, 'y': 106},\n",
       "   {'x': 91, 'y': 106}],\n",
       "  'category': 'header',\n",
       "  'html': \"<header id='38' style='font-size:18px'>Argus Bitumen</header>\",\n",
       "  'id': 38,\n",
       "  'page': 2,\n",
       "  'text': 'Argus Bitumen'},\n",
       " {'bounding_box': [{'x': 786, 'y': 79},\n",
       "   {'x': 1150, 'y': 79},\n",
       "   {'x': 1150, 'y': 108},\n",
       "   {'x': 786, 'y': 108}],\n",
       "  'category': 'header',\n",
       "  'html': \"<br><header id='39' style='font-size:20px'>Issue 21-39 | Friday 1 October 2021</header>\",\n",
       "  'id': 39,\n",
       "  'page': 2,\n",
       "  'text': 'Issue 21-39 | Friday 1 October 2021'},\n",
       " {'bounding_box': [{'x': 91, 'y': 182},\n",
       "   {'x': 671, 'y': 182},\n",
       "   {'x': 671, 'y': 210},\n",
       "   {'x': 91, 'y': 210}],\n",
       "  'category': 'paragraph',\n",
       "  'html': \"<p id='40' data-category='paragraph' style='font-size:22px'>North aNd CeNtral europe market CommeNtary</p>\",\n",
       "  'id': 40,\n",
       "  'page': 2,\n",
       "  'text': 'North aNd CeNtral europe market CommeNtary'},\n",
       " {'bounding_box': [{'x': 91, 'y': 239},\n",
       "   {'x': 196, 'y': 239},\n",
       "   {'x': 196, 'y': 264},\n",
       "   {'x': 91, 'y': 264}],\n",
       "  'category': 'heading1',\n",
       "  'html': \"<h1 id='41' style='font-size:22px'>Summary</h1>\",\n",
       "  'id': 41,\n",
       "  'page': 2,\n",
       "  'text': 'Summary'},\n",
       " {'bounding_box': [{'x': 91, 'y': 268},\n",
       "   {'x': 598, 'y': 268},\n",
       "   {'x': 598, 'y': 346},\n",
       "   {'x': 91, 'y': 346}],\n",
       "  'category': 'paragraph',\n",
       "  'html': \"<br><p id='42' data-category='paragraph' style='font-size:18px'>Domestic truck prices strengthened in several markets,<br>many of those gains linked to monthly revisions for October<br>supplies, while cargo prices also jumped.</p>\",\n",
       "  'id': 42,\n",
       "  'page': 2,\n",
       "  'text': 'Domestic truck prices strengthened in several markets,\\nmany of those gains linked to monthly revisions for October\\nsupplies, while cargo prices also jumped.'},\n",
       " {'bounding_box': [{'x': 90, 'y': 351},\n",
       "   {'x': 600, 'y': 351},\n",
       "   {'x': 600, 'y': 561},\n",
       "   {'x': 90, 'y': 561}],\n",
       "  'category': 'paragraph',\n",
       "  'html': \"<br><p id='43' data-category='paragraph' style='font-size:18px'>While German domestic prices were assessed €10/t<br>firmer after some price erosion caused by plentiful supply<br>and high stocks being sold off during September, other key<br>northwest European markets like Benelux, UK and France<br>registered €20/t, £20/t and €20-25/t gains respectively.<br>But not all monthly deals between sellers and buyers had<br>been agreed and confirmed by 1 October, with more details<br>expected from 4 October.</p>\",\n",
       "  'id': 43,\n",
       "  'page': 2,\n",
       "  'text': 'While German domestic prices were assessed €10/t\\nfirmer after some price erosion caused by plentiful supply\\nand high stocks being sold off during September, other key\\nnorthwest European markets like Benelux, UK and France\\nregistered €20/t, £20/t and €20-25/t gains respectively.\\nBut not all monthly deals between sellers and buyers had\\nbeen agreed and confirmed by 1 October, with more details\\nexpected from 4 October.'},\n",
       " {'bounding_box': [{'x': 89, 'y': 567},\n",
       "   {'x': 592, 'y': 567},\n",
       "   {'x': 592, 'y': 670},\n",
       "   {'x': 89, 'y': 670}],\n",
       "  'category': 'paragraph',\n",
       "  'html': \"<br><p id='44' data-category='paragraph' style='font-size:18px'>Czech domestic and export prices also strengthened<br>on tight refinery supply, although there was still plentiful<br>availability overall in most central and southeast European<br>markets.</p>\",\n",
       "  'id': 44,\n",
       "  'page': 2,\n",
       "  'text': 'Czech domestic and export prices also strengthened\\non tight refinery supply, although there was still plentiful\\navailability overall in most central and southeast European\\nmarkets.'},\n",
       " {'bounding_box': [{'x': 89, 'y': 675},\n",
       "   {'x': 604, 'y': 675},\n",
       "   {'x': 604, 'y': 859},\n",
       "   {'x': 89, 'y': 859}],\n",
       "  'category': 'paragraph',\n",
       "  'html': \"<br><p id='45' data-category='paragraph' style='font-size:18px'>Sharp gains in fob Rotterdam high-sulphur fuel oil (HSFO)<br>prices in the last week of September drove up outright<br>bitumen values, but such gains coupled with early signs of<br>winter and demand slowdown in parts of the Nordic/Scandi-<br>navia region encouraged a modest $2-3/t slippage in Rot-<br>terdam and Baltic cargo export premiums to HSFO that were<br>assessed at $25-30/t and around $20/t fob respectively.</p>\",\n",
       "  'id': 45,\n",
       "  'page': 2,\n",
       "  'text': 'Sharp gains in fob Rotterdam high-sulphur fuel oil (HSFO)\\nprices in the last week of September drove up outright\\nbitumen values, but such gains coupled with early signs of\\nwinter and demand slowdown in parts of the Nordic/Scandi-\\nnavia region encouraged a modest $2-3/t slippage in Rot-\\nterdam and Baltic cargo export premiums to HSFO that were\\nassessed at $25-30/t and around $20/t fob respectively.'},\n",
       " {'bounding_box': [{'x': 91, 'y': 863},\n",
       "   {'x': 597, 'y': 863},\n",
       "   {'x': 597, 'y': 995},\n",
       "   {'x': 91, 'y': 995}],\n",
       "  'category': 'paragraph',\n",
       "  'html': \"<br><p id='46' data-category='paragraph' style='font-size:18px'>Cross regional freight rates for standard 5,000t cargoes<br>were yet to be pushed down significantly, but slim assessed<br>declines took Thames-bound rates to $22-24/t from Rotter-<br>dam, $29-31/t from Hamburg, $47-49/t from Klaipeda and<br>$39-43/t from La Coruna.</p>\",\n",
       "  'id': 46,\n",
       "  'page': 2,\n",
       "  'text': 'Cross regional freight rates for standard 5,000t cargoes\\nwere yet to be pushed down significantly, but slim assessed\\ndeclines took Thames-bound rates to $22-24/t from Rotter-\\ndam, $29-31/t from Hamburg, $47-49/t from Klaipeda and\\n$39-43/t from La Coruna.'},\n",
       " {'bounding_box': [{'x': 92, 'y': 1023},\n",
       "   {'x': 128, 'y': 1023},\n",
       "   {'x': 128, 'y': 1048},\n",
       "   {'x': 92, 'y': 1048}],\n",
       "  'category': 'heading1',\n",
       "  'html': \"<h1 id='47' style='font-size:22px'>uk</h1>\",\n",
       "  'id': 47,\n",
       "  'page': 2,\n",
       "  'text': 'uk'},\n",
       " {'bounding_box': [{'x': 90, 'y': 1054},\n",
       "   {'x': 602, 'y': 1054},\n",
       "   {'x': 602, 'y': 1159},\n",
       "   {'x': 90, 'y': 1159}],\n",
       "  'category': 'paragraph',\n",
       "  'html': \"<br><p id='48' data-category='paragraph' style='font-size:18px'>Domestic truck prices in the UK were assessed £20/t firmer<br>at £380-390/t ex-works and £395-405/t delivered after Octo-<br>ber monthly price hikes that followed hefty crude and fuel<br>oil gains during September, versus the previous month.</p>\",\n",
       "  'id': 48,\n",
       "  'page': 2,\n",
       "  'text': 'Domestic truck prices in the UK were assessed £20/t firmer\\nat £380-390/t ex-works and £395-405/t delivered after Octo-\\nber monthly price hikes that followed hefty crude and fuel\\noil gains during September, versus the previous month.'},\n",
       " {'bounding_box': [{'x': 634, 'y': 248},\n",
       "   {'x': 1080, 'y': 248},\n",
       "   {'x': 1080, 'y': 271},\n",
       "   {'x': 634, 'y': 271}],\n",
       "  'category': 'paragraph',\n",
       "  'html': \"<br><p id='49' data-category='paragraph' style='font-size:16px'>North and central Europe bitumen prices, 25 Sep-1 Oct</p>\",\n",
       "  'id': 49,\n",
       "  'page': 2,\n",
       "  'text': 'North and central Europe bitumen prices, 25 Sep-1 Oct'},\n",
       " {'bounding_box': [{'x': 102, 'y': 1182},\n",
       "   {'x': 509, 'y': 1182},\n",
       "   {'x': 509, 'y': 1206},\n",
       "   {'x': 102, 'y': 1206}],\n",
       "  'category': 'paragraph',\n",
       "  'html': \"<p id='51' data-category='paragraph' style='font-size:18px'>Southern UK domestic and Rotterdam domestic</p>\",\n",
       "  'id': 51,\n",
       "  'page': 2,\n",
       "  'text': 'Southern UK domestic and Rotterdam domestic'},\n",
       " {'bounding_box': [{'x': 570, 'y': 1183},\n",
       "   {'x': 598, 'y': 1183},\n",
       "   {'x': 598, 'y': 1203},\n",
       "   {'x': 570, 'y': 1203}],\n",
       "  'category': 'paragraph',\n",
       "  'html': \"<br><p id='53' data-category='paragraph' style='font-size:18px'>$/t</p>\",\n",
       "  'id': 53,\n",
       "  'page': 2,\n",
       "  'text': '$/t'},\n",
       " {'bounding_box': [{'x': 570, 'y': 1649},\n",
       "   {'x': 671, 'y': 1649},\n",
       "   {'x': 671, 'y': 1671},\n",
       "   {'x': 570, 'y': 1671}],\n",
       "  'category': 'paragraph',\n",
       "  'html': \"<p id='56' data-category='paragraph' style='font-size:16px'>Page 3 of 22</p>\",\n",
       "  'id': 56,\n",
       "  'page': 2,\n",
       "  'text': 'Page 3 of 22'},\n",
       " {'bounding_box': [{'x': 90, 'y': 1649},\n",
       "   {'x': 509, 'y': 1649},\n",
       "   {'x': 509, 'y': 1700},\n",
       "   {'x': 90, 'y': 1700}],\n",
       "  'category': 'footer',\n",
       "  'html': \"<br><footer id='57' style='font-size:16px'>Copyright © 2021 Argus Media group<br>Licensed to: Shi Jia Lim, Argus Media Limited (London)</footer>\",\n",
       "  'id': 57,\n",
       "  'page': 2,\n",
       "  'text': 'Copyright © 2021 Argus Media group\\nLicensed to: Shi Jia Lim, Argus Media Limited (London)'}]"
      ]
     },
     "execution_count": 23,
     "metadata": {},
     "output_type": "execute_result"
    }
   ],
   "source": [
    "state[\"page_elements\"][2][\"text_elements\"]"
   ]
  },
  {
   "cell_type": "markdown",
   "metadata": {},
   "source": [
    "## 페이지 번호를 추출합니다."
   ]
  },
  {
   "cell_type": "code",
   "execution_count": 24,
   "metadata": {},
   "outputs": [
    {
     "data": {
      "text/plain": [
       "[0, 1, 2, 3, 4, 5, 6, 7, 8, 9, 10, 11, 12, 13, 14, 15, 16, 17, 18, 19, 20, 21]"
      ]
     },
     "execution_count": 24,
     "metadata": {},
     "output_type": "execute_result"
    }
   ],
   "source": [
    "def page_numbers(state: GraphState):\n",
    "    return GraphState(page_numbers=list(state[\"page_elements\"].keys()))\n",
    "\n",
    "\n",
    "state_out = page_numbers(state)\n",
    "state.update(state_out)\n",
    "state[\"page_numbers\"]"
   ]
  },
  {
   "cell_type": "markdown",
   "metadata": {},
   "source": [
    "## 이미지를 추출합니다."
   ]
  },
  {
   "cell_type": "code",
   "execution_count": 25,
   "metadata": {},
   "outputs": [],
   "source": [
    "class ImageCropper:\n",
    "    @staticmethod\n",
    "    def pdf_to_image(pdf_file, page_num, dpi=300):\n",
    "        \"\"\"\n",
    "        PDF 파일의 특정 페이지를 이미지로 변환하는 메서드\n",
    "\n",
    "        :param page_num: 변환할 페이지 번호 (1부터 시작)\n",
    "        :param dpi: 이미지 해상도 (기본값: 300)\n",
    "        :return: 변환된 이미지 객체\n",
    "        \"\"\"\n",
    "        with pymupdf.open(pdf_file) as doc:\n",
    "            page = doc[page_num].get_pixmap(dpi=dpi)\n",
    "            target_page_size = [page.width, page.height]\n",
    "            page_img = Image.frombytes(\"RGB\", target_page_size, page.samples)\n",
    "        return page_img\n",
    "\n",
    "    @staticmethod\n",
    "    def normalize_coordinates(coordinates, output_page_size):\n",
    "        \"\"\"\n",
    "        좌표를 정규화하는 정적 메서드\n",
    "\n",
    "        :param coordinates: 원본 좌표 리스트\n",
    "        :param output_page_size: 출력 페이지 크기 [너비, 높이]\n",
    "        :return: 정규화된 좌표 (x1, y1, x2, y2)\n",
    "        \"\"\"\n",
    "        x_values = [coord[\"x\"] for coord in coordinates]\n",
    "        y_values = [coord[\"y\"] for coord in coordinates]\n",
    "        x1, y1, x2, y2 = min(x_values), min(y_values), max(x_values), max(y_values)\n",
    "\n",
    "        return (\n",
    "            x1 / output_page_size[0],\n",
    "            y1 / output_page_size[1],\n",
    "            x2 / output_page_size[0],\n",
    "            y2 / output_page_size[1],\n",
    "        )\n",
    "\n",
    "    @staticmethod\n",
    "    def crop_image(img, coordinates, output_file):\n",
    "        \"\"\"\n",
    "        이미지를 주어진 좌표에 따라 자르고 저장하는 정적 메서드\n",
    "\n",
    "        :param img: 원본 이미지 객체\n",
    "        :param coordinates: 정규화된 좌표 (x1, y1, x2, y2)\n",
    "        :param output_file: 저장할 파일 경로\n",
    "        \"\"\"\n",
    "        img_width, img_height = img.size\n",
    "        x1, y1, x2, y2 = [\n",
    "            int(coord * dim)\n",
    "            for coord, dim in zip(coordinates, [img_width, img_height] * 2)\n",
    "        ]\n",
    "        cropped_img = img.crop((x1, y1, x2, y2))\n",
    "        cropped_img.save(output_file)"
   ]
  },
  {
   "cell_type": "code",
   "execution_count": 27,
   "metadata": {},
   "outputs": [
    {
     "data": {
      "text/plain": [
       "{'bounding_box': [{'x': 632, 'y': 261},\n",
       "  {'x': 1147, 'y': 261},\n",
       "  {'x': 1147, 'y': 1022},\n",
       "  {'x': 632, 'y': 1022}],\n",
       " 'category': 'table',\n",
       " 'html': '<br><table id=\\'50\\' style=\\'font-size:14px\\'><tr><td></td><td colspan=\"3\">€/t</td><td colspan=\"3\">$/t</td></tr><tr><td></td><td>Low</td><td>high</td><td>±</td><td>Low</td><td>high</td><td>±</td></tr><tr><td>Domestic prices, ex-works</td><td></td><td></td><td></td><td></td><td></td><td></td></tr><tr><td>Southern UK £/t</td><td>380</td><td>390</td><td>+20.00</td><td>516</td><td>529</td><td>+22.50</td></tr><tr><td>Rotterdam, Netherlands</td><td>420</td><td>435</td><td>+20.00</td><td>490</td><td>507</td><td>+20.50</td></tr><tr><td>Antwerp, Belgium</td><td>420</td><td>435</td><td>+20.00</td><td>490</td><td>507</td><td>+20.50</td></tr><tr><td>Northern Germany</td><td>385</td><td>395</td><td>+10.00</td><td>449</td><td>460</td><td>+8.50</td></tr><tr><td>Northeast Germany</td><td>350</td><td>360</td><td>+10.00</td><td>408</td><td>420</td><td>+9.00</td></tr><tr><td>Southern Germany</td><td>370</td><td>385</td><td>+10.00</td><td>431</td><td>449</td><td>+8.50</td></tr><tr><td>Southwest Germany</td><td>365</td><td>380</td><td>+10.00</td><td>425</td><td>443</td><td>+8.50</td></tr><tr><td>Western Germany</td><td>375</td><td>385</td><td>+10.00</td><td>437</td><td>449</td><td>+9.00</td></tr><tr><td>Hungary</td><td>380</td><td>390</td><td>nc</td><td>443</td><td>455</td><td>-3.00</td></tr><tr><td>Romania</td><td>410</td><td>420</td><td>nc</td><td>478</td><td>490</td><td>-3.00</td></tr><tr><td>Czech Republic</td><td>375</td><td>385</td><td>+15.00</td><td>437</td><td>449</td><td>+14.50</td></tr><tr><td>Export prices, ex-works</td><td></td><td></td><td></td><td></td><td></td><td></td></tr><tr><td>Poland-Germany (truck)</td><td>345</td><td>355</td><td>+5.00</td><td>402</td><td>414</td><td>+3.00</td></tr><tr><td>Czech Republic-Germany (truck)</td><td>345</td><td>355</td><td>+5.00</td><td>402</td><td>414</td><td>+3.00</td></tr><tr><td>Poland-Romania (truck)</td><td>350</td><td>360</td><td>nc</td><td>408</td><td>420</td><td>-3.00</td></tr><tr><td>Hungary-Romania (truck)</td><td>390</td><td>400</td><td>nc</td><td>455</td><td>466</td><td>-3.00</td></tr><tr><td>Rotterdam (cargo)</td><td></td><td></td><td></td><td>460.90</td><td>465.90</td><td>+18.95</td></tr><tr><td>Baltic (cargo)</td><td></td><td></td><td></td><td>453.90</td><td>457.90</td><td>+18.95</td></tr><tr><td>Domestic prices, delivered</td><td></td><td></td><td></td><td></td><td></td><td></td></tr><tr><td>Southern UK £/t</td><td>395</td><td>405</td><td>+20.00</td><td>536</td><td>550</td><td>+22.20</td></tr><tr><td>Brussels</td><td>430</td><td>445</td><td>+20.00</td><td>501</td><td>519</td><td>+20.00</td></tr><tr><td>Northern France</td><td>475</td><td>485</td><td>+20.00</td><td>554</td><td>565</td><td>+19.50</td></tr><tr><td>Central France</td><td>475</td><td>485</td><td>+20.00</td><td>554</td><td>565</td><td>+19.50</td></tr></table>',\n",
       " 'id': 50,\n",
       " 'page': 2,\n",
       " 'text': '€/t $/t\\n  Low high ± Low high ±\\n Domestic prices, ex-works      \\n Southern UK £/t 380 390 +20.00 516 529 +22.50\\n Rotterdam, Netherlands 420 435 +20.00 490 507 +20.50\\n Antwerp, Belgium 420 435 +20.00 490 507 +20.50\\n Northern Germany 385 395 +10.00 449 460 +8.50\\n Northeast Germany 350 360 +10.00 408 420 +9.00\\n Southern Germany 370 385 +10.00 431 449 +8.50\\n Southwest Germany 365 380 +10.00 425 443 +8.50\\n Western Germany 375 385 +10.00 437 449 +9.00\\n Hungary 380 390 nc 443 455 -3.00\\n Romania 410 420 nc 478 490 -3.00\\n Czech Republic 375 385 +15.00 437 449 +14.50\\n Export prices, ex-works      \\n Poland-Germany (truck) 345 355 +5.00 402 414 +3.00\\n Czech Republic-Germany (truck) 345 355 +5.00 402 414 +3.00\\n Poland-Romania (truck) 350 360 nc 408 420 -3.00\\n Hungary-Romania (truck) 390 400 nc 455 466 -3.00\\n Rotterdam (cargo)    460.90 465.90 +18.95\\n Baltic (cargo)    453.90 457.90 +18.95\\n Domestic prices, delivered      \\n Southern UK £/t 395 405 +20.00 536 550 +22.20\\n Brussels 430 445 +20.00 501 519 +20.00\\n Northern France 475 485 +20.00 554 565 +19.50\\n Central France 475 485 +20.00 554 565 +19.50'}"
      ]
     },
     "execution_count": 27,
     "metadata": {},
     "output_type": "execute_result"
    }
   ],
   "source": [
    "sample_table = state[\"page_elements\"][2][\"table_elements\"][0]\n",
    "sample_table"
   ]
  },
  {
   "cell_type": "code",
   "execution_count": 28,
   "metadata": {},
   "outputs": [
    {
     "data": {
      "text/plain": [
       "{'bounding_box': [{'x': 90, 'y': 1229},\n",
       "  {'x': 598, 'y': 1229},\n",
       "  {'x': 598, 'y': 1557},\n",
       "  {'x': 90, 'y': 1557}],\n",
       " 'category': 'figure',\n",
       " 'html': '<figure><img id=\\'52\\' style=\\'font-size:14px\\' alt=\"Southern UK domestic Rotterdam domestic\\n550\\n500\\n450 hhhhhhhhhhh\\n400\\n350\\n22 Jan 16 Apr 9 Jul 1 Oct\" data-coord=\"top-left:(89,1228); bottom-right:(597,1557)\" /></figure>',\n",
       " 'id': 52,\n",
       " 'page': 2,\n",
       " 'text': 'Southern UK domestic Rotterdam domestic\\n550\\n500\\n450 hhhhhhhhhhh\\n400\\n350\\n22 Jan 16 Apr 9 Jul 1 Oct'}"
      ]
     },
     "execution_count": 28,
     "metadata": {},
     "output_type": "execute_result"
    }
   ],
   "source": [
    "sample_image = state[\"page_elements\"][2][\"image_elements\"][0]\n",
    "sample_image"
   ]
  },
  {
   "cell_type": "code",
   "execution_count": 29,
   "metadata": {},
   "outputs": [],
   "source": [
    "def crop_image(state: GraphState):\n",
    "    \"\"\"\n",
    "    PDF 파일에서 이미지를 추출하고 크롭하는 함수\n",
    "\n",
    "    :param state: GraphState 객체\n",
    "    :return: 크롭된 이미지 정보가 포함된 GraphState 객체\n",
    "    \"\"\"\n",
    "    pdf_file = state[\"filepath\"]  # PDF 파일 경로\n",
    "    page_numbers = state[\"page_numbers\"]  # 처리할 페이지 번호 목록\n",
    "    output_folder = os.path.splitext(pdf_file)[0]  # 출력 폴더 경로 설정\n",
    "    os.makedirs(output_folder, exist_ok=True)  # 출력 폴더 생성\n",
    "\n",
    "    cropped_images = dict()  # 크롭된 이미지 정보를 저장할 딕셔너리\n",
    "    for page_num in page_numbers:\n",
    "        pdf_image = ImageCropper.pdf_to_image(\n",
    "            pdf_file, page_num\n",
    "        )  # PDF 페이지를 이미지로 변환\n",
    "        for element in state[\"page_elements\"][page_num][\"image_elements\"]:\n",
    "            if element[\"category\"] == \"figure\":\n",
    "                # 이미지 요소의 좌표를 정규화\n",
    "                normalized_coordinates = ImageCropper.normalize_coordinates(\n",
    "                    element[\"bounding_box\"], state[\"page_metadata\"][page_num][\"size\"]\n",
    "                )\n",
    "\n",
    "                # 크롭된 이미지 저장 경로 설정\n",
    "                output_file = os.path.join(output_folder, f\"{element['id']}.png\")\n",
    "                # 이미지 크롭 및 저장\n",
    "                ImageCropper.crop_image(pdf_image, normalized_coordinates, output_file)\n",
    "                cropped_images[element[\"id\"]] = output_file\n",
    "                print(f\"page:{page_num}, id:{element['id']}, path: {output_file}\")\n",
    "    return GraphState(\n",
    "        images=cropped_images\n",
    "    )  # 크롭된 이미지 정보를 포함한 GraphState 반환\n",
    "\n",
    "\n",
    "def crop_table(state: GraphState):\n",
    "    \"\"\"\n",
    "    PDF 파일에서 표를 추출하고 크롭하는 함수\n",
    "\n",
    "    :param state: GraphState 객체\n",
    "    :return: 크롭된 표 이미지 정보가 포함된 GraphState 객체\n",
    "    \"\"\"\n",
    "    pdf_file = state[\"filepath\"]  # PDF 파일 경로\n",
    "    page_numbers = state[\"page_numbers\"]  # 처리할 페이지 번호 목록\n",
    "    output_folder = os.path.splitext(pdf_file)[0]  # 출력 폴더 경로 설정\n",
    "    os.makedirs(output_folder, exist_ok=True)  # 출력 폴더 생성\n",
    "\n",
    "    cropped_images = dict()  # 크롭된 표 이미지 정보를 저장할 딕셔너리\n",
    "    for page_num in page_numbers:\n",
    "        pdf_image = ImageCropper.pdf_to_image(\n",
    "            pdf_file, page_num\n",
    "        )  # PDF 페이지를 이미지로 변환\n",
    "        for element in state[\"page_elements\"][page_num][\"table_elements\"]:\n",
    "            if element[\"category\"] == \"table\":\n",
    "                # 표 요소의 좌표를 정규화\n",
    "                normalized_coordinates = ImageCropper.normalize_coordinates(\n",
    "                    element[\"bounding_box\"], state[\"page_metadata\"][page_num][\"size\"]\n",
    "                )\n",
    "\n",
    "                # 크롭된 표 이미지 저장 경로 설정\n",
    "                output_file = os.path.join(output_folder, f\"{element['id']}.png\")\n",
    "                # 표 이미지 크롭 및 저장\n",
    "                ImageCropper.crop_image(pdf_image, normalized_coordinates, output_file)\n",
    "                cropped_images[element[\"id\"]] = output_file\n",
    "                print(f\"page:{page_num}, id:{element['id']}, path: {output_file}\")\n",
    "    return GraphState(\n",
    "        tables=cropped_images\n",
    "    )  # 크롭된 표 이미지 정보를 포함한 GraphState 반환"
   ]
  },
  {
   "cell_type": "code",
   "execution_count": 30,
   "metadata": {},
   "outputs": [
    {
     "data": {
      "text/plain": [
       "dict_keys([0, 1, 2, 3, 4, 5, 6, 7, 8, 9, 10, 11, 12, 13, 14, 15, 16, 17, 18, 19, 20, 21])"
      ]
     },
     "execution_count": 30,
     "metadata": {},
     "output_type": "execute_result"
    }
   ],
   "source": [
    "state[\"page_elements\"].keys()"
   ]
  },
  {
   "cell_type": "code",
   "execution_count": 31,
   "metadata": {},
   "outputs": [
    {
     "name": "stdout",
     "output_type": "stream",
     "text": [
      "page:0, id:15, path: data/sample-report/15.png\n",
      "page:1, id:23, path: data/sample-report/23.png\n",
      "page:1, id:29, path: data/sample-report/29.png\n",
      "page:2, id:52, path: data/sample-report/52.png\n",
      "page:3, id:68, path: data/sample-report/68.png\n",
      "page:4, id:105, path: data/sample-report/105.png\n",
      "page:5, id:126, path: data/sample-report/126.png\n",
      "page:6, id:138, path: data/sample-report/138.png\n",
      "page:8, id:193, path: data/sample-report/193.png\n",
      "page:9, id:218, path: data/sample-report/218.png\n",
      "page:10, id:251, path: data/sample-report/251.png\n",
      "page:11, id:268, path: data/sample-report/268.png\n",
      "page:13, id:300, path: data/sample-report/300.png\n",
      "page:18, id:404, path: data/sample-report/404.png\n",
      "page:19, id:424, path: data/sample-report/424.png\n",
      "page:20, id:458, path: data/sample-report/458.png\n",
      "page:20, id:470, path: data/sample-report/470.png\n",
      "page:21, id:477, path: data/sample-report/477.png\n",
      "page:21, id:501, path: data/sample-report/501.png\n"
     ]
    },
    {
     "data": {
      "text/plain": [
       "{15: 'data/sample-report/15.png',\n",
       " 23: 'data/sample-report/23.png',\n",
       " 29: 'data/sample-report/29.png',\n",
       " 52: 'data/sample-report/52.png',\n",
       " 68: 'data/sample-report/68.png',\n",
       " 105: 'data/sample-report/105.png',\n",
       " 126: 'data/sample-report/126.png',\n",
       " 138: 'data/sample-report/138.png',\n",
       " 193: 'data/sample-report/193.png',\n",
       " 218: 'data/sample-report/218.png',\n",
       " 251: 'data/sample-report/251.png',\n",
       " 268: 'data/sample-report/268.png',\n",
       " 300: 'data/sample-report/300.png',\n",
       " 404: 'data/sample-report/404.png',\n",
       " 424: 'data/sample-report/424.png',\n",
       " 458: 'data/sample-report/458.png',\n",
       " 470: 'data/sample-report/470.png',\n",
       " 477: 'data/sample-report/477.png',\n",
       " 501: 'data/sample-report/501.png'}"
      ]
     },
     "execution_count": 31,
     "metadata": {},
     "output_type": "execute_result"
    }
   ],
   "source": [
    "state_out = crop_image(state)\n",
    "state.update(state_out)\n",
    "state[\"images\"]\n",
    "# state.update(state6)"
   ]
  },
  {
   "cell_type": "code",
   "execution_count": 32,
   "metadata": {},
   "outputs": [
    {
     "name": "stdout",
     "output_type": "stream",
     "text": [
      "page:0, id:12, path: data/sample-report/12.png\n",
      "page:0, id:18, path: data/sample-report/18.png\n",
      "page:1, id:32, path: data/sample-report/32.png\n",
      "page:1, id:33, path: data/sample-report/33.png\n",
      "page:2, id:50, path: data/sample-report/50.png\n",
      "page:2, id:54, path: data/sample-report/54.png\n",
      "page:2, id:55, path: data/sample-report/55.png\n",
      "page:5, id:121, path: data/sample-report/121.png\n",
      "page:5, id:122, path: data/sample-report/122.png\n",
      "page:5, id:125, path: data/sample-report/125.png\n",
      "page:8, id:196, path: data/sample-report/196.png\n",
      "page:8, id:197, path: data/sample-report/197.png\n",
      "page:11, id:270, path: data/sample-report/270.png\n",
      "page:12, id:276, path: data/sample-report/276.png\n",
      "page:12, id:278, path: data/sample-report/278.png\n",
      "page:13, id:302, path: data/sample-report/302.png\n",
      "page:13, id:303, path: data/sample-report/303.png\n",
      "page:14, id:317, path: data/sample-report/317.png\n",
      "page:15, id:348, path: data/sample-report/348.png\n",
      "page:15, id:351, path: data/sample-report/351.png\n",
      "page:17, id:386, path: data/sample-report/386.png\n"
     ]
    },
    {
     "data": {
      "text/plain": [
       "{12: 'data/sample-report/12.png',\n",
       " 18: 'data/sample-report/18.png',\n",
       " 32: 'data/sample-report/32.png',\n",
       " 33: 'data/sample-report/33.png',\n",
       " 50: 'data/sample-report/50.png',\n",
       " 54: 'data/sample-report/54.png',\n",
       " 55: 'data/sample-report/55.png',\n",
       " 121: 'data/sample-report/121.png',\n",
       " 122: 'data/sample-report/122.png',\n",
       " 125: 'data/sample-report/125.png',\n",
       " 196: 'data/sample-report/196.png',\n",
       " 197: 'data/sample-report/197.png',\n",
       " 270: 'data/sample-report/270.png',\n",
       " 276: 'data/sample-report/276.png',\n",
       " 278: 'data/sample-report/278.png',\n",
       " 302: 'data/sample-report/302.png',\n",
       " 303: 'data/sample-report/303.png',\n",
       " 317: 'data/sample-report/317.png',\n",
       " 348: 'data/sample-report/348.png',\n",
       " 351: 'data/sample-report/351.png',\n",
       " 386: 'data/sample-report/386.png'}"
      ]
     },
     "execution_count": 32,
     "metadata": {},
     "output_type": "execute_result"
    }
   ],
   "source": [
    "state_out = crop_table(state)\n",
    "state.update(state_out)\n",
    "state[\"tables\"]"
   ]
  },
  {
   "cell_type": "markdown",
   "metadata": {},
   "source": [
    "## 페이지 텍스트 추출"
   ]
  },
  {
   "cell_type": "code",
   "execution_count": 33,
   "metadata": {},
   "outputs": [],
   "source": [
    "def extract_page_text(state: GraphState):\n",
    "    # 상태 객체에서 페이지 번호 목록을 가져옵니다.\n",
    "    page_numbers = state[\"page_numbers\"]\n",
    "\n",
    "    # 추출된 텍스트를 저장할 딕셔너리를 초기화합니다.\n",
    "    extracted_texts = dict()\n",
    "\n",
    "    # 각 페이지 번호에 대해 반복합니다.\n",
    "    for page_num in page_numbers:\n",
    "        # 현재 페이지의 텍스트를 저장할 빈 문자열을 초기화합니다.\n",
    "        extracted_texts[page_num] = \"\"\n",
    "\n",
    "        # 현재 페이지의 모든 텍스트 요소에 대해 반복합니다.\n",
    "        for element in state[\"page_elements\"][page_num][\"text_elements\"]:\n",
    "            # 각 텍스트 요소의 내용을 현재 페이지의 텍스트에 추가합니다.\n",
    "            extracted_texts[page_num] += element[\"text\"]\n",
    "\n",
    "    # 추출된 텍스트를 포함한 새로운 GraphState 객체를 반환합니다.\n",
    "    return GraphState(texts=extracted_texts)"
   ]
  },
  {
   "cell_type": "code",
   "execution_count": 34,
   "metadata": {},
   "outputs": [
    {
     "data": {
      "text/plain": [
       "{0: 'Argus BitumenEurope, Africa, Middle East and Asia-Pacific prices and commentary\\nIncorporating Argus Asphalt ReportIssue 21-39 | Friday 1 October 2021SummaryBitumen cargo values gained across Europe and Asia-Pacific,\\nboosted by a jump in crude and fuel oil values.Domestic truck prices across Europe also mostly\\nstrengthened as October started.Cargo premiums to high-sulphur fuel oil (HSFO) in Rot-\\nterdam and the Baltics fell by $2-3/t, but outright values\\ncontinued to rise, while in the Mediterranean premium\\nvalues were steady on the week as refiners held their ground\\namid rising outright values and slowing demand.The Asia-Pacific bitumen market remained mostly firm,\\ndespite the expected slowdown due to the week-long break\\nin China for Golden Week holidays.The continued buoyancy in crude and HSFO prices in the\\nAsia-Pacific region pushed refiners to either seek price hikes\\nor mull production cuts at their units. Supply for October\\nwas seen to be balanced in key export export locations like\\nSingapore and South Korea on the back of lower bitumen\\nproduction at some units.Demand is expected to improve from Vietnam, Australia,\\nChina and India in the coming weeks supported by seasonal\\npick-up or the easing of pandemic-related restrictions.Bitumen prices shot up across sub-Saharan Africa, with\\ndelivered cargo and drummed import prices racing higher, as\\ndid domestic and export values for South African volumes.prICESRotterdam domestic differential to HSFO barges$/tCopyright © 2021 Argus Media group\\nLicensed to: Shi Jia Lim, Argus Media Limited (London)ContEntSAvailable on the Argus Publications App',\n",
       " 1: 'Argus BitumenIssue 21-39 | Friday 1 October 2021Waterborne bItUMen prIces, fobcargo floWsSpanish export cargoes were sent into north African markets\\nas well as western Europe, although activity was generally\\nslowing across the Mediterranean.The 6,118 dwt Ning Hai Wan loaded a cargo from Huelva,\\nSpain, for discharge into Donges, France, on 29 September,\\nwhile the 5,897 dwt Iver Accord loaded a cargo from La Co-\\nruna, Spain, for discharge into Blaye, France, by 2 October.The 6,180 dwt Iver Balance loaded a cargo from Cadiz,\\nSpain, for discharge into Oran, Algeria, on 30 September,\\nwhile the 7,066 dwt Herbania loaded a cargo from Huelva for\\ndischarge into Ghazaouet, Algeria, by 29 September.Waterborne markets, differential to HSFO$/tThe 6,586 dwt Iver Bitumen loaded a cargo from Huelva\\ninto Tenerife in the Canary Islands on 1 October..Page 2 of 22Issue Ref: 421631Copyright © 2021 Argus Media group\\nLicensed to: Shi Jia Lim, Argus Media Limited (London)',\n",
       " 2: 'Argus BitumenIssue 21-39 | Friday 1 October 2021North aNd CeNtral europe market CommeNtarySummaryDomestic truck prices strengthened in several markets,\\nmany of those gains linked to monthly revisions for October\\nsupplies, while cargo prices also jumped.While German domestic prices were assessed €10/t\\nfirmer after some price erosion caused by plentiful supply\\nand high stocks being sold off during September, other key\\nnorthwest European markets like Benelux, UK and France\\nregistered €20/t, £20/t and €20-25/t gains respectively.\\nBut not all monthly deals between sellers and buyers had\\nbeen agreed and confirmed by 1 October, with more details\\nexpected from 4 October.Czech domestic and export prices also strengthened\\non tight refinery supply, although there was still plentiful\\navailability overall in most central and southeast European\\nmarkets.Sharp gains in fob Rotterdam high-sulphur fuel oil (HSFO)\\nprices in the last week of September drove up outright\\nbitumen values, but such gains coupled with early signs of\\nwinter and demand slowdown in parts of the Nordic/Scandi-\\nnavia region encouraged a modest $2-3/t slippage in Rot-\\nterdam and Baltic cargo export premiums to HSFO that were\\nassessed at $25-30/t and around $20/t fob respectively.Cross regional freight rates for standard 5,000t cargoes\\nwere yet to be pushed down significantly, but slim assessed\\ndeclines took Thames-bound rates to $22-24/t from Rotter-\\ndam, $29-31/t from Hamburg, $47-49/t from Klaipeda and\\n$39-43/t from La Coruna.ukDomestic truck prices in the UK were assessed £20/t firmer\\nat £380-390/t ex-works and £395-405/t delivered after Octo-\\nber monthly price hikes that followed hefty crude and fuel\\noil gains during September, versus the previous month.North and central Europe bitumen prices, 25 Sep-1 OctSouthern UK domestic and Rotterdam domestic$/tPage 3 of 22Copyright © 2021 Argus Media group\\nLicensed to: Shi Jia Lim, Argus Media Limited (London)',\n",
       " 3: \"Argus BitumenIssue 21-39 | Friday 1 October 2021North aNd CeNtral europe market CommeNtaryThe market was also being supported by buoyant levels\\nof construction work and bitumen requirements throughout\\nSeptember, with suppliers also pointing to healthy order\\nbooks into October and November.Bitumen availability from domestic refineries and ter-\\nminals, buoyed by steady cargo import flows, has also been\\nhigh, keeping the UK bitumen market broadly balanced.\\nCargoes delivered into Thames terminals jumped in in the\\nlast week of September to an indicated $495-500/t (£365-\\n370/t) cfr range.UK government data showed domestic bitumen consump-\\ntion at 156,00t in July, down 6,000t on the same month of\\nlast year. For the May to July period this year consumption\\nstood at 485,000t, up 59,000t on the same period of 2020.\\nFor year-to-date January to July, UK consumption stood at\\n1.05mn t, against 817,000t last year, after the negative im-\\npact on construction activity and demand in 2020 caused by\\nCovid-19 lockdowns, particularly from March to May.FranceFrench domestic prices rose by €20-25/t, reflecting sharp\\ngains in agreed prices for the new month of October, al-\\nthough not all supply deal values were yet finalised in discus-\\nsions between buyers and sellers.Relatively higher product availability in the north and\\ncentre, as compared with southern France, kept assessed\\ngains in the former regions to €20/t to reach the €475-485/t\\ndelivered range, while €25/t assessed in the south took\\nthose values to €445-455/t delivered. The partial mainte-\\nnance shutdown since early-September at the Petroineos\\nrefinery in Lavera on the French Mediterranean coast —\\nexpected to last until early November — was a key factor\\nbehind hefty October price hikes, with some domesticGermany: North vs South$/tsuppliers in France seeking monthly price hikes as high as\\n€30-40/t and in one case as much as €60/t.The return to normal production and supply from Exxon-\\nMobil's Port-Jerome refinery in Normandy, northern France,\\nwas taking longer than anticipated after the plant was hit by\\na fire in early September. But both cargo and truck buyers\\npointed to a steady improvement in the supply position and\\nan anticipated return to normal flows after 4 October.BeneluxDomestic truck prices in Benelux markets were assessed\\n€20/t firmer at $420-435/t ex-works, after October price\\nhikes following crude and fuel oil gains during September.While some monthly deals appeared to have been com-\\npleted, especially in the Netherlands, with price hikes of\\naround €20/t for October supplies versus September values,\\nsome talks, especially in Belgium, were expected to take\\na few more days, with some supplier hikes of up to €40/t\\nbeing sought in ongoing negotiations in a bid to make up\\nfor some of the large gains in crude and HSFO prices during\\nSeptember, pushing up refinery feedstock costs along with a\\nweakening euro versus dollar.Local market participants pointed to normal activity\\nlevels for the time of year, with some expecting October to\\nbe the busiest month of the year.GermanyModest price gains were registered on the domestic truck\\nmarket, effective from 1 October, after intra-month declines\\nduring September when high stocks held by some refinery\\nand terminal locations were being sold off.Domestic demand has also remained below expectations\\nfor the season, underlined by fresh German Bafa data that\\nshowed bitumen deliveries domestically were 211,102t for\\nJuly this year, down 17,000t on the same month of 2020. For\\nthe year until July deliveries for Germany domestic con-\\nsumption were 1.02mn t, compared to 1.07mn t in 2020, a\\ndrop of 4.4pc.Total refinery production of bitumen was 451,969t in\\nJuly, up by 82,359t on the same month of 2020. For the year\\nuntil July production stood at 2.19mn t, compared to 1.99mn\\nt last year, an increase of 10.2pc.Domestic prices were assessed €10/t up at €385-395/t\\nex-works in the north, €350-360/t ex-works in the northeast\\nand €365-380/t ex-works in the southwest.poland/Czech republicPolish demand was significant in the last week of SeptemberPage 4 of 22Copyright © 2021 Argus Media group\\nLicensed to: Shi Jia Lim, Argus Media Limited (London)\",\n",
       " 4: \"Argus BitumenIssue 21-39 | Friday 1 October 2021North aNd CeNtral europe market CommeNtarythanks to better weather encouraging more construction\\nwork, while market participants pointed to higher prices\\nfrom refiners in the country with ex-works prices rising for\\nOctober supplies as a result of crude gains.Some market participants also pointed to the poten-\\ntial for further price increases in Poland through October\\nas supply from Lotos’ Gdansk refinery was expected to be\\nreduced.Domestic prices in Poland were indicated as high as\\n€385/t ex-works, rising sharply by €15-20/t, while Polish\\nbitumen truck exports to Germany were assessed up €5/t at\\n€345-355/t ex-works.Czech exports to Germany were also assessed up €5/t\\nat €345-355/t ex-works, while Czech domestic prices were\\nassessed €15/t firmer at €375-385/t ex-works amid limited\\navailability of some supplies from PKN Orlen subsidiary Uni-\\npetrol’s Litvinov refinery, notably of pen 160/220.Polish truck exports to Ukraine were indicated at around\\n€360/t ex-works, with some offers from Germany into Poland\\nindicated at around €350-360/t ex-works.hungary/romania/BalkansRegional domestic and export prices were assessed un-\\nchanged, but market participants expected a steady rise\\nin demand as well as a hike in some prices, including in\\nRomania, related to crude and fuel oil gains through the rest\\nof the month.Romanian domestic were still assessed at €410-420/t\\nex-works, while imports from Poland, which market partici-\\npants said were uncompetitive with local Romanian supplies,\\nwere also unchanged at €350-360/t ex-works. More bitu-\\nmen truck loads were sold by a Greek firm to a Romanian\\nimporter in the week ending 1 October as importers in thecountry gear up for the expected rise in demand following\\nthe release of some funds to constructors, with a ramp up in\\ndemand expected by the end of October to last through until\\nyear end depending on weather conditions in the country.Vitol's local arm completed an expansion to around\\n7.000t capacity — from its previous 4,000t — at its Galati\\nimport terminal.Hungarian domestic truck prices were assessed un-\\nchanged at €380-390/t ex-works, while Hungarian exports to\\nRomania were assessed unchanged at €390-400/t ex-works\\nSzazhalombatta. Some exports from Mol’s Szazhalombatta\\nrefinery were indicated as low as €340-345/t ex-works into\\nthe Polish market.Rompetrol's Vega refinery in Ploiesti, Romania, was ex-\\npected to ramp up bitumen production following the restart\\nof the Midia refinery at Navodari around 20 September. The\\nrestart will lead to the resumption of feedstock flows to Ploi-\\nesti. The 4,999 dwt Sunpower loaded a cargo from Aspropyr-\\ngos, Greece, for discharge into Mangalia on Romania’s Black\\nSea coast.BalticsDemand in Latvia was strong with constructors working on\\nprojects in the run up to winter, with bitumen consumption\\nat healthy levels in the country, according to market partici-\\npants, while Lithuanian demand was also steady with a good\\nrate of bitumen demand.In Finland however, demand was slowly unwinding with\\nthe onset of snowfall in the north of the country, with\\nimporters looking to future supplies for storage over the\\nwinter.Fob Baltic cargo premiums to fob Rotterdam HSFO barges\\nwere assessed $2-3/t down at around $20/t to reflect signs of\\na slowdown in regional cargo demand.Hungary and Romania domestic$/tThe 4,999 dwt Seapower loaded a cargo from St Peters-\\nburg for discharge into Tallinn on 1 October, while the 6,065\\ndwt Acacia Rubra moved a cargo from Lomonosov to Pori,\\narriving 30 September. The 4,972 dwt Bitonia, its name\\nchanged from the Alcedo that was delivered to Sweden-\\nbased TSA Tanker Shipping in June after the firm purchased\\nit, moved a cargo from Hamburg to Akureyi, Iceland.Posted prices from Orlen's Mazeikiai refinery were up\\n€10/t, with pen 50/70 and 70/100 at €3980/t ex-works and\\npen 100/150 and 160/220 at €405/t ex-works.Page 5 of 22Copyright © 2021 Argus Media group\\nLicensed to: Shi Jia Lim, Argus Media Limited (London)\",\n",
       " 5: \"Argus BitumenIssue 21-39 | Friday 1 October 2021Mediterranean Market coMMentarySummaryMediterranean bitumen cargo prices ended September\\nwith sharp gains as high-sulphur fuel oil (HSFO) prices rose\\nsubstantially, while bitumen cargo premiums stabilised after\\ndeclining for much of the month.Spanish export premiums to HSFO were assessed un-\\nchanged at $20-25/t fob, Greek fob cargo premiums were\\nassessed unchanged at $15-20/t, with most Turkish export\\nflows indicated in the same range, while Italian fob cargo\\npremiums were also assessed unchanged at $15-20/t. The\\nimpact of a lack of westbound transatlantic arbitrage op-\\nportunities, as well as a general demand slowdown within\\nthe Mediterranean basin was leading to greater availabilities\\nacross the region.Delivered values into key north African markets were\\nfalling, with some delivered premium offers in the low\\n$50’s/t into Algerian terminals in October, although most\\nindications into Algeria and Morocco were still in the high\\n$50s/t, while delivered Egyptian values for end-October\\nwere also in the same high $50s/t to HSFO delivered area.The gains in Mediterranean outright values made it yet\\nmore unprofitable to move spot arbitrage cargoes to the US\\neast, with Spanish fob levels surging to around $460/t fob\\nduring the last week of September, higher than cif US east\\ncoast cargoes that were trading around $450/t.Egyptian state-refiner EGPC awarded a further 5,000-\\n6,000t cargo to trading firm BGN at a $57/t delivered pre-\\nmium, basis Alexandria, for end-October delivery, additional\\nto the firm's original four-cargo tender awarded to Puma\\nEnergy and 3B Trading.Cross-Mediterranean freight rates were assessed $1-2/t\\ndown on shorter routes and $2-3/t on the longer routes\\namid clear signs of reduced demand for cargoes as well as\\ntankers to move them. That has led to indications, as theCrude and refined products, 25 Sep-1 OctItaly domestic and Mediterranean HSFO fob cargoes $/tPage 6 of 22Copyright © 2021 Argus Media group\\nLicensed to: Shi Jia Lim, Argus Media Limited (London)\",\n",
       " 6: \"Argus BitumenIssue 21-39 | Friday 1 October 2021MediterrAneAn MArket coMMentArymarket enters its usual fourth quarter slowdown period, that\\na number of tankers are to become open for spot business\\nfrom around 5 October onwards. While vessel waiting and\\ndischarge lengthy delays at Alexandria, Egypt, mean some\\ntankers are being occupied for longer periods, with Ukraine\\nport delays anyway a feature of the shipping market this\\nyear, the bearish Mediterranean shipping picture is expected\\nto cause mounting downward pressures on rates for standard\\n5,000t movements.The Augusta-Mohammedia route was assessed $2-3/t\\ndown at $44-47/t, with Augusta-Alexandria and Greece-\\nAlexandria routes also assessed $2-3/t weaker at $41-44/t\\nand $35-37/t respectively. On the region's shorter routes,\\n$1-2/t assessed declines took values to $31-33/t for Tarrago-\\nna-Mohammedia, $24-26/t for Augusta-Tunisia, $28-30/t for\\nLivorno-Tunisia, $25-27/t for Tarragona-Ghazaouet and $29-\\n31/t on Greek ports to Gebze/Mersin, Turkey.Algeria/MoroccoDelivered cargo values into north African markets were fall-\\ning with indications from market participants for October\\ndelivered cargoes ranging from the low to the high $50s/t\\ninto Algeria and Morocco.Market participants estimated Algerian bitumen con-\\nsumption to have been around 65,000t in September, while\\nthey expected a slight increase in bitumen demand forArgus Asphalt Annual 2021\\nnow availableArgus Consulting Services is pleased to present the\\nArgus Asphalt Annual 2021. The report, now in a new\\nformat, is a comprehensive review of global and country\\nasphalt/bitumen supply and demand fundamentals.Our analysis covers 11 regions and 99 countries. The report\\ncovers global, regional and country data for 2016-25. The\\nreport has four years of historical data (2016-19), estimated\\ndata for 2020, and five years of forecast data (2021-25).Send comments and request more information at\\nfeedback@argusmedia.comPetroleum\\nilluminating the marketsOctober to 70,000t, as constructors were able to resume\\nwork on a greater number of projects after the release of\\nsome funds after a period over the past two months when\\nsuch government disbursements had been well below market\\nexpectations. Local suppliers are now looking ahead to what\\nthey expect to be a fairly busy fourth quarter.Output from Sonatrach’s Arzew refinery was around\\n400t/day, while some bitutainer volumes were sent from\\nArzew to Nouakchott, Mauritania, as well as by truck from\\nsouthern Algerian depots to Niger. The firm is expected to\\nsubstantially boost its overall bitutainer fleet to around 100\\nby the end of October to enable it to expand its regional\\nexport business.Several cargoes were heading into Algerian ports after\\na slowdown in the rate of imports in September. The 6,180\\ndwt Iver Balance loaded a cargo from Cadiz, Spain, for\\ndischarge into Oran on 30 September, while the 8,021 dwt\\nPoestella loaded a cargo from Augusta, Sicily, for discharge\\ninto Algiers by 2 October.Th 5,895 dwt The Deputy loaded a cargo from Cadiz,\\nSpain, for discharge into Mohammedia by 28 October, while\\na cargo was expected to be loaded at Port-Jerome, northern\\nFrance, in the first 10 days of October for delivery into Djen\\nDjen.egyptEgyptian state-owned EGPC awarded an additional cargo\\nto its original four-cargo award, with the fifth 5,000-6,000t\\ncargo awarded to trading firm BGN at a $57/t delivered pre-\\nmium to fob Mediterranean HSFO cargoes, basis Alexandria.The original tender tender for four 5,000-6,000t cargoes\\nof pen 60/70 bitumen for mid to late October delivery into\\nits Alexandria terminal saw two cargoes each awarded to\\nPuma Energy and BB Energy unit 3B Trading, at values be-\\ntween $57-58/t to HSFO delivered premiums.The 5,765 dwt Iver Agile loaded a cargo from Mersin,\\nTurkey, for 2 October delivery into Alexandria where lengthy\\ndischarge delays have emerged over the past few weeks.SpainSpanish fob cargo premiums to fob Mediterranean HSFO\\ncargoes were assessed unchanged at $20-25/t, while outright\\nvalues were up sharply.Demand for US east coast cargoes remained weak going\\ninto October with cif US east coast values steady around\\n$450/t from US east, lower than fob Spain outright price\\nindications of around $460/t in late-September, keeping the\\nwestbound arbitrage unprofitable.Page 7 of 22Copyright © 2021 Argus Media group\\nLicensed to: Shi Jia Lim, Argus Media Limited (London)\",\n",
       " 7: \"Argus BitumenIssue 21-39 | Friday 1 October 2021Mediterranean Market coMMentarySpanish domestic demand remained steady with domes-\\ntic truck prices assessed unchanged at €455-465/t ex-works\\non 1 October with no confirmation yet from sellers or buyers\\nof finalised monthly prices for October volumes.The 6,586 dwt Iver Bitumen loaded a cargo from Huelva\\nfor discharge into Tenerife, Canary Islands, arriving 1 Oc-\\ntober, while the 7,066 dwt Herbania loaded a cargo from\\nHuelva for discharge into Ghazaouet, Algeria, on 29 Septem-\\nber.The 6,118 dwt Ning Hai Wan loaded a cargo from Huelva\\nfor discharge into Donges, France, on 29 September.italyFob cargo premiums to Mediterranean HSFO prices from Ital-\\nian export terminals were assessed unchanged at $15-20/t\\nwith greater availability being indicated by some market\\nparticipants as regional demand begins to slow down.Italian domestic demand remained buoyant, but prices\\nwere unchanged going into October, with market partici-\\npants anticipating activity and demand to remain steady at\\nstrong levels during much of the fourth quarter.Strong gains in fuel oil and crude values have been the\\nmain driver of upward revisions of domestic Italian values,\\nwith some market participants anticipating renewed bitu-\\nmen truck price hikes during October as refiners aim to keep\\npace with rising crude oil prices.Domestic truck prices were assessed unchanged in the\\nweek ending 1 October at €390-400/t ex-works, including\\nthe €31/t domestic duty on sales of road paving penetra-\\ntion grades, while truck export prices into southern France\\nas well as Switzerland were indicated around €365-375/t\\nex-works.The 6,165 dwt An Hai Wan loaded a cargo from Tarra-\\ngona, Spain, for discharge into Naples, while the 5,897 dwt\\nIver Action loaded a cargo from Augusta for discharge into\\nthe southern French port of Lavera by 2 October.GreeceGreek export cargo premiums to fob Mediterranean HSFO\\ncargoes were assessed unchanged at $15-20/t fob, with\\nmarket participants indicating offers within that range for\\nprompt loadings.Demand for Greek loading spot cargoes was however thin\\namid a general downturn in Mediterranean demand heading\\ninto the fourth quarter, while refiners were highly reluctant\\nto allow their spot cargoes to be sold at markedly lower val-\\nues than those agreed under their annual contractual deals\\nfor 2021 supplies.Domestic Greek truck prices gained significant ground,\\nrising €24/t, with ex-works offers from Hellenic Petroleum's\\nAspropyrgos and Thessaloniki refineries at €424/t and\\n€426/t ex-works respectively, while truck sales from Motor\\nOil Hellas' Agio Theodori refinery were indicated at €424/t\\nex-works. Trucks continued to be sent into the Romanian\\nmarket, with a Greek firm sending a further 30 trucks into\\nthe country from its storage tanks at Thessaloniki in antici-\\npation of pick up in Romania activity and demand by the end\\nof October as money begins to reach more constructors in a\\nrush to complete road projects before winter.The 4,999 dwt Sunpower loaded a cargo from Aspro-\\npyrgos for discharge into Mangalia on Romania’s Black Sea\\ncoast. The 37,000 dwt Asphalt Synergy loaded a cargo on 22\\nSeptember from Agio Theodori and was located near Gibral-\\ntar on 1 October, with no end destination as yet clear for\\nits cargo. The 6,065 dwt Fuji Lava was loading a cargo from\\nAspropyrgos on 30 September, having previously discharged\\na cargo into Nikolaev, Ukraine.turkeyDomestic prices in Turkey continued their recent run of\\nstrength with posted prices at Tupras' refineries surging\\nTL313-314/t to TL4,718/t ex-works Izmit and Izmir refineries\\nand to TL4,762/t ex-works Batman and Kirikkale refineries,\\nwith those values effective from 28 September.The rise in prices is in part a result of higher crude\\nvalues and a weakening Turkish Lira, but market participants\\nalso noted a slowdown in imports from Iraqi Kurdistan and\\nother Iraqi export points, with production lower in part\\nlinked to rising vacuum residue feedstock costs and specifi-\\ncation issues on some bitumen grades.Domestic Turkish demand was also picking up pace in\\na final rush to complete works by constructors before the\\nusual winter halt in activity from December.A second cargo from the Mideast Gulf is expected in the\\ncoming weeks into the Toros Gubre terminal at Ceyhan, with\\nas yet no clear indication of which tanker is to make that\\njourney or any firm shipment dates.Page 8 of 22Copyright © 2021 Argus Media group\\nLicensed to: Shi Jia Lim, Argus Media Limited (London)\",\n",
       " 8: \"Argus BitumenIssue 21-39 | Friday 1 October 2021SUB-SAHARAN AfRicA mARket commeNtARySummaryBitumen prices shot up across sub-Saharan Africa, with deliv-\\nered cargo and drummed import prices racing higher, as did\\ndomestic and export values for South African volumes.The demand picture was fairly buoyant in several south-\\nern and east African markets, while the rainy season was\\nstill keeping a lid on west African activity rates.West AfricaCargo prices for delivery into regional import terminals\\nsurged as a renewed spike in crude and high-sulphur fuel oil\\n(HSFO) prices drove up outright bitumen values.Spanish and Ivory Coast cargo premiums to fob Mediter-\\nranean HSFO cargoes were assessed unchanged at $20-25/t\\nand around $115/t fob respectively after recent declines and\\namid marked reluctance amongst major European refinery\\nsuppliers to export product at yet lower premiums than\\nunder their existing contractual arrangements for 2021 sales.Freight rate assessments for standard 5,000t spot cargo\\nmovements from Spanish to Nigerian ports stayed in the\\n$150-160/t range, but mounting downward pressures on\\ncross-Mediterranean rates could exert similar pressure on\\nwest Africa-bound and intra-regional freight rates over the\\ncoming weeks.West African construction activity and bitumen demand\\nlevels remained subdued as rainy season conditions saw no\\nsign of letting up. The greatest concentration of rainfall\\naffecting the southern and western parts of the region, prin-\\ncipally Nigeria, Cameroon, Ivory Coast and Ghana.The 45,974 dwt Bitu Express arrived at the 36,000t\\ncapacity Rubis deep-water terminal at Lome, Togo, on 26\\nSeptember with a large cargo loaded at the Agio Theodori\\nterminal in Greece. The volume helped bolster regionalTanzania, cfr Dar es Salaam drums$/tSub-Saharan Africa bitumen prices, 25 Sep-1 octstocks in readiness for the end of the rainy season and the\\nresumption of dry season road project requirements, ex-\\npected in Nigeria to begin from the end of October.The final destination of the tanker's sister ship — the\\n45,986 dwt Bitu Atlantic — was so far undisclosed after it\\nloaded at the Tarragona export terminal in Spain and headed\\nwest to pass Gibraltar on 1 October. The destination could\\nbe either the US or west Africa.The 9,776 dwt Viveka returned to the Lome terminal\\nafter making a two-port shipment from the Togolese location\\ninto Cape Town and Durban, South Africa.mauritania/mali/NigerInternational container shipping rates showed no sign of\\neasing after recent hefty gains, but Algerian firm Naftal,\\nSonatrach's marketing and supply unit, was at end of Sep-\\ntember loading a second 300t bitutainer consignment at its\\nArzew bitumen plant and terminal for shipment to Nouak-\\nchott, Mauritania.The Algerian firm had in July won a tender to supply\\n10,000t of bitumen to Mauritania, as well as another 3,000t\\nto Mali. While security fears in Mali mean no near term pros-Page 9 of 22Copyright © 2021 Argus Media group\\nLicensed to: Shi Jia Lim, Argus Media Limited (London)\",\n",
       " 9: \"Argus BitumenIssue 21-39 | Friday 1 October 2021SUB-SAHARAN AfRICA mARkEt CommENtARypect of any deliveries into that market, Naftal had sent its\\nfirst 300t bitutainer volume to Nouakchott for the Maurita-\\nnian market in late-August, also from Arzew. Naftal, which\\nis in the process of expanding its fleet of bitutainers build by\\nan Algerian firm, has also been supplying small-scale bitut-\\nainer volumes into Niger from its depots in southern Algeria.NigeriaNigerian bitumen stocks remained at high levels after a\\nnumber of cargo deliveries into its terminals during Septem-\\nber at a time of weak demand amid continued and intensive\\nrainy season conditions.The latest data released by the country's Petroleum\\nProducts Pricing Regulatory Agency (PPPRA) showed stocks\\nof the product stood on 30 September at 31,106,384 litres\\n(31,707t), down slightly from a peak of 31,906,036 litres\\n(32,523t) on 22 September but still 26pc up from the 1 Sep-\\ntember level of 24,729,625 litres (25,208t).The 5,076 dwt Jane Asphalt arrived at the Abidjan ter-\\nminal in Ivory Coast to load its next cargo for delivery into\\nGradient Energy's Warri terminal in Nigeria's Delta State.\\nAll previous cargo shipments on board the tanker into the\\nGradient terminal during 2021 have been made from Spanish\\nexport terminals at Huelva, Tarragona and Cadiz, as well as\\none February cargo movement from Augusta, Sicily.The 11,406 dwt Biskra was still located off Port Harcourt\\non 29 September, having arrived there on 23 September with\\nthe second of its two-port discharges, the first having been\\ninto Sapele.Ghana/Ivory Coast/CameroonThe prospect of an alternative Ghanaian bulk bitumen im-\\nporter was pushed back by a few months as local firm GOILWest Africa cargo cfr- Med HSFO fob cargoesdelayed its 6,00t bitumen terminal project in the Tema port\\narea.The $35mn project in a joint venture with Ivory Coast\\nbitumen producer SMB, also includes a 30t/hour capacity\\nstyrene-butadiene-styrene (SBS) polymer-modified bitumen\\n(PMB) plant as well as a 60t/hr emulsions unit. The proj-\\nect had been slated for end-September completion, but is\\nnow being targeted to be ready at the end of this year (see\\nnews).Virtually all of Ghana's bulk cargo imports are currently\\nmade into its Takoradi terminal, mainly from SMB's Abidjan\\nrefinery and terminal complex, with Shell and Total receiv-\\ning those volumes of AC-10 and AC-20 and selling them to\\nlocal truck buyers.The 4,900 dwt SMB time-chartered San Biagio moved a\\ncargo from the firm's Abidjan refinery and terminal com-\\nplex to Douala, Cameroon, arriving there on 29 September.\\nArmed guards on board was indicated by vessel tracking\\nservices, underlining the continued security risks associated\\nwith shipping movements in the Gulf of Guinea.East AfricaRegional import prices for both drummed and bulk bitumen\\nimports from the Mideast Gulf maintained their upward mo-\\nmentum amid gains in both fob and delivered prices.The sharpest gains affected the Iranian drummed export\\ntrade to east African ports, with Iranian exports assessed\\n$16/t up at $365-380/t fob Bandar Abbas, while freight rates\\nfrom Bandar Abbas to Mombasa, Kenya, and Dar es Salaam,\\nTanzania, were assessed $10/t up at $95-100/t amid relent-\\nless gains in container shipping costs caused by global short-\\nage in that sector.Market participants reported price indications into Kenya\\nat values anywhere from $460/t up to the $475-485/t cfr\\nMombasa range for direct shipments from Bandar Abbas and\\nas high as $650-660/t for indirect flows via Jebel Ali.Regional suppliers said Iranian state-owned IRISL and its\\nHDS affiliate had raised direct shipping rates from Bandar\\nAbbas to Mombasa and Dar es Salaam to $1,850-1,950 per\\ncontainer ($90-100/t), while some east Africa bound move-\\nments made indirectly by international container ship-\\nping lines were indicated as high as $5,000 per container\\n($250/t).Market participants named several such lines that were\\noffering little or no services on Mideast Gulf to east and\\nother sub-Saharan Africa routes.Assessed freight rates from Bandar Abbas to Djibouti\\nwere also $10/t firmer at $185-190/t given that the route canPage 10 of 22Copyright © 2021 Argus Media group\\nLicensed to: Shi Jia Lim, Argus Media Limited (London)\",\n",
       " 10: \"Argus BitumenIssue 21-39 | Friday 1 October 2021SUB-SAHARAN AfRicA mARket commeNtARyonly be served by international shipping lines moving moves\\nin directly via UAE ports, principally Jebel Ali.Iranian bulk cargo exports were assessed $10-11/t up at\\n$290-305/t fob Bandar Abbas, while Bahraini state-owned re-\\nfiner Bapco announced it would raise its listed cargo export\\nprice by $15/t to $440/t fob Sitra with effect from 2 October\\nin the wake of two sets of hikes over the past month.kenya/Uganda/South SudanRegional suppliers pointed to more busy rates of construc-\\ntion activity and bitumen requirements in Kenya, Uganda\\nand South Sudan.While supply of Iranian drummed bitumen remains tight\\namid container shipping and container shortages as well as\\nregular delays in such shipping movements, especially on Ira-\\nnian state-owned IRISL vessels, bulk cargo supply movements\\nhave helped to alleviate some of the availability issues in\\neast African markets.The 3,764 dwt R Ocean was set to deliver its bulk cargo\\ninto the Skytrade Global terminal in Mombasa after its\\nscheduled 10 October arrival with its cargo loaded in the\\nMideast Gulf, following the previous 30 August delivery\\non the same tanker. While nearly all the volumes in the\\nprevious shipment have already been delivered to local and\\nregional buyers, around half of the new shipment's volume\\nwas understood to have already been pre-sold by the week\\nending 1 October.Domestic drummed and bulk truck prices were expected\\nto face upward pressure because of the spike in delivered\\nvalues into Mombasa, Kenya. Bulk truck volumes were\\nindicated at Kenyan Shillings 71-73/kg ($642-660/t) ex-works\\nMombasa, while drummed sales were at KES73-74/kg ($660-\\n669/t) and expected to rise in early October to as high as\\nKES75/kg ($679/t).New: Quick access to price history and chartsDear Argus customer,\\nIf you have a subscription to the online Argus Direct\\nservice, you now have quick access to a view of price\\nhistory direct from this PDF.\\nClick on a price series value, and provided you are con-\\nnected to the internet, you will be taken directly to the\\nprice series on Argus Direct in your browser, where you\\ncan view and chart the history.\\nIn advanced PDF viewers, you can also hover over the\\nprice to see the underlying Argus PA code.Southern AfricaSouth African domestic and truck export prices jumped,\\nwith some of the export flows now indicated at around Rand\\n8,300/t ($550-560/t) ex-works.A steady stream of requirements was reported into Zam-\\nbia, Malawi and Botswana, with drummed flows also heading\\ninto Zimbabwe from neighbouring South Africa.South AfricaDomestic truck prices shot up as South African refiners dra-\\nmatically raised their prices to reflect large gains in crude\\nand other feedstock costs during September as well as a\\nweakening Rand against the US dollar.Gains of R700-800/t from some suppliers were reported\\nby market participants to have already taken effect from\\n1 October, with assessments rising R750/t to the R9,200-\\n9,600/t ex-works range.Rates of construction activity have been rising during the\\ncurrent peak season period that began on 1 September, with\\nbuoyant rates of project work reported in KwaZulu-Natal\\nand Eastern Cape provinces. Some of that work is con-\\nnected with construction of the multi-billion Rand Msikaba\\nand Mtentu bridges that will form part of the N2 Wild Coast\\nmega road project. Funding allocations for the next round\\nof South African National Roads Authority (Sanral) backed\\nprojects was awaited, with those projects most likely to\\nstart sometime in 2022.Page 11 of 22Copyright © 2021 Argus Media group\\nLicensed to: Shi Jia Lim, Argus Media Limited (London)\",\n",
       " 11: 'Argus BitumenIssue 21-39 | Friday 1 October 2021ASiA-PACifiC And MiddLe eASt MArket COMMentArySingaporeSingapore bitumen prices edged up another $5/t this week,\\nsupported by stronger deals and discussions among local\\nsellers and regional buyers.On a fob Singapore basis, a key trader sold about 15,000t\\nin total to Indonesian buyers at $410/t for November-loading.\\nSeveral deals for October loading were also concluded at\\nabout $405-410/t levels. Two more deals to be loaded in\\nend-October were also concluded into Vietnam on a cfr\\nbasis, with fob values at $405-410/t.Offers from refiners and local traders ranged at $415-\\n425/t for late-October/early-November loading cargoes that\\nmet bids or buying indications in the $405-410/t range.Supply from Singapore is expected to be more balanced\\nin October on the back of production loss from 2-3 key\\nrefiners. The persistent negative spread between bitumen\\nand high-sulphur fuel oil (HSFO) could be pushing refiners to\\nincentivise production of HSFO versus bitumen.Tank truck prices from Singapore have continued to rise\\nand were at $406-415/t ex-refinery. Demand in Malaysia has\\nbeen slowing again from the central region of Peninsular\\nMalaysia, following the recent pick-up.Prices of tank trucks from Singapore jumped to around\\n$415-430/t ex-refinery. Regional players have also noted that\\ntighter bitumen supply across Singapore and Malaysia has\\nresulted in higher prices for tank trucks. An offer into Johore\\nwas at around 1920 ringgit/t ($456/t) on a delivered basis.Domestic prices in Singapore were raised by $20.50/t to\\n$420-445/t ex-tank for October on the back of higher crude\\nvalues in the past month. Domestic demand is expected\\nto however remain flat against September, with manpower\\nlimitations and expected wet weather to hamper works.Singapore pen 60/70 and HSFO cargoesSingapore pen 60/70 waterborne$/tAsia bitumen prices, 25 Sep-1 OctPage 12 of 22Copyright © 2021 Argus Media group\\nLicensed to: Shi Jia Lim, Argus Media Limited (London)',\n",
       " 12: 'Argus BitumenIssue 21-39 | Friday 1 October 2021ASiA-PACifiC And Middle eASt MARket COMMentARyBitumen freight, 25 Sep-1 OctMalaysiaBitumen demand in Malaysia was stable-to-firm as most con-\\nstruction projects across the country continued to operate\\nat a steady pace.Demand from the Klang Valley continued to occupy a\\nlarge share of total volumes lifted, with bitumen demand\\nfrom ongoing projects and premix plants remaining firm over\\nthe past three weeks.The state-owned refiner increased its tank truck prices\\nto around 1,830-1,880 ringgit/t ex-Malacca ($437-449/t).\\nPrices from Port Klang rose similarly to around 1,870-1,900/t\\nex-Klang ($447-454/t). Delivered prices in the north have\\nalso edged up to around 1,870-1960 ringgit/t ($447-466/t) in\\nresponse an increase in listed prices from the state-owned\\nrefiner’s Prai facility.Several players have expressed that erratic rainfall\\nover several construction sites has affected the progress\\nof projects, but demand across Peninsula Malaysia in the\\ncoming months is expected to remain firm as most construc-\\ntion projects continue to edge towards completion by end\\nNovember.ThailandPrices on a fob basis were assessed at $395-405/t in line\\nwith the trend seen in Singapore.Page 13 of 22Copyright © 2021 Argus Media group\\nLicensed to: Shi Jia Lim, Argus Media Limited (London)',\n",
       " 13: 'Argus BitumenIssue 21-39 | Friday 1 October 2021ASiA-PAcific And MiddLe eASt MArket cOMMentAryA deal for a 2,000-3,000t cargo bound for central Viet-\\nnam, with a laycan period set in the first week of November,\\nwas at around $395-400/t fob.Regional traders have noted firmer buying indications\\nfrom Vietnamese buyers for end October and first half No-\\nvember-loading cargoes. Demand from Vietnam is expected\\nto pick up in November, as the seasonal monsoon ends.Domestic demand for bitumen was mostly muted. Floods\\nacross several regions in Thailand after tropical storm\\nDianmu has hit operations in multiple construction sites in\\nBangkok and other parts of central Thailand.Domestic prices rose to around $490-550/t ex-refinery in\\nresponse to higher crude prices. The higher cost of produc-\\ntion has necessitated an increase in its listed prices.indonesiaBitumen demand in Indonesia continued to strengthen as the\\ncountry approached its annual peak season for the bitumen\\nmarket. Demand from the islands of Sumatra, Kalimantan\\nand Sulawesi continued to be relatively firm on the back of\\nongoing projects.A deal for a 1,500t Singapore origin cargo bound for\\nKalimantan with a loading period set in first half October\\nwas at above $430/t cfr Kalimantan. A 3,000t 1H October\\nloading cargo bound for North Sulawesi was concluded at\\naround $440/t cfr. Another deal for a 3,000t lot for first half\\nOctober loading to South Sumatra was concluded at around\\n$440/t cfr. A deal by a Singapore-based trader totalling up to\\n15,000t to be loaded across November and first half Decem-\\nber was also done this week.Buying ideas were in the $395-410/t fob range for end\\nOctober and early November loading cargoes. Most regional\\nplayers have continued to indicate their preference forDelivered cargoes: North and South China$/tlifting from the state-owned refiner’s terminals in Cilacap\\nand Gresik as an alternative compared with higher-priced\\ncargoes from regional markets.VietnamMore deals and discussions surfaced in Vietnam as demand\\nfirmed with the easing of lockdown. Some roadworks were\\nalso hampered this week by the ongoing wet weather.An importer concluded two October loading cargoes from\\nnorth Asia at $440-445/t cfr, with one small volume loading\\nfor south Vietnam from Thailand and another 5,000t cargo to\\nnorth Vietnam.Two 3,000t cargoes from Singapore were concluded at\\n$440/t cfr south Vietnam and $455/t cfr north Vietnam. This\\ncould not be confirmed with the buyer. Freight costs were\\nestimated at $30-35/t to south Vietnam and $45-50/t to\\nnorth Vietnam.An offer for an end-October loading cargo at $440/t cfr\\nwas seen from a Singapore-based refiner, with the volume\\nand discharge ports yet to be fixed. The cargo was under-\\nstood to be part of a larger shipment heading towards the\\nnorth in end-October. Other offers into Vietnam for second-\\nhalf October volumes were ranging between $445-455/t cfr\\nfor cargoes of both southeast Asian and northeast Asia ori-\\ngins, with most buying ideas at $440-445/t cfr. Discussions\\nfor November volumes had yet to commence.South koreaPrices in South Korea were unchanged on the back of limited\\ndiscussions or trades concluded.Page 14 of 22Copyright © 2021 Argus Media group\\nLicensed to: Shi Jia Lim, Argus Media Limited (London)',\n",
       " 14: 'Argus BitumenIssue 21-39 | Friday 1 October 2021ASIA-PAcIfIc AnD MIDDlE EASt MARkEt coMMEntARyOn a fob South Korea basis, no sell tenders were award-\\ned. But a key refiner is expected to open a sell tender for\\nits November loading cargoes in the coming weeks. Demand\\nfrom China remains weak and is anticipated to remain a\\nbearish factor for the Korean sellers.Meanwhile, some key refineries are continuing to produce\\nless bitumen on the back of strong HSFO economics. The\\nreduced physical volumes of bitumen has helped to balance\\nthe overall supply availability for October.Domestic prices in South Korea were raised by $51/t for\\nOctober, as recent firmness in crude values lent to higher\\ndomestic selling prices. Demand outlook for October remains\\nslightly mixed, with local players wary of the recent spike\\nin Covid-19 cases following the Thanksgiving festival holiday\\nrecently.In Japan, domestic prices were raised by ¥1,000/t to\\n¥63,513-71,619/t ex-tank. Demand in September has been\\nmostly stable against the previous month. More roadworks\\nare expected to commence in October, though some proj-\\nects might slow down with the upcoming general elections\\nin November. Some sellers were anticipating slightly tighter\\nsupply in October, with one refiner’s terminal in Yokohama\\nundergoing maintenance. This could not be confirmed.taiwanIn line with regional price movements, export prices from\\nTaiwan were assessed $2.50/t higher to $400-405/t fob\\nTaiwan.Volumes from the private refiner remain limited, with\\nno indications given on production levels for November and\\nDecember.Reduced volumes have also prompted buyers to seek\\nalternative cargoes of other origins.\\nDomestic prices from the state-owned refiner were un-\\nchanged at NT17,000/t ex-tank.chinaLimited negotiations were seen in China with the country\\nheading into the week-long break for Golden Week celebra-\\ntions from 1-7 October.A key state-owned refiner raised its domestic listed\\nprices by 20-70 yuan/t for key refineries in east China and\\nby 50 yuan/t for refineries in the south. The upward revi-\\nsions were seen as mostly in line with the firmness in global\\ncrude prices, with domestic demand expected to improve\\npost-Golden Week. Another smaller state-owned refiner\\nalso raised listed prices by 230 yuan/t at its terminal in the\\nsouthwest.Ongoing power shortages in parts of China had limited\\nimpact on production. Some refineries in areas affected by\\npower shortages may have slowed the rate of production,\\nbut supply levels were mostly unaffected.A state-owned refinery in Shandong also resumed opera-\\ntions on 25 September after a planned turnaround. Two\\nrefineries in the east and in the south are due to undergo a\\nmonth-long maintenance from October. Overall supply levels\\nare expected to remain ample with the refiner planning to\\nraise overall bitumen production by about 50,000-100,000t\\nin October. The planned increment comes on the back of re-\\nduced petroleum coke production which has been curtailed\\ndue to carbon emission reduction plans.Few discussions for imported cargoes were seen withPage 15 of 22Copyright © 2021 Argus Media group\\nLicensed to: Shi Jia Lim, Argus Media Limited (London)',\n",
       " 15: 'Argus BitumenIssue 21-39 | Friday 1 October 2021AsIA-PAcIfIc ANd MIddle eAst MArket coMMeNtArymost buyers preferring to delay negotiations until after 8\\nOctober. In east China, an offer for an October-loading South\\nKorean cargo was at 3,250 yuan/t. About 7,000t of October-\\nloading cargo from South Korea were also concluded at\\n3,300-3,350 yuan/t to east China. This could not be con-\\nfirmed. Another importer concluded a very prompt 5,000\\nSouth Korean cargo which loaded this week at $424/t cfr\\neast China.In south China, no firm discussions for imports were\\nseen amid scant buying interest. An offer for November and\\nDecember-loading cargoes from a Singapore-based refiner\\nwas made at $460/t cfr south China.Higher freight rates were quoted for cargoes from South\\nKorea to east China, with ship owners having to contend\\nwith higher demurrage fees due to ongoing port congestion,\\nparticularly along the Yangtze River. Freight rates were at\\n$38-45/t for 5,000t cargoes, though few to no buyers were\\nwilling to take the higher offers.Australia & New ZealandIn the state of Victoria, the ongoing construction sector\\nshutdown in Melbourne and other areas will be lifted from 5\\nOctober, with stringent Covid-19 measures in place. One sell-\\ner estimated a reduction of around 50pc of sales this week\\ndue to the shutdown, with some slowdown also attributed\\nto the wet weather. Overall demand is expected to pick up\\ngradually in October and firm further in November.Discussions were ongoing for November-loading cargoes,\\nwith indicative offers at higher than current fob Singapore\\nlevels. One importer also concluded a 7,000t cargo from\\nsoutheast Asia for loading mid-November on a formula basis.In New Zealand, demand from Auckland is expected to\\nreach similar levels to the rest of the country gradually, with\\nroadworks picking up despite the city remaining under the\\nstricter “level 3” Covid-19 measures. Ullage levels remain\\nmanageable with importers citing no need to delay or divert\\nincoming cargoes.IndiaIn the Indian market, demand is slowly returning as the\\nmonsoon is nearing its end. Roadworks are picking up slowly\\nin parts of the country with the monsoon expected to end in\\nanother 10 days time.Buying of bulk and drummed parcels from Iran picked up\\nthis week but port inventories remain on the high side, thus\\ndeterring a firm upturn. Local refiners also raised prices for\\nbulk by 1,600 Indian rupees/t and for drummed cargoes by\\n2,600 Indian rupees/t from 1 October.Iranian Vacuum Bottom prices from NIoc*, 25-30 sep* Exclusive of the 9pc tax for domestic sales and 14pc duty for export salesIranian domestic sales through the IMe, 25-30 sepBahrainBahrain’s state-owned refiner will be increasing its bitumen\\nlisted prices by $15/t with effect from 2 October on the back\\nof the recent hikes in crude and fuel oil prices. This price\\nhike will see listed prices increase to $440/t fob Sitra.This is the third time in a month where the refiner has\\nannounced a price increase.IranThe Iranian market firmed supported by higher VB feed\\nprices and improved demand. The exchange rate fluctuated\\nin the 233,000-273,000 rials range on the local platforms.\\nBulk prices were assessed at $290-305/t fob Bandar Abbas.\\nBulk cargoes from Bandar Imam Khomeini port were offered\\nat $285-290/t fob.A 5,000t VG40 bulk lot was sold at $292/t fob Bandar\\nAbbas to India for prompt delivery. A 4,000t bulk cargo was\\nsold at $287/t to India. A 6,000t vessel size cargo was sold\\nat $290/t to India for prompt delivery. A total 9,000t of bulk\\ncargoes were loaded based on previous contracts at $285/t\\nfob.Demand remained firm for bulk to Pakistan with at\\nleast 10,000t sold at 81,000-82,000 rials/kg (about $300/t)\\nex-Esfahan, up 3,000 rials/kg week-on-week. Demand from\\nAfghanistan remained subdued.Demand for drums was boosted in the past week and\\nprices were assessed at $365-375/t on different payment\\nterms. Buying interest for drums from India increased asPage 16 of 22Copyright © 2021 Argus Media group\\nLicensed to: Shi Jia Lim, Argus Media Limited (London)',\n",
       " 16: 'Argus BitumenIssue 21-39 | Friday 1 October 2021AsiA-PAcific And Middle eAst MArket coMMentArydemand is slowly firming, amid thin supply of Iraqi drums.\\nA producer sold 10,000t in drums at $365-367/t to Sri Lanka\\nand India. A total 10,000t of pen 60/70 in drums traded at\\n$365-367/t to Bangladesh, Sri Lanka and India on cash pay-\\nment basis.Total 2,000t were sold at $375/t for October laycan to\\neast Africa. A 5,000t Jey-embossed cargo sold at $373-376/t\\nfob, while several small cargoes were sold at $365-370/t to\\nTanzania, Sri Lanka, India, Bangladesh and the UAE. A total\\n5,000t in drums sold at $415-420/t cfr Turkmenistan for\\nprompt delivery, with freight and logistic charges estimated\\nat $65/t.Private shipping companies imposed a new General Rate\\nIncrease (GRI) for transshipment cargoes from Jebel Ali at\\nan average $100/container ($5/t) from 26 September. In ad-\\ndition to this, direct shipments from Iran to Kenya rose from\\n$1,550/container to $1,850/container from this week,while\\nno container was available by IRISL for exporters.Jumbo bag prices remained stable at $350-360/t, but\\ndemand was thin due to the low gap with drum cargoes.\\nIraqi bitumen supply has weakened over the past month and\\na major producer was offered drum cargoes at $355-360/t,\\nwhile a 10,000t drum cargo was sold at $335-340/t early\\nthis week to Myanmar and India. Market players said Iraqi\\nvacuum residue (VR) feed price rose sharply and availability\\nof VR in north Iraq fell sharply and several bitumen produc-\\ners in Kurdistan region has halted production.On the IME, prices moved up as competition rose be-\\ntween buyers. Jey Oil sold 8,000t of pen 60/70 in bulk at\\n86,206 rials/kg ($316/t) ex-Bandar Abbas, up by $10/t. Jey\\nOil also sold 7,000t at 80,350 rials/kg ($294/t)ex-Esfahan, up\\naround 3,900 rials/kg week-on-week and 10,000t in drums\\nwere sold at 93,009-97,666 rials/kg ($341-358/t) ex–Esfahan.Pasargad Oil increased prices to around 4,050 rials/\\nkg ($14/t) and sold 5,000t bulk on 81,700 rials/kg ($300/t)\\nex-Bandar Abbas. Another 2,000t in bulk was sold at 76,961\\nrials/kg ex-Arak refinery, while 10,000t bulk of pen 60/70\\nsold at 76,950 rials/kg ($283/t) ex-Abadan.iran local marketVB feed prices continued on an upward trend as the Oil Re-\\nfining Industry Association (Orica) revised VB feed prices on\\n25 September. VB feed prices from Bandar Abbas and Shiraz\\nRefineries were announced at 75,244 rials/kg, up by 4,970\\nrials/kg ($18/t) and from other refineries at 71,661 rials/kg,\\nup by 4,733 rials/kg ($17.5/t).But buying interest was healthy due to lowered VB sup-ply by refineries and expectations of further rise in prices\\nin the coming revision, led by hikes in crude and HSFO\\nprices. About 202,000t demand registered for VB feed, while\\n103,000t was sold by refineries on IME this week.Bandar Abbas refinery announced a planned maintenance\\nfor a month from mid-October. VB feed supply from Bandar\\nAbbas refinery is likely to drop by 50pc from this week until\\nthe end of November. Bandar Abbas Refinery offered 20,000t\\nof VB feed at 75,244 rials/kg and 71,000t demand was regis-\\ntered. They finally sold 20,000t at an average of 78,919 rials/\\nkg.Tehran Refinery may also undergo maintenance from\\nmid-October and likely will reduce VB feed supply too.\\nTehran Refinery sold 20,000t of VB feed at 75,421 rial/kg, up\\nby 4,000 rials/kg ($14.50/t). Esfahan Refinery sold 10,000t\\nat 75,004 rials/kg, up by 4,000 rials/kg ($14.50/t). Tabriz\\nRefinery sold 8,000t at 71,616 rials/kg, up by 3,100 rials/kg.\\nAbadan Refinery sold 20,000t at 71,661-74,999 rials/kg. Arak\\nRefinery sold 25,000t at 74,570 rials/kg, up by about 6,000\\nrials/kg. Shiraz Refinery sold 10,000t at 75,244 rials/kg, up\\nby about 3,000 rials/kg.Bitumen prices rose in the domestic market, following a\\nsurge in VB feed prices and producers sold 4,308t of differ-\\nent products at 74,000-110,000 rials/kg on IME.Proposal to change waterborne fob singa-\\npore assessmentArgus proposes to change the laycan timing of its\\nwaterborne fob Singapore assessment from the current\\n30-40 days forward to 15-40 days forward from the date\\nof publication. Argus also proposes to change the cur-\\nrent cargo sizes in the fobB Singapore assessment from\\n3,000-5,000t to 3,000-7,000t.Argus will accept comments on this proposed change\\nuntil 20 October 2021. To discuss this proposal, please\\ncontact the Asia Bitumen editor, Mahua Chakravarty, at\\nmahua.chakravarty@argusmedia.com or by phone on +65\\n6496 9935. Formal comments should be marked as such\\nand may be submitted by email to mahua.chakravarty@\\nargusmedia.com or by post to Mahua Chakravarty, Argus\\nMedia, 50 Raffles Place, #10-01 Singapore Land Tower,\\nSingapore 048623, and received by 20 October 2021.\\nPlease note that formal comments will be published\\nafter the consultation period unless confidentiality is\\nspecifically requested.Page 17 of 22Copyright © 2021 Argus Media group\\nLicensed to: Shi Jia Lim, Argus Media Limited (London)',\n",
       " 17: 'Argus BitumenIssue 21-39 | Friday 1 October 2021VEssEL TrACking inDiCATiOnsCopyright © 2021 Argus Media group\\nLicensed to: Shi Jia Lim, Argus Media Limited (London)Page 18 of 22',\n",
       " 18: \"Argus BitumenIssue 21-39 | Friday 1 October 2021NewsNarrow margins pressure Iran's bitumenIranian bitumen production fell by an estimated 22pc during\\nMarch-August, faced by the double whammy of higher costs\\nof production and weak demand from key markets.Iran's VB feed sales volume fell by about 22pc from\\n2.962mn t to 2.314mn t between 22 March and 22 August\\n2021 compared with the same period last year. As a result,\\nbitumen production also fell by at least about 22pc during\\nthe same period.Meanwhile, bitumen sellers have seen weak demand in\\ndomestic as well as regional markets. Producers have also\\nseen an increasing squeeze on margins on the rising cost of\\nVB feed prices. This, coupled with stronger high-sulphur fuel\\noil (HSFO) economics, has resulted in higher production of\\nfuel oil and has reduced export volumes.“We reduced trading activities for bitumen as there is\\nno profit margin, and have switched to other products,” said\\nseveral local traders.“As a producer, we have faced losses over the past\\nmonths and were forced to sell our cargoes only to pay our\\ndebts from purchasing VB feed that was bought earlier,” said\\nseveral producers.As a result, the number of companies trading or selling\\nbitumen within Iran has fallen over the past few months.A gap was seen in buy-sell expectations as higher offers\\nbased on higher costs of production were rejected by buy-\\ners from key markets. This was further underpinned by the\\nimpact of Covid-19, which resulted in issues with government\\nfunds and slowed paving activities in recent months.“We purchased VB feed at 70,274 rials/kg [$285/t] and\\nproduced bitumen at $315/t fob, including storage and VAT\\ncosts, but we have sold without any profit,” said industry\\nparticipants. The government did not give a tax rebate toSingapore and Rayong waterborneSingapore pen 60/70 waterborne\\nThailand pen 60/70 waterborne$/tmany exporters in the past two years and imposed a bitu-\\nmen export tax from March 2021 onwards.VB feed supply fell by 21pc from 3.24mn t to 2.56mn t\\nbetween 22 March and 22 August this year. This was sup-\\nported by a possible move by Iranian refineries to increase\\nfuel oil production because of higher demand, in contrast to\\nweak demand from bitumen producers.On the other hand, Iran's bitumen exports in August slid\\nby 32pc compared with a month earlier and was 48pc lower\\nyear-on-year amid low demand from Asian markets. Exports\\nfell to about 221,730t in August, down from 326,000t sold\\nin July. Meanwhile Iran’s export sales stood at 431,000t in\\nAugust 2020, according to data from the Iran Mercantile\\nExchange.Vietnam’s bitumen demand to riseBitumen demand from Vietnam looks set to increase in the\\nnext few years, supported by an ambitious road develop-\\nment plan that seeks to construct over 5,000km of express-\\nways between 2021-2030.The Road Network Development Plan which was unveiled\\nthis month seeks to develop over 5,000km of expressways in\\nthe country by 2030, up from 3,841km in 2021.Key areas for expressway development include exten-\\nsions to the ongoing North-South Expressway project, as well\\nas the 14 expressways in the north, which alone would total\\nabout 2,305km. It also includes 10 expressways making up\\naround 1,431km in the central and central highlands region,\\nand another 10 expressways totalling around 1,290km in the\\nsouth.On top of the new additions to the expressways, there\\nare also plans for 172 national highway routes totallingArgus successfully completes annual Iosco\\nassurance reviewArgus has completed the ninth external assurance\\nreview of its price benchmarks covering crude oil,\\nproducts, LPG, petrochemicals, biofuels, thermal coal,\\ncoking coal, iron ore, steel, natural gas and biomass\\nbenchmarks. The review was carried out by profes-\\nsional services firm PwC. Annual independent, external\\nreviews of oil benchmarks are required by international\\nregulatory group Iosco’s Principles for Oil Price Report-\\ning Agencies, and Iosco encourages extension of the re-\\nviews to non-oil benchmarks. For more information and\\nto download the review visit our website https://www.\\nargusmedia.com/en/about-us/governance-compliancePage 19 of 22Copyright © 2021 Argus Media group\\nLicensed to: Shi Jia Lim, Argus Media Limited (London)\",\n",
       " 19: \"Argus BitumenIssue 21-39 | Friday 1 October 2021News29,795km by 2030, and 3,034km of coastal roads spanning 28\\ncities and provinces.The road development plan is one of the five master\\nblueprints for the country’s transport sector, which include\\nplans for high-speed rail routes, sea ports and new inter-\\nnational airports to be constructed between this year and\\n2030. The investment capital for the plan is estimated to be\\nabout 900,000bn dong ($39.6bn), according to a draft issued\\nby Vietnam’s Ministry of Transport. The bulk of the project\\nfunding is expected to come from public-private partnership\\n(PPP) investment.The Vietnamese government had in January this yearArgus Consulting\\nServicesProviding clients with:• Business strategy support• Access to the local and global energy\\ncommodity market• Customized market analysis• Supply and demand, trade and price forecasts\\n• TrainingClick here to find out more »unveiled a new PPP framework to support the country’s\\ndevelopment plans, where investors of projects in transpor-\\ntation, healthcare, education, power transmission and water\\nsectors can receive benefits such as tax reductions or credit\\nsupport, among others.Vietnam does not produce bitumen, which is used in\\nroad construction. The country imported close to 890,000t\\nof bitumen in 2020, the highest in the last five years. New\\nroad construction projects are expected to continue as the\\ngovernment pushes for infrastructure development in tan-\\ndem with economic goals, and has positioned Vietnam as an\\nattractive business hub.The road development plan is also aligned with Vietnam’s\\n11th Socio-Economic Development Plan (SEDP), which covers\\nthe period of 2021-2025 and includes the goal of achieving\\nan average Gross Domestic Product (GDP) of 6.5-7pc in the\\nnext five years.Ghana's new bitumen terminal delayedGhanaian state-owned oil and gas marketing firm Goil has\\npushed back the completion date for a new $35mn bitumen\\nterminal and conversion project at the port of Tema to the\\nend of this year.The 6,000t terminal — which will supply imported AC-10\\nand AC-20 bitumen performance grades to newly built poly-\\nmer-modified bitumen (PMB) and bitumen emulsions plants\\n— had been slated for completion by the end of this month.\\nCovid-related issues are understood to be partly responsible\\nfor the delay.Goil's joint venture partner in the project is Ivory Coast\\nbitumen producer and exporter SMB, which has 300,000 t/yr\\nof bitumen production capacity at its Abidjan refinery. The\\nproject was announced in 2017 and construction work began\\ntwo years later. It is now 94pc complete.Once operations start, bitumen imports into Tema will be\\nfed to the terminal by a 3km pipeline, which will be electri-\\ncally heated to keep the road paving product liquid before it\\nis discharged into Goil's newly built storage tanks.The imported bitumen will then feed into the styrene-\\nbutadiene-styrene PMB plant, which will have the capacity\\nto produce 30 t/hour. Some local market participants expect\\nincreased use of PMB in major road and highway projects in\\nGhana over the coming years.One domestic construction sector player said its use had\\nyet to be pursued aggressively by the country's highways au-\\nthorities. The bitumen emulsions plant will have a capacity\\nof 60 t/hr. Bitumen emulsions are already in much wider use\\nin Ghana than PMB.Page 20 of 22Copyright © 2021 Argus Media group\\nLicensed to: Shi Jia Lim, Argus Media Limited (London)\",\n",
       " 20: \"Argus BitumenIssue 21-39 | Friday 1 October 2021NewsGermany's Schwedt refinery completes restartGerman refinery consortium PCK has completed the restart\\nof its 208,000 b/d Schwedt refinery in north eastern Ger-\\nmany.The plant is ramping up production in order to reach a\\n80-100pc utilisation rate. Repair works on a high conversion\\nsoaker cracking (HSC) unit will last until mid-October, ac-\\ncording to one of the refinery's shareholders.The PCK consortium comprises Russia's state-controlled\\nRosneft, Shell and Italian energy firm Eni.The facility was shut down by a regional electricity\\nfailure on 8 September. PCK began restart operations on the\\nsame day, but warned at the time that the process would\\ntake several days.Bahrain's Bapco raises bitumen prices by $15/tBahrain’s state-owned refiner Bapco will increase its bitu-\\nmen listed prices by $15/t from 2 October on the back of\\nhigher crude and fuel oil prices.This price hike will see listed prices increase to $440/t\\nfob Sitra. This is the third time in a month Bapco has an-\\nnounced a price increase. It raised listed prices by $20/t\\non two occasions, first on 11 September and again on 19\\nSeptember.Hikes in high-sulphur fuel oil (HSFO) prices have prompt-\\ned regional refiners to switch to producing HSFO over bitu-\\nmen.Romania's Midia refinery back to 'optimal'Repairs at Romania's 100,000 b/d Midia refinery, in Navodari\\non the Black Sea coast, have been largely completed, with\\noperations scheduled to return to “optimal” levels by the\\nend of October, Kazakh-owned operator Rompetrol Rafinare\\nsaid.The Effects of Coronavirus on MarketsView the Argus hub page >>>The refinery had been offline since early-July because of\\na fire, which killed three people and injured two others.Rompetrol Rafinare is performing the last technical\\nchecks to resume production and Midia's installations will be\\nrestarted in stages. The operator of the refinery said that\\nit is currently in the phase of starting up petrol and diesel\\nproduction units.Midia was previously expected to start on 20-24 Septem-\\nber. The plant already supplied some raw material to Rom-\\npetrol Rafinare's Vega bitumen plant in Ploiesti last week,\\nsuggesting some units were operating, but the operator\\ndeclined to say whether the restarting process began then.Midia's diesel hydrotreatment unit, where the fire broke\\nout in July, has been “technologically isolated” and its re-\\npairs and restart is scheduled for 2022, the company said.The fire also affected the kerosene hydrotreater and\\ncatalytic reformer units, along with nearby pipes connected\\nto the naphtha hydrotreater and saturated gases units, the\\ncompany said last month.BTK’s bitumen terminal to be upgradedBunkering company Baltic Fuel (BTK) has secured Rbs1bn\\n($14mn) of financing for a two-phase project to increase\\nbitumen loadings at its Turukhtannye Ostrova terminal at St\\nPetersburg port.BTK subsidiary Kontur reached a six-year loan agreement\\nwith St Petersburg Bank for the project, which aims to add\\n43,800m³ of storage and increase loading capacity for bitu-\\nmen and vacuum residue — a feedstock for bitumen produc-\\ntion — as well as providing facilities to manufacture polymer-\\nmodified bitumen. Turukhtannye Ostrova has capacity to\\nhandle about 1.8mn t/yr of products, mainly fuel oil and\\ngasoil, and more than 80,000m³ of tank-farm space — aroundNorth Sea Dated diff Maya$/blPage 21 of 22Copyright © 2021 Argus Media group\\nLicensed to: Shi Jia Lim, Argus Media Limited (London)\",\n",
       " 21: 'Argus BitumenIssue 21-39 | Friday 1 October 2021NEWS500,000 t/yr of terminal capacity is dedicated to bunkering\\noperations. Turukhtannye Ostrova began loading bitumen\\nin September last year — it shipped 64,000t in January-July\\nand 20,300t in the final four months of 2020. The product\\nloads in 4,000-6,000t cargoes at berth SV-15. Trading firm\\nVitol buys all bitumen shipped from Turukhtannye Ostrova.Argus Bitumen is published by Argus Media groupRegistered office\\nLacon House, 84 Theobald’s Road,\\nLondon, WC1X 8NL\\nTel: +44 20 7780 4200\\nemail: sales@argusmedia.comISSN: 2057-6749Copyright noticeCopyright © 2021 Argus Media group\\nAll rights reserved\\nAll intellectual property rights in this publica-\\ntion and the information published herein are the\\nexclusive property of Argus and/or its licensors\\n(including exchanges) and may only be used under\\nlicence from Argus. Without limiting the foregoing,\\nby accessing this publication you agree that you will\\nnot copy or reproduce or use any part of its contents\\n(including, but not limited to, single prices or any\\nother individual items of data) in any form or for\\nany purpose whatsoever except under valid licence\\nfrom Argus. Further, your access to and use of data\\nfrom exchanges may be subject to additional fees\\nand/or execution of a separate agreement, whether\\ndirectly with the exchanges or through Argus.Trademark noticeARGUS, the ARGUS logo, ARGUS MEDIA, INTEGER,\\nARGUS BITUMEN , other ARGUS publication titles\\nand ARGUS index names are trademarks of Argus\\nMedia Limited.\\nVisit www.argusmedia.com/Ft/trademarks for\\nmore information.DisclaimerThe data and other information published herein\\n(the “Data”) are provided on an “as is” basis.\\nArgus and its licensors (including exchanges)\\nmake no warranties, express or implied, as to the\\naccuracy, adequacy, timeliness, or completeness\\nof the Data or fitness for any particular purpose.\\nArgus and its licensors (including exchanges) shall\\nnot be liable for any loss, claims or damage arising\\nfrom any party’s reliance on the Data and disclaim\\nany and all liability related to or arising out of use\\nof the Data to the full extent permissible by law.All personal contact information is held and used\\nin accordance with Argus Media’s Privacy Policy\\nhttps://www.argusmedia.com/en/privacy-policyPetroleumilluminating the markets .Publisher\\nAdrian BinksChief operating officer\\nMatthew BurkleyGlobal compliance officer\\nJeffrey AmosCustomer support and sales:\\nsupport@argusmedia.com\\nsales@argusmedia.comChief commercial officer\\nJo LoudiadisPresident, Oil\\nEuan CraikGlobal SVP editorial\\nNeil FlemingEditor in chief\\nJim WasherManaging editor\\nAndrew BonningtonLondon, Tel: +44 20 7780 4200\\nBeijing, Tel: +86 10 6598 2000\\nDubai, Tel: +971 4434 5112\\nHamburg, Tel: +49 48 22 378 22-0\\nHouston, Tel: +1 713 968 0000\\nKyiv, Tel: +38 (044) 298 18 08\\nMoscow, Tel: +7 495 933 7571\\nMumbai, Tel: +91 22 4174 9900\\nNew York, Tel: +1 646 376 6130\\nParis, Tel: +33 1 53 05 57 58\\nSan Francisco, Tel: +1 415 829 4591\\nSao Paulo, Tel: +55 11 3235 2700\\nShanghai, Tel: +86 21 6377 0159\\nSingapore, Tel: +65 6496 9966\\nTokyo, Tel: +81 3 3561 1805\\nWashington, DC, Tel: +1 202 775 0240Editor\\nJonathan Weston\\nTel: +44 20 7199 5779\\nbitumen@argusmedia.comLicensed to: Shi Jia Lim, Argus Media Limited (London)'}"
      ]
     },
     "execution_count": 34,
     "metadata": {},
     "output_type": "execute_result"
    }
   ],
   "source": [
    "state_out = extract_page_text(state)\n",
    "state.update(state_out)\n",
    "state[\"texts\"]"
   ]
  },
  {
   "cell_type": "code",
   "execution_count": 35,
   "metadata": {},
   "outputs": [],
   "source": [
    "from langchain_core.prompts import PromptTemplate\n",
    "from langchain_openai import ChatOpenAI\n",
    "from langchain.chains.combine_documents import (\n",
    "    create_stuff_documents_chain,\n",
    ")\n",
    "from langchain_core.documents import Document\n",
    "\n",
    "# 요약을 위한 프롬프트 템플릿을 정의합니다.\n",
    "prompt = PromptTemplate.from_template(\n",
    "    \"\"\"Please summarize the sentence according to the following REQUEST.\n",
    "    \n",
    "REQUEST:\n",
    "1. Summarize the main points in bullet points.\n",
    "2. Write the summary in same language as the context.\n",
    "3. DO NOT translate any technical terms.\n",
    "4. DO NOT include any unnecessary information.\n",
    "5. Summary must include important entities, numerical values.\n",
    "\n",
    "CONTEXT:\n",
    "{context}\n",
    "\n",
    "SUMMARY:\"\n",
    "\"\"\"\n",
    ")\n",
    "\n",
    "# ChatOpenAI 모델의 또 다른 인스턴스를 생성합니다. (이전 인스턴스와 동일한 설정)\n",
    "llm = ChatOpenAI(\n",
    "    model_name=\"gpt-4o-mini\",\n",
    "    temperature=0,\n",
    ")\n",
    "\n",
    "# 문서 요약을 위한 체인을 생성합니다.\n",
    "# 이 체인은 여러 문서를 입력받아 하나의 요약된 텍스트로 결합합니다.\n",
    "text_summary_chain = create_stuff_documents_chain(llm, prompt)"
   ]
  },
  {
   "cell_type": "code",
   "execution_count": 36,
   "metadata": {},
   "outputs": [
    {
     "data": {
      "text/plain": [
       "{0: \"- Bitumen cargo values increased in Europe and Asia-Pacific due to rising crude and fuel oil prices.\\n- Domestic truck prices in Europe mostly strengthened at the start of October.\\n- Cargo premiums to high-sulphur fuel oil (HSFO) in Rotterdam and the Baltics decreased by $2-3/t, but outright values continued to rise.\\n- Mediterranean premium values remained steady amid rising outright values and slowing demand.\\n- The Asia-Pacific bitumen market remained firm despite a slowdown expected during China's Golden Week holidays.\\n- Crude and HSFO prices in Asia-Pacific led refiners to consider price hikes or production cuts.\\n- Supply for October was balanced in key export locations like Singapore and South Korea due to lower bitumen production.\\n- Demand is anticipated to improve from Vietnam, Australia, China, and India due to seasonal factors and easing pandemic restrictions.\\n- Bitumen prices surged in sub-Saharan Africa, with higher delivered cargo and drummed import prices, as well as increased domestic and export values in South Africa.\",\n",
       " 1: '- Spanish export cargoes were sent to North African markets and Western Europe.\\n- Activity was generally slowing across the Mediterranean.\\n- The 6,118 dwt Ning Hai Wan loaded cargo from Huelva, Spain, for Donges, France, on 29 September.\\n- The 5,897 dwt Iver Accord loaded cargo from La Coruña, Spain, for Blaye, France, by 2 October.\\n- The 6,180 dwt Iver Balance loaded cargo from Cadiz, Spain, for Oran, Algeria, on 30 September.\\n- The 7,066 dwt Herbania loaded cargo from Huelva for Ghazaouet, Algeria, by 29 September.\\n- The 6,586 dwt Iver Bitumen loaded cargo from Huelva into Tenerife, Canary Islands, on 1 October.',\n",
       " 2: '- Domestic truck prices increased in several markets due to October supply revisions.\\n- German domestic prices rose by €10/t; Benelux, UK, and France saw gains of €20/t, £20/t, and €20-25/t respectively.\\n- Not all monthly deals were confirmed by 1 October; further details expected on 4 October.\\n- Czech domestic and export prices strengthened due to tight refinery supply, despite overall plentiful availability in central and southeast Europe.\\n- High-sulphur fuel oil (HSFO) price increases in late September raised bitumen values, but early winter signs led to a modest $2-3/t decrease in Rotterdam and Baltic cargo export premiums, assessed at $25-30/t and around $20/t fob respectively.\\n- Cross regional freight rates for 5,000t cargoes showed slight declines: £22-24/t from Rotterdam, £29-31/t from Hamburg, £47-49/t from Klaipeda, and £39-43/t from La Coruna.\\n- UK domestic truck prices were assessed £20/t higher at £380-390/t ex-works and £395-405/t delivered after October price hikes.',\n",
       " 3: '- **Market Overview**: Strong construction activity and bitumen demand in North and Central Europe during September; healthy order books for October and November.\\n- **UK Bitumen Market**: \\n  - Bitumen availability high due to steady cargo imports.\\n  - Cargoes delivered to Thames terminals: $495-500/t (£365-370/t).\\n  - Domestic consumption in July: 156,000t (down 6,000t YoY).\\n  - May to July consumption: 485,000t (up 59,000t YoY).\\n  - Year-to-date (Jan-Jul) consumption: 1.05mn t (up from 817,000t last year).\\n- **France**: \\n  - Domestic prices increased by €20-25/t for October.\\n  - Northern and central France prices: €475-485/t; Southern France: €445-455/t.\\n  - Petroineos refinery maintenance affecting supply until early November.\\n  - Price hikes sought by suppliers: €30-40/t, with one case at €60/t.\\n- **Germany**: \\n  - Domestic truck market saw modest price gains from 1 October.\\n  - July bitumen deliveries: 211,102t (down 17,000t YoY).\\n  - Year-to-date deliveries: 1.02mn t (down 4.4% YoY).\\n  - Total refinery production in July: 451,969t (up 82,359t YoY).\\n  - Domestic prices: €385-395/t (north), €350-360/t (northeast), €365-380/t (southwest).\\n- **Benelux**: \\n  - Domestic truck prices: $420-435/t ex-works (up €20/t).\\n  - Ongoing negotiations in Belgium for price hikes up to €40/t.\\n- **Poland/Czech Republic**: Significant Polish demand noted in the last week of September.',\n",
       " 4: \"- Better weather in North and Central Europe is boosting construction work.\\n- Ex-works prices in Poland for October supplies rose due to crude gains, with domestic prices reaching €385/t, an increase of €15-20/t.\\n- Polish bitumen truck exports to Germany assessed at €345-355/t, up €5/t.\\n- Czech domestic prices increased to €375-385/t, with exports to Germany also at €345-355/t, up €5/t.\\n- Romanian domestic prices remain at €410-420/t, with imports from Poland unchanged at €350-360/t.\\n- Hungarian domestic truck prices steady at €380-390/t, with exports to Romania at €390-400/t.\\n- Vitol's Galati terminal expanded capacity to 7,000t from 4,000t.\\n- Demand in Latvia and Lithuania is strong, while Finnish demand is declining due to snowfall.\\n- FOB Baltic cargo premiums to FOB Rotterdam HSFO barges assessed at $20/t, down $2-3/t.\\n- Orlen's Mazeikiai refinery posted prices up €10/t, with pen 50/70 and 70/100 at €398/t and pen 100/150 and 160/220 at €405/t.\",\n",
       " 5: '- Mediterranean bitumen cargo prices increased sharply at the end of September 2021 due to rising high-sulphur fuel oil (HSFO) prices.\\n- Spanish export premiums to HSFO: $20-25/t fob; Greek fob cargo premiums: $15-20/t; Turkish export flows: similar range; Italian fob cargo premiums: $15-20/t.\\n- Demand slowdown in the Mediterranean led to greater availability of bitumen.\\n- Delivered values into North African markets decreased, with offers into Algeria in the low $50s/t and indications into Algeria and Morocco in the high $50s/t.\\n- Delivered Egyptian values for end-October also in the high $50s/t.\\n- Spanish fob levels surged to around $460/t fob, surpassing cif US east coast cargoes at around $450/t.\\n- Egyptian state-refiner EGPC awarded a 5,000-6,000t cargo to BGN at a $57/t delivered premium for end-October delivery.\\n- Cross-Mediterranean freight rates decreased by $1-2/t on shorter routes and $2-3/t on longer routes due to reduced demand for cargoes and tankers.',\n",
       " 6: '- Mediterranean market entering fourth quarter slowdown; tankers available for spot business from around 5 October.\\n- Delays at Alexandria, Egypt, and Ukraine ports affecting shipping; downward pressure on rates for 5,000t movements.\\n- Augusta-Mohammedia route assessed at $44-47/t (down $2-3/t); Augusta-Alexandria at $41-44/t; Greece-Alexandria at $35-37/t.\\n- Shorter routes: Tarragona-Mohammedia at $31-33/t; Augusta-Tunisia at $24-26/t; Livorno-Tunisia at $28-30/t; Tarragona-Ghazaouet at $25-27/t; Greek ports to Gebze/Mersin at $29-31/t.\\n- Delivered cargo values into Algeria and Morocco falling, estimated at low to high $50s/t for October.\\n- Algerian bitumen consumption estimated at 65,000t in September, expected to rise to 70,000t in October.\\n- Sonatrach’s Arzew refinery output at 400t/day; plans to increase bitutainer fleet to 100 by end of October.\\n- Several cargoes heading to Algerian ports; Iver Balance and Poestella loading from Spain and Sicily for discharge in Algeria.\\n- Egyptian state-owned EGPC awarded additional cargo; fifth cargo at $57/t delivered premium to fob Mediterranean HSFO.\\n- Spanish fob cargo premiums steady at $20-25/t; US east coast demand weak, cif values around $450/t.',\n",
       " 7: '- **Spanish Domestic Demand**: Steady; truck prices unchanged at €455-465/t ex-works as of 1 October.\\n- **Shipments**: \\n  - 6,586 dwt Iver Bitumen from Huelva to Tenerife (arrived 1 October).\\n  - 7,066 dwt Herbania from Huelva to Ghazaouet (loaded 29 September).\\n  - 6,118 dwt Ning Hai Wan from Huelva to Donges (loaded 29 September).\\n  \\n- **Italian Market**: \\n  - Fob cargo premiums to Mediterranean HSFO unchanged at $15-20/t.\\n  - Domestic truck prices steady at €390-400/t ex-works (including €31/t duty).\\n  - Anticipated truck price hikes due to rising crude oil prices.\\n  - 6,165 dwt An Hai Wan from Tarragona to Naples; 5,897 dwt Iver Action from Augusta to Lavera (by 2 October).\\n\\n- **Greek Market**: \\n  - Export cargo premiums unchanged at $15-20/t fob.\\n  - Domestic truck prices increased by €24/t; Hellenic Petroleum prices at €424/t and €426/t ex-works.\\n  - 30 trucks sent to Romania in anticipation of increased demand.\\n  - 4,999 dwt Sunpower from Aspropyrgos to Mangalia; 37,000 dwt Asphalt Synergy near Gibraltar; 6,065 dwt Fuji Lava loading from Aspropyrgos.\\n\\n- **Turkish Market**: \\n  - Domestic prices surged to TL4,718/t (Izmit and Izmir) and TL4,762/t (Batman and Kirikkale) ex-works.\\n  - Price rise attributed to higher crude values and a weakening Turkish Lira.\\n  - Increased domestic demand as constructors rush to complete projects before winter.\\n  - Upcoming cargo from Mideast Gulf expected at Toros Gubre terminal in Ceyhan.',\n",
       " 8: \"- Bitumen prices increased across sub-Saharan Africa, with higher delivered cargo and drummed import prices.\\n- South African domestic and export values also rose.\\n- Demand was strong in southern and eastern Africa, while west African activity was limited due to the rainy season.\\n- Cargo prices for delivery to west African terminals surged due to rising crude and HSFO prices.\\n- Spanish and Ivory Coast cargo premiums were assessed at $20-25/t and around $115/t fob, respectively.\\n- Freight rates for 5,000t spot cargo from Spain to Nigeria remained in the $150-160/t range.\\n- West African construction activity and bitumen demand were subdued due to ongoing rainy conditions, particularly in Nigeria, Cameroon, Ivory Coast, and Ghana.\\n- The 45,974 dwt Bitu Express arrived in Togo on 26 September with a large cargo from Greece, aiding regional stocks for upcoming dry season projects.\\n- The Bitu Atlantic's destination was undisclosed after loading in Spain.\\n- Naftal was loading a 300t bitutainer for shipment to Nouakchott, Mauritania, as part of a tender for 10,000t of bitumen.\",\n",
       " 9: \"- Naftal sent its first 300t bitutainer volume to Nouakchott for Mauritania in late-August.\\n- Nigerian bitumen stocks on 30 September were 31,106,384 litres (31,707t), down from 31,906,036 litres (32,523t) on 22 September, but up 26% from 24,729,625 litres (25,208t) on 1 September.\\n- The 5,076 dwt Jane Asphalt arrived at Abidjan terminal for delivery to Gradient Energy's Warri terminal in Nigeria.\\n- Ghana's GOIL delayed its $35mn bitumen terminal project in Tema, now targeting completion by the end of the year.\\n- The 4,900 dwt SMB time-chartered San Biagio delivered a cargo from Abidjan to Douala, Cameroon, on 29 September.\\n- Iranian drummed bitumen exports to East Africa rose $16/t to $365-380/t fob Bandar Abbas; freight rates increased $10/t to $95-100/t.\\n- Price indications for shipments to Kenya ranged from $460/t to $475-485/t cfr Mombasa, with indirect flows via Jebel Ali reaching $650-660/t.\\n- Direct shipping rates from Bandar Abbas to Mombasa and Dar es Salaam were raised to $1,850-1,950 per container ($90-100/t).\",\n",
       " 10: '- **Iranian bulk cargo exports**: Increased to $290-305/t fob Bandar Abbas, up $10-11/t.\\n- **Bahraini Bapco**: Raised export price by $15/t to $440/t fob Sitra effective 2 October.\\n- **East Africa**: Increased construction activity and bitumen demand in Kenya, Uganda, and South Sudan.\\n- **Supply issues**: Tight supply of Iranian drummed bitumen due to shipping delays; bulk cargo movements alleviating some availability issues.\\n- **R Ocean**: Scheduled to deliver bulk cargo to Mombasa on 10 October; previous shipment delivered on 30 August.\\n- **Kenyan prices**: Bulk truck prices at KES 71-73/kg ($642-660/t); drummed sales at KES 73-74/kg ($660-669/t), expected to rise to KES 75/kg ($679/t).\\n- **South Africa**: Domestic truck export prices increased to around Rand 8,300/t ($550-560/t) ex-works.\\n- **Price hikes**: South African refiners raised prices by R700-800/t, with assessments at R9,200-9,600/t ex-works.\\n- **Construction activity**: Rising in KwaZulu-Natal and Eastern Cape, linked to multi-billion Rand Msikaba and Mtentu bridges for N2 Wild Coast project.',\n",
       " 11: '- Singapore bitumen prices increased by $5/t this week.\\n- Key trader sold approximately 15,000t to Indonesian buyers at $410/t for November-loading.\\n- October-loading deals concluded at $405-410/t levels.\\n- Two deals for end-October loading into Vietnam at cfr basis, with fob values at $405-410/t.\\n- Offers from refiners and local traders ranged from $415-425/t for late-October/early-November loading.\\n- Supply from Singapore expected to balance in October due to production loss from 2-3 key refiners.\\n- Tank truck prices from Singapore rose to $406-415/t ex-refinery.\\n- Prices for tank trucks jumped to around $415-430/t ex-refinery.\\n- Offer into Johore was around 1920 ringgit/t ($456/t) on a delivered basis.\\n- Domestic prices in Singapore increased by $20.50/t to $420-445/t ex-tank for October.\\n- Domestic demand expected to remain flat against September due to manpower limitations and anticipated wet weather.',\n",
       " 12: '- Bitumen demand in Malaysia remained stable-to-firm due to ongoing construction projects.\\n- Klang Valley accounted for a significant share of total volumes lifted.\\n- State-owned refiner increased tank truck prices to approximately 1,830-1,880 ringgit/t ex-Malacca ($437-449/t).\\n- Prices from Port Klang rose to around 1,870-1,900 ringgit/t ex-Klang ($447-454/t).\\n- Delivered prices in northern Malaysia increased to about 1,870-1,960 ringgit/t ($447-466/t).\\n- Erratic rainfall has impacted project progress, but demand is expected to stay firm as projects near completion by end of November.\\n- In Thailand, bitumen prices on a fob basis were assessed at $395-405/t.',\n",
       " 13: \"- A deal for a 2,000-3,000t cargo to central Vietnam was priced at $395-400/t fob, with demand expected to rise in November.\\n- Domestic bitumen prices in Thailand increased to $490-550/t ex-refinery due to higher crude prices, impacted by floods from tropical storm Dianmu.\\n- In Indonesia, bitumen demand strengthened with a deal for a 1,500t cargo to Kalimantan at above $430/t cfr and a 3,000t cargo to North Sulawesi at around $440/t cfr.\\n- Vietnam saw increased demand with two October loading cargoes from north Asia at $440-445/t cfr and offers for end-October cargoes at $440/t cfr.\\n- South Korea's prices remained unchanged due to limited trading activity.\",\n",
       " 14: \"- No sell tenders awarded on a fob South Korea basis; a key refiner to open a sell tender for November loading soon.\\n- Weak demand from China expected to negatively impact Korean sellers.\\n- Key refineries in South Korea producing less bitumen due to strong HSFO economics; reduced volumes help balance supply for October.\\n- Domestic prices in South Korea increased by $51/t for October; mixed demand outlook due to Covid-19 concerns post-Thanksgiving.\\n- In Japan, domestic prices raised by ¥1,000/t to ¥63,513-71,619/t ex-tank; stable demand in September with more roadworks expected in October.\\n- Taiwan's export prices assessed $2.50/t higher to $400-405/t fob; limited volumes from private refiner with unchanged domestic prices at NT17,000/t ex-tank.\\n- In China, limited negotiations ahead of Golden Week; key state-owned refiner raised domestic prices by 20-70 yuan/t; another refiner raised prices by 230 yuan/t.\\n- Power shortages in China had limited impact on production; Shandong refinery resumed operations on 25 September; two refineries undergoing maintenance in October.\\n- Overall supply expected to remain ample with a planned increase of 50,000-100,000t in October bitumen production.\",\n",
       " 15: \"- Most buyers are delaying negotiations until after 8 October.\\n- East China: \\n  - October-loading South Korean cargo offered at 3,250 yuan/t.\\n  - 7,000t concluded at 3,300-3,350 yuan/t (unconfirmed).\\n  - 5,000t prompt South Korean cargo sold at $424/t cfr.\\n- South China: \\n  - No firm discussions; Singapore-based refiner offered November/December cargoes at $460/t cfr.\\n- Higher freight rates from South Korea to east China: $38-45/t for 5,000t cargoes.\\n- Australia & New Zealand: \\n  - Victoria's construction sector shutdown ends on 5 October.\\n  - Estimated 50% sales reduction due to shutdown and wet weather.\\n  - Demand expected to gradually increase in October and firm in November.\\n- India: \\n  - Demand returning as monsoon ends in about 10 days.\\n  - Local refiners raised prices: bulk by 1,600 Indian rupees/t, drummed by 2,600 Indian rupees/t from 1 October.\\n- Bahrain: \\n  - State-owned refiner increasing bitumen prices by $15/t to $440/t fob Sitra effective 2 October.\\n- Iran: \\n  - Bulk prices assessed at $290-305/t fob Bandar Abbas.\\n  - 5,000t VG40 sold at $292/t fob to India.\\n  - Demand for bulk to Pakistan: 10,000t sold at 81,000-82,000 rials/kg (about $300/t). \\n  - Drum prices assessed at $365-375/t.\",\n",
       " 16: '- Demand for bitumen is slowly firming amid thin supply of Iraqi drums.\\n- 10,000t sold at $365-367/t to Sri Lanka and India; 10,000t of pen 60/70 traded at the same price to Bangladesh, Sri Lanka, and India.\\n- 2,000t sold at $375/t for October laycan to East Africa.\\n- 5,000t Jey-embossed cargo sold at $373-376/t fob; small cargoes sold at $365-370/t to Tanzania, Sri Lanka, India, Bangladesh, and UAE.\\n- 5,000t in drums sold at $415-420/t cfr Turkmenistan; freight and logistics estimated at $65/t.\\n- General Rate Increase (GRI) for transshipment cargoes from Jebel Ali at $100/container ($5/t) effective from 26 September.\\n- Direct shipments from Iran to Kenya increased from $1,550/container to $1,850/container.\\n- Jumbo bag prices stable at $350-360/t; demand low due to small gap with drum cargoes.\\n- Iraqi bitumen supply weakened; major producer offered drum cargoes at $355-360/t.\\n- 10,000t drum cargo sold at $335-340/t to Myanmar and India.\\n- Jey Oil sold 8,000t of pen 60/70 in bulk at 86,206 rials/kg ($316/t) ex-Bandar Abbas.\\n- Pasargad Oil sold 5,000t bulk at 81,700 rials/kg ($300/t) ex-Bandar Abbas.\\n- VB feed prices increased; 202,000t demand registered, 103,000t sold by refineries.\\n- Bandar Abbas refinery to undergo maintenance, likely reducing VB feed supply by 50%.\\n- Bitumen prices rose in the domestic market; 4,308t sold at 74,000-110,000 rials/kg on IME.\\n- Argus proposes changes to waterborne fob Singapore assessment: laycan timing from 30-40 days to 15-40 days; cargo sizes from 3,000-5,000t to 3,000-7,000t.',\n",
       " 17: '- Argus Bitumen Issue 21-39 published on Friday, 1 October 2021.\\n- Document is part of the Argus Media group.\\n- Licensed to Shi Jia Lim, Argus Media Limited (London).\\n- Contains vessel tracking indications.',\n",
       " 18: \"- Iranian bitumen production decreased by an estimated 22% from March to August 2021 due to higher production costs and weak demand.\\n- VB feed sales volume fell from 2.962 million tons to 2.314 million tons (22% decrease) during the same period.\\n- Bitumen sellers faced weak demand in both domestic and regional markets, leading to reduced trading activities.\\n- Producers reported losses and had to sell cargoes to pay debts from previous VB feed purchases.\\n- VB feed supply decreased by 21% from 3.24 million tons to 2.56 million tons between March and August 2021.\\n- Iran's bitumen exports in August 2021 dropped by 32% from July and were 48% lower year-on-year, totaling about 221,730 tons.\\n- Vietnam plans to develop over 5,000 km of expressways from 2021 to 2030, increasing bitumen demand.\\n- The Road Network Development Plan includes extensions to the North-South Expressway and 14 expressways in the north totaling about 2,305 km.\",\n",
       " 19: \"- Vietnam's road development plan aims to construct 29,795 km of roads by 2030, including 3,034 km of coastal roads across 28 cities and provinces.\\n- The investment capital for the plan is estimated at 900,000 bn dong ($39.6 bn), primarily funded through public-private partnerships (PPP).\\n- The Vietnamese government introduced a new PPP framework in January 2021 to attract investment in transportation, healthcare, education, power transmission, and water sectors.\\n- Vietnam imported approximately 890,000 t of bitumen in 2020, the highest in five years, as the country does not produce bitumen.\\n- The road development plan aligns with Vietnam's 11th Socio-Economic Development Plan (SEDP) for 2021-2025, targeting a GDP growth of 6.5-7% over the next five years.\\n- Ghana's Goil has delayed the completion of a $35 mn bitumen terminal at Tema port to the end of 2021, with the project 94% complete.\\n- The terminal will supply imported AC-10 and AC-20 bitumen grades to PMB and bitumen emulsions plants, with a 3 km heated pipeline for bitumen imports.\\n- The PMB plant will have a production capacity of 30 t/hour, while the bitumen emulsions plant will have a capacity of 60 t/hour.\",\n",
       " 20: \"- **Germany's Schwedt refinery**: \\n  - Restarted by PCK consortium (Rosneft, Shell, Eni).\\n  - Capacity: 208,000 b/d.\\n  - Target utilization rate: 80-100%.\\n  - Repair works on HSC unit until mid-October.\\n  - Shut down due to electricity failure on 8 September.\\n\\n- **Bahrain's Bapco**: \\n  - Bitumen price increase: $15/t from 2 October.\\n  - New price: $440/t fob Sitra.\\n  - Third price hike in a month (previous increases: $20/t on 11 and 19 September).\\n\\n- **Romania's Midia refinery**: \\n  - Capacity: 100,000 b/d.\\n  - Repairs largely completed; operations to return to optimal levels by end of October.\\n  - Offline since early July due to a fire (3 fatalities, 2 injuries).\\n  - Diesel hydrotreatment unit repairs and restart scheduled for 2022.\\n\\n- **BTK’s bitumen terminal**: \\n  - Secured Rbs1bn ($14mn) financing for upgrades.\\n  - Project to increase bitumen loadings at Turukhtannye Ostrova terminal, St Petersburg.\\n  - Aims to add 43,800m³ storage and increase loading capacity for bitumen and vacuum residue.\",\n",
       " 21: '- 500,000 t/yr of terminal capacity is allocated for bunkering operations.\\n- Turukhtannye Ostrova started loading bitumen in September 2020.\\n- It shipped 64,000 t of bitumen from January to July 2021 and 20,300 t in the last four months of 2020.\\n- Bitumen is loaded in cargoes of 4,000-6,000 t at berth SV-15.\\n- Trading firm Vitol purchases all bitumen shipped from Turukhtannye Ostrova.'}"
      ]
     },
     "execution_count": 36,
     "metadata": {},
     "output_type": "execute_result"
    }
   ],
   "source": [
    "def create_text_summary(state: GraphState):\n",
    "    # state에서 텍스트 데이터를 가져옵니다.\n",
    "    texts = state[\"texts\"]\n",
    "\n",
    "    # 요약된 텍스트를 저장할 딕셔너리를 초기화합니다.\n",
    "    text_summary = dict()\n",
    "\n",
    "    # texts.items()를 페이지 번호(키)를 기준으로 오름차순 정렬합니다.\n",
    "    sorted_texts = sorted(texts.items(), key=lambda x: x[0])\n",
    "\n",
    "    # 각 페이지의 텍스트를 Document 객체로 변환하여 입력 리스트를 생성합니다.\n",
    "    inputs = [\n",
    "        {\"context\": [Document(page_content=text)]} for page_num, text in sorted_texts\n",
    "    ]\n",
    "\n",
    "    # text_summary_chain을 사용하여 일괄 처리로 요약을 생성합니다.\n",
    "    summaries = text_summary_chain.batch(inputs)\n",
    "\n",
    "    # 생성된 요약을 페이지 번호와 함께 딕셔너리에 저장합니다.\n",
    "    for page_num, summary in enumerate(summaries):\n",
    "        text_summary[page_num] = summary\n",
    "\n",
    "    # 요약된 텍스트를 포함한 새로운 GraphState 객체를 반환합니다.\n",
    "    return GraphState(text_summary=text_summary)\n",
    "\n",
    "\n",
    "# create_text_summary 함수를 호출하여 텍스트 요약을 생성합니다.\n",
    "state_out = create_text_summary(state)\n",
    "\n",
    "# 생성된 요약을 기존 state에 업데이트합니다.\n",
    "state.update(state_out)\n",
    "\n",
    "# 요약된 텍스트를 출력합니다.\n",
    "state_out[\"text_summary\"]"
   ]
  },
  {
   "cell_type": "markdown",
   "metadata": {},
   "source": [
    "## Image, Table 요약을 위한 데이터 배치 생성"
   ]
  },
  {
   "cell_type": "code",
   "execution_count": 37,
   "metadata": {},
   "outputs": [
    {
     "data": {
      "text/plain": [
       "{'bounding_box': [{'x': 90, 'y': 1229},\n",
       "  {'x': 598, 'y': 1229},\n",
       "  {'x': 598, 'y': 1557},\n",
       "  {'x': 90, 'y': 1557}],\n",
       " 'category': 'figure',\n",
       " 'html': '<figure><img id=\\'52\\' style=\\'font-size:14px\\' alt=\"Southern UK domestic Rotterdam domestic\\n550\\n500\\n450 hhhhhhhhhhh\\n400\\n350\\n22 Jan 16 Apr 9 Jul 1 Oct\" data-coord=\"top-left:(89,1228); bottom-right:(597,1557)\" /></figure>',\n",
       " 'id': 52,\n",
       " 'page': 2,\n",
       " 'text': 'Southern UK domestic Rotterdam domestic\\n550\\n500\\n450 hhhhhhhhhhh\\n400\\n350\\n22 Jan 16 Apr 9 Jul 1 Oct'}"
      ]
     },
     "execution_count": 37,
     "metadata": {},
     "output_type": "execute_result"
    }
   ],
   "source": [
    "state[\"page_elements\"][2][\"image_elements\"][0]"
   ]
  },
  {
   "cell_type": "code",
   "execution_count": 38,
   "metadata": {},
   "outputs": [
    {
     "name": "stdout",
     "output_type": "stream",
     "text": [
      "- Domestic truck prices increased in several markets due to October supply revisions.\n",
      "- German domestic prices rose by €10/t; Benelux, UK, and France saw gains of €20/t, £20/t, and €20-25/t respectively.\n",
      "- Not all monthly deals were confirmed by 1 October; further details expected on 4 October.\n",
      "- Czech domestic and export prices strengthened due to tight refinery supply, despite overall plentiful availability in central and southeast Europe.\n",
      "- High-sulphur fuel oil (HSFO) price increases in late September raised bitumen values, but early winter signs led to a modest $2-3/t decrease in Rotterdam and Baltic cargo export premiums, assessed at $25-30/t and around $20/t fob respectively.\n",
      "- Cross regional freight rates for 5,000t cargoes showed slight declines: £22-24/t from Rotterdam, £29-31/t from Hamburg, £47-49/t from Klaipeda, and £39-43/t from La Coruna.\n",
      "- UK domestic truck prices were assessed £20/t higher at £380-390/t ex-works and £395-405/t delivered after October price hikes.\n"
     ]
    }
   ],
   "source": [
    "print(state[\"text_summary\"][2])"
   ]
  },
  {
   "cell_type": "code",
   "execution_count": 39,
   "metadata": {},
   "outputs": [],
   "source": [
    "def create_image_summary_data_batches(state: GraphState):\n",
    "    # 이미지 요약을 위한 데이터 배치를 생성하는 함수\n",
    "    data_batches = []\n",
    "\n",
    "    # 페이지 번호를 오름차순으로 정렬\n",
    "    page_numbers = sorted(list(state[\"page_elements\"].keys()))\n",
    "\n",
    "    for page_num in page_numbers:\n",
    "        # 각 페이지의 요약된 텍스트를 가져옴\n",
    "        text = state[\"text_summary\"][page_num]\n",
    "        # 해당 페이지의 모든 이미지 요소에 대해 반복\n",
    "        for image_element in state[\"page_elements\"][page_num][\"image_elements\"]:\n",
    "            # 이미지 ID를 정수로 변환\n",
    "            image_id = int(image_element[\"id\"])\n",
    "\n",
    "            # 데이터 배치에 이미지 정보, 관련 텍스트, 페이지 번호, ID를 추가\n",
    "            data_batches.append(\n",
    "                {\n",
    "                    \"image\": state[\"images\"][image_id],  # 이미지 파일 경로\n",
    "                    \"text\": text,  # 관련 텍스트 요약\n",
    "                    \"page\": page_num,  # 페이지 번호\n",
    "                    \"id\": image_id,  # 이미지 ID\n",
    "                }\n",
    "            )\n",
    "    # 생성된 데이터 배치를 GraphState 객체에 담아 반환\n",
    "    return GraphState(image_summary_data_batches=data_batches)\n",
    "\n",
    "\n",
    "def create_table_summary_data_batches(state: GraphState):\n",
    "    # 테이블 요약을 위한 데이터 배치를 생성하는 함수\n",
    "    data_batches = []\n",
    "\n",
    "    # 페이지 번호를 오름차순으로 정렬\n",
    "    page_numbers = sorted(list(state[\"page_elements\"].keys()))\n",
    "\n",
    "    for page_num in page_numbers:\n",
    "        # 각 페이지의 요약된 텍스트를 가져옴\n",
    "        text = state[\"text_summary\"][page_num]\n",
    "        # 해당 페이지의 모든 테이블 요소에 대해 반복\n",
    "        for image_element in state[\"page_elements\"][page_num][\"table_elements\"]:\n",
    "            # 테이블 ID를 정수로 변환\n",
    "            image_id = int(image_element[\"id\"])\n",
    "\n",
    "            # 데이터 배치에 테이블 정보, 관련 텍스트, 페이지 번호, ID를 추가\n",
    "            data_batches.append(\n",
    "                {\n",
    "                    \"table\": state[\"tables\"][image_id],  # 테이블 데이터\n",
    "                    \"text\": text,  # 관련 텍스트 요약\n",
    "                    \"page\": page_num,  # 페이지 번호\n",
    "                    \"id\": image_id,  # 테이블 ID\n",
    "                }\n",
    "            )\n",
    "    # 생성된 데이터 배치를 GraphState 객체에 담아 반환\n",
    "    return GraphState(table_summary_data_batches=data_batches)"
   ]
  },
  {
   "cell_type": "code",
   "execution_count": 40,
   "metadata": {},
   "outputs": [
    {
     "data": {
      "text/plain": [
       "{'image_summary_data_batches': [{'image': 'data/sample-report/15.png',\n",
       "   'text': \"- Bitumen cargo values increased in Europe and Asia-Pacific due to rising crude and fuel oil prices.\\n- Domestic truck prices in Europe mostly strengthened at the start of October.\\n- Cargo premiums to high-sulphur fuel oil (HSFO) in Rotterdam and the Baltics decreased by $2-3/t, but outright values continued to rise.\\n- Mediterranean premium values remained steady amid rising outright values and slowing demand.\\n- The Asia-Pacific bitumen market remained firm despite a slowdown expected during China's Golden Week holidays.\\n- Crude and HSFO prices in Asia-Pacific led refiners to consider price hikes or production cuts.\\n- Supply for October was balanced in key export locations like Singapore and South Korea due to lower bitumen production.\\n- Demand is anticipated to improve from Vietnam, Australia, China, and India due to seasonal factors and easing pandemic restrictions.\\n- Bitumen prices surged in sub-Saharan Africa, with higher delivered cargo and drummed import prices, as well as increased domestic and export values in South Africa.\",\n",
       "   'page': 0,\n",
       "   'id': 15},\n",
       "  {'image': 'data/sample-report/23.png',\n",
       "   'text': '- Spanish export cargoes were sent to North African markets and Western Europe.\\n- Activity was generally slowing across the Mediterranean.\\n- The 6,118 dwt Ning Hai Wan loaded cargo from Huelva, Spain, for Donges, France, on 29 September.\\n- The 5,897 dwt Iver Accord loaded cargo from La Coruña, Spain, for Blaye, France, by 2 October.\\n- The 6,180 dwt Iver Balance loaded cargo from Cadiz, Spain, for Oran, Algeria, on 30 September.\\n- The 7,066 dwt Herbania loaded cargo from Huelva for Ghazaouet, Algeria, by 29 September.\\n- The 6,586 dwt Iver Bitumen loaded cargo from Huelva into Tenerife, Canary Islands, on 1 October.',\n",
       "   'page': 1,\n",
       "   'id': 23},\n",
       "  {'image': 'data/sample-report/29.png',\n",
       "   'text': '- Spanish export cargoes were sent to North African markets and Western Europe.\\n- Activity was generally slowing across the Mediterranean.\\n- The 6,118 dwt Ning Hai Wan loaded cargo from Huelva, Spain, for Donges, France, on 29 September.\\n- The 5,897 dwt Iver Accord loaded cargo from La Coruña, Spain, for Blaye, France, by 2 October.\\n- The 6,180 dwt Iver Balance loaded cargo from Cadiz, Spain, for Oran, Algeria, on 30 September.\\n- The 7,066 dwt Herbania loaded cargo from Huelva for Ghazaouet, Algeria, by 29 September.\\n- The 6,586 dwt Iver Bitumen loaded cargo from Huelva into Tenerife, Canary Islands, on 1 October.',\n",
       "   'page': 1,\n",
       "   'id': 29},\n",
       "  {'image': 'data/sample-report/52.png',\n",
       "   'text': '- Domestic truck prices increased in several markets due to October supply revisions.\\n- German domestic prices rose by €10/t; Benelux, UK, and France saw gains of €20/t, £20/t, and €20-25/t respectively.\\n- Not all monthly deals were confirmed by 1 October; further details expected on 4 October.\\n- Czech domestic and export prices strengthened due to tight refinery supply, despite overall plentiful availability in central and southeast Europe.\\n- High-sulphur fuel oil (HSFO) price increases in late September raised bitumen values, but early winter signs led to a modest $2-3/t decrease in Rotterdam and Baltic cargo export premiums, assessed at $25-30/t and around $20/t fob respectively.\\n- Cross regional freight rates for 5,000t cargoes showed slight declines: £22-24/t from Rotterdam, £29-31/t from Hamburg, £47-49/t from Klaipeda, and £39-43/t from La Coruna.\\n- UK domestic truck prices were assessed £20/t higher at £380-390/t ex-works and £395-405/t delivered after October price hikes.',\n",
       "   'page': 2,\n",
       "   'id': 52},\n",
       "  {'image': 'data/sample-report/68.png',\n",
       "   'text': '- **Market Overview**: Strong construction activity and bitumen demand in North and Central Europe during September; healthy order books for October and November.\\n- **UK Bitumen Market**: \\n  - Bitumen availability high due to steady cargo imports.\\n  - Cargoes delivered to Thames terminals: $495-500/t (£365-370/t).\\n  - Domestic consumption in July: 156,000t (down 6,000t YoY).\\n  - May to July consumption: 485,000t (up 59,000t YoY).\\n  - Year-to-date (Jan-Jul) consumption: 1.05mn t (up from 817,000t last year).\\n- **France**: \\n  - Domestic prices increased by €20-25/t for October.\\n  - Northern and central France prices: €475-485/t; Southern France: €445-455/t.\\n  - Petroineos refinery maintenance affecting supply until early November.\\n  - Price hikes sought by suppliers: €30-40/t, with one case at €60/t.\\n- **Germany**: \\n  - Domestic truck market saw modest price gains from 1 October.\\n  - July bitumen deliveries: 211,102t (down 17,000t YoY).\\n  - Year-to-date deliveries: 1.02mn t (down 4.4% YoY).\\n  - Total refinery production in July: 451,969t (up 82,359t YoY).\\n  - Domestic prices: €385-395/t (north), €350-360/t (northeast), €365-380/t (southwest).\\n- **Benelux**: \\n  - Domestic truck prices: $420-435/t ex-works (up €20/t).\\n  - Ongoing negotiations in Belgium for price hikes up to €40/t.\\n- **Poland/Czech Republic**: Significant Polish demand noted in the last week of September.',\n",
       "   'page': 3,\n",
       "   'id': 68},\n",
       "  {'image': 'data/sample-report/105.png',\n",
       "   'text': \"- Better weather in North and Central Europe is boosting construction work.\\n- Ex-works prices in Poland for October supplies rose due to crude gains, with domestic prices reaching €385/t, an increase of €15-20/t.\\n- Polish bitumen truck exports to Germany assessed at €345-355/t, up €5/t.\\n- Czech domestic prices increased to €375-385/t, with exports to Germany also at €345-355/t, up €5/t.\\n- Romanian domestic prices remain at €410-420/t, with imports from Poland unchanged at €350-360/t.\\n- Hungarian domestic truck prices steady at €380-390/t, with exports to Romania at €390-400/t.\\n- Vitol's Galati terminal expanded capacity to 7,000t from 4,000t.\\n- Demand in Latvia and Lithuania is strong, while Finnish demand is declining due to snowfall.\\n- FOB Baltic cargo premiums to FOB Rotterdam HSFO barges assessed at $20/t, down $2-3/t.\\n- Orlen's Mazeikiai refinery posted prices up €10/t, with pen 50/70 and 70/100 at €398/t and pen 100/150 and 160/220 at €405/t.\",\n",
       "   'page': 4,\n",
       "   'id': 105},\n",
       "  {'image': 'data/sample-report/126.png',\n",
       "   'text': '- Mediterranean bitumen cargo prices increased sharply at the end of September 2021 due to rising high-sulphur fuel oil (HSFO) prices.\\n- Spanish export premiums to HSFO: $20-25/t fob; Greek fob cargo premiums: $15-20/t; Turkish export flows: similar range; Italian fob cargo premiums: $15-20/t.\\n- Demand slowdown in the Mediterranean led to greater availability of bitumen.\\n- Delivered values into North African markets decreased, with offers into Algeria in the low $50s/t and indications into Algeria and Morocco in the high $50s/t.\\n- Delivered Egyptian values for end-October also in the high $50s/t.\\n- Spanish fob levels surged to around $460/t fob, surpassing cif US east coast cargoes at around $450/t.\\n- Egyptian state-refiner EGPC awarded a 5,000-6,000t cargo to BGN at a $57/t delivered premium for end-October delivery.\\n- Cross-Mediterranean freight rates decreased by $1-2/t on shorter routes and $2-3/t on longer routes due to reduced demand for cargoes and tankers.',\n",
       "   'page': 5,\n",
       "   'id': 126},\n",
       "  {'image': 'data/sample-report/138.png',\n",
       "   'text': '- Mediterranean market entering fourth quarter slowdown; tankers available for spot business from around 5 October.\\n- Delays at Alexandria, Egypt, and Ukraine ports affecting shipping; downward pressure on rates for 5,000t movements.\\n- Augusta-Mohammedia route assessed at $44-47/t (down $2-3/t); Augusta-Alexandria at $41-44/t; Greece-Alexandria at $35-37/t.\\n- Shorter routes: Tarragona-Mohammedia at $31-33/t; Augusta-Tunisia at $24-26/t; Livorno-Tunisia at $28-30/t; Tarragona-Ghazaouet at $25-27/t; Greek ports to Gebze/Mersin at $29-31/t.\\n- Delivered cargo values into Algeria and Morocco falling, estimated at low to high $50s/t for October.\\n- Algerian bitumen consumption estimated at 65,000t in September, expected to rise to 70,000t in October.\\n- Sonatrach’s Arzew refinery output at 400t/day; plans to increase bitutainer fleet to 100 by end of October.\\n- Several cargoes heading to Algerian ports; Iver Balance and Poestella loading from Spain and Sicily for discharge in Algeria.\\n- Egyptian state-owned EGPC awarded additional cargo; fifth cargo at $57/t delivered premium to fob Mediterranean HSFO.\\n- Spanish fob cargo premiums steady at $20-25/t; US east coast demand weak, cif values around $450/t.',\n",
       "   'page': 6,\n",
       "   'id': 138},\n",
       "  {'image': 'data/sample-report/193.png',\n",
       "   'text': \"- Bitumen prices increased across sub-Saharan Africa, with higher delivered cargo and drummed import prices.\\n- South African domestic and export values also rose.\\n- Demand was strong in southern and eastern Africa, while west African activity was limited due to the rainy season.\\n- Cargo prices for delivery to west African terminals surged due to rising crude and HSFO prices.\\n- Spanish and Ivory Coast cargo premiums were assessed at $20-25/t and around $115/t fob, respectively.\\n- Freight rates for 5,000t spot cargo from Spain to Nigeria remained in the $150-160/t range.\\n- West African construction activity and bitumen demand were subdued due to ongoing rainy conditions, particularly in Nigeria, Cameroon, Ivory Coast, and Ghana.\\n- The 45,974 dwt Bitu Express arrived in Togo on 26 September with a large cargo from Greece, aiding regional stocks for upcoming dry season projects.\\n- The Bitu Atlantic's destination was undisclosed after loading in Spain.\\n- Naftal was loading a 300t bitutainer for shipment to Nouakchott, Mauritania, as part of a tender for 10,000t of bitumen.\",\n",
       "   'page': 8,\n",
       "   'id': 193},\n",
       "  {'image': 'data/sample-report/218.png',\n",
       "   'text': \"- Naftal sent its first 300t bitutainer volume to Nouakchott for Mauritania in late-August.\\n- Nigerian bitumen stocks on 30 September were 31,106,384 litres (31,707t), down from 31,906,036 litres (32,523t) on 22 September, but up 26% from 24,729,625 litres (25,208t) on 1 September.\\n- The 5,076 dwt Jane Asphalt arrived at Abidjan terminal for delivery to Gradient Energy's Warri terminal in Nigeria.\\n- Ghana's GOIL delayed its $35mn bitumen terminal project in Tema, now targeting completion by the end of the year.\\n- The 4,900 dwt SMB time-chartered San Biagio delivered a cargo from Abidjan to Douala, Cameroon, on 29 September.\\n- Iranian drummed bitumen exports to East Africa rose $16/t to $365-380/t fob Bandar Abbas; freight rates increased $10/t to $95-100/t.\\n- Price indications for shipments to Kenya ranged from $460/t to $475-485/t cfr Mombasa, with indirect flows via Jebel Ali reaching $650-660/t.\\n- Direct shipping rates from Bandar Abbas to Mombasa and Dar es Salaam were raised to $1,850-1,950 per container ($90-100/t).\",\n",
       "   'page': 9,\n",
       "   'id': 218},\n",
       "  {'image': 'data/sample-report/251.png',\n",
       "   'text': '- **Iranian bulk cargo exports**: Increased to $290-305/t fob Bandar Abbas, up $10-11/t.\\n- **Bahraini Bapco**: Raised export price by $15/t to $440/t fob Sitra effective 2 October.\\n- **East Africa**: Increased construction activity and bitumen demand in Kenya, Uganda, and South Sudan.\\n- **Supply issues**: Tight supply of Iranian drummed bitumen due to shipping delays; bulk cargo movements alleviating some availability issues.\\n- **R Ocean**: Scheduled to deliver bulk cargo to Mombasa on 10 October; previous shipment delivered on 30 August.\\n- **Kenyan prices**: Bulk truck prices at KES 71-73/kg ($642-660/t); drummed sales at KES 73-74/kg ($660-669/t), expected to rise to KES 75/kg ($679/t).\\n- **South Africa**: Domestic truck export prices increased to around Rand 8,300/t ($550-560/t) ex-works.\\n- **Price hikes**: South African refiners raised prices by R700-800/t, with assessments at R9,200-9,600/t ex-works.\\n- **Construction activity**: Rising in KwaZulu-Natal and Eastern Cape, linked to multi-billion Rand Msikaba and Mtentu bridges for N2 Wild Coast project.',\n",
       "   'page': 10,\n",
       "   'id': 251},\n",
       "  {'image': 'data/sample-report/268.png',\n",
       "   'text': '- Singapore bitumen prices increased by $5/t this week.\\n- Key trader sold approximately 15,000t to Indonesian buyers at $410/t for November-loading.\\n- October-loading deals concluded at $405-410/t levels.\\n- Two deals for end-October loading into Vietnam at cfr basis, with fob values at $405-410/t.\\n- Offers from refiners and local traders ranged from $415-425/t for late-October/early-November loading.\\n- Supply from Singapore expected to balance in October due to production loss from 2-3 key refiners.\\n- Tank truck prices from Singapore rose to $406-415/t ex-refinery.\\n- Prices for tank trucks jumped to around $415-430/t ex-refinery.\\n- Offer into Johore was around 1920 ringgit/t ($456/t) on a delivered basis.\\n- Domestic prices in Singapore increased by $20.50/t to $420-445/t ex-tank for October.\\n- Domestic demand expected to remain flat against September due to manpower limitations and anticipated wet weather.',\n",
       "   'page': 11,\n",
       "   'id': 268},\n",
       "  {'image': 'data/sample-report/300.png',\n",
       "   'text': \"- A deal for a 2,000-3,000t cargo to central Vietnam was priced at $395-400/t fob, with demand expected to rise in November.\\n- Domestic bitumen prices in Thailand increased to $490-550/t ex-refinery due to higher crude prices, impacted by floods from tropical storm Dianmu.\\n- In Indonesia, bitumen demand strengthened with a deal for a 1,500t cargo to Kalimantan at above $430/t cfr and a 3,000t cargo to North Sulawesi at around $440/t cfr.\\n- Vietnam saw increased demand with two October loading cargoes from north Asia at $440-445/t cfr and offers for end-October cargoes at $440/t cfr.\\n- South Korea's prices remained unchanged due to limited trading activity.\",\n",
       "   'page': 13,\n",
       "   'id': 300},\n",
       "  {'image': 'data/sample-report/404.png',\n",
       "   'text': \"- Iranian bitumen production decreased by an estimated 22% from March to August 2021 due to higher production costs and weak demand.\\n- VB feed sales volume fell from 2.962 million tons to 2.314 million tons (22% decrease) during the same period.\\n- Bitumen sellers faced weak demand in both domestic and regional markets, leading to reduced trading activities.\\n- Producers reported losses and had to sell cargoes to pay debts from previous VB feed purchases.\\n- VB feed supply decreased by 21% from 3.24 million tons to 2.56 million tons between March and August 2021.\\n- Iran's bitumen exports in August 2021 dropped by 32% from July and were 48% lower year-on-year, totaling about 221,730 tons.\\n- Vietnam plans to develop over 5,000 km of expressways from 2021 to 2030, increasing bitumen demand.\\n- The Road Network Development Plan includes extensions to the North-South Expressway and 14 expressways in the north totaling about 2,305 km.\",\n",
       "   'page': 18,\n",
       "   'id': 404},\n",
       "  {'image': 'data/sample-report/424.png',\n",
       "   'text': \"- Vietnam's road development plan aims to construct 29,795 km of roads by 2030, including 3,034 km of coastal roads across 28 cities and provinces.\\n- The investment capital for the plan is estimated at 900,000 bn dong ($39.6 bn), primarily funded through public-private partnerships (PPP).\\n- The Vietnamese government introduced a new PPP framework in January 2021 to attract investment in transportation, healthcare, education, power transmission, and water sectors.\\n- Vietnam imported approximately 890,000 t of bitumen in 2020, the highest in five years, as the country does not produce bitumen.\\n- The road development plan aligns with Vietnam's 11th Socio-Economic Development Plan (SEDP) for 2021-2025, targeting a GDP growth of 6.5-7% over the next five years.\\n- Ghana's Goil has delayed the completion of a $35 mn bitumen terminal at Tema port to the end of 2021, with the project 94% complete.\\n- The terminal will supply imported AC-10 and AC-20 bitumen grades to PMB and bitumen emulsions plants, with a 3 km heated pipeline for bitumen imports.\\n- The PMB plant will have a production capacity of 30 t/hour, while the bitumen emulsions plant will have a capacity of 60 t/hour.\",\n",
       "   'page': 19,\n",
       "   'id': 424},\n",
       "  {'image': 'data/sample-report/458.png',\n",
       "   'text': \"- **Germany's Schwedt refinery**: \\n  - Restarted by PCK consortium (Rosneft, Shell, Eni).\\n  - Capacity: 208,000 b/d.\\n  - Target utilization rate: 80-100%.\\n  - Repair works on HSC unit until mid-October.\\n  - Shut down due to electricity failure on 8 September.\\n\\n- **Bahrain's Bapco**: \\n  - Bitumen price increase: $15/t from 2 October.\\n  - New price: $440/t fob Sitra.\\n  - Third price hike in a month (previous increases: $20/t on 11 and 19 September).\\n\\n- **Romania's Midia refinery**: \\n  - Capacity: 100,000 b/d.\\n  - Repairs largely completed; operations to return to optimal levels by end of October.\\n  - Offline since early July due to a fire (3 fatalities, 2 injuries).\\n  - Diesel hydrotreatment unit repairs and restart scheduled for 2022.\\n\\n- **BTK’s bitumen terminal**: \\n  - Secured Rbs1bn ($14mn) financing for upgrades.\\n  - Project to increase bitumen loadings at Turukhtannye Ostrova terminal, St Petersburg.\\n  - Aims to add 43,800m³ storage and increase loading capacity for bitumen and vacuum residue.\",\n",
       "   'page': 20,\n",
       "   'id': 458},\n",
       "  {'image': 'data/sample-report/470.png',\n",
       "   'text': \"- **Germany's Schwedt refinery**: \\n  - Restarted by PCK consortium (Rosneft, Shell, Eni).\\n  - Capacity: 208,000 b/d.\\n  - Target utilization rate: 80-100%.\\n  - Repair works on HSC unit until mid-October.\\n  - Shut down due to electricity failure on 8 September.\\n\\n- **Bahrain's Bapco**: \\n  - Bitumen price increase: $15/t from 2 October.\\n  - New price: $440/t fob Sitra.\\n  - Third price hike in a month (previous increases: $20/t on 11 and 19 September).\\n\\n- **Romania's Midia refinery**: \\n  - Capacity: 100,000 b/d.\\n  - Repairs largely completed; operations to return to optimal levels by end of October.\\n  - Offline since early July due to a fire (3 fatalities, 2 injuries).\\n  - Diesel hydrotreatment unit repairs and restart scheduled for 2022.\\n\\n- **BTK’s bitumen terminal**: \\n  - Secured Rbs1bn ($14mn) financing for upgrades.\\n  - Project to increase bitumen loadings at Turukhtannye Ostrova terminal, St Petersburg.\\n  - Aims to add 43,800m³ storage and increase loading capacity for bitumen and vacuum residue.\",\n",
       "   'page': 20,\n",
       "   'id': 470},\n",
       "  {'image': 'data/sample-report/477.png',\n",
       "   'text': '- 500,000 t/yr of terminal capacity is allocated for bunkering operations.\\n- Turukhtannye Ostrova started loading bitumen in September 2020.\\n- It shipped 64,000 t of bitumen from January to July 2021 and 20,300 t in the last four months of 2020.\\n- Bitumen is loaded in cargoes of 4,000-6,000 t at berth SV-15.\\n- Trading firm Vitol purchases all bitumen shipped from Turukhtannye Ostrova.',\n",
       "   'page': 21,\n",
       "   'id': 477},\n",
       "  {'image': 'data/sample-report/501.png',\n",
       "   'text': '- 500,000 t/yr of terminal capacity is allocated for bunkering operations.\\n- Turukhtannye Ostrova started loading bitumen in September 2020.\\n- It shipped 64,000 t of bitumen from January to July 2021 and 20,300 t in the last four months of 2020.\\n- Bitumen is loaded in cargoes of 4,000-6,000 t at berth SV-15.\\n- Trading firm Vitol purchases all bitumen shipped from Turukhtannye Ostrova.',\n",
       "   'page': 21,\n",
       "   'id': 501}]}"
      ]
     },
     "execution_count": 40,
     "metadata": {},
     "output_type": "execute_result"
    }
   ],
   "source": [
    "state_out = create_image_summary_data_batches(state)\n",
    "state.update(state_out)\n",
    "state_out"
   ]
  },
  {
   "cell_type": "code",
   "execution_count": 41,
   "metadata": {},
   "outputs": [
    {
     "data": {
      "text/plain": [
       "{'table_summary_data_batches': [{'table': 'data/sample-report/12.png',\n",
       "   'text': \"- Bitumen cargo values increased in Europe and Asia-Pacific due to rising crude and fuel oil prices.\\n- Domestic truck prices in Europe mostly strengthened at the start of October.\\n- Cargo premiums to high-sulphur fuel oil (HSFO) in Rotterdam and the Baltics decreased by $2-3/t, but outright values continued to rise.\\n- Mediterranean premium values remained steady amid rising outright values and slowing demand.\\n- The Asia-Pacific bitumen market remained firm despite a slowdown expected during China's Golden Week holidays.\\n- Crude and HSFO prices in Asia-Pacific led refiners to consider price hikes or production cuts.\\n- Supply for October was balanced in key export locations like Singapore and South Korea due to lower bitumen production.\\n- Demand is anticipated to improve from Vietnam, Australia, China, and India due to seasonal factors and easing pandemic restrictions.\\n- Bitumen prices surged in sub-Saharan Africa, with higher delivered cargo and drummed import prices, as well as increased domestic and export values in South Africa.\",\n",
       "   'page': 0,\n",
       "   'id': 12},\n",
       "  {'table': 'data/sample-report/18.png',\n",
       "   'text': \"- Bitumen cargo values increased in Europe and Asia-Pacific due to rising crude and fuel oil prices.\\n- Domestic truck prices in Europe mostly strengthened at the start of October.\\n- Cargo premiums to high-sulphur fuel oil (HSFO) in Rotterdam and the Baltics decreased by $2-3/t, but outright values continued to rise.\\n- Mediterranean premium values remained steady amid rising outright values and slowing demand.\\n- The Asia-Pacific bitumen market remained firm despite a slowdown expected during China's Golden Week holidays.\\n- Crude and HSFO prices in Asia-Pacific led refiners to consider price hikes or production cuts.\\n- Supply for October was balanced in key export locations like Singapore and South Korea due to lower bitumen production.\\n- Demand is anticipated to improve from Vietnam, Australia, China, and India due to seasonal factors and easing pandemic restrictions.\\n- Bitumen prices surged in sub-Saharan Africa, with higher delivered cargo and drummed import prices, as well as increased domestic and export values in South Africa.\",\n",
       "   'page': 0,\n",
       "   'id': 18},\n",
       "  {'table': 'data/sample-report/32.png',\n",
       "   'text': '- Spanish export cargoes were sent to North African markets and Western Europe.\\n- Activity was generally slowing across the Mediterranean.\\n- The 6,118 dwt Ning Hai Wan loaded cargo from Huelva, Spain, for Donges, France, on 29 September.\\n- The 5,897 dwt Iver Accord loaded cargo from La Coruña, Spain, for Blaye, France, by 2 October.\\n- The 6,180 dwt Iver Balance loaded cargo from Cadiz, Spain, for Oran, Algeria, on 30 September.\\n- The 7,066 dwt Herbania loaded cargo from Huelva for Ghazaouet, Algeria, by 29 September.\\n- The 6,586 dwt Iver Bitumen loaded cargo from Huelva into Tenerife, Canary Islands, on 1 October.',\n",
       "   'page': 1,\n",
       "   'id': 32},\n",
       "  {'table': 'data/sample-report/33.png',\n",
       "   'text': '- Spanish export cargoes were sent to North African markets and Western Europe.\\n- Activity was generally slowing across the Mediterranean.\\n- The 6,118 dwt Ning Hai Wan loaded cargo from Huelva, Spain, for Donges, France, on 29 September.\\n- The 5,897 dwt Iver Accord loaded cargo from La Coruña, Spain, for Blaye, France, by 2 October.\\n- The 6,180 dwt Iver Balance loaded cargo from Cadiz, Spain, for Oran, Algeria, on 30 September.\\n- The 7,066 dwt Herbania loaded cargo from Huelva for Ghazaouet, Algeria, by 29 September.\\n- The 6,586 dwt Iver Bitumen loaded cargo from Huelva into Tenerife, Canary Islands, on 1 October.',\n",
       "   'page': 1,\n",
       "   'id': 33},\n",
       "  {'table': 'data/sample-report/50.png',\n",
       "   'text': '- Domestic truck prices increased in several markets due to October supply revisions.\\n- German domestic prices rose by €10/t; Benelux, UK, and France saw gains of €20/t, £20/t, and €20-25/t respectively.\\n- Not all monthly deals were confirmed by 1 October; further details expected on 4 October.\\n- Czech domestic and export prices strengthened due to tight refinery supply, despite overall plentiful availability in central and southeast Europe.\\n- High-sulphur fuel oil (HSFO) price increases in late September raised bitumen values, but early winter signs led to a modest $2-3/t decrease in Rotterdam and Baltic cargo export premiums, assessed at $25-30/t and around $20/t fob respectively.\\n- Cross regional freight rates for 5,000t cargoes showed slight declines: £22-24/t from Rotterdam, £29-31/t from Hamburg, £47-49/t from Klaipeda, and £39-43/t from La Coruna.\\n- UK domestic truck prices were assessed £20/t higher at £380-390/t ex-works and £395-405/t delivered after October price hikes.',\n",
       "   'page': 2,\n",
       "   'id': 50},\n",
       "  {'table': 'data/sample-report/54.png',\n",
       "   'text': '- Domestic truck prices increased in several markets due to October supply revisions.\\n- German domestic prices rose by €10/t; Benelux, UK, and France saw gains of €20/t, £20/t, and €20-25/t respectively.\\n- Not all monthly deals were confirmed by 1 October; further details expected on 4 October.\\n- Czech domestic and export prices strengthened due to tight refinery supply, despite overall plentiful availability in central and southeast Europe.\\n- High-sulphur fuel oil (HSFO) price increases in late September raised bitumen values, but early winter signs led to a modest $2-3/t decrease in Rotterdam and Baltic cargo export premiums, assessed at $25-30/t and around $20/t fob respectively.\\n- Cross regional freight rates for 5,000t cargoes showed slight declines: £22-24/t from Rotterdam, £29-31/t from Hamburg, £47-49/t from Klaipeda, and £39-43/t from La Coruna.\\n- UK domestic truck prices were assessed £20/t higher at £380-390/t ex-works and £395-405/t delivered after October price hikes.',\n",
       "   'page': 2,\n",
       "   'id': 54},\n",
       "  {'table': 'data/sample-report/55.png',\n",
       "   'text': '- Domestic truck prices increased in several markets due to October supply revisions.\\n- German domestic prices rose by €10/t; Benelux, UK, and France saw gains of €20/t, £20/t, and €20-25/t respectively.\\n- Not all monthly deals were confirmed by 1 October; further details expected on 4 October.\\n- Czech domestic and export prices strengthened due to tight refinery supply, despite overall plentiful availability in central and southeast Europe.\\n- High-sulphur fuel oil (HSFO) price increases in late September raised bitumen values, but early winter signs led to a modest $2-3/t decrease in Rotterdam and Baltic cargo export premiums, assessed at $25-30/t and around $20/t fob respectively.\\n- Cross regional freight rates for 5,000t cargoes showed slight declines: £22-24/t from Rotterdam, £29-31/t from Hamburg, £47-49/t from Klaipeda, and £39-43/t from La Coruna.\\n- UK domestic truck prices were assessed £20/t higher at £380-390/t ex-works and £395-405/t delivered after October price hikes.',\n",
       "   'page': 2,\n",
       "   'id': 55},\n",
       "  {'table': 'data/sample-report/121.png',\n",
       "   'text': '- Mediterranean bitumen cargo prices increased sharply at the end of September 2021 due to rising high-sulphur fuel oil (HSFO) prices.\\n- Spanish export premiums to HSFO: $20-25/t fob; Greek fob cargo premiums: $15-20/t; Turkish export flows: similar range; Italian fob cargo premiums: $15-20/t.\\n- Demand slowdown in the Mediterranean led to greater availability of bitumen.\\n- Delivered values into North African markets decreased, with offers into Algeria in the low $50s/t and indications into Algeria and Morocco in the high $50s/t.\\n- Delivered Egyptian values for end-October also in the high $50s/t.\\n- Spanish fob levels surged to around $460/t fob, surpassing cif US east coast cargoes at around $450/t.\\n- Egyptian state-refiner EGPC awarded a 5,000-6,000t cargo to BGN at a $57/t delivered premium for end-October delivery.\\n- Cross-Mediterranean freight rates decreased by $1-2/t on shorter routes and $2-3/t on longer routes due to reduced demand for cargoes and tankers.',\n",
       "   'page': 5,\n",
       "   'id': 121},\n",
       "  {'table': 'data/sample-report/122.png',\n",
       "   'text': '- Mediterranean bitumen cargo prices increased sharply at the end of September 2021 due to rising high-sulphur fuel oil (HSFO) prices.\\n- Spanish export premiums to HSFO: $20-25/t fob; Greek fob cargo premiums: $15-20/t; Turkish export flows: similar range; Italian fob cargo premiums: $15-20/t.\\n- Demand slowdown in the Mediterranean led to greater availability of bitumen.\\n- Delivered values into North African markets decreased, with offers into Algeria in the low $50s/t and indications into Algeria and Morocco in the high $50s/t.\\n- Delivered Egyptian values for end-October also in the high $50s/t.\\n- Spanish fob levels surged to around $460/t fob, surpassing cif US east coast cargoes at around $450/t.\\n- Egyptian state-refiner EGPC awarded a 5,000-6,000t cargo to BGN at a $57/t delivered premium for end-October delivery.\\n- Cross-Mediterranean freight rates decreased by $1-2/t on shorter routes and $2-3/t on longer routes due to reduced demand for cargoes and tankers.',\n",
       "   'page': 5,\n",
       "   'id': 122},\n",
       "  {'table': 'data/sample-report/125.png',\n",
       "   'text': '- Mediterranean bitumen cargo prices increased sharply at the end of September 2021 due to rising high-sulphur fuel oil (HSFO) prices.\\n- Spanish export premiums to HSFO: $20-25/t fob; Greek fob cargo premiums: $15-20/t; Turkish export flows: similar range; Italian fob cargo premiums: $15-20/t.\\n- Demand slowdown in the Mediterranean led to greater availability of bitumen.\\n- Delivered values into North African markets decreased, with offers into Algeria in the low $50s/t and indications into Algeria and Morocco in the high $50s/t.\\n- Delivered Egyptian values for end-October also in the high $50s/t.\\n- Spanish fob levels surged to around $460/t fob, surpassing cif US east coast cargoes at around $450/t.\\n- Egyptian state-refiner EGPC awarded a 5,000-6,000t cargo to BGN at a $57/t delivered premium for end-October delivery.\\n- Cross-Mediterranean freight rates decreased by $1-2/t on shorter routes and $2-3/t on longer routes due to reduced demand for cargoes and tankers.',\n",
       "   'page': 5,\n",
       "   'id': 125},\n",
       "  {'table': 'data/sample-report/196.png',\n",
       "   'text': \"- Bitumen prices increased across sub-Saharan Africa, with higher delivered cargo and drummed import prices.\\n- South African domestic and export values also rose.\\n- Demand was strong in southern and eastern Africa, while west African activity was limited due to the rainy season.\\n- Cargo prices for delivery to west African terminals surged due to rising crude and HSFO prices.\\n- Spanish and Ivory Coast cargo premiums were assessed at $20-25/t and around $115/t fob, respectively.\\n- Freight rates for 5,000t spot cargo from Spain to Nigeria remained in the $150-160/t range.\\n- West African construction activity and bitumen demand were subdued due to ongoing rainy conditions, particularly in Nigeria, Cameroon, Ivory Coast, and Ghana.\\n- The 45,974 dwt Bitu Express arrived in Togo on 26 September with a large cargo from Greece, aiding regional stocks for upcoming dry season projects.\\n- The Bitu Atlantic's destination was undisclosed after loading in Spain.\\n- Naftal was loading a 300t bitutainer for shipment to Nouakchott, Mauritania, as part of a tender for 10,000t of bitumen.\",\n",
       "   'page': 8,\n",
       "   'id': 196},\n",
       "  {'table': 'data/sample-report/197.png',\n",
       "   'text': \"- Bitumen prices increased across sub-Saharan Africa, with higher delivered cargo and drummed import prices.\\n- South African domestic and export values also rose.\\n- Demand was strong in southern and eastern Africa, while west African activity was limited due to the rainy season.\\n- Cargo prices for delivery to west African terminals surged due to rising crude and HSFO prices.\\n- Spanish and Ivory Coast cargo premiums were assessed at $20-25/t and around $115/t fob, respectively.\\n- Freight rates for 5,000t spot cargo from Spain to Nigeria remained in the $150-160/t range.\\n- West African construction activity and bitumen demand were subdued due to ongoing rainy conditions, particularly in Nigeria, Cameroon, Ivory Coast, and Ghana.\\n- The 45,974 dwt Bitu Express arrived in Togo on 26 September with a large cargo from Greece, aiding regional stocks for upcoming dry season projects.\\n- The Bitu Atlantic's destination was undisclosed after loading in Spain.\\n- Naftal was loading a 300t bitutainer for shipment to Nouakchott, Mauritania, as part of a tender for 10,000t of bitumen.\",\n",
       "   'page': 8,\n",
       "   'id': 197},\n",
       "  {'table': 'data/sample-report/270.png',\n",
       "   'text': '- Singapore bitumen prices increased by $5/t this week.\\n- Key trader sold approximately 15,000t to Indonesian buyers at $410/t for November-loading.\\n- October-loading deals concluded at $405-410/t levels.\\n- Two deals for end-October loading into Vietnam at cfr basis, with fob values at $405-410/t.\\n- Offers from refiners and local traders ranged from $415-425/t for late-October/early-November loading.\\n- Supply from Singapore expected to balance in October due to production loss from 2-3 key refiners.\\n- Tank truck prices from Singapore rose to $406-415/t ex-refinery.\\n- Prices for tank trucks jumped to around $415-430/t ex-refinery.\\n- Offer into Johore was around 1920 ringgit/t ($456/t) on a delivered basis.\\n- Domestic prices in Singapore increased by $20.50/t to $420-445/t ex-tank for October.\\n- Domestic demand expected to remain flat against September due to manpower limitations and anticipated wet weather.',\n",
       "   'page': 11,\n",
       "   'id': 270},\n",
       "  {'table': 'data/sample-report/276.png',\n",
       "   'text': '- Bitumen demand in Malaysia remained stable-to-firm due to ongoing construction projects.\\n- Klang Valley accounted for a significant share of total volumes lifted.\\n- State-owned refiner increased tank truck prices to approximately 1,830-1,880 ringgit/t ex-Malacca ($437-449/t).\\n- Prices from Port Klang rose to around 1,870-1,900 ringgit/t ex-Klang ($447-454/t).\\n- Delivered prices in northern Malaysia increased to about 1,870-1,960 ringgit/t ($447-466/t).\\n- Erratic rainfall has impacted project progress, but demand is expected to stay firm as projects near completion by end of November.\\n- In Thailand, bitumen prices on a fob basis were assessed at $395-405/t.',\n",
       "   'page': 12,\n",
       "   'id': 276},\n",
       "  {'table': 'data/sample-report/278.png',\n",
       "   'text': '- Bitumen demand in Malaysia remained stable-to-firm due to ongoing construction projects.\\n- Klang Valley accounted for a significant share of total volumes lifted.\\n- State-owned refiner increased tank truck prices to approximately 1,830-1,880 ringgit/t ex-Malacca ($437-449/t).\\n- Prices from Port Klang rose to around 1,870-1,900 ringgit/t ex-Klang ($447-454/t).\\n- Delivered prices in northern Malaysia increased to about 1,870-1,960 ringgit/t ($447-466/t).\\n- Erratic rainfall has impacted project progress, but demand is expected to stay firm as projects near completion by end of November.\\n- In Thailand, bitumen prices on a fob basis were assessed at $395-405/t.',\n",
       "   'page': 12,\n",
       "   'id': 278},\n",
       "  {'table': 'data/sample-report/302.png',\n",
       "   'text': \"- A deal for a 2,000-3,000t cargo to central Vietnam was priced at $395-400/t fob, with demand expected to rise in November.\\n- Domestic bitumen prices in Thailand increased to $490-550/t ex-refinery due to higher crude prices, impacted by floods from tropical storm Dianmu.\\n- In Indonesia, bitumen demand strengthened with a deal for a 1,500t cargo to Kalimantan at above $430/t cfr and a 3,000t cargo to North Sulawesi at around $440/t cfr.\\n- Vietnam saw increased demand with two October loading cargoes from north Asia at $440-445/t cfr and offers for end-October cargoes at $440/t cfr.\\n- South Korea's prices remained unchanged due to limited trading activity.\",\n",
       "   'page': 13,\n",
       "   'id': 302},\n",
       "  {'table': 'data/sample-report/303.png',\n",
       "   'text': \"- A deal for a 2,000-3,000t cargo to central Vietnam was priced at $395-400/t fob, with demand expected to rise in November.\\n- Domestic bitumen prices in Thailand increased to $490-550/t ex-refinery due to higher crude prices, impacted by floods from tropical storm Dianmu.\\n- In Indonesia, bitumen demand strengthened with a deal for a 1,500t cargo to Kalimantan at above $430/t cfr and a 3,000t cargo to North Sulawesi at around $440/t cfr.\\n- Vietnam saw increased demand with two October loading cargoes from north Asia at $440-445/t cfr and offers for end-October cargoes at $440/t cfr.\\n- South Korea's prices remained unchanged due to limited trading activity.\",\n",
       "   'page': 13,\n",
       "   'id': 303},\n",
       "  {'table': 'data/sample-report/317.png',\n",
       "   'text': \"- No sell tenders awarded on a fob South Korea basis; a key refiner to open a sell tender for November loading soon.\\n- Weak demand from China expected to negatively impact Korean sellers.\\n- Key refineries in South Korea producing less bitumen due to strong HSFO economics; reduced volumes help balance supply for October.\\n- Domestic prices in South Korea increased by $51/t for October; mixed demand outlook due to Covid-19 concerns post-Thanksgiving.\\n- In Japan, domestic prices raised by ¥1,000/t to ¥63,513-71,619/t ex-tank; stable demand in September with more roadworks expected in October.\\n- Taiwan's export prices assessed $2.50/t higher to $400-405/t fob; limited volumes from private refiner with unchanged domestic prices at NT17,000/t ex-tank.\\n- In China, limited negotiations ahead of Golden Week; key state-owned refiner raised domestic prices by 20-70 yuan/t; another refiner raised prices by 230 yuan/t.\\n- Power shortages in China had limited impact on production; Shandong refinery resumed operations on 25 September; two refineries undergoing maintenance in October.\\n- Overall supply expected to remain ample with a planned increase of 50,000-100,000t in October bitumen production.\",\n",
       "   'page': 14,\n",
       "   'id': 317},\n",
       "  {'table': 'data/sample-report/348.png',\n",
       "   'text': \"- Most buyers are delaying negotiations until after 8 October.\\n- East China: \\n  - October-loading South Korean cargo offered at 3,250 yuan/t.\\n  - 7,000t concluded at 3,300-3,350 yuan/t (unconfirmed).\\n  - 5,000t prompt South Korean cargo sold at $424/t cfr.\\n- South China: \\n  - No firm discussions; Singapore-based refiner offered November/December cargoes at $460/t cfr.\\n- Higher freight rates from South Korea to east China: $38-45/t for 5,000t cargoes.\\n- Australia & New Zealand: \\n  - Victoria's construction sector shutdown ends on 5 October.\\n  - Estimated 50% sales reduction due to shutdown and wet weather.\\n  - Demand expected to gradually increase in October and firm in November.\\n- India: \\n  - Demand returning as monsoon ends in about 10 days.\\n  - Local refiners raised prices: bulk by 1,600 Indian rupees/t, drummed by 2,600 Indian rupees/t from 1 October.\\n- Bahrain: \\n  - State-owned refiner increasing bitumen prices by $15/t to $440/t fob Sitra effective 2 October.\\n- Iran: \\n  - Bulk prices assessed at $290-305/t fob Bandar Abbas.\\n  - 5,000t VG40 sold at $292/t fob to India.\\n  - Demand for bulk to Pakistan: 10,000t sold at 81,000-82,000 rials/kg (about $300/t). \\n  - Drum prices assessed at $365-375/t.\",\n",
       "   'page': 15,\n",
       "   'id': 348},\n",
       "  {'table': 'data/sample-report/351.png',\n",
       "   'text': \"- Most buyers are delaying negotiations until after 8 October.\\n- East China: \\n  - October-loading South Korean cargo offered at 3,250 yuan/t.\\n  - 7,000t concluded at 3,300-3,350 yuan/t (unconfirmed).\\n  - 5,000t prompt South Korean cargo sold at $424/t cfr.\\n- South China: \\n  - No firm discussions; Singapore-based refiner offered November/December cargoes at $460/t cfr.\\n- Higher freight rates from South Korea to east China: $38-45/t for 5,000t cargoes.\\n- Australia & New Zealand: \\n  - Victoria's construction sector shutdown ends on 5 October.\\n  - Estimated 50% sales reduction due to shutdown and wet weather.\\n  - Demand expected to gradually increase in October and firm in November.\\n- India: \\n  - Demand returning as monsoon ends in about 10 days.\\n  - Local refiners raised prices: bulk by 1,600 Indian rupees/t, drummed by 2,600 Indian rupees/t from 1 October.\\n- Bahrain: \\n  - State-owned refiner increasing bitumen prices by $15/t to $440/t fob Sitra effective 2 October.\\n- Iran: \\n  - Bulk prices assessed at $290-305/t fob Bandar Abbas.\\n  - 5,000t VG40 sold at $292/t fob to India.\\n  - Demand for bulk to Pakistan: 10,000t sold at 81,000-82,000 rials/kg (about $300/t). \\n  - Drum prices assessed at $365-375/t.\",\n",
       "   'page': 15,\n",
       "   'id': 351},\n",
       "  {'table': 'data/sample-report/386.png',\n",
       "   'text': '- Argus Bitumen Issue 21-39 published on Friday, 1 October 2021.\\n- Document is part of the Argus Media group.\\n- Licensed to Shi Jia Lim, Argus Media Limited (London).\\n- Contains vessel tracking indications.',\n",
       "   'page': 17,\n",
       "   'id': 386}]}"
      ]
     },
     "execution_count": 41,
     "metadata": {},
     "output_type": "execute_result"
    }
   ],
   "source": [
    "state_out = create_table_summary_data_batches(state)\n",
    "state.update(state_out)\n",
    "state_out"
   ]
  },
  {
   "cell_type": "markdown",
   "metadata": {},
   "source": [
    "## Image, Table 요약 추출"
   ]
  },
  {
   "cell_type": "code",
   "execution_count": 42,
   "metadata": {},
   "outputs": [],
   "source": [
    "from langchain_teddynote.models import MultiModal\n",
    "from langchain_core.runnables import chain\n",
    "\n",
    "\n",
    "@chain\n",
    "def extract_image_summary(data_batches):\n",
    "    # 객체 생성\n",
    "    llm = ChatOpenAI(\n",
    "        temperature=0,  # 창의성 (0.0 ~ 2.0)\n",
    "        model_name=\"gpt-4o-mini\",  # 모델명\n",
    "    )\n",
    "\n",
    "    system_prompt = \"\"\"You are an expert in extracting useful information from IMAGE.\n",
    "    With a given image, your task is to extract key entities, summarize them, and write useful information that can be used later for retrieval.\"\"\"\n",
    "\n",
    "    image_paths = []\n",
    "    system_prompts = []\n",
    "    user_prompts = []\n",
    "\n",
    "    for data_batch in data_batches:\n",
    "        context = data_batch[\"text\"]\n",
    "        image_path = data_batch[\"image\"]\n",
    "        user_prompt_template = f\"\"\"Here is the context related to the image: {context}\n",
    "        \n",
    "###\n",
    "\n",
    "Output Format:\n",
    "\n",
    "<image>\n",
    "<title>\n",
    "<summary>\n",
    "<entities> \n",
    "</image>\n",
    "\n",
    "\"\"\"\n",
    "        image_paths.append(image_path)\n",
    "        system_prompts.append(system_prompt)\n",
    "        user_prompts.append(user_prompt_template)\n",
    "\n",
    "    # 멀티모달 객체 생성\n",
    "    multimodal_llm = MultiModal(llm)\n",
    "\n",
    "    # 이미지 파일로 부터 질의\n",
    "    answer = multimodal_llm.batch(\n",
    "        image_paths, system_prompts, user_prompts, display_image=False\n",
    "    )\n",
    "    return answer\n",
    "\n",
    "\n",
    "@chain\n",
    "def extract_table_summary(data_batches):\n",
    "    # 객체 생성\n",
    "    llm = ChatOpenAI(\n",
    "        temperature=0,  # 창의성 (0.0 ~ 2.0)\n",
    "        model_name=\"gpt-4o-mini\",  # 모델명\n",
    "    )\n",
    "\n",
    "    system_prompt = \"You are an expert in extracting useful information from TABLE. With a given image, your task is to extract key entities, summarize them, and write useful information that can be used later for retrieval.\"\n",
    "\n",
    "    image_paths = []\n",
    "    system_prompts = []\n",
    "    user_prompts = []\n",
    "\n",
    "    for data_batch in data_batches:\n",
    "        context = data_batch[\"text\"]\n",
    "        image_path = data_batch[\"table\"]\n",
    "        user_prompt_template = f\"\"\"Here is the context related to the image of table: {context}\n",
    "        \n",
    "###\n",
    "\n",
    "Output Format:\n",
    "\n",
    "<table>\n",
    "<title>\n",
    "<table_summary>\n",
    "<key_entities> \n",
    "<data_insights>\n",
    "</table>\n",
    "\n",
    "\"\"\"\n",
    "        image_paths.append(image_path)\n",
    "        system_prompts.append(system_prompt)\n",
    "        user_prompts.append(user_prompt_template)\n",
    "\n",
    "    # 멀티모달 객체 생성\n",
    "    multimodal_llm = MultiModal(llm)\n",
    "\n",
    "    # 이미지 파일로 부터 질의\n",
    "    answer = multimodal_llm.batch(\n",
    "        image_paths, system_prompts, user_prompts, display_image=False\n",
    "    )\n",
    "    return answer"
   ]
  },
  {
   "cell_type": "code",
   "execution_count": 43,
   "metadata": {},
   "outputs": [
    {
     "data": {
      "text/plain": [
       "{15: '<image>\\n<title>Bitumen Price Trends (January - October)</title>\\n<summary>This line graph illustrates the price trends of bitumen from January to October. The prices show a general upward trend, with fluctuations observed throughout the year. Notable increases are evident as the year progresses, particularly leading up to October.</summary>\\n<entities>\\n- Bitumen\\n- Price trends\\n- Europe\\n- Asia-Pacific\\n- Crude oil\\n- High-sulphur fuel oil (HSFO)\\n- Rotterdam\\n- Baltics\\n- Mediterranean\\n- Vietnam\\n- Australia\\n- China\\n- India\\n- Sub-Saharan Africa\\n- South Africa\\n</entities>\\n</image>',\n",
       " 23: \"<image>\\n<title>Global Shipping Rates and Export Destinations</title>\\n<summary>This map illustrates various shipping rates per ton from different regions, highlighting Spain's export rate of $460/t. It also shows other regions such as Rotterdam, Italy, and the Ivory Coast with their respective rates.</summary>\\n<entities>\\n- Regions: Spain, Rotterdam, Italy, Baltic, Greece, South Korea, Taiwan, Thailand, Singapore, Iran, Bahrain, Ivory Coast\\n- Shipping Rates: Spain ($460/t), Rotterdam ($463/t), Italy ($455/t), Baltic ($456/t), Greece ($455/t), South Korea ($400/t), Taiwan ($403/t), Thailand ($400/t), Singapore ($410/t), Iran ($298/t), Bahrain ($425/t), Ivory Coast ($552/t)\\n</entities>\\n</image>\",\n",
       " 29: '<image>\\n<title>Trade Activity in the Mediterranean</title>\\n<summary>This graph illustrates the trade activity levels of various regions, including Rotterdam, Spain, Italy, Greece, and the Ivory Coast, over time. The data shows fluctuations in trade volumes from October 2020 to October 2021, with a notable increase in activity for the Ivory Coast compared to other regions.</summary>\\n<entities>\\n- Regions: Rotterdam, Spain, Italy, Greece, Ivory Coast\\n- Timeframe: 23 October 2020 to 1 October 2021\\n</entities>\\n</image>',\n",
       " 52: '<image>\\n<title>Domestic Truck Prices Comparison: Southern UK vs. Rotterdam</title>\\n<summary>This graph illustrates the price trends of domestic truck prices in Southern UK and Rotterdam from January to October. The Southern UK prices show a steady increase, particularly notable around October, while Rotterdam prices exhibit a more fluctuating pattern with less pronounced increases.</summary>\\n<entities>\\n- Southern UK domestic prices\\n- Rotterdam domestic prices\\n- Timeframe: January 22 to October 1\\n</entities>\\n</image>',\n",
       " 68: '<image>\\n<title>Bitumen Price Trends in Germany (Northern vs Southern)</title>\\n<summary>This graph illustrates the price trends of bitumen in Northern and Southern Germany from January 22 to October 1. Northern Germany shows a steady increase, while Southern Germany exhibits more fluctuation in prices, with both regions experiencing a general upward trend over the observed period.</summary>\\n<entities>\\n- Northern Germany\\n- Southern Germany\\n- Bitumen prices\\n- Date range: January 22 to October 1\\n</entities>\\n</image>',\n",
       " 105: \"<image>\\n<title>Price Trends of Domestic Bitumen in Hungary and Romania (2023)</title>\\n<summary>This graph illustrates the price trends of domestic bitumen in Hungary and Romania from January to October 2023. The blue line represents Hungary's domestic prices, while the dashed blue line indicates Romania's domestic prices. Both trends show fluctuations, with Hungary's prices generally increasing over the period.</summary>\\n<entities>\\n- Hungary domestic bitumen prices\\n- Romania domestic bitumen prices\\n- Timeframe: January to October 2023\\n</entities>\\n</image>\",\n",
       " 126: '<image>\\n<title>Mediterranean Bitumen Cargo Prices and Freight Rates</title>\\n<summary>This image presents a graph showing the trends in Italy domestic and HSFO Mediterranean cargo prices from January to October 2021, alongside a table detailing Mediterranean cargo freight rates for various routes. The data indicates a sharp increase in bitumen prices due to rising HSFO prices, with specific premiums for Spanish, Greek, Turkish, and Italian exports. It also highlights a decrease in delivered values to North African markets and a reduction in cross-Mediterranean freight rates.</summary>\\n<entities>\\n- Mediterranean bitumen cargo prices\\n- High-sulphur fuel oil (HSFO)\\n- Spanish export premiums\\n- Greek fob cargo premiums\\n- Turkish export flows\\n- Italian fob cargo premiums\\n- North African markets\\n- Delivered values to Algeria and Morocco\\n- Egyptian state-refiner EGPC\\n- Cross-Mediterranean freight rates\\n</entities>\\n</image>',\n",
       " 138: '<image>\\n<title>Infrastructure and Transportation Overview</title>\\n<summary>This image depicts road construction and maintenance activities, highlighting the importance of infrastructure in transportation. The presence of road rollers suggests ongoing roadwork, while the scenic road indicates the connectivity and accessibility of regions. The aerial view of highways emphasizes the complexity and planning involved in transportation networks.</summary>\\n<entities>\\n- Road construction\\n- Road rollers\\n- Infrastructure\\n- Transportation networks\\n- Scenic roads\\n</entities>\\n</image>',\n",
       " 193: '<image>\\n<title>Bitumen Price Trends in Sub-Saharan Africa</title>\\n<summary>The graph illustrates the increase in bitumen prices across sub-Saharan Africa from January to October, highlighting significant price rises due to strong demand in southern and eastern Africa, while west African activity was limited by rainy conditions. Key events include the arrival of the Bitu Express in Togo and ongoing shipments to Mauritania.</summary>\\n<entities>\\n- Bitumen prices\\n- Sub-Saharan Africa\\n- South Africa\\n- West Africa\\n- Southern Africa\\n- Eastern Africa\\n- Bitu Express\\n- Togo\\n- Greece\\n- Mauritania\\n</entities>\\n</image>',\n",
       " 218: \"<image>\\n<title>Bitumen Price Trends</title>\\n<summary>This graph illustrates the price trends of bitumen from January to October, showing fluctuations with a notable increase over the months, peaking around mid-year before a slight decline towards October.</summary>\\n<entities>\\n- Naftal\\n- Nouakchott\\n- Mauritania\\n- Nigerian bitumen stocks\\n- Jane Asphalt\\n- Gradient Energy\\n- Warri terminal\\n- Ghana's GOIL\\n- Tema\\n- San Biagio\\n- Douala\\n- Cameroon\\n- Iranian drummed bitumen\\n- East Africa\\n- Bandar Abbas\\n- Kenya\\n- Mombasa\\n- Jebel Ali\\n- Dar es Salaam\\n</entities>\\n</image>\",\n",
       " 251: '<image>\\n<title>South Africa Bitumen Price Trends</title>\\n<summary>This line graph illustrates the price trends of bitumen in South Africa from January to October, showing a steady increase from around $350/t to approximately $650/t. The data indicates significant price hikes, particularly noted in the latter months of the year.</summary>\\n<entities>\\n- Location: South Africa\\n- Price Range: $350/t to $650/t\\n- Time Frame: January 22 to October 1\\n</entities>\\n</image>',\n",
       " 268: '<image>\\n<title>Singapore Bitumen Prices Trend</title>\\n<summary>This graph illustrates the price trend of Singapore HSFO 180cst from January to October, showing fluctuations with a notable increase in recent weeks. The prices have risen to around $410/t, reflecting recent market activities and supply dynamics.</summary>\\n<entities>\\n- Singapore bitumen prices\\n- Price increase: $5/t\\n- Key trader sales: 15,000t to Indonesia at $410/t\\n- October-loading deals: $405-410/t\\n- Vietnam deals: cfr basis, fob values $405-410/t\\n- Offers from refiners/local traders: $415-425/t\\n- Supply balance expected in October\\n- Tank truck prices: $406-415/t ex-refinery\\n- Domestic prices in Singapore: $420-445/t ex-tank\\n- Domestic demand: flat against September\\n</entities>\\n</image>',\n",
       " 300: \"<image>\\n<title>Bitumen Price Trends in China</title>\\n<summary>This graph illustrates the price trends of bitumen in North and South China from January to October. North China's prices show a significant increase, peaking around $450/t, while South China's prices remain relatively stable, fluctuating around $400/t.</summary>\\n<entities>\\n- North China\\n- South China\\n- Bitumen prices\\n- Timeframe: January to October\\n</entities>\\n</image>\",\n",
       " 404: '<image>\\n<title>Thailand Pen 60/70 Waterborne Price Trends</title>\\n<summary>This line graph illustrates the price trends of Thailand Pen 60/70 waterborne bitumen from January to October. The prices fluctuate between approximately 300 and 450, with notable peaks and troughs throughout the year.</summary>\\n<entities>\\n- Thailand Pen 60/70 waterborne\\n- Price range: 300 to 450\\n- Time period: January to October\\n</entities>\\n</image>',\n",
       " 424: '<image>\\n<title>Strategic Planning for Commodity Projects</title>\\n<summary>This image outlines a framework for managing bespoke projects across different time horizons: short-term, mid-term, and long-term. It emphasizes the importance of commodity market expertise, international networks, and trusted data in project execution.</summary>\\n<entities>\\n- Bespoke projects\\n- Long-term planning\\n- Mid-term planning\\n- Short-term planning\\n- Commodity market expertise\\n- International networks\\n- Trusted data\\n</entities>\\n</image>',\n",
       " 458: \"<image>\\n<title>Market Analysis and Updates</title>\\n<summary>This image depicts a person using a laptop to access various resources related to market analysis, including blog posts, podcasts, news stories, white papers, and webinars. The context provided highlights recent developments in the oil and bitumen sectors across Germany, Bahrain, Romania, and Russia.</summary>\\n<entities>\\n- Germany's Schwedt refinery: Restarted, capacity 208,000 b/d, target utilization 80-100%, repairs ongoing.\\n- Bahrain's Bapco: Bitumen price increase to $440/t, third hike in a month.\\n- Romania's Midia refinery: Capacity 100,000 b/d, repairs completed, operations resuming by end of October.\\n- BTK’s bitumen terminal: Rbs1bn financing for upgrades, increasing storage and loading capacity.\\n</entities>\\n</image>\",\n",
       " 470: '<image>\\n<title>Bitumen Price Trends</title>\\n<summary>This line graph illustrates the fluctuations in bitumen prices from January to September, showing a general upward trend with notable spikes and dips throughout the months.</summary>\\n<entities>\\n- Timeframe: January to September\\n- Price range: 2 to 10 (units not specified)\\n- Notable events: Price increases in October, September hikes\\n</entities>\\n</image>',\n",
       " 477: '<image>\\n<title>Argus Direct and Bitumen Methodology</title>\\n<summary>This image promotes Argus Direct, a platform providing immediate access to market news, analysis, and price assessments. It also highlights the Argus Bitumen Methodology, which offers a transparent approach to price assessment in the bitumen market.</summary>\\n<entities>\\n- Argus Direct\\n- Bitumen\\n- Market news\\n- Price assessments\\n- Argus Bitumen Methodology\\n- Website links: www.argusmedia.com/direct, www.argusmedia.com/methodology\\n- Contact email: info@argusmedia.com\\n</entities>\\n</image>',\n",
       " 501: \"<image>\\n<title>The Queen's Awards for Enterprise: 2015</title>\\n<summary>This image features the logo for The Queen's Awards for Enterprise, awarded in 2015. The logo includes a stylized wing and a crown, symbolizing excellence in business and enterprise in the UK.</summary>\\n<entities>\\n- The Queen's Awards for Enterprise\\n- 2015\\n</entities>\\n</image>\"}"
      ]
     },
     "execution_count": 43,
     "metadata": {},
     "output_type": "execute_result"
    }
   ],
   "source": [
    "def create_image_summary(state: GraphState):\n",
    "    # 이미지 요약 추출\n",
    "    # extract_image_summary 함수를 호출하여 이미지 요약 생성\n",
    "    image_summaries = extract_image_summary.invoke(\n",
    "        state[\"image_summary_data_batches\"],\n",
    "    )\n",
    "\n",
    "    # 이미지 요약 결과를 저장할 딕셔너리 초기화\n",
    "    image_summary_output = dict()\n",
    "\n",
    "    # 각 데이터 배치와 이미지 요약을 순회하며 처리\n",
    "    for data_batch, image_summary in zip(\n",
    "        state[\"image_summary_data_batches\"], image_summaries\n",
    "    ):\n",
    "        # 데이터 배치의 ID를 키로 사용하여 이미지 요약 저장\n",
    "        image_summary_output[data_batch[\"id\"]] = image_summary\n",
    "\n",
    "    # 이미지 요약 결과를 포함한 새로운 GraphState 객체 반환\n",
    "    return GraphState(image_summary=image_summary_output)\n",
    "\n",
    "\n",
    "# 이미지 요약 생성 함수 실행\n",
    "state_out = create_image_summary(state)\n",
    "\n",
    "# 기존 상태 업데이트\n",
    "state.update(state_out)\n",
    "\n",
    "# 이미지 요약 결과 출력\n",
    "state_out[\"image_summary\"]"
   ]
  },
  {
   "cell_type": "code",
   "execution_count": 44,
   "metadata": {},
   "outputs": [
    {
     "data": {
      "text/plain": [
       "{12: \"<table>\\n<title>Bitumen Prices Summary (25 Sep - 1 Oct)</title>\\n<table_summary>Summary of bitumen prices across key locations, highlighting export cargo and domestic prices.</table_summary>\\n<key_entities>\\n- Export Cargo Prices (fob)\\n  - Mediterranean: $448.58 - $453.58\\n  - Rotterdam: $460.90 - $465.90\\n  - Baltic: $453.90 - $457.90\\n  - Singapore: $405 - $415\\n  - South Korea: $395 - $405\\n  - Mideast Gulf: $298 - $425\\n- Delivered Cargo Prices (cfr)\\n  - North Africa (Alexandria, bulk): $486 - $496\\n  - East Africa (Mombasa, drum): $465 - $475\\n  - West Africa (Lagos, bulk): $600 - $610\\n  - East China coast: $425 - $475\\n- Domestic Prices\\n  - Antwerp (ex-works): $490 - $507\\n  - Southern Germany (ex-works): $431 - $449\\n  - Hungary (ex-works): $443 - $455\\n  - Italy (ex-works inc tax): $455 - $466\\n  - Indonesia (ex-works): $444\\n  - Mumbai (bulk): $544 - $594\\n</key_entities>\\n<data_insights>\\n- Bitumen prices have generally increased in Europe and Asia-Pacific due to rising crude and fuel oil prices.\\n- Mediterranean and Rotterdam prices saw notable increases, while Baltic prices also rose.\\n- Domestic truck prices in Europe strengthened at the start of October.\\n- Demand is expected to improve in Asia-Pacific despite a slowdown during China's Golden Week.\\n- Sub-Saharan Africa experienced a surge in bitumen prices, particularly in South Africa.\\n</data_insights>\\n</table>\",\n",
       " 18: \"<table>\\n<title>Bitumen Market Overview</title>\\n<table_summary>Summary of bitumen market trends and price movements across various regions.</table_summary>\\n<key_entities>\\n- Bitumen prices\\n- Crude oil prices\\n- High-sulphur fuel oil (HSFO)\\n- Regions: Europe, Asia-Pacific, Mediterranean, Sub-Saharan Africa\\n- Key countries: Vietnam, Australia, China, India, South Africa\\n</key_entities>\\n<data_insights>\\n- Bitumen cargo values increased in Europe and Asia-Pacific due to rising crude and fuel oil prices.\\n- Domestic truck prices in Europe strengthened at the start of October.\\n- Cargo premiums to HSFO in Rotterdam and the Baltics decreased by $2-3/t, while outright values rose.\\n- Mediterranean premium values remained steady amid rising outright values and slowing demand.\\n- The Asia-Pacific bitumen market remained firm despite a slowdown expected during China's Golden Week holidays.\\n- Crude and HSFO prices in Asia-Pacific led refiners to consider price hikes or production cuts.\\n- Supply for October was balanced in key export locations like Singapore and South Korea due to lower bitumen production.\\n- Demand is anticipated to improve from Vietnam, Australia, China, and India due to seasonal factors and easing pandemic restrictions.\\n- Bitumen prices surged in sub-Saharan Africa, with higher delivered cargo and drummed import prices, as well as increased domestic and export values in South Africa.\\n</data_insights>\\n</table>\",\n",
       " 32: \"<table>\\n<title>Europe and Africa Cargo Export Differentials to HSFO</title>\\n<table_summary>Summary of cargo export differentials from various regions to HSFO, including low and high price ranges.</table_summary>\\n<key_entities>\\n  <entity>Region</entity>\\n  <entity>Low Price Differential ($/t)</entity>\\n  <entity>High Price Differential ($/t)</entity>\\n  <entity>Price Change (±)</entity>\\n</key_entities>\\n<data_insights>\\n  <insight>Mediterranean (basis Augusta) has a low differential of +11.33 and a high of +16.33.</insight>\\n  <insight>Rotterdam, Netherlands shows a higher range with a low of +25.00 and a high of +30.00.</insight>\\n  <insight>Spain's differential ranges from +20.00 to +25.00, indicating stable export conditions.</insight>\\n  <insight>Ivory Coast has the highest differential, ranging from +113.00 to +117.00, suggesting significant export value.</insight>\\n</data_insights>\\n</table>\",\n",
       " 33: \"<table>\\n<title>Europe and Africa Cargo Export Differentials to Crude</title>\\n<table_summary>This table presents the differentials in export prices for various regions in Europe and Africa compared to Ice Brent crude oil prices.</table_summary>\\n<key_entities>\\n    <entity>Region</entity>\\n    <entity>Differential to Ice Brent $/t</entity>\\n    <entity>Differential to Ice Brent $/bbl</entity>\\n</key_entities>\\n<data_insights>\\n    <insight>The Mediterranean region has the largest negative differential to Ice Brent at -143.29 $/t.</insight>\\n    <insight>Spain's differential is -134.62 $/t, indicating a significant price gap compared to Ice Brent.</insight>\\n    <insight>Albania shows the largest negative differential at -169.62 $/t, suggesting lower export prices.</insight>\\n    <insight>The Ivory Coast has a unique positive differential to Ice Brent in terms of $/bbl at +10.57.</insight>\\n</data_insights>\\n</table>\",\n",
       " 50: '<table>\\n<title>North and Central Europe Bitumen Prices, 29 Sep - 1 Oct</title>\\n<table_summary>Summary of bitumen prices across various regions in Europe, highlighting domestic and export prices along with recent changes.</table_summary>\\n<key_entities>\\n- Domestic Prices (ex-works)\\n  - Southern UK: £380-390/t\\n  - Rotterdam: €420-435/t\\n  - Antwerp: €420-435/t\\n  - Northern Germany: €385-395/t\\n  - Czech Republic: €375-385/t\\n- Export Prices (ex-works)\\n  - Poland-Germany (truck): €345-355/t\\n  - Czech Republic-Germany (truck): €345-355/t\\n- Domestic Prices (delivered)\\n  - Southern UK: £395-405/t\\n  - Brussels: €430-445/t\\n  - Northern France: €475-485/t\\n</key_entities>\\n<data_insights>\\n- Domestic truck prices increased in several markets, with notable rises in Germany (€10/t) and Benelux countries (€20/t).\\n- Czech domestic and export prices strengthened due to tight refinery supply.\\n- High-sulphur fuel oil price increases affected bitumen values, but early winter signs led to modest decreases in export premiums.\\n- Cross-regional freight rates for 5,000t cargoes showed slight declines.\\n</data_insights>\\n</table>',\n",
       " 54: '<table>\\n<title>Crude and Refined Products Prices (25 Sep - 1 Oct)</title>\\n<table_summary>Summary of price ranges for various crude and refined products over the specified period.</table_summary>\\n<key_entities>\\n- Ice Brent minute marker: $78.50 - $79.60\\n- Fuel oil 3.5%: $432.00 - $439.50\\n- Urals cif Rotterdam: $75.47 - $76.75\\n- Fuel oil straight-run 0.5%: $566.75 - $584.75\\n- Fuel oil straight-run M-100: $472.50 - $479.00\\n- Vacuum gasoil 0.5%: $580.25 - $598.25\\n</key_entities>\\n<data_insights>\\n- The average price for Ice Brent is approximately $78.93, with a slight increase of $3.12.\\n- Fuel oil 3.5% saw an increase of $21.45, averaging $435.90.\\n- Urals cif Rotterdam prices increased by $3.69.\\n- Fuel oil straight-run 0.5% and M-100 both experienced significant increases of $20.25 and $24.75 respectively.\\n- Vacuum gasoil 0.5% also rose by $20.13.\\n</data_insights>\\n</table>',\n",
       " 55: '<table>\\n<title>Northern Europe Cargo Freight Rates</title>\\n<table_summary>Summary of cargo freight rates across various routes in Northern Europe.</table_summary>\\n<key_entities>\\n  <entity>Rotterdam-Thames</entity>\\n  <entity>Hamburg-Thames</entity>\\n  <entity>Klaipeda-Thames</entity>\\n  <entity>La Coruna-Thames</entity>\\n</key_entities>\\n<data_insights>\\n  <insight>Freight rates for 5,000t cargoes show slight declines across all routes.</insight>\\n  <insight>Rotterdam rates range from $22 to $24/t.</insight>\\n  <insight>Hamburg rates range from $29 to $31/t.</insight>\\n  <insight>Klaipeda rates range from $47 to $49/t.</insight>\\n  <insight>La Coruna rates range from $39 to $43/t.</insight>\\n</data_insights>\\n</table>',\n",
       " 121: '<table>\\n<title>Mediterranean Bitumen Price Index Summary</title>\\n<table_summary>This table presents the Mediterranean bitumen price index, highlighting the fob prices and their differential to high-sulphur fuel oil (HSFO).</table_summary>\\n<key_entities>\\n- Mediterranean fob (Augusta): Low: $448.58, High: $453.58\\n- Differential to HSFO: Low: +$11.33, High: +$16.33\\n</key_entities>\\n<data_insights>\\n- The Mediterranean fob prices are currently in the range of $448.58 to $453.58 per ton.\\n- The differential to HSFO indicates a premium of $11.33 to $16.33 per ton, reflecting the market dynamics influenced by rising HSFO prices.\\n</data_insights>\\n</table>',\n",
       " 122: '<table>\\n<title>Mediterranean Bitumen Prices (25 Sep - 1 Oct)</title>\\n<table_summary>Summary of Mediterranean bitumen prices, including domestic and export prices, delivered cargo prices, and economic insights.</table_summary>\\n<key_entities>\\n- Domestic Prices (ex-works):\\n  - Italy: $455 - $466\\n  - Southern France: $519 - $530\\n  - Northeast Spain: $530 - $542\\n  - Southwest Spain: $530 - $542\\n  - Turkey (Izmit, Batman, Kirikkale): $532 - $537\\n- Export Prices (fob $/t):\\n  - Italy: +$15.00 to +$20.00\\n  - Greece: +$15.00 to +$20.00\\n  - Spain: +$20.00 to +$25.00\\n  - Albania: -$15.00 to -$10.00\\n- Delivered Cargo Prices (cfr):\\n  - Alexandria, Egypt: $486 - $496\\n  - Gebze-Mersin, Turkey: $480 - $490\\n  - Ghazaouet, Algeria: $481 - $491\\n  - Rades, Tunisia: $479 - $489\\n- Economics: Bitumen’s value as a fuel oil blendstock: $395.473\\n</key_entities>\\n<data_insights>\\n- Mediterranean bitumen prices increased due to rising HSFO prices.\\n- Demand slowdown in the region has led to greater availability of bitumen.\\n- Delivered values into North African markets decreased, with offers into Algeria and Morocco in the low to high $50s/t.\\n- Spanish fob levels surpassed US east coast cargoes.\\n- Cross-Mediterranean freight rates decreased due to reduced demand.\\n</data_insights>\\n</table>',\n",
       " 125: '<table>\\n<title>Mediterranean Bitumen Cargo Prices Summary</title>\\n<table_summary>Summary of Mediterranean bitumen cargo prices and related fuel oil values as of late September 2021.</table_summary>\\n<key_entities>\\n- Fuel oil 3.5% 0.998 fob: Low $434.00, High $440.25, Average $437.25, Change +$20.60\\n- Basrah Light fob Sidi Kerir: Low $75.32, High $76.40, Change +$3.62\\n- Urals Med Aframax: Low $76.12, High $77.20, Change +$3.62\\n- Iran Heavy fob Sidi Kerir: Low $71.75, High $72.83, Change +$3.62\\n- VGO 0.5% west Med cif: Low $583.75, High $598.25, Change +$23.63\\n</key_entities>\\n<data_insights>\\n- Mediterranean bitumen prices increased due to rising HSFO prices.\\n- Spanish export premiums to HSFO range from $20-25/t fob.\\n- Demand slowdown in the Mediterranean has led to greater availability of bitumen.\\n- Delivered values into North African markets decreased, with offers into Algeria and Morocco in the high $50s/t.\\n- Cross-Mediterranean freight rates decreased by $1-3/t due to reduced demand.\\n</data_insights>\\n</table>',\n",
       " 196: '<table>\\n<title>Bitumen Prices and Freight Rates in Sub-Saharan Africa</title>\\n<table_summary>Summary of bitumen prices and freight rates across various regions in Sub-Saharan Africa, highlighting domestic and import/export prices.</table_summary>\\n<key_entities>\\n- South Africa: Domestic prices (ex-works) range from 9,200 to 9,600 local currency/t ($611 to $637).\\n- Ivory Coast: Export cargo price at $550.25 to $554.25.\\n- Nigeria: Import cargo price at $600 to $610.\\n- Ghana: Import cargo price at $576 to $586.\\n- Kenya: Import drums price at $465 to $475.\\n- Tanzania: Import drums price at $470 to $480.\\n- Freight rates: Various routes with specific rates listed.\\n</key_entities>\\n<data_insights>\\n- Bitumen prices are increasing across sub-Saharan Africa, with strong demand in southern and eastern regions.\\n- West African activity is limited due to the rainy season, affecting construction and bitumen demand.\\n- Freight rates for cargo from Spain to Nigeria are stable, while local prices in South Africa have seen a notable increase.\\n- The arrival of the Bitu Express in Togo is expected to support regional stocks for upcoming projects.\\n</data_insights>\\n</table>',\n",
       " 197: '<table>\\n<title>Mideast Gulf to Africa Freight Rates</title>\\n<table_summary>Freight rates for transporting bitumen from the Mideast Gulf to various African destinations, indicating low and high price ranges.</table_summary>\\n<key_entities>\\n- Locations: Bandar Abbas, Jebel Ali, Mombasa, Dar es Salaam, Djibouti\\n- Freight Rates: Low and High prices in $/t\\n</key_entities>\\n<data_insights>\\n- Bandar Abbas to Jebel Ali-Mombasa: $95 - $100/t\\n- Bandar Abbas to Jebel Ali-Dar es Salaam: $100 - $105/t\\n- Bandar Abbas to Jebel Ali-Djibouti: $185 - $190/t\\n- All rates have a variation of +$10.00.\\n</data_insights>\\n</table>',\n",
       " 270: '<table>\\n<title>Asia Bitumen Prices Summary (25 Sep - 1 Oct)</title>\\n<table_summary>Summary of bitumen prices across various regions in Asia, highlighting recent price changes and market dynamics.</table_summary>\\n<key_entities>\\n- **Singapore Bitumen Prices**: Increased by $5/t\\n- **Key Trader Sales**: 15,000t sold to Indonesia at $410/t for November-loading\\n- **October-loading Deals**: Concluded at $405-410/t\\n- **Vietnam Deals**: Two deals for end-October loading at cfr basis, fob values $405-410/t\\n- **Refiner Offers**: Ranged from $415-425/t for late-October/early-November loading\\n- **Domestic Prices in Singapore**: Increased by $20.50/t to $420-445/t ex-tank\\n- **Tank Truck Prices**: Rose to $406-415/t ex-refinery; jumped to $415-430/t ex-refinery\\n- **Offer into Johore**: 1920 ringgit/t ($456/t) on a delivered basis\\n- **Supply Outlook**: Expected to balance in October due to production loss from key refiners\\n</key_entities>\\n<data_insights>\\n- The increase in Singapore bitumen prices reflects a tightening supply situation, influenced by production losses from key refiners.\\n- Domestic demand in Singapore is expected to remain flat due to manpower limitations and anticipated wet weather, despite rising prices.\\n- The market shows a regional disparity in pricing, with offers varying significantly between countries, indicating localized demand and supply conditions.\\n</data_insights>\\n</table>',\n",
       " 276: '<table>\\n<title>Bitumen Prices in China (25 Sep - 1 Oct)</title>\\n<table_summary>Summary of bitumen prices across various provinces and refineries in China, including contract and posted prices in both Yuan and USD.</table_summary>\\n<key_entities>\\n- **Regions**: Northwest, Northeast, North, Central, East, South, West\\n- **Refineries**: Petrochina, Sinopec, CNOOC\\n- **Grades**: AH-70, AH-90, AH-100, AH-110, AH-130, AH-140, AH-180, 70-A, 70-B, 90-A, 90-B\\n- **Contract Prices**: Ranging from 1,475 to 3,900 Yuan/t\\n- **Posted Prices**: Ranging from 1,875 to 4,300 Yuan/t\\n- **USD Conversion**: Prices range from $228 to $713\\n</key_entities>\\n<data_insights>\\n- The highest contract price is in Xinjiang at 3,900 Yuan/t ($603).\\n- The lowest contract price is in Liaoning at 1,475 Yuan/t ($228).\\n- Prices show variability across different regions, with notable increases in some areas.\\n- The data indicates a stable pricing environment with no significant fluctuations reported (nc).\\n</data_insights>\\n</table>',\n",
       " 278: '<table>\\n<title>Bitumen Freight Rates (25 Sep - 1 Oct)</title>\\n<table_summary>Summary of bitumen freight rates across various regions, highlighting changes in prices.</table_summary>\\n<key_entities>\\n- Regions: Singapore, Thailand, Taiwan, South Korea\\n- Freight Rates: Various rates in $/t\\n- Changes: Notable increases and stable prices\\n</key_entities>\\n<data_insights>\\n- Singapore-east Australia: Increased from 130 to 145 $/t (nc)\\n- Singapore-west Australia: Increased from 75 to 90 $/t (nc)\\n- Singapore-Gresik, Indonesia: Increased from 32 to 38 $/t (-0.50)\\n- Thailand-east Australia: Increased from 125 to 140 $/t (+5.00)\\n- Most regions show stable prices, with minor fluctuations noted.\\n</data_insights>\\n</table>',\n",
       " 302: '<table>\\n<title>Australia Import Cargo Prices (25 Sep - 1 Oct)</title>\\n<table_summary>Summary of import cargo prices for Thailand and Singapore, detailing low and high price ranges.</table_summary>\\n<key_entities>\\n- Thailand fob (Class 170): Low $417, High $427\\n- Thailand fob (Class 320): Low $422, High $432\\n- Singapore fob (Class 170): Low $420, High $430\\n- Singapore fob (Class 320): Low $425, High $435\\n</key_entities>\\n<data_insights>\\n- Prices for Thailand and Singapore show a range of $10 between low and high for each class.\\n- The price fluctuations are consistent across different classes, indicating stable market conditions.\\n</data_insights>\\n</table>',\n",
       " 303: '<table>\\n<title>Mideast Gulf to India Freight Rates</title>\\n<table_summary>Freight rates from the Mideast Gulf to various ports in India, categorized by type (drums and bulk).</table_summary>\\n<key_entities>\\n  <entity>Bandar Abbas/Nhava Sheva (drums)</entity>\\n  <entity>Bandar Abbas/Mundra (drums)</entity>\\n  <entity>Bandar Abbas/Haldia (drums)</entity>\\n  <entity>Bandar Abbas/Mundra (bulk)</entity>\\n  <entity>Bandar Abbas/Karwar (bulk)</entity>\\n  <entity>Bandar Abbas/Kakinada (bulk)</entity>\\n  <entity>Bandar Abbas/Haldia (bulk)</entity>\\n</key_entities>\\n<data_insights>\\n  <insight>Freight rates for drums range from $27 to $66/t.</insight>\\n  <insight>Bulk freight rates range from $80 to $130/t.</insight>\\n  <insight>Some bulk rates have seen recent increases of $2.50.</insight>\\n  <insight>Rates are generally stable, with no significant changes noted (nc).</insight>\\n</data_insights>\\n</table>',\n",
       " 317: '<table>\\n<title>Iranian Export Sales through the IME, 25-30 Sep</title>\\n<table_summary>Summary of Iranian export sales of bitumen grades through the IME, including prices, volumes, and destinations.</table_summary>\\n<key_entities>\\n  <entity>Jey Oil</entity>\\n  <entity>Kasra Bitumen Refining</entity>\\n  <entity>Ace Oil</entity>\\n  <entity>Petro Kala Hegmatan</entity>\\n  <entity>RK Refining</entity>\\n  <entity>Hormozan Oil</entity>\\n  <entity>Black Gold</entity>\\n  <entity>White Gold</entity>\\n  <entity>Bitumen Hormoz Pars</entity>\\n  <entity>Pasargad Oil</entity>\\n  <entity>Petro Pasargad Hormozgan</entity>\\n  <entity>Petro Aygeh Spadana</entity>\\n  <entity>Siahfam</entity>\\n</key_entities>\\n<data_insights>\\n  <insight>Multiple sellers are offering various grades of bitumen, with prices ranging from 76,289 to 97,666 Rials/kg.</insight>\\n  <insight>Export volumes vary significantly, with the largest being 17,000 tons from Jey Oil.</insight>\\n  <insight>Most exports are directed to Bandar Abbas, with some shipments to other locations like Esfahan and Tabriz.</insight>\\n  <insight>Bulk and drum packing options are available for most sellers.</insight>\\n</data_insights>\\n</table>',\n",
       " 348: '<table>\\n<title>Refinery Pricing and Volume Data</title>\\n<table_summary>This table summarizes the pricing and volume data for various refineries in Iran, detailing the volume in tons, price range in rials per kilogram, and price range in USD per ton.</table_summary>\\n<key_entities>\\n  <refineries>\\n    <refinery>Bandar Abbas</refinery>\\n    <refinery>Esfahan</refinery>\\n    <refinery>Shiraz</refinery>\\n    <refinery>Tehran</refinery>\\n    <refinery>Tabriz</refinery>\\n    <refinery>Abadan</refinery>\\n    <refinery>Arak</refinery>\\n  </refineries>\\n  <volume_t>\\n    <volume>20,000</volume>\\n    <volume>10,000</volume>\\n    <volume>10,000</volume>\\n    <volume>20,000</volume>\\n    <volume>8,000</volume>\\n    <volume>20,000</volume>\\n    <volume>15,000</volume>\\n  </volume_t>\\n  <price_rials_kg>\\n    <low>71,661</low>\\n    <high>78,999</high>\\n  </price_rials_kg>\\n  <price_usd_t>\\n    <low>263</low>\\n    <high>290</high>\\n  </price_usd_t>\\n</key_entities>\\n<data_insights>\\n  - The highest volume is from Bandar Abbas at 20,000 tons.\\n  - Prices in rials/kg range from 71,661 to 78,999.\\n  - The lowest USD price per ton is 263, while the highest is 290.\\n  - Tabriz has the lowest price in both rials/kg and USD/t.\\n</data_insights>\\n</table>',\n",
       " 351: '<table>\\n<title>Iranian Domestic Sales through the IME, 25-30 Sep</title>\\n<table_summary>Summary of Iranian domestic sales by grade, volume, and price per kilogram.</table_summary>\\n<key_entities>\\n  <entity>60/70</entity>\\n  <entity>85/100</entity>\\n  <entity>Emulsion</entity>\\n  <entity>40/50</entity>\\n  <entity>PG6416-PG5816-PG5822</entity>\\n  <entity>MC250</entity>\\n</key_entities>\\n<data_insights>\\n  <insight>60/70 grade had the highest volume sold at 2,798 tons, with a price range of 78,000-83,500 rials/kg.</insight>\\n  <insight>85/100 grade sold 55 tons at 79,858 rials/kg.</insight>\\n  <insight>Emulsion grade had a lower volume of 25 tons at 74,000 rials/kg.</insight>\\n  <insight>No sales were recorded for the 40/50 grade.</insight>\\n  <insight>PG6416-PG5816-PG5822 grade had a significant volume of 1,405 tons sold at 79,858 rials/kg.</insight>\\n  <insight>MC250 grade sold 25 tons at a higher price of 110,000 rials/kg.</insight>\\n</data_insights>\\n</table>',\n",
       " 386: '<table>\\n<title>Bitumen Freight Movements</title>\\n<table_summary>This table provides details on various vessels transporting bitumen, including their owners, tonnage, loading and discharge ports, current positions, and estimated times of arrival (ETA).</table_summary>\\n<key_entities>\\n- Vessel names\\n- Owners\\n- Tonnage\\n- Loading ports\\n- Discharge ports\\n- Current positions\\n- ETAs\\n</key_entities>\\n<data_insights>\\n- The vessels are primarily operating in regions such as Northwest Europe, the Mediterranean, and the Baltic Sea.\\n- Most vessels have ETAs ranging from September 28 to October 10, 2021.\\n- The majority of the vessels are owned by companies like HB Tankship and COSCOSAS.\\n</data_insights>\\n</table>'}"
      ]
     },
     "execution_count": 44,
     "metadata": {},
     "output_type": "execute_result"
    }
   ],
   "source": [
    "def create_table_summary(state: GraphState):\n",
    "    # 테이블 요약 추출\n",
    "    table_summaries = extract_table_summary.invoke(\n",
    "        state[\"table_summary_data_batches\"],\n",
    "    )\n",
    "\n",
    "    # 테이블 요약 결과를 저장할 딕셔너리 초기화\n",
    "    table_summary_output = dict()\n",
    "\n",
    "    # 각 데이터 배치와 테이블 요약을 순회하며 처리\n",
    "    for data_batch, table_summary in zip(\n",
    "        state[\"table_summary_data_batches\"], table_summaries\n",
    "    ):\n",
    "        # 데이터 배치의 ID를 키로 사용하여 테이블 요약 저장\n",
    "        table_summary_output[data_batch[\"id\"]] = table_summary\n",
    "\n",
    "    # 테이블 요약 결과를 포함한 새로운 GraphState 객체 반환\n",
    "    return GraphState(table_summary=table_summary_output)\n",
    "\n",
    "\n",
    "# 테이블 요약 생성 함수 실행\n",
    "state_out = create_table_summary(state)\n",
    "\n",
    "# 기존 상태 업데이트\n",
    "state.update(state_out)\n",
    "\n",
    "# 테이블 요약 결과 출력\n",
    "state_out[\"table_summary\"]"
   ]
  },
  {
   "cell_type": "markdown",
   "metadata": {},
   "source": [
    "## Table Markdown 추출"
   ]
  },
  {
   "cell_type": "code",
   "execution_count": 46,
   "metadata": {},
   "outputs": [],
   "source": [
    "@chain\n",
    "def table_markdown_extractor(data_batches):\n",
    "    # 객체 생성\n",
    "    llm = ChatOpenAI(\n",
    "        temperature=0,  # 창의성 (0.0 ~ 2.0)\n",
    "        model_name=\"gpt-4o-mini\",  # 모델명\n",
    "    )\n",
    "\n",
    "    system_prompt = \"You are an expert in converting image of the TABLE into markdown format. Be sure to include all the information in the table. DO NOT narrate, just answer in markdown format.\"\n",
    "\n",
    "    image_paths = []\n",
    "    system_prompts = []\n",
    "    user_prompts = []\n",
    "\n",
    "    for data_batch in data_batches:\n",
    "        image_path = data_batch[\"table\"]\n",
    "        user_prompt_template = f\"\"\"DO NOT wrap your answer in ```markdown``` or any XML tags.\n",
    "        \n",
    "###\n",
    "\n",
    "Output Format:\n",
    "\n",
    "<table_markdown>\n",
    "\n",
    "\"\"\"\n",
    "        image_paths.append(image_path)\n",
    "        system_prompts.append(system_prompt)\n",
    "        user_prompts.append(user_prompt_template)\n",
    "\n",
    "    # 멀티모달 객체 생성\n",
    "    multimodal_llm = MultiModal(llm)\n",
    "\n",
    "    # 이미지 파일로 부터 질의\n",
    "    answer = multimodal_llm.batch(\n",
    "        image_paths, system_prompts, user_prompts, display_image=False\n",
    "    )\n",
    "    return answer"
   ]
  },
  {
   "cell_type": "code",
   "execution_count": 47,
   "metadata": {},
   "outputs": [
    {
     "data": {
      "text/plain": [
       "{12: '| Location                     | Low    | High   | ±       |\\n|------------------------------|--------|--------|---------|\\n| **Export cargo prices fob**  |        |        |         |\\n| Mediterranean                 | 448.58 | 453.58 | +20.93  |\\n| Rotterdam                     | 460.90 | 465.90 | +18.95  |\\n| Baltic                        | 453.90 | 457.90 | +18.95  |\\n| Singapore                     | 405    | 415    | +5.00   |\\n| South Korea                   | 395    | 405    | nc      |\\n| Mideast Gulf                  | 298    | 425    | +5.50   |\\n| **Delivered cargo prices cfr**|        |        |         |\\n| North Africa                  | 486    | 496    | +18.00  |\\n| East Africa                   | 465    | 475    | +26.00  |\\n| West Africa                   | 600    | 610    | +21.00  |\\n| East China coast              | 425    | 475    | +2.50   |\\n| **Domestic prices**          |        |        |         |\\n| Antwerp                       | 490    | 507    | +20.50  |\\n| Southern Germany              | 431    | 449    | +8.50   |\\n| Hungary                       | 443    | 455    | -3.00   |\\n| Italy                         | 455    | 466    | -3.00   |\\n| Indonesia                     | 444    | 444    | -1.00   |\\n| Mumbai                        | 544    | 594    | +17.00  |',\n",
       " 18: '| Section                                   | Page Numbers |\\n|-------------------------------------------|--------------|\\n| Key bitumen prices                        | 1            |\\n| Map of waterborne bitumen prices          | 2            |\\n| Northwest and central Europe              | 3-5          |\\n| Mediterranean                             | 6-8          |\\n| Sub-Saharan Africa                        | 9-11         |\\n| Asia-Pacific and Middle East              | 12-17        |\\n| Vessel tracking indications                | 18           |\\n| Bitumen news                              | 19-22        |',\n",
       " 32: '| Region                                 | Low      | High     | ±    |\\n|----------------------------------------|----------|----------|------|\\n| Mediterranean, basis Augusta           | +11.33   | +16.33   | +0.33|\\n| Rotterdam, Netherlands                 | +25.00   | +30.00   | -2.50|\\n| Baltic                                  | +18.00   | +22.00   | -2.50|\\n| Spain                                   | +20.00   | +25.00   | nc   |\\n| Italy                                   | +15.00   | +20.00   | nc   |\\n| Greece                                  | +15.00   | +20.00   | nc   |\\n| Ivory Coast                            | +113.00  | +117.00  | nc   |',\n",
       " 33: '| Location                          | Differential to Ice Brent $/t | Differential to Ice Brent $/bbl | ±     |\\n|-----------------------------------|-------------------------------|---------------------------------|-------|\\n| Mediterranean, basis Augusta      | -143.29                       | -5.82                           | +0.27 |\\n| Rotterdam, Netherlands            | -130.97                       | -3.83                           | -0.05 |\\n| Baltic                            | -138.47                       | -5.04                           | -0.05 |\\n| Spain                             | -134.62                       | -4.42                           | +0.22 |\\n| Italy                             | -139.62                       | -5.231                          | +0.21 |\\n| Greece                            | -139.62                       | -5.23                           | +0.21 |\\n| Albania                           | -169.62                       | -10.09                          | +0.22 |\\n| Ivory Coast                       | -42.12                        | 10.57                           | +0.22 |\\n| Bitumen conversion factor t/bl    | 6.17                          |                                 |       |\\n| Ice Brent conversion bl/t         | 7.53                          |                                 |       |',\n",
       " 50: '| Category                        | € / t         |                | $ / t         |                |\\n|---------------------------------|----------------|----------------|----------------|----------------|\\n|                                 | Low            | High           | Low            | High           |\\n| **Domestic prices, ex-works**   |                |                |                |                |\\n| Southern UK £ / t              | 380            | 390            | 516            | 529            |\\n| Rotterdam, Netherlands          | 420            | 435            | 490            | 507            |\\n| Antwerp, Belgium                | 420            | 435            | 490            | 507            |\\n| Northern Germany                | 385            | 395            | 449            | 460            |\\n| Northeast Germany               | 350            | 360            | 408            | 420            |\\n| Southern Germany                | 370            | 385            | 431            | 449            |\\n| Southwest Germany               | 365            | 380            | 425            | 443            |\\n| Western Germany                 | 375            | 385            | 437            | 449            |\\n| Hungary                         | 380            | 390            | 443            | 455            |\\n| Romania                         | 410            | 420            | 478            | 490            |\\n| Czech Republic                  | 375            | 385            | 437            | 449            |\\n| **Export prices, ex-works**     |                |                |                |                |\\n| Poland-Germany (truck)         | 345            | 355            | 402            | 414            |\\n| Czech Republic-Germany (truck)  | 345            | 355            | 402            | 414            |\\n| Poland-Romania (truck)         | 350            | 360            | 408            | 420            |\\n| Hungary-Romania (truck)        | 390            | 400            | 455            | 466            |\\n| Rotterdam (cargo)              | 460.90         | 465.90         |                |                |\\n| Baltic (cargo)                 | 453.90         | 457.90         |                |                |\\n| **Domestic prices, delivered**   |                |                |                |                |\\n| Southern UK £ / t              | 395            | 405            | 536            | 550            |\\n| Brussels                        | 430            | 445            | 501            | 519            |\\n| Northern France                 | 475            | 485            | 554            | 565            |\\n| Central France                  | 475            | 485            | 554            | 565            |',\n",
       " 54: '| Crude and refined products, 25 Sep-1 Oct          | Low     | High    | Average  | ±      |\\n|---------------------------------------------------|---------|---------|----------|--------|\\n| Ice Brent minute marker week range $/bl           | 78.50   | 79.60   | 78.934   | +3.12  |\\n| Fuel oil 3.5%S, fob RMG barge $/t                  | 432.00  | 439.50  | 435.900  | +21.45 |\\n| Urals cif Rotterdam $/bl                            | 75.47   | 76.75   |          | +3.69  |\\n| Fuel oil straight-run 0.5% fob cargo $/t           | 566.75  | 584.75  |          | +20.25 |\\n| Fuel oil straight-run M-100 cif cargo $/t          | 472.50  | 479.00  |          | +24.75 |\\n| Vacuum gasoil 0.5%S cif cargo $/t                  | 580.25  | 598.25  |          | +20.13 |',\n",
       " 55: '| Route                | Low | High | ±    |\\n|----------------------|-----|------|------|\\n| Rotterdam-Thames     | 22  | 24   | -0.50|\\n| Hamburg-Thames       | 29  | 31   | -0.50|\\n| Klaipeda-Thames      | 47  | 49   | -1.00|\\n| La Coruna-Thames     | 39  | 43   | -1.00|',\n",
       " 121: '| Mediterranean price index         | $/t   | Low     | High    | ±      |\\n|-----------------------------------|-------|---------|---------|--------|\\n| Mediterranean fob (Augusta)      |       | 448.58  | 453.58  | +20.93 |\\n| Differential to HSFO              |       | +11.33  | +16.33  | +0.33  |',\n",
       " 122: '| Category                        | Local currency/t | $/t            | Differential to HSFO |\\n|---------------------------------|------------------|----------------|-----------------------|\\n|                                 | Low  | High  | ±   | Low   | High  | ±   |                       |\\n| Domestic prices, ex-works      |                  |                |                       |\\n| Italy, including tax            | 390  | 400  | nc  | 455   | 466   | -3.00 |                       |\\n| Southern France (delivered)     | 445  | 455  | +25.00 | 519   | 530   | +25.50 |                       |\\n| Northeast Spain                 | 455  | 465  | nc  | 530   | 542   | -4.00 |                       |\\n| Southwest Spain                 | 455  | 465  | nc  | 530   | 542   | -4.00 |                       |\\n| Izmit, Turkey                   | 4,718 | 4,718 | +313.00 | 532   | 532   | +24.00 |                       |\\n| Izmir, Turkey                   | 4,718 | 4,718 | +313.00 | 532   | 532   | +24.00 |                       |\\n| Batman, Turkey                  | 4,762 | 4,762 | +314.00 | 537   | 537   | +24.00 |                       |\\n| Kirikkale, Turkey               | 4,762 | 4,762 | +314.00 | 537   | 537   | +24.00 |                       |\\n| Export prices, fob $/t         |                  |                |                       |\\n| Italy                           |                  |                | +15.00                | 452.25 | 457.25 | +20.60 |                       |\\n| Greece                          |                  |                | +15.00                | 452.25 | 457.25 | +20.60 |                       |\\n| Spain                           |                  |                | +20.00                | 457.25 | 462.25 | +20.60 |                       |\\n| Albania                         |                  |                | -15.00                | 422.25 | 427.25 | +20.60 |                       |\\n| Delivered cargo prices, cfr    |                  |                |                       |\\n| Alexandria, Egypt               |                  |                |                       | 486   | 496   | +18.00 |                       |\\n| Gebze-Mersin, Turkey           |                  |                |                       | 480   | 490   | +19.00 |                       |\\n| Ghazaouet, Algeria             |                  |                |                       | 481   | 491   | +19.00 |                       |\\n| Rades, Tunisia                  |                  |                |                       | 479   | 489   | +19.00 |                       |\\n| Economics                       |                  |                |                       |\\n| Bitumen’s value as a fuel oil blendstock $/t | 395.473 | +18.57 |                       |',\n",
       " 125: '| Product                          | Low     | High    | Average   | ±      |\\n|----------------------------------|---------|---------|-----------|--------|\\n| Fuel oil 3.5% 0.998 fob         | 434.00  | 440.25  | 437.250   | +20.60 |\\n| Basrah Light fob Sidi Kerir     | 75.32   | 76.40   |           | +3.62  |\\n| Urals Med Aframax                | 76.12   | 77.20   |           | +3.62  |\\n| Iran Heavy fob Sidi Kerir       | 71.75   | 72.83   |           | +3.62  |\\n| VGO 0.5% west Med cif $/t       | 583.75  | 598.25  |           | +23.63 |',\n",
       " 196: '| Category                                   | Local currency/t | $/t         |\\n|--------------------------------------------|------------------|-------------|\\n|                                            | Low      | High     | ±      | Low  | High | ±      |\\n| Domestic prices, ex-works                  |          |         |        |      |      |        |\\n| South Africa                               | 9,200    | 9,600   | +750.00 | 611  | 637  | +39.00 |\\n| Import/export prices                        |          |         |        |      |      |        |\\n| Ivory Coast, fob Abidjan (export, cargo)  |          |         |        | 550.25 | 554.25 | +20.60 |\\n| Nigeria, cfr Lagos (import cargo)          | 600      | 610     | +21.00  |      |      |        |\\n| Ghana, cfr Takoradi-Tema (import, cargo)  | 576      | 586     | +21.00  |      |      |        |\\n| Kenya, cfr Mombasa (import, drums)        | 465      | 475     | +26.00  |      |      |        |\\n| Tanzania, cfr Dar es Salaam (import, drums)| 470      | 480     | +26.00  |      |      |        |\\n| Freight rates                              |          |         |        |      |      |        |\\n| Abidjan-Lagos-Warri-Port Harcourt (cargo) | 41       | 45      | nc     |      |      |        |\\n| Abidjan-Takoradi-Tema (cargo)              | 27       | 30      | nc     |      |      |        |\\n| Tarragona-Lagos-Warri-Port Harcourt (cargo)| 150      | 160     | nc     |      |      |        |\\n| Bandar Abbas-Jebel Ali-Mombasa (drums)    | 95       | 100     | +10.00  |      |      |        |\\n| Bandar Abbas-Jebel Ali-Dar es Salaam (drums)| 100      | 105     | +10.00  |      |      |        |\\n| Bandar Abbas-Jebel Ali-Djibouti (drums)    | 185      | 190     | +10.00  |      |      |        |',\n",
       " 197: '| Route                                      | Low | High | ±     |\\n|--------------------------------------------|-----|------|-------|\\n| Bandar Abbas/Jebel Ali-Mombasa (drums)    | 95  | 100  | +10.00|\\n| Bandar Abbas/Jebel Ali-Dar es Salaam (drums)| 100 | 105  | +10.00|\\n| Bandar Abbas/Jebel Ali-Djibouti (drums)   | 185 | 190  | +10.00|',\n",
       " 270: '| Category                        | Local currency/t | Low      | High     | $/t   | Low  | High | ±      |\\n|---------------------------------|------------------|----------|----------|-------|------|------|--------|\\n| **Domestic prices, ex-works**   |                  |          |          |       |      |      |        |\\n| South Korea                     |                  | 605,268  | 628,958  | 511   | 531  | 51.00  |\\n| Mumbai, India                   |                  | 40,270   | 43,970   | 544   | 594  | 17.00  |\\n| Mumbai, India (drums)          |                  | 37,070   | 39,870   | 500   | 538  | 46.50  |\\n| Thailand                        |                  | 16,494   | 18,514   | 490   | 550  | 10.00  |\\n| Indonesia                       |                  | 6,340,000| 6,340,000| 444   | 444  | -1.00  |\\n| Singapore                       |                  | 570      | 604      | 420   | 445  | 20.50  |\\n| Singapore-Malaysia ex-ref      |                  | 570      | 584      | 420   | 430  | 14.50  |\\n| Japan                           |                  | 63,513   | 71,619   | 571   | 644  | 0.50   |\\n| **Waterborne, fob**            |                  |          |          |       |      |      |        |\\n| Iran                            |                  | 290      | 305      |       |      |      | 10.50  |\\n| Iran (drums)                   |                  | 365      | 380      |       |      |      | 16.00  |\\n| Bahrain                         |                  | 160      | 160      | 425   | 425  | nc     |\\n| Singapore                       |                  | 550      | 563      | 405   | 415  | 5.00   |\\n| Singapore (drums)              |                  | 699      | 712      | 515   | 525  | 5.00   |\\n| Thailand                        |                  | 13,296   | 13,633   | 395   | 405  | 5.00   |\\n| South Korea                     |                  | 467,869  | 479,714  | 395   | 405  | nc     |\\n| Taiwan                          |                  | 11,120   | 11,259   | 400   | 405  | 2.50   |\\n| **Waterborne, cfr**            |                  |          |          |       |      |      |        |\\n| North China coast               |                  | 2,714    | 2,811    | 420   | 435  | nc     |\\n| East China coast                |                  | 2,747    | 3,070    | 425   | 475  | -2.50  |\\n| South China coast               |                  | 2,908    | 3,005    | 450   | 465  | 0.00   |\\n| Northern Vietnam (drums)       |                  | 428      | 548      |       |      |      | 13.00  |\\n| Southern Vietnam (drums)       |                  | 423      | 538      |       |      |      | 8.00   |\\n| **Economics**                  |                  |          |          |       |      |      |        |\\n| Bitumen’s value as fuel oil blendstock, Singapore | |          |          | 459.317 |      |      | 2.23   |\\n| **Asian Bitumen Price Index**  |                  |          |          |       |      |      |        |\\n| ABX 1 fob Singapore             |                  |          |          | 410.00|      |      | 5.00   |\\n| ABX 2 fob South Korea           |                  |          |          | 400.00|      |      | nc     |\\n| **Monthly Average (contract)**  |                  |          |          |       |      |      |        |\\n| Contract                        |                  |          |          |       |      |      |        |\\n| ABX 1                          |                  | 390.00   | 375      |       |      |      |        |\\n| ABX 2                          |                  | 383.13   | 370      |       |      |      |        |\\n| **Fob Mideast Gulf Price**      |                  |          |          |       |      |      |        |\\n| Mideast Gulf fob ($/t)         |                  | 298      | 425      | 5.50  |      |      |        |\\n| **Crude and refined products, 25 Sep-1 Oct** | |          |          |       |      |      |        |\\n| Dubai fob Dubai $/bl           |                  | 75.33    | 77.46    | 2.94  |      |      |        |\\n| Basrah Light fob Basrah $/bl    |                  | 74.99    | 77.70    | 2.73  |      |      |        |\\n| Banoco Arab Medium $/bl        |                  | 75.96    | 77.92    | 2.79  |      |      |        |\\n| Fuel oil HS 180cst fob Singapore $/t |            | 479.75   | 486.75   | 8.00  |      |      |        |\\n| Fuel oil HS 380cst fob Singapore $/t |            | 463.25   | 468.50   | 14.25 |      |      |        |\\n| Gasoil 0.5% fob Singapore $/bl |                  | 83.95    | 85.55    | 4.45  |      |      |        |',\n",
       " 276: '| Area      | Province   | Refinery               | Grade                     | Contract price Yn/t | ±  | Posted price Yn/t | ±  | Contract price $/t | Posted price $/t |\\n|-----------|------------|-----------------------|---------------------------|---------------------|----|-------------------|----|--------------------|------------------|\\n| Northwest | Xinjiang   | Petrochina Karamay    | AH-70, AH-90, AH-110, AH-130 | 3,900               | nc | 4,300             | nc | 603                | 665              |\\n|           |            | Sinopec Tahe          | 90-A, 90-B                | 3,750               | nc | 4,050             | nc | 580                | 627              |\\n|           |            |                       | 90-A                      | 3,075               | nc | 3,255             | nc | 476                | 504              |\\n|           |            |                       | 90-B                      | 2,925               | nc | 3,205             | nc | 453                | 496              |\\n| Northeast | Liaoning   | Petrochina Liahe      | AH-70, AH-90, AH-110, AH-100, AH-140 | 1,475               | nc | 1,875             | nc | 228                | 290              |\\n|           |            | Panjin Northern        | AH-90, AH-110, AH-100, AH-140 | 2,500               | nc | 3,150             | nc | 387                | 487              |\\n| North     | Hebei      | Petrochina Qinhuangdao | AH-70, AH-90              | 3,250               | nc | 3,750             | nc | 503                | 580              |\\n| Central   | Henan      | Sinopec Luoyang       | AH-90                     | 2,935               | nc | 2,995             | nc | 454                | 463              |\\n| East      | Shandong   | CNOOC asphalt         | AH-70, AH-90              | 2,680               | nc | 3,000             | nc | 415                | 464              |\\n|           |            | Sinopec Qilu          | 70-A, 70-B                | 3,725               | nc | 3,955             | nc | 576                | 612              |\\n|           |            |                       | 90-B                      | 3,525               | nc | 3,905             | nc | 545                | 604              |\\n| Zhejiang  |            | Sinopec Zhenhai       | 70-A, 90-A                | 3,445               | +70| 3,515             | +70| 533                | 544              |\\n|           |            |                       | 70-B, 90-B                | 3,445               | +70| 3,515             | +70| 533                | 544              |\\n| Shanghai  |            | Petrochina Wenzhou    | AH-70, AH-90              | 3,190               | nc | 3,580             | nc | 494                | 554              |\\n|           |            | Sinopec Shanghai       | AH-70                     | 3,795               | +70| 3,935             | +70| 587                | 609              |\\n| Jiangsu   |            | CNOOC Taizhou         | AH-70, AH-90              | 3,150               | nc | 3,300             | nc | 487                | 511              |\\n|           |            | Sinopec Jinling       | 70-A, 90-A                | 3,565               | +20| 3,645             | +20| 552                | 564              |\\n|           |            | Petrochina Xingmeng    | 70-A, 90-A                | 3,570               | nc | 3,940             | nc | 552                | 612              |\\n|           |            | Jangyin Alpha         | 70-A, 90-A                | 3,530               | nc | 3,850             | nc | 546                | 596              |\\n| South     | Guangdong  | Sinopec Maoming       | 70-A, 90-A                | 3,195               | +50| 3,265             | +50| 494                | 505              |\\n|           |            | Sinopec Guangzhou      | 70-A, 90A                | 3,335               | +50| 3,395             | +50| 516                | 525              |\\n|           |            | Petrochina Gaofu      | AH-70, AH-90              | 4,040               | nc | 4,610             | nc | 625                | 713              |\\n| West      | Sichuan    | CNOOC Luzhou          | AH-70, AH-90              | 3,530               | +230| 3,530             | +230| 546                | 546              |',\n",
       " 278: '| Route                           | 25 Sep | 1 Oct | Change  |\\n|---------------------------------|--------|--------|---------|\\n| Singapore-east Australia         | 130    | 145    | nc      |\\n| Singapore-west Australia         | 75     | 90     | nc      |\\n| Singapore-Gresik, Indonesia     | 32     | 38     | -0.50   |\\n| Singapore-north Vietnam         | 45     | 50     | nc      |\\n| Singapore-south Vietnam         | 33     | 37     | -1.00   |\\n| Singapore-south China           | 45     | 50     | nc      |\\n| Singapore-east China            | 50     | 60     | nc      |\\n| Thailand-south China            | 45     | 50     | nc      |\\n| Thailand-east China             | 50     | 55     | nc      |\\n| Thailand-east Australia          | 125    | 140    | +5.00   |\\n| Thailand-west Australia          | 90     | 110    | nc      |\\n| Taiwan-Ho Chi Minh, Vietnam     | 40     | 45     | nc      |\\n| Taiwan-Haiphong, Vietnam        | 35     | 40     | nc      |\\n| South Korea-east China          | 30     | 35     | nc      |\\n| South China-Haiphong, Vietnam   | 30     | 35     | nc      |',\n",
       " 302: '| Cargo Type                     | Low | High | ±     |\\n|--------------------------------|-----|------|-------|\\n| Thailand fob (Class 170)      | 417 | 427  | +5.00 |\\n| Thailand fob (Class 320)      | 422 | 432  | +5.00 |\\n| Singapore fob (Class 170)     | 420 | 430  | +5.00 |\\n| Singapore fob (Class 320)     | 425 | 435  | +5.00 |',\n",
       " 303: '| Route                          | Low | High | ±     |\\n|--------------------------------|-----|------|-------|\\n| Bandar Abbas/ Nhava Sheva (drums) | 27  | 31   | nc    |\\n| Bandar Abbas/ Mundra (drums)      | 27  | 30   | nc    |\\n| Bandar Abbas/ Haldia (drums)      | 65  | 66   | nc    |\\n| Bandar Abbas/ Mundra (bulk)       | 80  | 85   | +2.50 |\\n| Bandar Abbas/ Karwar (bulk)       | 85  | 90   | +2.50 |\\n| Bandar Abbas/ Kakinada (bulk)     | 110 | 120  | nc    |\\n| Bandar Abbas/ Haldia (bulk)       | 120 | 130  | +5.00 |',\n",
       " 317: '| Grade          | Seller                        | Price Rials/kg      | Packing         | Volume t | Destination                     |\\n|----------------|-------------------------------|---------------------|------------------|----------|----------------------------------|\\n| Pen 60/70      | Jey Oil                       | 80,266-97,666       | Bulk & Drum      | 17,000   | Export by truck ex-Esfahan      |\\n| Pen 60/70      | Jey Oil                       | 86,206              | Bulk             | 8,000    | Export by ship ex-Bandar Abbas   |\\n| Pen 60/70      | Kasra Bitumen Refining        | 95,486              | Drum             | 4,200    | Export by ship ex-Bandar Abbas   |\\n| Pen 60/70      | Ace Oil                       | 76,289              | Bulk             | 8,000    | Export by ship ex-Bandar Abbas   |\\n| Pen 60/70      | Petro Kala Hegmatan          | 88,276              | Bulk             | 5,000    | Export by ship ex-Bandar Abbas   |\\n| Pen 60/70      | RK Refining                   | 76,950              | Bulk             | 600      | Export by truck ex-Tabriz        |\\n| Pen 40/50      | Hormozan Oil                 | 76,289              | Bulk             | 1,500    | Export by ship ex-Bandar Abbas   |\\n| Pen 60/70      | Black Gold                    | 76,950-85,000       | Bulk & Drum      | 3,000    | Export by ship fob Bandar Abbas  |\\n| Pen 60/70      | White Gold                    | 86,279-90,033       | Bulk & Drum      | 2,000    | Export by ship fob Bandar Abbas  |\\n| AC40           | Bitumen Hormoz Pars           | 81,685              | Bulk             | 7,000    | Export by ship ex-Bandar Abbas   |\\n| Pen 60/70      | Pasargad Oil                  | 76,971              | Bulk             | 2,000    | Export by ship fob Bandar Lengeh |\\n| Pen 60/70      | Pasargad Oil                  | 76,950              | Bulk             | 10,000   | Export by ship ex-Bandar Imam Khomeini |\\n| Pen 60/70      | Pasargad Oil                  | 81,700              | Bulk             | 5,000    | Export by ship ex-Bandar Abbas   |\\n| Pen 60/70 & 85/100 | Petro Pasargad Hormozgan | 86,279              | Bulk             | 1,200    | Export by ship fob Bandar Abbas  |\\n| Pen 60/70      | Petro Aygeh Spadana           | 76,950              | Bulk             | 500      | Export by truck ex-Esfahan      |\\n| Pen 60/70, Ac40 | Siahfam                     | 80,871-90,033       | Bulk             | 14,300   | Export by ship fob Bandar Abbas  |',\n",
       " 348: '| Refinery        | Volume t | Rials/kg         |                  | $/t         |       |\\n|------------------|----------|------------------|------------------|-------------|-------|\\n|                  |          | Low              | High             | Low         | High  |\\n| Bandar Abbas      | 20,000   | 78,699           | 78,999           | 289         | 290   |\\n| Esfahan           | 10,000   | 74,878           | 75,044           | 275         | 275   |\\n| Shiraz            | 10,000   | 75,244           | 75,244           | 276         | 276   |\\n| Tehran            | 20,000   | 75,119           | 76,890           | 276         | 282   |\\n| Tabriz            | 8,000    | 71,661           | 71,661           | 263         | 263   |\\n| Abadan            | 20,000   | 71,661           | 74,999           | 263         | 275   |\\n| Arak              | 15,000   | 74,007           | 74,958           | 272         | 275   |',\n",
       " 351: '| Grade                     | Volume t | Price rials/kg     |\\n|---------------------------|----------|---------------------|\\n| 60/70                     | 2,798    | 78,000-83,500       |\\n| 85/100                    | 55       | 79,858              |\\n| Emulsion                  | 25       | 74,000              |\\n| 40/50                     | 0        |                     |\\n| PG6416-PG5816-PG5822     | 1,405    | 79,858              |\\n| MC250                     | 25       | 110,000             |',\n",
       " 386: \"| Vessel name       | Owner                          | Tonnage | Loading port         | Discharge port          | Current position      | ETA      |\\n|-------------------|--------------------------------|---------|----------------------|-------------------------|-----------------------|----------|\\n| San Biagio        | ABC Maritime                   | 4,900   | Abidjan              | Douala, Cameroon        | WAF                   | 29-Sep   |\\n| Bitonia           | Frederi Beta                  | 4,972   | Hamburg              | Akureyri, Iceland       | Northwest Europe      | 29-Sep   |\\n| Iver Ability      | HB Tankship                   | 12,497  | Hamburg              | Thames, UK              | Northwest Europe      | 27-Sep   |\\n| Ning Hai Wan      | Ninghaiwan Maritime Co Ltd    | 6,118   | Huelva               | Donges, France          | Northwest Europe      | 29-Sep   |\\n| San Bacco         | ABC Maritime                   | 4,995   | Brunsbuettel         | Sodertalje, Sweden      | Northwest Europe      | 28-Sep   |\\n| Iver Brilliant     | HB Tankship                   | 6,239   | Liepaja              | Newport, Wales          | Northwest Europe      | 3-Sep    |\\n| Iver Agile        | Petrolmar SPA                  | 5,765   | Mersin               | Alexandria, Egypt       | Med                   | 2-Oct    |\\n| Iver Action       | HB Tankship                   | 5,897   | Augusta              | Lavera, France          | Med                   | 2-Oct    |\\n| Sunpower          | Queensway Navigation           | 4,999   | Aspropyrgos          | Mangalia, Romania       | Black Sea             | 3-Oct    |\\n| Xing Hai Wan      | COSCOSAS                      | 6,123   | Rotterdam            | Bayonne, France         | Northwest Europe      | 2-Oct    |\\n| Acacia Rubra      | White Flag Ventures            | 6,065   | Lomonosov            | Pori, Finland           | Baltic Sea            | 30-Sep   |\\n| Bitflower         | Tarbit Shipping                | 6,314   | Rotterdam            | Nantes, France          | Northwest Europe      | 1-Oct    |\\n| Iver Bitumen      | WS Tankship                   | 6,586   | Huelva               | Tenerife, Spain         | Med                   | 1-Oct    |\\n| Iver Accord       | HB Tankship                   | 5,897   | La Coruna            | Blaye, France           | Northwest Europe      | 1-Oct    |\\n| R Ocean           | R ROSE TRADING COMPANY         | 3,764   | Basrah               | Mombasa, Kenya          | Arabian Sea           | 10-Oct   |\\n| Herbania          | DMG                            | 7,066   | Huelva               | Ghazaouet, Algeria      | Med                   | 29-Sep   |\\n| Poestella         | Bilsea                         | 8,021   | Augusta              | Algiers, Algeria        | Med                   | 2-Oct    |\\n| Seapower          | Nanjing Petroleum T'ptn       | 4,999   | St Petersburg        | Tallinn, Estonia        | Baltic Sea            | 1-Oct    |\\n| An Hai Wan        | COSCOSAS                      | 6,165   | Tarragona            | Naples, Italy           | Med                   | 2-Oct    |\\n| Iver Balance      | HB Tankship                   | 6,180   | Cadiz                | Oran, Algeria           | Med                   | 30-Sep   |\\n| LG Asphalt 1      | LG Asphalt                    | 2,107   | Singapore            | Semarang, Indonesia     | Java Sea              | 2-Oct    |\\n| Llistella         | Bilsea                         | 7,944   | Singapore            | Qinzhou, China          | Java Sea              | 4-Oct    |\\n| Da Kun Shan       | UNITED BRIGHT MARITIME LTD    | 6,186   | Singapore            | Qinzhou, China          | Java Sea              | 3-Oct    |\\n| Peng Hu Wan       | COSCOSAS                      | 6,327   | Yeosu                | Nanjing, China          | Nanjing               | 1-Oct    |\\n| VP Asphalt 1      | VP Petrochemical              | 3,102   | Rayong               | Cam Ranh, Vietnam       | Vietnam               | 2-Oct    |\\n| Bitumen Shouri    | Kaltex                        | 3,638   | Singapore            | Tan Hiep, Vietnam       | Malacca Strait        | 2-Oct    |\\n| Black Dragon      | Itochu                        | 2,500   | Ulsan                | Mutsure, Japan          | Japan                 | 28-Sep   |\\n| Black Jade        | National Bitumen Corporation   | 5,500   | Ulsan                | Lanshan, China          | East China Sea        | 30-Sep   |\\n| Tai Hua Wan       | Cosco Shipping                | 7,652   | Singapore            | Qinzhou, China          | Vietnam               | 2-Oct    |\\n| Kang Hua Wan      | Cosco                         | 7,651   | Yeosu                | Ningbo, China           | Zhejiang              | 28-Sep   |\"}"
      ]
     },
     "execution_count": 47,
     "metadata": {},
     "output_type": "execute_result"
    }
   ],
   "source": [
    "def create_table_markdown(state: GraphState):\n",
    "    # table_markdown_extractor를 사용하여 테이블 마크다운 생성\n",
    "    # state[\"table_summary_data_batches\"]에 저장된 테이블 데이터를 사용\n",
    "    table_markdowns = table_markdown_extractor.invoke(\n",
    "        state[\"table_summary_data_batches\"],\n",
    "    )\n",
    "\n",
    "    # 결과를 저장할 딕셔너리 초기화\n",
    "    table_markdown_output = dict()\n",
    "\n",
    "    # 각 데이터 배치와 생성된 테이블 마크다운을 매칭하여 저장\n",
    "    for data_batch, table_summary in zip(\n",
    "        state[\"table_summary_data_batches\"], table_markdowns\n",
    "    ):\n",
    "        # 데이터 배치의 id를 키로 사용하여 테이블 마크다운 저장\n",
    "        table_markdown_output[data_batch[\"id\"]] = table_summary\n",
    "\n",
    "    # 새로운 GraphState 객체 반환, table_markdown 키에 결과 저장\n",
    "    return GraphState(table_markdown=table_markdown_output)\n",
    "\n",
    "\n",
    "# create_table_markdown 함수 실행\n",
    "state_out = create_table_markdown(state)\n",
    "\n",
    "# 기존 state 업데이트\n",
    "state.update(state_out)\n",
    "\n",
    "# 생성된 테이블 마크다운 출력\n",
    "state_out[\"table_markdown\"]"
   ]
  },
  {
   "cell_type": "code",
   "execution_count": 49,
   "metadata": {},
   "outputs": [
    {
     "name": "stdout",
     "output_type": "stream",
     "text": [
      "| Location                     | Low    | High   | ±       |\n",
      "|------------------------------|--------|--------|---------|\n",
      "| **Export cargo prices fob**  |        |        |         |\n",
      "| Mediterranean                 | 448.58 | 453.58 | +20.93  |\n",
      "| Rotterdam                     | 460.90 | 465.90 | +18.95  |\n",
      "| Baltic                        | 453.90 | 457.90 | +18.95  |\n",
      "| Singapore                     | 405    | 415    | +5.00   |\n",
      "| South Korea                   | 395    | 405    | nc      |\n",
      "| Mideast Gulf                  | 298    | 425    | +5.50   |\n",
      "| **Delivered cargo prices cfr**|        |        |         |\n",
      "| North Africa                  | 486    | 496    | +18.00  |\n",
      "| East Africa                   | 465    | 475    | +26.00  |\n",
      "| West Africa                   | 600    | 610    | +21.00  |\n",
      "| East China coast              | 425    | 475    | +2.50   |\n",
      "| **Domestic prices**          |        |        |         |\n",
      "| Antwerp                       | 490    | 507    | +20.50  |\n",
      "| Southern Germany              | 431    | 449    | +8.50   |\n",
      "| Hungary                       | 443    | 455    | -3.00   |\n",
      "| Italy                         | 455    | 466    | -3.00   |\n",
      "| Indonesia                     | 444    | 444    | -1.00   |\n",
      "| Mumbai                        | 544    | 594    | +17.00  |\n"
     ]
    }
   ],
   "source": [
    "print(state_out[\"table_markdown\"][12])"
   ]
  },
  {
   "cell_type": "markdown",
   "metadata": {},
   "source": [
    "## 결과물"
   ]
  },
  {
   "cell_type": "code",
   "execution_count": 53,
   "metadata": {},
   "outputs": [
    {
     "data": {
      "text/plain": [
       "dict_keys(['filepath', 'batch_size', 'split_filepaths', 'analyzed_files', 'page_metadata', 'page_elements', 'page_numbers', 'images', 'tables', 'texts', 'text_summary', 'image_summary_data_batches', 'table_summary_data_batches', 'image_summary', 'table_summary', 'table_markdown'])"
      ]
     },
     "execution_count": 53,
     "metadata": {},
     "output_type": "execute_result"
    }
   ],
   "source": [
    "state.keys()"
   ]
  },
  {
   "cell_type": "code",
   "execution_count": 54,
   "metadata": {},
   "outputs": [
    {
     "data": {
      "text/plain": [
       "{12: \"<table>\\n<title>Bitumen Prices Summary (25 Sep - 1 Oct)</title>\\n<table_summary>Summary of bitumen prices across key locations, highlighting export cargo and domestic prices.</table_summary>\\n<key_entities>\\n- Export Cargo Prices (fob)\\n  - Mediterranean: $448.58 - $453.58\\n  - Rotterdam: $460.90 - $465.90\\n  - Baltic: $453.90 - $457.90\\n  - Singapore: $405 - $415\\n  - South Korea: $395 - $405\\n  - Mideast Gulf: $298 - $425\\n- Delivered Cargo Prices (cfr)\\n  - North Africa (Alexandria, bulk): $486 - $496\\n  - East Africa (Mombasa, drum): $465 - $475\\n  - West Africa (Lagos, bulk): $600 - $610\\n  - East China coast: $425 - $475\\n- Domestic Prices\\n  - Antwerp (ex-works): $490 - $507\\n  - Southern Germany (ex-works): $431 - $449\\n  - Hungary (ex-works): $443 - $455\\n  - Italy (ex-works inc tax): $455 - $466\\n  - Indonesia (ex-works): $444\\n  - Mumbai (bulk): $544 - $594\\n</key_entities>\\n<data_insights>\\n- Bitumen prices have generally increased in Europe and Asia-Pacific due to rising crude and fuel oil prices.\\n- Mediterranean and Rotterdam prices saw notable increases, while Baltic prices also rose.\\n- Domestic truck prices in Europe strengthened at the start of October.\\n- Demand is expected to improve in Asia-Pacific despite a slowdown during China's Golden Week.\\n- Sub-Saharan Africa experienced a surge in bitumen prices, particularly in South Africa.\\n</data_insights>\\n</table>\",\n",
       " 18: \"<table>\\n<title>Bitumen Market Overview</title>\\n<table_summary>Summary of bitumen market trends and price movements across various regions.</table_summary>\\n<key_entities>\\n- Bitumen prices\\n- Crude oil prices\\n- High-sulphur fuel oil (HSFO)\\n- Regions: Europe, Asia-Pacific, Mediterranean, Sub-Saharan Africa\\n- Key countries: Vietnam, Australia, China, India, South Africa\\n</key_entities>\\n<data_insights>\\n- Bitumen cargo values increased in Europe and Asia-Pacific due to rising crude and fuel oil prices.\\n- Domestic truck prices in Europe strengthened at the start of October.\\n- Cargo premiums to HSFO in Rotterdam and the Baltics decreased by $2-3/t, while outright values rose.\\n- Mediterranean premium values remained steady amid rising outright values and slowing demand.\\n- The Asia-Pacific bitumen market remained firm despite a slowdown expected during China's Golden Week holidays.\\n- Crude and HSFO prices in Asia-Pacific led refiners to consider price hikes or production cuts.\\n- Supply for October was balanced in key export locations like Singapore and South Korea due to lower bitumen production.\\n- Demand is anticipated to improve from Vietnam, Australia, China, and India due to seasonal factors and easing pandemic restrictions.\\n- Bitumen prices surged in sub-Saharan Africa, with higher delivered cargo and drummed import prices, as well as increased domestic and export values in South Africa.\\n</data_insights>\\n</table>\",\n",
       " 32: \"<table>\\n<title>Europe and Africa Cargo Export Differentials to HSFO</title>\\n<table_summary>Summary of cargo export differentials from various regions to HSFO, including low and high price ranges.</table_summary>\\n<key_entities>\\n  <entity>Region</entity>\\n  <entity>Low Price Differential ($/t)</entity>\\n  <entity>High Price Differential ($/t)</entity>\\n  <entity>Price Change (±)</entity>\\n</key_entities>\\n<data_insights>\\n  <insight>Mediterranean (basis Augusta) has a low differential of +11.33 and a high of +16.33.</insight>\\n  <insight>Rotterdam, Netherlands shows a higher range with a low of +25.00 and a high of +30.00.</insight>\\n  <insight>Spain's differential ranges from +20.00 to +25.00, indicating stable export conditions.</insight>\\n  <insight>Ivory Coast has the highest differential, ranging from +113.00 to +117.00, suggesting significant export value.</insight>\\n</data_insights>\\n</table>\",\n",
       " 33: \"<table>\\n<title>Europe and Africa Cargo Export Differentials to Crude</title>\\n<table_summary>This table presents the differentials in export prices for various regions in Europe and Africa compared to Ice Brent crude oil prices.</table_summary>\\n<key_entities>\\n    <entity>Region</entity>\\n    <entity>Differential to Ice Brent $/t</entity>\\n    <entity>Differential to Ice Brent $/bbl</entity>\\n</key_entities>\\n<data_insights>\\n    <insight>The Mediterranean region has the largest negative differential to Ice Brent at -143.29 $/t.</insight>\\n    <insight>Spain's differential is -134.62 $/t, indicating a significant price gap compared to Ice Brent.</insight>\\n    <insight>Albania shows the largest negative differential at -169.62 $/t, suggesting lower export prices.</insight>\\n    <insight>The Ivory Coast has a unique positive differential to Ice Brent in terms of $/bbl at +10.57.</insight>\\n</data_insights>\\n</table>\",\n",
       " 50: '<table>\\n<title>North and Central Europe Bitumen Prices, 29 Sep - 1 Oct</title>\\n<table_summary>Summary of bitumen prices across various regions in Europe, highlighting domestic and export prices along with recent changes.</table_summary>\\n<key_entities>\\n- Domestic Prices (ex-works)\\n  - Southern UK: £380-390/t\\n  - Rotterdam: €420-435/t\\n  - Antwerp: €420-435/t\\n  - Northern Germany: €385-395/t\\n  - Czech Republic: €375-385/t\\n- Export Prices (ex-works)\\n  - Poland-Germany (truck): €345-355/t\\n  - Czech Republic-Germany (truck): €345-355/t\\n- Domestic Prices (delivered)\\n  - Southern UK: £395-405/t\\n  - Brussels: €430-445/t\\n  - Northern France: €475-485/t\\n</key_entities>\\n<data_insights>\\n- Domestic truck prices increased in several markets, with notable rises in Germany (€10/t) and Benelux countries (€20/t).\\n- Czech domestic and export prices strengthened due to tight refinery supply.\\n- High-sulphur fuel oil price increases affected bitumen values, but early winter signs led to modest decreases in export premiums.\\n- Cross-regional freight rates for 5,000t cargoes showed slight declines.\\n</data_insights>\\n</table>',\n",
       " 54: '<table>\\n<title>Crude and Refined Products Prices (25 Sep - 1 Oct)</title>\\n<table_summary>Summary of price ranges for various crude and refined products over the specified period.</table_summary>\\n<key_entities>\\n- Ice Brent minute marker: $78.50 - $79.60\\n- Fuel oil 3.5%: $432.00 - $439.50\\n- Urals cif Rotterdam: $75.47 - $76.75\\n- Fuel oil straight-run 0.5%: $566.75 - $584.75\\n- Fuel oil straight-run M-100: $472.50 - $479.00\\n- Vacuum gasoil 0.5%: $580.25 - $598.25\\n</key_entities>\\n<data_insights>\\n- The average price for Ice Brent is approximately $78.93, with a slight increase of $3.12.\\n- Fuel oil 3.5% saw an increase of $21.45, averaging $435.90.\\n- Urals cif Rotterdam prices increased by $3.69.\\n- Fuel oil straight-run 0.5% and M-100 both experienced significant increases of $20.25 and $24.75 respectively.\\n- Vacuum gasoil 0.5% also rose by $20.13.\\n</data_insights>\\n</table>',\n",
       " 55: '<table>\\n<title>Northern Europe Cargo Freight Rates</title>\\n<table_summary>Summary of cargo freight rates across various routes in Northern Europe.</table_summary>\\n<key_entities>\\n  <entity>Rotterdam-Thames</entity>\\n  <entity>Hamburg-Thames</entity>\\n  <entity>Klaipeda-Thames</entity>\\n  <entity>La Coruna-Thames</entity>\\n</key_entities>\\n<data_insights>\\n  <insight>Freight rates for 5,000t cargoes show slight declines across all routes.</insight>\\n  <insight>Rotterdam rates range from $22 to $24/t.</insight>\\n  <insight>Hamburg rates range from $29 to $31/t.</insight>\\n  <insight>Klaipeda rates range from $47 to $49/t.</insight>\\n  <insight>La Coruna rates range from $39 to $43/t.</insight>\\n</data_insights>\\n</table>',\n",
       " 121: '<table>\\n<title>Mediterranean Bitumen Price Index Summary</title>\\n<table_summary>This table presents the Mediterranean bitumen price index, highlighting the fob prices and their differential to high-sulphur fuel oil (HSFO).</table_summary>\\n<key_entities>\\n- Mediterranean fob (Augusta): Low: $448.58, High: $453.58\\n- Differential to HSFO: Low: +$11.33, High: +$16.33\\n</key_entities>\\n<data_insights>\\n- The Mediterranean fob prices are currently in the range of $448.58 to $453.58 per ton.\\n- The differential to HSFO indicates a premium of $11.33 to $16.33 per ton, reflecting the market dynamics influenced by rising HSFO prices.\\n</data_insights>\\n</table>',\n",
       " 122: '<table>\\n<title>Mediterranean Bitumen Prices (25 Sep - 1 Oct)</title>\\n<table_summary>Summary of Mediterranean bitumen prices, including domestic and export prices, delivered cargo prices, and economic insights.</table_summary>\\n<key_entities>\\n- Domestic Prices (ex-works):\\n  - Italy: $455 - $466\\n  - Southern France: $519 - $530\\n  - Northeast Spain: $530 - $542\\n  - Southwest Spain: $530 - $542\\n  - Turkey (Izmit, Batman, Kirikkale): $532 - $537\\n- Export Prices (fob $/t):\\n  - Italy: +$15.00 to +$20.00\\n  - Greece: +$15.00 to +$20.00\\n  - Spain: +$20.00 to +$25.00\\n  - Albania: -$15.00 to -$10.00\\n- Delivered Cargo Prices (cfr):\\n  - Alexandria, Egypt: $486 - $496\\n  - Gebze-Mersin, Turkey: $480 - $490\\n  - Ghazaouet, Algeria: $481 - $491\\n  - Rades, Tunisia: $479 - $489\\n- Economics: Bitumen’s value as a fuel oil blendstock: $395.473\\n</key_entities>\\n<data_insights>\\n- Mediterranean bitumen prices increased due to rising HSFO prices.\\n- Demand slowdown in the region has led to greater availability of bitumen.\\n- Delivered values into North African markets decreased, with offers into Algeria and Morocco in the low to high $50s/t.\\n- Spanish fob levels surpassed US east coast cargoes.\\n- Cross-Mediterranean freight rates decreased due to reduced demand.\\n</data_insights>\\n</table>',\n",
       " 125: '<table>\\n<title>Mediterranean Bitumen Cargo Prices Summary</title>\\n<table_summary>Summary of Mediterranean bitumen cargo prices and related fuel oil values as of late September 2021.</table_summary>\\n<key_entities>\\n- Fuel oil 3.5% 0.998 fob: Low $434.00, High $440.25, Average $437.25, Change +$20.60\\n- Basrah Light fob Sidi Kerir: Low $75.32, High $76.40, Change +$3.62\\n- Urals Med Aframax: Low $76.12, High $77.20, Change +$3.62\\n- Iran Heavy fob Sidi Kerir: Low $71.75, High $72.83, Change +$3.62\\n- VGO 0.5% west Med cif: Low $583.75, High $598.25, Change +$23.63\\n</key_entities>\\n<data_insights>\\n- Mediterranean bitumen prices increased due to rising HSFO prices.\\n- Spanish export premiums to HSFO range from $20-25/t fob.\\n- Demand slowdown in the Mediterranean has led to greater availability of bitumen.\\n- Delivered values into North African markets decreased, with offers into Algeria and Morocco in the high $50s/t.\\n- Cross-Mediterranean freight rates decreased by $1-3/t due to reduced demand.\\n</data_insights>\\n</table>',\n",
       " 196: '<table>\\n<title>Bitumen Prices and Freight Rates in Sub-Saharan Africa</title>\\n<table_summary>Summary of bitumen prices and freight rates across various regions in Sub-Saharan Africa, highlighting domestic and import/export prices.</table_summary>\\n<key_entities>\\n- South Africa: Domestic prices (ex-works) range from 9,200 to 9,600 local currency/t ($611 to $637).\\n- Ivory Coast: Export cargo price at $550.25 to $554.25.\\n- Nigeria: Import cargo price at $600 to $610.\\n- Ghana: Import cargo price at $576 to $586.\\n- Kenya: Import drums price at $465 to $475.\\n- Tanzania: Import drums price at $470 to $480.\\n- Freight rates: Various routes with specific rates listed.\\n</key_entities>\\n<data_insights>\\n- Bitumen prices are increasing across sub-Saharan Africa, with strong demand in southern and eastern regions.\\n- West African activity is limited due to the rainy season, affecting construction and bitumen demand.\\n- Freight rates for cargo from Spain to Nigeria are stable, while local prices in South Africa have seen a notable increase.\\n- The arrival of the Bitu Express in Togo is expected to support regional stocks for upcoming projects.\\n</data_insights>\\n</table>',\n",
       " 197: '<table>\\n<title>Mideast Gulf to Africa Freight Rates</title>\\n<table_summary>Freight rates for transporting bitumen from the Mideast Gulf to various African destinations, indicating low and high price ranges.</table_summary>\\n<key_entities>\\n- Locations: Bandar Abbas, Jebel Ali, Mombasa, Dar es Salaam, Djibouti\\n- Freight Rates: Low and High prices in $/t\\n</key_entities>\\n<data_insights>\\n- Bandar Abbas to Jebel Ali-Mombasa: $95 - $100/t\\n- Bandar Abbas to Jebel Ali-Dar es Salaam: $100 - $105/t\\n- Bandar Abbas to Jebel Ali-Djibouti: $185 - $190/t\\n- All rates have a variation of +$10.00.\\n</data_insights>\\n</table>',\n",
       " 270: '<table>\\n<title>Asia Bitumen Prices Summary (25 Sep - 1 Oct)</title>\\n<table_summary>Summary of bitumen prices across various regions in Asia, highlighting recent price changes and market dynamics.</table_summary>\\n<key_entities>\\n- **Singapore Bitumen Prices**: Increased by $5/t\\n- **Key Trader Sales**: 15,000t sold to Indonesia at $410/t for November-loading\\n- **October-loading Deals**: Concluded at $405-410/t\\n- **Vietnam Deals**: Two deals for end-October loading at cfr basis, fob values $405-410/t\\n- **Refiner Offers**: Ranged from $415-425/t for late-October/early-November loading\\n- **Domestic Prices in Singapore**: Increased by $20.50/t to $420-445/t ex-tank\\n- **Tank Truck Prices**: Rose to $406-415/t ex-refinery; jumped to $415-430/t ex-refinery\\n- **Offer into Johore**: 1920 ringgit/t ($456/t) on a delivered basis\\n- **Supply Outlook**: Expected to balance in October due to production loss from key refiners\\n</key_entities>\\n<data_insights>\\n- The increase in Singapore bitumen prices reflects a tightening supply situation, influenced by production losses from key refiners.\\n- Domestic demand in Singapore is expected to remain flat due to manpower limitations and anticipated wet weather, despite rising prices.\\n- The market shows a regional disparity in pricing, with offers varying significantly between countries, indicating localized demand and supply conditions.\\n</data_insights>\\n</table>',\n",
       " 276: '<table>\\n<title>Bitumen Prices in China (25 Sep - 1 Oct)</title>\\n<table_summary>Summary of bitumen prices across various provinces and refineries in China, including contract and posted prices in both Yuan and USD.</table_summary>\\n<key_entities>\\n- **Regions**: Northwest, Northeast, North, Central, East, South, West\\n- **Refineries**: Petrochina, Sinopec, CNOOC\\n- **Grades**: AH-70, AH-90, AH-100, AH-110, AH-130, AH-140, AH-180, 70-A, 70-B, 90-A, 90-B\\n- **Contract Prices**: Ranging from 1,475 to 3,900 Yuan/t\\n- **Posted Prices**: Ranging from 1,875 to 4,300 Yuan/t\\n- **USD Conversion**: Prices range from $228 to $713\\n</key_entities>\\n<data_insights>\\n- The highest contract price is in Xinjiang at 3,900 Yuan/t ($603).\\n- The lowest contract price is in Liaoning at 1,475 Yuan/t ($228).\\n- Prices show variability across different regions, with notable increases in some areas.\\n- The data indicates a stable pricing environment with no significant fluctuations reported (nc).\\n</data_insights>\\n</table>',\n",
       " 278: '<table>\\n<title>Bitumen Freight Rates (25 Sep - 1 Oct)</title>\\n<table_summary>Summary of bitumen freight rates across various regions, highlighting changes in prices.</table_summary>\\n<key_entities>\\n- Regions: Singapore, Thailand, Taiwan, South Korea\\n- Freight Rates: Various rates in $/t\\n- Changes: Notable increases and stable prices\\n</key_entities>\\n<data_insights>\\n- Singapore-east Australia: Increased from 130 to 145 $/t (nc)\\n- Singapore-west Australia: Increased from 75 to 90 $/t (nc)\\n- Singapore-Gresik, Indonesia: Increased from 32 to 38 $/t (-0.50)\\n- Thailand-east Australia: Increased from 125 to 140 $/t (+5.00)\\n- Most regions show stable prices, with minor fluctuations noted.\\n</data_insights>\\n</table>',\n",
       " 302: '<table>\\n<title>Australia Import Cargo Prices (25 Sep - 1 Oct)</title>\\n<table_summary>Summary of import cargo prices for Thailand and Singapore, detailing low and high price ranges.</table_summary>\\n<key_entities>\\n- Thailand fob (Class 170): Low $417, High $427\\n- Thailand fob (Class 320): Low $422, High $432\\n- Singapore fob (Class 170): Low $420, High $430\\n- Singapore fob (Class 320): Low $425, High $435\\n</key_entities>\\n<data_insights>\\n- Prices for Thailand and Singapore show a range of $10 between low and high for each class.\\n- The price fluctuations are consistent across different classes, indicating stable market conditions.\\n</data_insights>\\n</table>',\n",
       " 303: '<table>\\n<title>Mideast Gulf to India Freight Rates</title>\\n<table_summary>Freight rates from the Mideast Gulf to various ports in India, categorized by type (drums and bulk).</table_summary>\\n<key_entities>\\n  <entity>Bandar Abbas/Nhava Sheva (drums)</entity>\\n  <entity>Bandar Abbas/Mundra (drums)</entity>\\n  <entity>Bandar Abbas/Haldia (drums)</entity>\\n  <entity>Bandar Abbas/Mundra (bulk)</entity>\\n  <entity>Bandar Abbas/Karwar (bulk)</entity>\\n  <entity>Bandar Abbas/Kakinada (bulk)</entity>\\n  <entity>Bandar Abbas/Haldia (bulk)</entity>\\n</key_entities>\\n<data_insights>\\n  <insight>Freight rates for drums range from $27 to $66/t.</insight>\\n  <insight>Bulk freight rates range from $80 to $130/t.</insight>\\n  <insight>Some bulk rates have seen recent increases of $2.50.</insight>\\n  <insight>Rates are generally stable, with no significant changes noted (nc).</insight>\\n</data_insights>\\n</table>',\n",
       " 317: '<table>\\n<title>Iranian Export Sales through the IME, 25-30 Sep</title>\\n<table_summary>Summary of Iranian export sales of bitumen grades through the IME, including prices, volumes, and destinations.</table_summary>\\n<key_entities>\\n  <entity>Jey Oil</entity>\\n  <entity>Kasra Bitumen Refining</entity>\\n  <entity>Ace Oil</entity>\\n  <entity>Petro Kala Hegmatan</entity>\\n  <entity>RK Refining</entity>\\n  <entity>Hormozan Oil</entity>\\n  <entity>Black Gold</entity>\\n  <entity>White Gold</entity>\\n  <entity>Bitumen Hormoz Pars</entity>\\n  <entity>Pasargad Oil</entity>\\n  <entity>Petro Pasargad Hormozgan</entity>\\n  <entity>Petro Aygeh Spadana</entity>\\n  <entity>Siahfam</entity>\\n</key_entities>\\n<data_insights>\\n  <insight>Multiple sellers are offering various grades of bitumen, with prices ranging from 76,289 to 97,666 Rials/kg.</insight>\\n  <insight>Export volumes vary significantly, with the largest being 17,000 tons from Jey Oil.</insight>\\n  <insight>Most exports are directed to Bandar Abbas, with some shipments to other locations like Esfahan and Tabriz.</insight>\\n  <insight>Bulk and drum packing options are available for most sellers.</insight>\\n</data_insights>\\n</table>',\n",
       " 348: '<table>\\n<title>Refinery Pricing and Volume Data</title>\\n<table_summary>This table summarizes the pricing and volume data for various refineries in Iran, detailing the volume in tons, price range in rials per kilogram, and price range in USD per ton.</table_summary>\\n<key_entities>\\n  <refineries>\\n    <refinery>Bandar Abbas</refinery>\\n    <refinery>Esfahan</refinery>\\n    <refinery>Shiraz</refinery>\\n    <refinery>Tehran</refinery>\\n    <refinery>Tabriz</refinery>\\n    <refinery>Abadan</refinery>\\n    <refinery>Arak</refinery>\\n  </refineries>\\n  <volume_t>\\n    <volume>20,000</volume>\\n    <volume>10,000</volume>\\n    <volume>10,000</volume>\\n    <volume>20,000</volume>\\n    <volume>8,000</volume>\\n    <volume>20,000</volume>\\n    <volume>15,000</volume>\\n  </volume_t>\\n  <price_rials_kg>\\n    <low>71,661</low>\\n    <high>78,999</high>\\n  </price_rials_kg>\\n  <price_usd_t>\\n    <low>263</low>\\n    <high>290</high>\\n  </price_usd_t>\\n</key_entities>\\n<data_insights>\\n  - The highest volume is from Bandar Abbas at 20,000 tons.\\n  - Prices in rials/kg range from 71,661 to 78,999.\\n  - The lowest USD price per ton is 263, while the highest is 290.\\n  - Tabriz has the lowest price in both rials/kg and USD/t.\\n</data_insights>\\n</table>',\n",
       " 351: '<table>\\n<title>Iranian Domestic Sales through the IME, 25-30 Sep</title>\\n<table_summary>Summary of Iranian domestic sales by grade, volume, and price per kilogram.</table_summary>\\n<key_entities>\\n  <entity>60/70</entity>\\n  <entity>85/100</entity>\\n  <entity>Emulsion</entity>\\n  <entity>40/50</entity>\\n  <entity>PG6416-PG5816-PG5822</entity>\\n  <entity>MC250</entity>\\n</key_entities>\\n<data_insights>\\n  <insight>60/70 grade had the highest volume sold at 2,798 tons, with a price range of 78,000-83,500 rials/kg.</insight>\\n  <insight>85/100 grade sold 55 tons at 79,858 rials/kg.</insight>\\n  <insight>Emulsion grade had a lower volume of 25 tons at 74,000 rials/kg.</insight>\\n  <insight>No sales were recorded for the 40/50 grade.</insight>\\n  <insight>PG6416-PG5816-PG5822 grade had a significant volume of 1,405 tons sold at 79,858 rials/kg.</insight>\\n  <insight>MC250 grade sold 25 tons at a higher price of 110,000 rials/kg.</insight>\\n</data_insights>\\n</table>',\n",
       " 386: '<table>\\n<title>Bitumen Freight Movements</title>\\n<table_summary>This table provides details on various vessels transporting bitumen, including their owners, tonnage, loading and discharge ports, current positions, and estimated times of arrival (ETA).</table_summary>\\n<key_entities>\\n- Vessel names\\n- Owners\\n- Tonnage\\n- Loading ports\\n- Discharge ports\\n- Current positions\\n- ETAs\\n</key_entities>\\n<data_insights>\\n- The vessels are primarily operating in regions such as Northwest Europe, the Mediterranean, and the Baltic Sea.\\n- Most vessels have ETAs ranging from September 28 to October 10, 2021.\\n- The majority of the vessels are owned by companies like HB Tankship and COSCOSAS.\\n</data_insights>\\n</table>'}"
      ]
     },
     "execution_count": 54,
     "metadata": {},
     "output_type": "execute_result"
    }
   ],
   "source": [
    "state[\"table_summary\"]"
   ]
  },
  {
   "cell_type": "code",
   "execution_count": 55,
   "metadata": {},
   "outputs": [
    {
     "data": {
      "text/plain": [
       "{12: '| Location                     | Low    | High   | ±       |\\n|------------------------------|--------|--------|---------|\\n| **Export cargo prices fob**  |        |        |         |\\n| Mediterranean                 | 448.58 | 453.58 | +20.93  |\\n| Rotterdam                     | 460.90 | 465.90 | +18.95  |\\n| Baltic                        | 453.90 | 457.90 | +18.95  |\\n| Singapore                     | 405    | 415    | +5.00   |\\n| South Korea                   | 395    | 405    | nc      |\\n| Mideast Gulf                  | 298    | 425    | +5.50   |\\n| **Delivered cargo prices cfr**|        |        |         |\\n| North Africa                  | 486    | 496    | +18.00  |\\n| East Africa                   | 465    | 475    | +26.00  |\\n| West Africa                   | 600    | 610    | +21.00  |\\n| East China coast              | 425    | 475    | +2.50   |\\n| **Domestic prices**          |        |        |         |\\n| Antwerp                       | 490    | 507    | +20.50  |\\n| Southern Germany              | 431    | 449    | +8.50   |\\n| Hungary                       | 443    | 455    | -3.00   |\\n| Italy                         | 455    | 466    | -3.00   |\\n| Indonesia                     | 444    | 444    | -1.00   |\\n| Mumbai                        | 544    | 594    | +17.00  |',\n",
       " 18: '| Section                                   | Page Numbers |\\n|-------------------------------------------|--------------|\\n| Key bitumen prices                        | 1            |\\n| Map of waterborne bitumen prices          | 2            |\\n| Northwest and central Europe              | 3-5          |\\n| Mediterranean                             | 6-8          |\\n| Sub-Saharan Africa                        | 9-11         |\\n| Asia-Pacific and Middle East              | 12-17        |\\n| Vessel tracking indications                | 18           |\\n| Bitumen news                              | 19-22        |',\n",
       " 32: '| Region                                 | Low      | High     | ±    |\\n|----------------------------------------|----------|----------|------|\\n| Mediterranean, basis Augusta           | +11.33   | +16.33   | +0.33|\\n| Rotterdam, Netherlands                 | +25.00   | +30.00   | -2.50|\\n| Baltic                                  | +18.00   | +22.00   | -2.50|\\n| Spain                                   | +20.00   | +25.00   | nc   |\\n| Italy                                   | +15.00   | +20.00   | nc   |\\n| Greece                                  | +15.00   | +20.00   | nc   |\\n| Ivory Coast                            | +113.00  | +117.00  | nc   |',\n",
       " 33: '| Location                          | Differential to Ice Brent $/t | Differential to Ice Brent $/bbl | ±     |\\n|-----------------------------------|-------------------------------|---------------------------------|-------|\\n| Mediterranean, basis Augusta      | -143.29                       | -5.82                           | +0.27 |\\n| Rotterdam, Netherlands            | -130.97                       | -3.83                           | -0.05 |\\n| Baltic                            | -138.47                       | -5.04                           | -0.05 |\\n| Spain                             | -134.62                       | -4.42                           | +0.22 |\\n| Italy                             | -139.62                       | -5.231                          | +0.21 |\\n| Greece                            | -139.62                       | -5.23                           | +0.21 |\\n| Albania                           | -169.62                       | -10.09                          | +0.22 |\\n| Ivory Coast                       | -42.12                        | 10.57                           | +0.22 |\\n| Bitumen conversion factor t/bl    | 6.17                          |                                 |       |\\n| Ice Brent conversion bl/t         | 7.53                          |                                 |       |',\n",
       " 50: '| Category                        | € / t         |                | $ / t         |                |\\n|---------------------------------|----------------|----------------|----------------|----------------|\\n|                                 | Low            | High           | Low            | High           |\\n| **Domestic prices, ex-works**   |                |                |                |                |\\n| Southern UK £ / t              | 380            | 390            | 516            | 529            |\\n| Rotterdam, Netherlands          | 420            | 435            | 490            | 507            |\\n| Antwerp, Belgium                | 420            | 435            | 490            | 507            |\\n| Northern Germany                | 385            | 395            | 449            | 460            |\\n| Northeast Germany               | 350            | 360            | 408            | 420            |\\n| Southern Germany                | 370            | 385            | 431            | 449            |\\n| Southwest Germany               | 365            | 380            | 425            | 443            |\\n| Western Germany                 | 375            | 385            | 437            | 449            |\\n| Hungary                         | 380            | 390            | 443            | 455            |\\n| Romania                         | 410            | 420            | 478            | 490            |\\n| Czech Republic                  | 375            | 385            | 437            | 449            |\\n| **Export prices, ex-works**     |                |                |                |                |\\n| Poland-Germany (truck)         | 345            | 355            | 402            | 414            |\\n| Czech Republic-Germany (truck)  | 345            | 355            | 402            | 414            |\\n| Poland-Romania (truck)         | 350            | 360            | 408            | 420            |\\n| Hungary-Romania (truck)        | 390            | 400            | 455            | 466            |\\n| Rotterdam (cargo)              | 460.90         | 465.90         |                |                |\\n| Baltic (cargo)                 | 453.90         | 457.90         |                |                |\\n| **Domestic prices, delivered**   |                |                |                |                |\\n| Southern UK £ / t              | 395            | 405            | 536            | 550            |\\n| Brussels                        | 430            | 445            | 501            | 519            |\\n| Northern France                 | 475            | 485            | 554            | 565            |\\n| Central France                  | 475            | 485            | 554            | 565            |',\n",
       " 54: '| Crude and refined products, 25 Sep-1 Oct          | Low     | High    | Average  | ±      |\\n|---------------------------------------------------|---------|---------|----------|--------|\\n| Ice Brent minute marker week range $/bl           | 78.50   | 79.60   | 78.934   | +3.12  |\\n| Fuel oil 3.5%S, fob RMG barge $/t                  | 432.00  | 439.50  | 435.900  | +21.45 |\\n| Urals cif Rotterdam $/bl                            | 75.47   | 76.75   |          | +3.69  |\\n| Fuel oil straight-run 0.5% fob cargo $/t           | 566.75  | 584.75  |          | +20.25 |\\n| Fuel oil straight-run M-100 cif cargo $/t          | 472.50  | 479.00  |          | +24.75 |\\n| Vacuum gasoil 0.5%S cif cargo $/t                  | 580.25  | 598.25  |          | +20.13 |',\n",
       " 55: '| Route                | Low | High | ±    |\\n|----------------------|-----|------|------|\\n| Rotterdam-Thames     | 22  | 24   | -0.50|\\n| Hamburg-Thames       | 29  | 31   | -0.50|\\n| Klaipeda-Thames      | 47  | 49   | -1.00|\\n| La Coruna-Thames     | 39  | 43   | -1.00|',\n",
       " 121: '| Mediterranean price index         | $/t   | Low     | High    | ±      |\\n|-----------------------------------|-------|---------|---------|--------|\\n| Mediterranean fob (Augusta)      |       | 448.58  | 453.58  | +20.93 |\\n| Differential to HSFO              |       | +11.33  | +16.33  | +0.33  |',\n",
       " 122: '| Category                        | Local currency/t | $/t            | Differential to HSFO |\\n|---------------------------------|------------------|----------------|-----------------------|\\n|                                 | Low  | High  | ±   | Low   | High  | ±   |                       |\\n| Domestic prices, ex-works      |                  |                |                       |\\n| Italy, including tax            | 390  | 400  | nc  | 455   | 466   | -3.00 |                       |\\n| Southern France (delivered)     | 445  | 455  | +25.00 | 519   | 530   | +25.50 |                       |\\n| Northeast Spain                 | 455  | 465  | nc  | 530   | 542   | -4.00 |                       |\\n| Southwest Spain                 | 455  | 465  | nc  | 530   | 542   | -4.00 |                       |\\n| Izmit, Turkey                   | 4,718 | 4,718 | +313.00 | 532   | 532   | +24.00 |                       |\\n| Izmir, Turkey                   | 4,718 | 4,718 | +313.00 | 532   | 532   | +24.00 |                       |\\n| Batman, Turkey                  | 4,762 | 4,762 | +314.00 | 537   | 537   | +24.00 |                       |\\n| Kirikkale, Turkey               | 4,762 | 4,762 | +314.00 | 537   | 537   | +24.00 |                       |\\n| Export prices, fob $/t         |                  |                |                       |\\n| Italy                           |                  |                | +15.00                | 452.25 | 457.25 | +20.60 |                       |\\n| Greece                          |                  |                | +15.00                | 452.25 | 457.25 | +20.60 |                       |\\n| Spain                           |                  |                | +20.00                | 457.25 | 462.25 | +20.60 |                       |\\n| Albania                         |                  |                | -15.00                | 422.25 | 427.25 | +20.60 |                       |\\n| Delivered cargo prices, cfr    |                  |                |                       |\\n| Alexandria, Egypt               |                  |                |                       | 486   | 496   | +18.00 |                       |\\n| Gebze-Mersin, Turkey           |                  |                |                       | 480   | 490   | +19.00 |                       |\\n| Ghazaouet, Algeria             |                  |                |                       | 481   | 491   | +19.00 |                       |\\n| Rades, Tunisia                  |                  |                |                       | 479   | 489   | +19.00 |                       |\\n| Economics                       |                  |                |                       |\\n| Bitumen’s value as a fuel oil blendstock $/t | 395.473 | +18.57 |                       |',\n",
       " 125: '| Product                          | Low     | High    | Average   | ±      |\\n|----------------------------------|---------|---------|-----------|--------|\\n| Fuel oil 3.5% 0.998 fob         | 434.00  | 440.25  | 437.250   | +20.60 |\\n| Basrah Light fob Sidi Kerir     | 75.32   | 76.40   |           | +3.62  |\\n| Urals Med Aframax                | 76.12   | 77.20   |           | +3.62  |\\n| Iran Heavy fob Sidi Kerir       | 71.75   | 72.83   |           | +3.62  |\\n| VGO 0.5% west Med cif $/t       | 583.75  | 598.25  |           | +23.63 |',\n",
       " 196: '| Category                                   | Local currency/t | $/t         |\\n|--------------------------------------------|------------------|-------------|\\n|                                            | Low      | High     | ±      | Low  | High | ±      |\\n| Domestic prices, ex-works                  |          |         |        |      |      |        |\\n| South Africa                               | 9,200    | 9,600   | +750.00 | 611  | 637  | +39.00 |\\n| Import/export prices                        |          |         |        |      |      |        |\\n| Ivory Coast, fob Abidjan (export, cargo)  |          |         |        | 550.25 | 554.25 | +20.60 |\\n| Nigeria, cfr Lagos (import cargo)          | 600      | 610     | +21.00  |      |      |        |\\n| Ghana, cfr Takoradi-Tema (import, cargo)  | 576      | 586     | +21.00  |      |      |        |\\n| Kenya, cfr Mombasa (import, drums)        | 465      | 475     | +26.00  |      |      |        |\\n| Tanzania, cfr Dar es Salaam (import, drums)| 470      | 480     | +26.00  |      |      |        |\\n| Freight rates                              |          |         |        |      |      |        |\\n| Abidjan-Lagos-Warri-Port Harcourt (cargo) | 41       | 45      | nc     |      |      |        |\\n| Abidjan-Takoradi-Tema (cargo)              | 27       | 30      | nc     |      |      |        |\\n| Tarragona-Lagos-Warri-Port Harcourt (cargo)| 150      | 160     | nc     |      |      |        |\\n| Bandar Abbas-Jebel Ali-Mombasa (drums)    | 95       | 100     | +10.00  |      |      |        |\\n| Bandar Abbas-Jebel Ali-Dar es Salaam (drums)| 100      | 105     | +10.00  |      |      |        |\\n| Bandar Abbas-Jebel Ali-Djibouti (drums)    | 185      | 190     | +10.00  |      |      |        |',\n",
       " 197: '| Route                                      | Low | High | ±     |\\n|--------------------------------------------|-----|------|-------|\\n| Bandar Abbas/Jebel Ali-Mombasa (drums)    | 95  | 100  | +10.00|\\n| Bandar Abbas/Jebel Ali-Dar es Salaam (drums)| 100 | 105  | +10.00|\\n| Bandar Abbas/Jebel Ali-Djibouti (drums)   | 185 | 190  | +10.00|',\n",
       " 270: '| Category                        | Local currency/t | Low      | High     | $/t   | Low  | High | ±      |\\n|---------------------------------|------------------|----------|----------|-------|------|------|--------|\\n| **Domestic prices, ex-works**   |                  |          |          |       |      |      |        |\\n| South Korea                     |                  | 605,268  | 628,958  | 511   | 531  | 51.00  |\\n| Mumbai, India                   |                  | 40,270   | 43,970   | 544   | 594  | 17.00  |\\n| Mumbai, India (drums)          |                  | 37,070   | 39,870   | 500   | 538  | 46.50  |\\n| Thailand                        |                  | 16,494   | 18,514   | 490   | 550  | 10.00  |\\n| Indonesia                       |                  | 6,340,000| 6,340,000| 444   | 444  | -1.00  |\\n| Singapore                       |                  | 570      | 604      | 420   | 445  | 20.50  |\\n| Singapore-Malaysia ex-ref      |                  | 570      | 584      | 420   | 430  | 14.50  |\\n| Japan                           |                  | 63,513   | 71,619   | 571   | 644  | 0.50   |\\n| **Waterborne, fob**            |                  |          |          |       |      |      |        |\\n| Iran                            |                  | 290      | 305      |       |      |      | 10.50  |\\n| Iran (drums)                   |                  | 365      | 380      |       |      |      | 16.00  |\\n| Bahrain                         |                  | 160      | 160      | 425   | 425  | nc     |\\n| Singapore                       |                  | 550      | 563      | 405   | 415  | 5.00   |\\n| Singapore (drums)              |                  | 699      | 712      | 515   | 525  | 5.00   |\\n| Thailand                        |                  | 13,296   | 13,633   | 395   | 405  | 5.00   |\\n| South Korea                     |                  | 467,869  | 479,714  | 395   | 405  | nc     |\\n| Taiwan                          |                  | 11,120   | 11,259   | 400   | 405  | 2.50   |\\n| **Waterborne, cfr**            |                  |          |          |       |      |      |        |\\n| North China coast               |                  | 2,714    | 2,811    | 420   | 435  | nc     |\\n| East China coast                |                  | 2,747    | 3,070    | 425   | 475  | -2.50  |\\n| South China coast               |                  | 2,908    | 3,005    | 450   | 465  | 0.00   |\\n| Northern Vietnam (drums)       |                  | 428      | 548      |       |      |      | 13.00  |\\n| Southern Vietnam (drums)       |                  | 423      | 538      |       |      |      | 8.00   |\\n| **Economics**                  |                  |          |          |       |      |      |        |\\n| Bitumen’s value as fuel oil blendstock, Singapore | |          |          | 459.317 |      |      | 2.23   |\\n| **Asian Bitumen Price Index**  |                  |          |          |       |      |      |        |\\n| ABX 1 fob Singapore             |                  |          |          | 410.00|      |      | 5.00   |\\n| ABX 2 fob South Korea           |                  |          |          | 400.00|      |      | nc     |\\n| **Monthly Average (contract)**  |                  |          |          |       |      |      |        |\\n| Contract                        |                  |          |          |       |      |      |        |\\n| ABX 1                          |                  | 390.00   | 375      |       |      |      |        |\\n| ABX 2                          |                  | 383.13   | 370      |       |      |      |        |\\n| **Fob Mideast Gulf Price**      |                  |          |          |       |      |      |        |\\n| Mideast Gulf fob ($/t)         |                  | 298      | 425      | 5.50  |      |      |        |\\n| **Crude and refined products, 25 Sep-1 Oct** | |          |          |       |      |      |        |\\n| Dubai fob Dubai $/bl           |                  | 75.33    | 77.46    | 2.94  |      |      |        |\\n| Basrah Light fob Basrah $/bl    |                  | 74.99    | 77.70    | 2.73  |      |      |        |\\n| Banoco Arab Medium $/bl        |                  | 75.96    | 77.92    | 2.79  |      |      |        |\\n| Fuel oil HS 180cst fob Singapore $/t |            | 479.75   | 486.75   | 8.00  |      |      |        |\\n| Fuel oil HS 380cst fob Singapore $/t |            | 463.25   | 468.50   | 14.25 |      |      |        |\\n| Gasoil 0.5% fob Singapore $/bl |                  | 83.95    | 85.55    | 4.45  |      |      |        |',\n",
       " 276: '| Area      | Province   | Refinery               | Grade                     | Contract price Yn/t | ±  | Posted price Yn/t | ±  | Contract price $/t | Posted price $/t |\\n|-----------|------------|-----------------------|---------------------------|---------------------|----|-------------------|----|--------------------|------------------|\\n| Northwest | Xinjiang   | Petrochina Karamay    | AH-70, AH-90, AH-110, AH-130 | 3,900               | nc | 4,300             | nc | 603                | 665              |\\n|           |            | Sinopec Tahe          | 90-A, 90-B                | 3,750               | nc | 4,050             | nc | 580                | 627              |\\n|           |            |                       | 90-A                      | 3,075               | nc | 3,255             | nc | 476                | 504              |\\n|           |            |                       | 90-B                      | 2,925               | nc | 3,205             | nc | 453                | 496              |\\n| Northeast | Liaoning   | Petrochina Liahe      | AH-70, AH-90, AH-110, AH-100, AH-140 | 1,475               | nc | 1,875             | nc | 228                | 290              |\\n|           |            | Panjin Northern        | AH-90, AH-110, AH-100, AH-140 | 2,500               | nc | 3,150             | nc | 387                | 487              |\\n| North     | Hebei      | Petrochina Qinhuangdao | AH-70, AH-90              | 3,250               | nc | 3,750             | nc | 503                | 580              |\\n| Central   | Henan      | Sinopec Luoyang       | AH-90                     | 2,935               | nc | 2,995             | nc | 454                | 463              |\\n| East      | Shandong   | CNOOC asphalt         | AH-70, AH-90              | 2,680               | nc | 3,000             | nc | 415                | 464              |\\n|           |            | Sinopec Qilu          | 70-A, 70-B                | 3,725               | nc | 3,955             | nc | 576                | 612              |\\n|           |            |                       | 90-B                      | 3,525               | nc | 3,905             | nc | 545                | 604              |\\n| Zhejiang  |            | Sinopec Zhenhai       | 70-A, 90-A                | 3,445               | +70| 3,515             | +70| 533                | 544              |\\n|           |            |                       | 70-B, 90-B                | 3,445               | +70| 3,515             | +70| 533                | 544              |\\n| Shanghai  |            | Petrochina Wenzhou    | AH-70, AH-90              | 3,190               | nc | 3,580             | nc | 494                | 554              |\\n|           |            | Sinopec Shanghai       | AH-70                     | 3,795               | +70| 3,935             | +70| 587                | 609              |\\n| Jiangsu   |            | CNOOC Taizhou         | AH-70, AH-90              | 3,150               | nc | 3,300             | nc | 487                | 511              |\\n|           |            | Sinopec Jinling       | 70-A, 90-A                | 3,565               | +20| 3,645             | +20| 552                | 564              |\\n|           |            | Petrochina Xingmeng    | 70-A, 90-A                | 3,570               | nc | 3,940             | nc | 552                | 612              |\\n|           |            | Jangyin Alpha         | 70-A, 90-A                | 3,530               | nc | 3,850             | nc | 546                | 596              |\\n| South     | Guangdong  | Sinopec Maoming       | 70-A, 90-A                | 3,195               | +50| 3,265             | +50| 494                | 505              |\\n|           |            | Sinopec Guangzhou      | 70-A, 90A                | 3,335               | +50| 3,395             | +50| 516                | 525              |\\n|           |            | Petrochina Gaofu      | AH-70, AH-90              | 4,040               | nc | 4,610             | nc | 625                | 713              |\\n| West      | Sichuan    | CNOOC Luzhou          | AH-70, AH-90              | 3,530               | +230| 3,530             | +230| 546                | 546              |',\n",
       " 278: '| Route                           | 25 Sep | 1 Oct | Change  |\\n|---------------------------------|--------|--------|---------|\\n| Singapore-east Australia         | 130    | 145    | nc      |\\n| Singapore-west Australia         | 75     | 90     | nc      |\\n| Singapore-Gresik, Indonesia     | 32     | 38     | -0.50   |\\n| Singapore-north Vietnam         | 45     | 50     | nc      |\\n| Singapore-south Vietnam         | 33     | 37     | -1.00   |\\n| Singapore-south China           | 45     | 50     | nc      |\\n| Singapore-east China            | 50     | 60     | nc      |\\n| Thailand-south China            | 45     | 50     | nc      |\\n| Thailand-east China             | 50     | 55     | nc      |\\n| Thailand-east Australia          | 125    | 140    | +5.00   |\\n| Thailand-west Australia          | 90     | 110    | nc      |\\n| Taiwan-Ho Chi Minh, Vietnam     | 40     | 45     | nc      |\\n| Taiwan-Haiphong, Vietnam        | 35     | 40     | nc      |\\n| South Korea-east China          | 30     | 35     | nc      |\\n| South China-Haiphong, Vietnam   | 30     | 35     | nc      |',\n",
       " 302: '| Cargo Type                     | Low | High | ±     |\\n|--------------------------------|-----|------|-------|\\n| Thailand fob (Class 170)      | 417 | 427  | +5.00 |\\n| Thailand fob (Class 320)      | 422 | 432  | +5.00 |\\n| Singapore fob (Class 170)     | 420 | 430  | +5.00 |\\n| Singapore fob (Class 320)     | 425 | 435  | +5.00 |',\n",
       " 303: '| Route                          | Low | High | ±     |\\n|--------------------------------|-----|------|-------|\\n| Bandar Abbas/ Nhava Sheva (drums) | 27  | 31   | nc    |\\n| Bandar Abbas/ Mundra (drums)      | 27  | 30   | nc    |\\n| Bandar Abbas/ Haldia (drums)      | 65  | 66   | nc    |\\n| Bandar Abbas/ Mundra (bulk)       | 80  | 85   | +2.50 |\\n| Bandar Abbas/ Karwar (bulk)       | 85  | 90   | +2.50 |\\n| Bandar Abbas/ Kakinada (bulk)     | 110 | 120  | nc    |\\n| Bandar Abbas/ Haldia (bulk)       | 120 | 130  | +5.00 |',\n",
       " 317: '| Grade          | Seller                        | Price Rials/kg      | Packing         | Volume t | Destination                     |\\n|----------------|-------------------------------|---------------------|------------------|----------|----------------------------------|\\n| Pen 60/70      | Jey Oil                       | 80,266-97,666       | Bulk & Drum      | 17,000   | Export by truck ex-Esfahan      |\\n| Pen 60/70      | Jey Oil                       | 86,206              | Bulk             | 8,000    | Export by ship ex-Bandar Abbas   |\\n| Pen 60/70      | Kasra Bitumen Refining        | 95,486              | Drum             | 4,200    | Export by ship ex-Bandar Abbas   |\\n| Pen 60/70      | Ace Oil                       | 76,289              | Bulk             | 8,000    | Export by ship ex-Bandar Abbas   |\\n| Pen 60/70      | Petro Kala Hegmatan          | 88,276              | Bulk             | 5,000    | Export by ship ex-Bandar Abbas   |\\n| Pen 60/70      | RK Refining                   | 76,950              | Bulk             | 600      | Export by truck ex-Tabriz        |\\n| Pen 40/50      | Hormozan Oil                 | 76,289              | Bulk             | 1,500    | Export by ship ex-Bandar Abbas   |\\n| Pen 60/70      | Black Gold                    | 76,950-85,000       | Bulk & Drum      | 3,000    | Export by ship fob Bandar Abbas  |\\n| Pen 60/70      | White Gold                    | 86,279-90,033       | Bulk & Drum      | 2,000    | Export by ship fob Bandar Abbas  |\\n| AC40           | Bitumen Hormoz Pars           | 81,685              | Bulk             | 7,000    | Export by ship ex-Bandar Abbas   |\\n| Pen 60/70      | Pasargad Oil                  | 76,971              | Bulk             | 2,000    | Export by ship fob Bandar Lengeh |\\n| Pen 60/70      | Pasargad Oil                  | 76,950              | Bulk             | 10,000   | Export by ship ex-Bandar Imam Khomeini |\\n| Pen 60/70      | Pasargad Oil                  | 81,700              | Bulk             | 5,000    | Export by ship ex-Bandar Abbas   |\\n| Pen 60/70 & 85/100 | Petro Pasargad Hormozgan | 86,279              | Bulk             | 1,200    | Export by ship fob Bandar Abbas  |\\n| Pen 60/70      | Petro Aygeh Spadana           | 76,950              | Bulk             | 500      | Export by truck ex-Esfahan      |\\n| Pen 60/70, Ac40 | Siahfam                     | 80,871-90,033       | Bulk             | 14,300   | Export by ship fob Bandar Abbas  |',\n",
       " 348: '| Refinery        | Volume t | Rials/kg         |                  | $/t         |       |\\n|------------------|----------|------------------|------------------|-------------|-------|\\n|                  |          | Low              | High             | Low         | High  |\\n| Bandar Abbas      | 20,000   | 78,699           | 78,999           | 289         | 290   |\\n| Esfahan           | 10,000   | 74,878           | 75,044           | 275         | 275   |\\n| Shiraz            | 10,000   | 75,244           | 75,244           | 276         | 276   |\\n| Tehran            | 20,000   | 75,119           | 76,890           | 276         | 282   |\\n| Tabriz            | 8,000    | 71,661           | 71,661           | 263         | 263   |\\n| Abadan            | 20,000   | 71,661           | 74,999           | 263         | 275   |\\n| Arak              | 15,000   | 74,007           | 74,958           | 272         | 275   |',\n",
       " 351: '| Grade                     | Volume t | Price rials/kg     |\\n|---------------------------|----------|---------------------|\\n| 60/70                     | 2,798    | 78,000-83,500       |\\n| 85/100                    | 55       | 79,858              |\\n| Emulsion                  | 25       | 74,000              |\\n| 40/50                     | 0        |                     |\\n| PG6416-PG5816-PG5822     | 1,405    | 79,858              |\\n| MC250                     | 25       | 110,000             |',\n",
       " 386: \"| Vessel name       | Owner                          | Tonnage | Loading port         | Discharge port          | Current position      | ETA      |\\n|-------------------|--------------------------------|---------|----------------------|-------------------------|-----------------------|----------|\\n| San Biagio        | ABC Maritime                   | 4,900   | Abidjan              | Douala, Cameroon        | WAF                   | 29-Sep   |\\n| Bitonia           | Frederi Beta                  | 4,972   | Hamburg              | Akureyri, Iceland       | Northwest Europe      | 29-Sep   |\\n| Iver Ability      | HB Tankship                   | 12,497  | Hamburg              | Thames, UK              | Northwest Europe      | 27-Sep   |\\n| Ning Hai Wan      | Ninghaiwan Maritime Co Ltd    | 6,118   | Huelva               | Donges, France          | Northwest Europe      | 29-Sep   |\\n| San Bacco         | ABC Maritime                   | 4,995   | Brunsbuettel         | Sodertalje, Sweden      | Northwest Europe      | 28-Sep   |\\n| Iver Brilliant     | HB Tankship                   | 6,239   | Liepaja              | Newport, Wales          | Northwest Europe      | 3-Sep    |\\n| Iver Agile        | Petrolmar SPA                  | 5,765   | Mersin               | Alexandria, Egypt       | Med                   | 2-Oct    |\\n| Iver Action       | HB Tankship                   | 5,897   | Augusta              | Lavera, France          | Med                   | 2-Oct    |\\n| Sunpower          | Queensway Navigation           | 4,999   | Aspropyrgos          | Mangalia, Romania       | Black Sea             | 3-Oct    |\\n| Xing Hai Wan      | COSCOSAS                      | 6,123   | Rotterdam            | Bayonne, France         | Northwest Europe      | 2-Oct    |\\n| Acacia Rubra      | White Flag Ventures            | 6,065   | Lomonosov            | Pori, Finland           | Baltic Sea            | 30-Sep   |\\n| Bitflower         | Tarbit Shipping                | 6,314   | Rotterdam            | Nantes, France          | Northwest Europe      | 1-Oct    |\\n| Iver Bitumen      | WS Tankship                   | 6,586   | Huelva               | Tenerife, Spain         | Med                   | 1-Oct    |\\n| Iver Accord       | HB Tankship                   | 5,897   | La Coruna            | Blaye, France           | Northwest Europe      | 1-Oct    |\\n| R Ocean           | R ROSE TRADING COMPANY         | 3,764   | Basrah               | Mombasa, Kenya          | Arabian Sea           | 10-Oct   |\\n| Herbania          | DMG                            | 7,066   | Huelva               | Ghazaouet, Algeria      | Med                   | 29-Sep   |\\n| Poestella         | Bilsea                         | 8,021   | Augusta              | Algiers, Algeria        | Med                   | 2-Oct    |\\n| Seapower          | Nanjing Petroleum T'ptn       | 4,999   | St Petersburg        | Tallinn, Estonia        | Baltic Sea            | 1-Oct    |\\n| An Hai Wan        | COSCOSAS                      | 6,165   | Tarragona            | Naples, Italy           | Med                   | 2-Oct    |\\n| Iver Balance      | HB Tankship                   | 6,180   | Cadiz                | Oran, Algeria           | Med                   | 30-Sep   |\\n| LG Asphalt 1      | LG Asphalt                    | 2,107   | Singapore            | Semarang, Indonesia     | Java Sea              | 2-Oct    |\\n| Llistella         | Bilsea                         | 7,944   | Singapore            | Qinzhou, China          | Java Sea              | 4-Oct    |\\n| Da Kun Shan       | UNITED BRIGHT MARITIME LTD    | 6,186   | Singapore            | Qinzhou, China          | Java Sea              | 3-Oct    |\\n| Peng Hu Wan       | COSCOSAS                      | 6,327   | Yeosu                | Nanjing, China          | Nanjing               | 1-Oct    |\\n| VP Asphalt 1      | VP Petrochemical              | 3,102   | Rayong               | Cam Ranh, Vietnam       | Vietnam               | 2-Oct    |\\n| Bitumen Shouri    | Kaltex                        | 3,638   | Singapore            | Tan Hiep, Vietnam       | Malacca Strait        | 2-Oct    |\\n| Black Dragon      | Itochu                        | 2,500   | Ulsan                | Mutsure, Japan          | Japan                 | 28-Sep   |\\n| Black Jade        | National Bitumen Corporation   | 5,500   | Ulsan                | Lanshan, China          | East China Sea        | 30-Sep   |\\n| Tai Hua Wan       | Cosco Shipping                | 7,652   | Singapore            | Qinzhou, China          | Vietnam               | 2-Oct    |\\n| Kang Hua Wan      | Cosco                         | 7,651   | Yeosu                | Ningbo, China           | Zhejiang              | 28-Sep   |\"}"
      ]
     },
     "execution_count": 55,
     "metadata": {},
     "output_type": "execute_result"
    }
   ],
   "source": [
    "state[\"table_markdown\"]"
   ]
  },
  {
   "cell_type": "code",
   "execution_count": 56,
   "metadata": {},
   "outputs": [
    {
     "data": {
      "text/plain": [
       "{15: '<image>\\n<title>Bitumen Price Trends (January - October)</title>\\n<summary>This line graph illustrates the price trends of bitumen from January to October. The prices show a general upward trend, with fluctuations observed throughout the year. Notable increases are evident as the year progresses, particularly leading up to October.</summary>\\n<entities>\\n- Bitumen\\n- Price trends\\n- Europe\\n- Asia-Pacific\\n- Crude oil\\n- High-sulphur fuel oil (HSFO)\\n- Rotterdam\\n- Baltics\\n- Mediterranean\\n- Vietnam\\n- Australia\\n- China\\n- India\\n- Sub-Saharan Africa\\n- South Africa\\n</entities>\\n</image>',\n",
       " 23: \"<image>\\n<title>Global Shipping Rates and Export Destinations</title>\\n<summary>This map illustrates various shipping rates per ton from different regions, highlighting Spain's export rate of $460/t. It also shows other regions such as Rotterdam, Italy, and the Ivory Coast with their respective rates.</summary>\\n<entities>\\n- Regions: Spain, Rotterdam, Italy, Baltic, Greece, South Korea, Taiwan, Thailand, Singapore, Iran, Bahrain, Ivory Coast\\n- Shipping Rates: Spain ($460/t), Rotterdam ($463/t), Italy ($455/t), Baltic ($456/t), Greece ($455/t), South Korea ($400/t), Taiwan ($403/t), Thailand ($400/t), Singapore ($410/t), Iran ($298/t), Bahrain ($425/t), Ivory Coast ($552/t)\\n</entities>\\n</image>\",\n",
       " 29: '<image>\\n<title>Trade Activity in the Mediterranean</title>\\n<summary>This graph illustrates the trade activity levels of various regions, including Rotterdam, Spain, Italy, Greece, and the Ivory Coast, over time. The data shows fluctuations in trade volumes from October 2020 to October 2021, with a notable increase in activity for the Ivory Coast compared to other regions.</summary>\\n<entities>\\n- Regions: Rotterdam, Spain, Italy, Greece, Ivory Coast\\n- Timeframe: 23 October 2020 to 1 October 2021\\n</entities>\\n</image>',\n",
       " 52: '<image>\\n<title>Domestic Truck Prices Comparison: Southern UK vs. Rotterdam</title>\\n<summary>This graph illustrates the price trends of domestic truck prices in Southern UK and Rotterdam from January to October. The Southern UK prices show a steady increase, particularly notable around October, while Rotterdam prices exhibit a more fluctuating pattern with less pronounced increases.</summary>\\n<entities>\\n- Southern UK domestic prices\\n- Rotterdam domestic prices\\n- Timeframe: January 22 to October 1\\n</entities>\\n</image>',\n",
       " 68: '<image>\\n<title>Bitumen Price Trends in Germany (Northern vs Southern)</title>\\n<summary>This graph illustrates the price trends of bitumen in Northern and Southern Germany from January 22 to October 1. Northern Germany shows a steady increase, while Southern Germany exhibits more fluctuation in prices, with both regions experiencing a general upward trend over the observed period.</summary>\\n<entities>\\n- Northern Germany\\n- Southern Germany\\n- Bitumen prices\\n- Date range: January 22 to October 1\\n</entities>\\n</image>',\n",
       " 105: \"<image>\\n<title>Price Trends of Domestic Bitumen in Hungary and Romania (2023)</title>\\n<summary>This graph illustrates the price trends of domestic bitumen in Hungary and Romania from January to October 2023. The blue line represents Hungary's domestic prices, while the dashed blue line indicates Romania's domestic prices. Both trends show fluctuations, with Hungary's prices generally increasing over the period.</summary>\\n<entities>\\n- Hungary domestic bitumen prices\\n- Romania domestic bitumen prices\\n- Timeframe: January to October 2023\\n</entities>\\n</image>\",\n",
       " 126: '<image>\\n<title>Mediterranean Bitumen Cargo Prices and Freight Rates</title>\\n<summary>This image presents a graph showing the trends in Italy domestic and HSFO Mediterranean cargo prices from January to October 2021, alongside a table detailing Mediterranean cargo freight rates for various routes. The data indicates a sharp increase in bitumen prices due to rising HSFO prices, with specific premiums for Spanish, Greek, Turkish, and Italian exports. It also highlights a decrease in delivered values to North African markets and a reduction in cross-Mediterranean freight rates.</summary>\\n<entities>\\n- Mediterranean bitumen cargo prices\\n- High-sulphur fuel oil (HSFO)\\n- Spanish export premiums\\n- Greek fob cargo premiums\\n- Turkish export flows\\n- Italian fob cargo premiums\\n- North African markets\\n- Delivered values to Algeria and Morocco\\n- Egyptian state-refiner EGPC\\n- Cross-Mediterranean freight rates\\n</entities>\\n</image>',\n",
       " 138: '<image>\\n<title>Infrastructure and Transportation Overview</title>\\n<summary>This image depicts road construction and maintenance activities, highlighting the importance of infrastructure in transportation. The presence of road rollers suggests ongoing roadwork, while the scenic road indicates the connectivity and accessibility of regions. The aerial view of highways emphasizes the complexity and planning involved in transportation networks.</summary>\\n<entities>\\n- Road construction\\n- Road rollers\\n- Infrastructure\\n- Transportation networks\\n- Scenic roads\\n</entities>\\n</image>',\n",
       " 193: '<image>\\n<title>Bitumen Price Trends in Sub-Saharan Africa</title>\\n<summary>The graph illustrates the increase in bitumen prices across sub-Saharan Africa from January to October, highlighting significant price rises due to strong demand in southern and eastern Africa, while west African activity was limited by rainy conditions. Key events include the arrival of the Bitu Express in Togo and ongoing shipments to Mauritania.</summary>\\n<entities>\\n- Bitumen prices\\n- Sub-Saharan Africa\\n- South Africa\\n- West Africa\\n- Southern Africa\\n- Eastern Africa\\n- Bitu Express\\n- Togo\\n- Greece\\n- Mauritania\\n</entities>\\n</image>',\n",
       " 218: \"<image>\\n<title>Bitumen Price Trends</title>\\n<summary>This graph illustrates the price trends of bitumen from January to October, showing fluctuations with a notable increase over the months, peaking around mid-year before a slight decline towards October.</summary>\\n<entities>\\n- Naftal\\n- Nouakchott\\n- Mauritania\\n- Nigerian bitumen stocks\\n- Jane Asphalt\\n- Gradient Energy\\n- Warri terminal\\n- Ghana's GOIL\\n- Tema\\n- San Biagio\\n- Douala\\n- Cameroon\\n- Iranian drummed bitumen\\n- East Africa\\n- Bandar Abbas\\n- Kenya\\n- Mombasa\\n- Jebel Ali\\n- Dar es Salaam\\n</entities>\\n</image>\",\n",
       " 251: '<image>\\n<title>South Africa Bitumen Price Trends</title>\\n<summary>This line graph illustrates the price trends of bitumen in South Africa from January to October, showing a steady increase from around $350/t to approximately $650/t. The data indicates significant price hikes, particularly noted in the latter months of the year.</summary>\\n<entities>\\n- Location: South Africa\\n- Price Range: $350/t to $650/t\\n- Time Frame: January 22 to October 1\\n</entities>\\n</image>',\n",
       " 268: '<image>\\n<title>Singapore Bitumen Prices Trend</title>\\n<summary>This graph illustrates the price trend of Singapore HSFO 180cst from January to October, showing fluctuations with a notable increase in recent weeks. The prices have risen to around $410/t, reflecting recent market activities and supply dynamics.</summary>\\n<entities>\\n- Singapore bitumen prices\\n- Price increase: $5/t\\n- Key trader sales: 15,000t to Indonesia at $410/t\\n- October-loading deals: $405-410/t\\n- Vietnam deals: cfr basis, fob values $405-410/t\\n- Offers from refiners/local traders: $415-425/t\\n- Supply balance expected in October\\n- Tank truck prices: $406-415/t ex-refinery\\n- Domestic prices in Singapore: $420-445/t ex-tank\\n- Domestic demand: flat against September\\n</entities>\\n</image>',\n",
       " 300: \"<image>\\n<title>Bitumen Price Trends in China</title>\\n<summary>This graph illustrates the price trends of bitumen in North and South China from January to October. North China's prices show a significant increase, peaking around $450/t, while South China's prices remain relatively stable, fluctuating around $400/t.</summary>\\n<entities>\\n- North China\\n- South China\\n- Bitumen prices\\n- Timeframe: January to October\\n</entities>\\n</image>\",\n",
       " 404: '<image>\\n<title>Thailand Pen 60/70 Waterborne Price Trends</title>\\n<summary>This line graph illustrates the price trends of Thailand Pen 60/70 waterborne bitumen from January to October. The prices fluctuate between approximately 300 and 450, with notable peaks and troughs throughout the year.</summary>\\n<entities>\\n- Thailand Pen 60/70 waterborne\\n- Price range: 300 to 450\\n- Time period: January to October\\n</entities>\\n</image>',\n",
       " 424: '<image>\\n<title>Strategic Planning for Commodity Projects</title>\\n<summary>This image outlines a framework for managing bespoke projects across different time horizons: short-term, mid-term, and long-term. It emphasizes the importance of commodity market expertise, international networks, and trusted data in project execution.</summary>\\n<entities>\\n- Bespoke projects\\n- Long-term planning\\n- Mid-term planning\\n- Short-term planning\\n- Commodity market expertise\\n- International networks\\n- Trusted data\\n</entities>\\n</image>',\n",
       " 458: \"<image>\\n<title>Market Analysis and Updates</title>\\n<summary>This image depicts a person using a laptop to access various resources related to market analysis, including blog posts, podcasts, news stories, white papers, and webinars. The context provided highlights recent developments in the oil and bitumen sectors across Germany, Bahrain, Romania, and Russia.</summary>\\n<entities>\\n- Germany's Schwedt refinery: Restarted, capacity 208,000 b/d, target utilization 80-100%, repairs ongoing.\\n- Bahrain's Bapco: Bitumen price increase to $440/t, third hike in a month.\\n- Romania's Midia refinery: Capacity 100,000 b/d, repairs completed, operations resuming by end of October.\\n- BTK’s bitumen terminal: Rbs1bn financing for upgrades, increasing storage and loading capacity.\\n</entities>\\n</image>\",\n",
       " 470: '<image>\\n<title>Bitumen Price Trends</title>\\n<summary>This line graph illustrates the fluctuations in bitumen prices from January to September, showing a general upward trend with notable spikes and dips throughout the months.</summary>\\n<entities>\\n- Timeframe: January to September\\n- Price range: 2 to 10 (units not specified)\\n- Notable events: Price increases in October, September hikes\\n</entities>\\n</image>',\n",
       " 477: '<image>\\n<title>Argus Direct and Bitumen Methodology</title>\\n<summary>This image promotes Argus Direct, a platform providing immediate access to market news, analysis, and price assessments. It also highlights the Argus Bitumen Methodology, which offers a transparent approach to price assessment in the bitumen market.</summary>\\n<entities>\\n- Argus Direct\\n- Bitumen\\n- Market news\\n- Price assessments\\n- Argus Bitumen Methodology\\n- Website links: www.argusmedia.com/direct, www.argusmedia.com/methodology\\n- Contact email: info@argusmedia.com\\n</entities>\\n</image>',\n",
       " 501: \"<image>\\n<title>The Queen's Awards for Enterprise: 2015</title>\\n<summary>This image features the logo for The Queen's Awards for Enterprise, awarded in 2015. The logo includes a stylized wing and a crown, symbolizing excellence in business and enterprise in the UK.</summary>\\n<entities>\\n- The Queen's Awards for Enterprise\\n- 2015\\n</entities>\\n</image>\"}"
      ]
     },
     "execution_count": 56,
     "metadata": {},
     "output_type": "execute_result"
    }
   ],
   "source": [
    "state[\"image_summary\"]"
   ]
  },
  {
   "cell_type": "code",
   "execution_count": 57,
   "metadata": {},
   "outputs": [
    {
     "data": {
      "text/plain": [
       "{0: \"- Bitumen cargo values increased in Europe and Asia-Pacific due to rising crude and fuel oil prices.\\n- Domestic truck prices in Europe mostly strengthened at the start of October.\\n- Cargo premiums to high-sulphur fuel oil (HSFO) in Rotterdam and the Baltics decreased by $2-3/t, but outright values continued to rise.\\n- Mediterranean premium values remained steady amid rising outright values and slowing demand.\\n- The Asia-Pacific bitumen market remained firm despite a slowdown expected during China's Golden Week holidays.\\n- Crude and HSFO prices in Asia-Pacific led refiners to consider price hikes or production cuts.\\n- Supply for October was balanced in key export locations like Singapore and South Korea due to lower bitumen production.\\n- Demand is anticipated to improve from Vietnam, Australia, China, and India due to seasonal factors and easing pandemic restrictions.\\n- Bitumen prices surged in sub-Saharan Africa, with higher delivered cargo and drummed import prices, as well as increased domestic and export values in South Africa.\",\n",
       " 1: '- Spanish export cargoes were sent to North African markets and Western Europe.\\n- Activity was generally slowing across the Mediterranean.\\n- The 6,118 dwt Ning Hai Wan loaded cargo from Huelva, Spain, for Donges, France, on 29 September.\\n- The 5,897 dwt Iver Accord loaded cargo from La Coruña, Spain, for Blaye, France, by 2 October.\\n- The 6,180 dwt Iver Balance loaded cargo from Cadiz, Spain, for Oran, Algeria, on 30 September.\\n- The 7,066 dwt Herbania loaded cargo from Huelva for Ghazaouet, Algeria, by 29 September.\\n- The 6,586 dwt Iver Bitumen loaded cargo from Huelva into Tenerife, Canary Islands, on 1 October.',\n",
       " 2: '- Domestic truck prices increased in several markets due to October supply revisions.\\n- German domestic prices rose by €10/t; Benelux, UK, and France saw gains of €20/t, £20/t, and €20-25/t respectively.\\n- Not all monthly deals were confirmed by 1 October; further details expected on 4 October.\\n- Czech domestic and export prices strengthened due to tight refinery supply, despite overall plentiful availability in central and southeast Europe.\\n- High-sulphur fuel oil (HSFO) price increases in late September raised bitumen values, but early winter signs led to a modest $2-3/t decrease in Rotterdam and Baltic cargo export premiums, assessed at $25-30/t and around $20/t fob respectively.\\n- Cross regional freight rates for 5,000t cargoes showed slight declines: £22-24/t from Rotterdam, £29-31/t from Hamburg, £47-49/t from Klaipeda, and £39-43/t from La Coruna.\\n- UK domestic truck prices were assessed £20/t higher at £380-390/t ex-works and £395-405/t delivered after October price hikes.',\n",
       " 3: '- **Market Overview**: Strong construction activity and bitumen demand in North and Central Europe during September; healthy order books for October and November.\\n- **UK Bitumen Market**: \\n  - Bitumen availability high due to steady cargo imports.\\n  - Cargoes delivered to Thames terminals: $495-500/t (£365-370/t).\\n  - Domestic consumption in July: 156,000t (down 6,000t YoY).\\n  - May to July consumption: 485,000t (up 59,000t YoY).\\n  - Year-to-date (Jan-Jul) consumption: 1.05mn t (up from 817,000t last year).\\n- **France**: \\n  - Domestic prices increased by €20-25/t for October.\\n  - Northern and central France prices: €475-485/t; Southern France: €445-455/t.\\n  - Petroineos refinery maintenance affecting supply until early November.\\n  - Price hikes sought by suppliers: €30-40/t, with one case at €60/t.\\n- **Germany**: \\n  - Domestic truck market saw modest price gains from 1 October.\\n  - July bitumen deliveries: 211,102t (down 17,000t YoY).\\n  - Year-to-date deliveries: 1.02mn t (down 4.4% YoY).\\n  - Total refinery production in July: 451,969t (up 82,359t YoY).\\n  - Domestic prices: €385-395/t (north), €350-360/t (northeast), €365-380/t (southwest).\\n- **Benelux**: \\n  - Domestic truck prices: $420-435/t ex-works (up €20/t).\\n  - Ongoing negotiations in Belgium for price hikes up to €40/t.\\n- **Poland/Czech Republic**: Significant Polish demand noted in the last week of September.',\n",
       " 4: \"- Better weather in North and Central Europe is boosting construction work.\\n- Ex-works prices in Poland for October supplies rose due to crude gains, with domestic prices reaching €385/t, an increase of €15-20/t.\\n- Polish bitumen truck exports to Germany assessed at €345-355/t, up €5/t.\\n- Czech domestic prices increased to €375-385/t, with exports to Germany also at €345-355/t, up €5/t.\\n- Romanian domestic prices remain at €410-420/t, with imports from Poland unchanged at €350-360/t.\\n- Hungarian domestic truck prices steady at €380-390/t, with exports to Romania at €390-400/t.\\n- Vitol's Galati terminal expanded capacity to 7,000t from 4,000t.\\n- Demand in Latvia and Lithuania is strong, while Finnish demand is declining due to snowfall.\\n- FOB Baltic cargo premiums to FOB Rotterdam HSFO barges assessed at $20/t, down $2-3/t.\\n- Orlen's Mazeikiai refinery posted prices up €10/t, with pen 50/70 and 70/100 at €398/t and pen 100/150 and 160/220 at €405/t.\",\n",
       " 5: '- Mediterranean bitumen cargo prices increased sharply at the end of September 2021 due to rising high-sulphur fuel oil (HSFO) prices.\\n- Spanish export premiums to HSFO: $20-25/t fob; Greek fob cargo premiums: $15-20/t; Turkish export flows: similar range; Italian fob cargo premiums: $15-20/t.\\n- Demand slowdown in the Mediterranean led to greater availability of bitumen.\\n- Delivered values into North African markets decreased, with offers into Algeria in the low $50s/t and indications into Algeria and Morocco in the high $50s/t.\\n- Delivered Egyptian values for end-October also in the high $50s/t.\\n- Spanish fob levels surged to around $460/t fob, surpassing cif US east coast cargoes at around $450/t.\\n- Egyptian state-refiner EGPC awarded a 5,000-6,000t cargo to BGN at a $57/t delivered premium for end-October delivery.\\n- Cross-Mediterranean freight rates decreased by $1-2/t on shorter routes and $2-3/t on longer routes due to reduced demand for cargoes and tankers.',\n",
       " 6: '- Mediterranean market entering fourth quarter slowdown; tankers available for spot business from around 5 October.\\n- Delays at Alexandria, Egypt, and Ukraine ports affecting shipping; downward pressure on rates for 5,000t movements.\\n- Augusta-Mohammedia route assessed at $44-47/t (down $2-3/t); Augusta-Alexandria at $41-44/t; Greece-Alexandria at $35-37/t.\\n- Shorter routes: Tarragona-Mohammedia at $31-33/t; Augusta-Tunisia at $24-26/t; Livorno-Tunisia at $28-30/t; Tarragona-Ghazaouet at $25-27/t; Greek ports to Gebze/Mersin at $29-31/t.\\n- Delivered cargo values into Algeria and Morocco falling, estimated at low to high $50s/t for October.\\n- Algerian bitumen consumption estimated at 65,000t in September, expected to rise to 70,000t in October.\\n- Sonatrach’s Arzew refinery output at 400t/day; plans to increase bitutainer fleet to 100 by end of October.\\n- Several cargoes heading to Algerian ports; Iver Balance and Poestella loading from Spain and Sicily for discharge in Algeria.\\n- Egyptian state-owned EGPC awarded additional cargo; fifth cargo at $57/t delivered premium to fob Mediterranean HSFO.\\n- Spanish fob cargo premiums steady at $20-25/t; US east coast demand weak, cif values around $450/t.',\n",
       " 7: '- **Spanish Domestic Demand**: Steady; truck prices unchanged at €455-465/t ex-works as of 1 October.\\n- **Shipments**: \\n  - 6,586 dwt Iver Bitumen from Huelva to Tenerife (arrived 1 October).\\n  - 7,066 dwt Herbania from Huelva to Ghazaouet (loaded 29 September).\\n  - 6,118 dwt Ning Hai Wan from Huelva to Donges (loaded 29 September).\\n  \\n- **Italian Market**: \\n  - Fob cargo premiums to Mediterranean HSFO unchanged at $15-20/t.\\n  - Domestic truck prices steady at €390-400/t ex-works (including €31/t duty).\\n  - Anticipated truck price hikes due to rising crude oil prices.\\n  - 6,165 dwt An Hai Wan from Tarragona to Naples; 5,897 dwt Iver Action from Augusta to Lavera (by 2 October).\\n\\n- **Greek Market**: \\n  - Export cargo premiums unchanged at $15-20/t fob.\\n  - Domestic truck prices increased by €24/t; Hellenic Petroleum prices at €424/t and €426/t ex-works.\\n  - 30 trucks sent to Romania in anticipation of increased demand.\\n  - 4,999 dwt Sunpower from Aspropyrgos to Mangalia; 37,000 dwt Asphalt Synergy near Gibraltar; 6,065 dwt Fuji Lava loading from Aspropyrgos.\\n\\n- **Turkish Market**: \\n  - Domestic prices surged to TL4,718/t (Izmit and Izmir) and TL4,762/t (Batman and Kirikkale) ex-works.\\n  - Price rise attributed to higher crude values and a weakening Turkish Lira.\\n  - Increased domestic demand as constructors rush to complete projects before winter.\\n  - Upcoming cargo from Mideast Gulf expected at Toros Gubre terminal in Ceyhan.',\n",
       " 8: \"- Bitumen prices increased across sub-Saharan Africa, with higher delivered cargo and drummed import prices.\\n- South African domestic and export values also rose.\\n- Demand was strong in southern and eastern Africa, while west African activity was limited due to the rainy season.\\n- Cargo prices for delivery to west African terminals surged due to rising crude and HSFO prices.\\n- Spanish and Ivory Coast cargo premiums were assessed at $20-25/t and around $115/t fob, respectively.\\n- Freight rates for 5,000t spot cargo from Spain to Nigeria remained in the $150-160/t range.\\n- West African construction activity and bitumen demand were subdued due to ongoing rainy conditions, particularly in Nigeria, Cameroon, Ivory Coast, and Ghana.\\n- The 45,974 dwt Bitu Express arrived in Togo on 26 September with a large cargo from Greece, aiding regional stocks for upcoming dry season projects.\\n- The Bitu Atlantic's destination was undisclosed after loading in Spain.\\n- Naftal was loading a 300t bitutainer for shipment to Nouakchott, Mauritania, as part of a tender for 10,000t of bitumen.\",\n",
       " 9: \"- Naftal sent its first 300t bitutainer volume to Nouakchott for Mauritania in late-August.\\n- Nigerian bitumen stocks on 30 September were 31,106,384 litres (31,707t), down from 31,906,036 litres (32,523t) on 22 September, but up 26% from 24,729,625 litres (25,208t) on 1 September.\\n- The 5,076 dwt Jane Asphalt arrived at Abidjan terminal for delivery to Gradient Energy's Warri terminal in Nigeria.\\n- Ghana's GOIL delayed its $35mn bitumen terminal project in Tema, now targeting completion by the end of the year.\\n- The 4,900 dwt SMB time-chartered San Biagio delivered a cargo from Abidjan to Douala, Cameroon, on 29 September.\\n- Iranian drummed bitumen exports to East Africa rose $16/t to $365-380/t fob Bandar Abbas; freight rates increased $10/t to $95-100/t.\\n- Price indications for shipments to Kenya ranged from $460/t to $475-485/t cfr Mombasa, with indirect flows via Jebel Ali reaching $650-660/t.\\n- Direct shipping rates from Bandar Abbas to Mombasa and Dar es Salaam were raised to $1,850-1,950 per container ($90-100/t).\",\n",
       " 10: '- **Iranian bulk cargo exports**: Increased to $290-305/t fob Bandar Abbas, up $10-11/t.\\n- **Bahraini Bapco**: Raised export price by $15/t to $440/t fob Sitra effective 2 October.\\n- **East Africa**: Increased construction activity and bitumen demand in Kenya, Uganda, and South Sudan.\\n- **Supply issues**: Tight supply of Iranian drummed bitumen due to shipping delays; bulk cargo movements alleviating some availability issues.\\n- **R Ocean**: Scheduled to deliver bulk cargo to Mombasa on 10 October; previous shipment delivered on 30 August.\\n- **Kenyan prices**: Bulk truck prices at KES 71-73/kg ($642-660/t); drummed sales at KES 73-74/kg ($660-669/t), expected to rise to KES 75/kg ($679/t).\\n- **South Africa**: Domestic truck export prices increased to around Rand 8,300/t ($550-560/t) ex-works.\\n- **Price hikes**: South African refiners raised prices by R700-800/t, with assessments at R9,200-9,600/t ex-works.\\n- **Construction activity**: Rising in KwaZulu-Natal and Eastern Cape, linked to multi-billion Rand Msikaba and Mtentu bridges for N2 Wild Coast project.',\n",
       " 11: '- Singapore bitumen prices increased by $5/t this week.\\n- Key trader sold approximately 15,000t to Indonesian buyers at $410/t for November-loading.\\n- October-loading deals concluded at $405-410/t levels.\\n- Two deals for end-October loading into Vietnam at cfr basis, with fob values at $405-410/t.\\n- Offers from refiners and local traders ranged from $415-425/t for late-October/early-November loading.\\n- Supply from Singapore expected to balance in October due to production loss from 2-3 key refiners.\\n- Tank truck prices from Singapore rose to $406-415/t ex-refinery.\\n- Prices for tank trucks jumped to around $415-430/t ex-refinery.\\n- Offer into Johore was around 1920 ringgit/t ($456/t) on a delivered basis.\\n- Domestic prices in Singapore increased by $20.50/t to $420-445/t ex-tank for October.\\n- Domestic demand expected to remain flat against September due to manpower limitations and anticipated wet weather.',\n",
       " 12: '- Bitumen demand in Malaysia remained stable-to-firm due to ongoing construction projects.\\n- Klang Valley accounted for a significant share of total volumes lifted.\\n- State-owned refiner increased tank truck prices to approximately 1,830-1,880 ringgit/t ex-Malacca ($437-449/t).\\n- Prices from Port Klang rose to around 1,870-1,900 ringgit/t ex-Klang ($447-454/t).\\n- Delivered prices in northern Malaysia increased to about 1,870-1,960 ringgit/t ($447-466/t).\\n- Erratic rainfall has impacted project progress, but demand is expected to stay firm as projects near completion by end of November.\\n- In Thailand, bitumen prices on a fob basis were assessed at $395-405/t.',\n",
       " 13: \"- A deal for a 2,000-3,000t cargo to central Vietnam was priced at $395-400/t fob, with demand expected to rise in November.\\n- Domestic bitumen prices in Thailand increased to $490-550/t ex-refinery due to higher crude prices, impacted by floods from tropical storm Dianmu.\\n- In Indonesia, bitumen demand strengthened with a deal for a 1,500t cargo to Kalimantan at above $430/t cfr and a 3,000t cargo to North Sulawesi at around $440/t cfr.\\n- Vietnam saw increased demand with two October loading cargoes from north Asia at $440-445/t cfr and offers for end-October cargoes at $440/t cfr.\\n- South Korea's prices remained unchanged due to limited trading activity.\",\n",
       " 14: \"- No sell tenders awarded on a fob South Korea basis; a key refiner to open a sell tender for November loading soon.\\n- Weak demand from China expected to negatively impact Korean sellers.\\n- Key refineries in South Korea producing less bitumen due to strong HSFO economics; reduced volumes help balance supply for October.\\n- Domestic prices in South Korea increased by $51/t for October; mixed demand outlook due to Covid-19 concerns post-Thanksgiving.\\n- In Japan, domestic prices raised by ¥1,000/t to ¥63,513-71,619/t ex-tank; stable demand in September with more roadworks expected in October.\\n- Taiwan's export prices assessed $2.50/t higher to $400-405/t fob; limited volumes from private refiner with unchanged domestic prices at NT17,000/t ex-tank.\\n- In China, limited negotiations ahead of Golden Week; key state-owned refiner raised domestic prices by 20-70 yuan/t; another refiner raised prices by 230 yuan/t.\\n- Power shortages in China had limited impact on production; Shandong refinery resumed operations on 25 September; two refineries undergoing maintenance in October.\\n- Overall supply expected to remain ample with a planned increase of 50,000-100,000t in October bitumen production.\",\n",
       " 15: \"- Most buyers are delaying negotiations until after 8 October.\\n- East China: \\n  - October-loading South Korean cargo offered at 3,250 yuan/t.\\n  - 7,000t concluded at 3,300-3,350 yuan/t (unconfirmed).\\n  - 5,000t prompt South Korean cargo sold at $424/t cfr.\\n- South China: \\n  - No firm discussions; Singapore-based refiner offered November/December cargoes at $460/t cfr.\\n- Higher freight rates from South Korea to east China: $38-45/t for 5,000t cargoes.\\n- Australia & New Zealand: \\n  - Victoria's construction sector shutdown ends on 5 October.\\n  - Estimated 50% sales reduction due to shutdown and wet weather.\\n  - Demand expected to gradually increase in October and firm in November.\\n- India: \\n  - Demand returning as monsoon ends in about 10 days.\\n  - Local refiners raised prices: bulk by 1,600 Indian rupees/t, drummed by 2,600 Indian rupees/t from 1 October.\\n- Bahrain: \\n  - State-owned refiner increasing bitumen prices by $15/t to $440/t fob Sitra effective 2 October.\\n- Iran: \\n  - Bulk prices assessed at $290-305/t fob Bandar Abbas.\\n  - 5,000t VG40 sold at $292/t fob to India.\\n  - Demand for bulk to Pakistan: 10,000t sold at 81,000-82,000 rials/kg (about $300/t). \\n  - Drum prices assessed at $365-375/t.\",\n",
       " 16: '- Demand for bitumen is slowly firming amid thin supply of Iraqi drums.\\n- 10,000t sold at $365-367/t to Sri Lanka and India; 10,000t of pen 60/70 traded at the same price to Bangladesh, Sri Lanka, and India.\\n- 2,000t sold at $375/t for October laycan to East Africa.\\n- 5,000t Jey-embossed cargo sold at $373-376/t fob; small cargoes sold at $365-370/t to Tanzania, Sri Lanka, India, Bangladesh, and UAE.\\n- 5,000t in drums sold at $415-420/t cfr Turkmenistan; freight and logistics estimated at $65/t.\\n- General Rate Increase (GRI) for transshipment cargoes from Jebel Ali at $100/container ($5/t) effective from 26 September.\\n- Direct shipments from Iran to Kenya increased from $1,550/container to $1,850/container.\\n- Jumbo bag prices stable at $350-360/t; demand low due to small gap with drum cargoes.\\n- Iraqi bitumen supply weakened; major producer offered drum cargoes at $355-360/t.\\n- 10,000t drum cargo sold at $335-340/t to Myanmar and India.\\n- Jey Oil sold 8,000t of pen 60/70 in bulk at 86,206 rials/kg ($316/t) ex-Bandar Abbas.\\n- Pasargad Oil sold 5,000t bulk at 81,700 rials/kg ($300/t) ex-Bandar Abbas.\\n- VB feed prices increased; 202,000t demand registered, 103,000t sold by refineries.\\n- Bandar Abbas refinery to undergo maintenance, likely reducing VB feed supply by 50%.\\n- Bitumen prices rose in the domestic market; 4,308t sold at 74,000-110,000 rials/kg on IME.\\n- Argus proposes changes to waterborne fob Singapore assessment: laycan timing from 30-40 days to 15-40 days; cargo sizes from 3,000-5,000t to 3,000-7,000t.',\n",
       " 17: '- Argus Bitumen Issue 21-39 published on Friday, 1 October 2021.\\n- Document is part of the Argus Media group.\\n- Licensed to Shi Jia Lim, Argus Media Limited (London).\\n- Contains vessel tracking indications.',\n",
       " 18: \"- Iranian bitumen production decreased by an estimated 22% from March to August 2021 due to higher production costs and weak demand.\\n- VB feed sales volume fell from 2.962 million tons to 2.314 million tons (22% decrease) during the same period.\\n- Bitumen sellers faced weak demand in both domestic and regional markets, leading to reduced trading activities.\\n- Producers reported losses and had to sell cargoes to pay debts from previous VB feed purchases.\\n- VB feed supply decreased by 21% from 3.24 million tons to 2.56 million tons between March and August 2021.\\n- Iran's bitumen exports in August 2021 dropped by 32% from July and were 48% lower year-on-year, totaling about 221,730 tons.\\n- Vietnam plans to develop over 5,000 km of expressways from 2021 to 2030, increasing bitumen demand.\\n- The Road Network Development Plan includes extensions to the North-South Expressway and 14 expressways in the north totaling about 2,305 km.\",\n",
       " 19: \"- Vietnam's road development plan aims to construct 29,795 km of roads by 2030, including 3,034 km of coastal roads across 28 cities and provinces.\\n- The investment capital for the plan is estimated at 900,000 bn dong ($39.6 bn), primarily funded through public-private partnerships (PPP).\\n- The Vietnamese government introduced a new PPP framework in January 2021 to attract investment in transportation, healthcare, education, power transmission, and water sectors.\\n- Vietnam imported approximately 890,000 t of bitumen in 2020, the highest in five years, as the country does not produce bitumen.\\n- The road development plan aligns with Vietnam's 11th Socio-Economic Development Plan (SEDP) for 2021-2025, targeting a GDP growth of 6.5-7% over the next five years.\\n- Ghana's Goil has delayed the completion of a $35 mn bitumen terminal at Tema port to the end of 2021, with the project 94% complete.\\n- The terminal will supply imported AC-10 and AC-20 bitumen grades to PMB and bitumen emulsions plants, with a 3 km heated pipeline for bitumen imports.\\n- The PMB plant will have a production capacity of 30 t/hour, while the bitumen emulsions plant will have a capacity of 60 t/hour.\",\n",
       " 20: \"- **Germany's Schwedt refinery**: \\n  - Restarted by PCK consortium (Rosneft, Shell, Eni).\\n  - Capacity: 208,000 b/d.\\n  - Target utilization rate: 80-100%.\\n  - Repair works on HSC unit until mid-October.\\n  - Shut down due to electricity failure on 8 September.\\n\\n- **Bahrain's Bapco**: \\n  - Bitumen price increase: $15/t from 2 October.\\n  - New price: $440/t fob Sitra.\\n  - Third price hike in a month (previous increases: $20/t on 11 and 19 September).\\n\\n- **Romania's Midia refinery**: \\n  - Capacity: 100,000 b/d.\\n  - Repairs largely completed; operations to return to optimal levels by end of October.\\n  - Offline since early July due to a fire (3 fatalities, 2 injuries).\\n  - Diesel hydrotreatment unit repairs and restart scheduled for 2022.\\n\\n- **BTK’s bitumen terminal**: \\n  - Secured Rbs1bn ($14mn) financing for upgrades.\\n  - Project to increase bitumen loadings at Turukhtannye Ostrova terminal, St Petersburg.\\n  - Aims to add 43,800m³ storage and increase loading capacity for bitumen and vacuum residue.\",\n",
       " 21: '- 500,000 t/yr of terminal capacity is allocated for bunkering operations.\\n- Turukhtannye Ostrova started loading bitumen in September 2020.\\n- It shipped 64,000 t of bitumen from January to July 2021 and 20,300 t in the last four months of 2020.\\n- Bitumen is loaded in cargoes of 4,000-6,000 t at berth SV-15.\\n- Trading firm Vitol purchases all bitumen shipped from Turukhtannye Ostrova.'}"
      ]
     },
     "execution_count": 57,
     "metadata": {},
     "output_type": "execute_result"
    }
   ],
   "source": [
    "state[\"text_summary\"]"
   ]
  },
  {
   "cell_type": "code",
   "execution_count": 58,
   "metadata": {},
   "outputs": [
    {
     "data": {
      "text/plain": [
       "{0: 'Argus BitumenEurope, Africa, Middle East and Asia-Pacific prices and commentary\\nIncorporating Argus Asphalt ReportIssue 21-39 | Friday 1 October 2021SummaryBitumen cargo values gained across Europe and Asia-Pacific,\\nboosted by a jump in crude and fuel oil values.Domestic truck prices across Europe also mostly\\nstrengthened as October started.Cargo premiums to high-sulphur fuel oil (HSFO) in Rot-\\nterdam and the Baltics fell by $2-3/t, but outright values\\ncontinued to rise, while in the Mediterranean premium\\nvalues were steady on the week as refiners held their ground\\namid rising outright values and slowing demand.The Asia-Pacific bitumen market remained mostly firm,\\ndespite the expected slowdown due to the week-long break\\nin China for Golden Week holidays.The continued buoyancy in crude and HSFO prices in the\\nAsia-Pacific region pushed refiners to either seek price hikes\\nor mull production cuts at their units. Supply for October\\nwas seen to be balanced in key export export locations like\\nSingapore and South Korea on the back of lower bitumen\\nproduction at some units.Demand is expected to improve from Vietnam, Australia,\\nChina and India in the coming weeks supported by seasonal\\npick-up or the easing of pandemic-related restrictions.Bitumen prices shot up across sub-Saharan Africa, with\\ndelivered cargo and drummed import prices racing higher, as\\ndid domestic and export values for South African volumes.prICESRotterdam domestic differential to HSFO barges$/tCopyright © 2021 Argus Media group\\nLicensed to: Shi Jia Lim, Argus Media Limited (London)ContEntSAvailable on the Argus Publications App',\n",
       " 1: 'Argus BitumenIssue 21-39 | Friday 1 October 2021Waterborne bItUMen prIces, fobcargo floWsSpanish export cargoes were sent into north African markets\\nas well as western Europe, although activity was generally\\nslowing across the Mediterranean.The 6,118 dwt Ning Hai Wan loaded a cargo from Huelva,\\nSpain, for discharge into Donges, France, on 29 September,\\nwhile the 5,897 dwt Iver Accord loaded a cargo from La Co-\\nruna, Spain, for discharge into Blaye, France, by 2 October.The 6,180 dwt Iver Balance loaded a cargo from Cadiz,\\nSpain, for discharge into Oran, Algeria, on 30 September,\\nwhile the 7,066 dwt Herbania loaded a cargo from Huelva for\\ndischarge into Ghazaouet, Algeria, by 29 September.Waterborne markets, differential to HSFO$/tThe 6,586 dwt Iver Bitumen loaded a cargo from Huelva\\ninto Tenerife in the Canary Islands on 1 October..Page 2 of 22Issue Ref: 421631Copyright © 2021 Argus Media group\\nLicensed to: Shi Jia Lim, Argus Media Limited (London)',\n",
       " 2: 'Argus BitumenIssue 21-39 | Friday 1 October 2021North aNd CeNtral europe market CommeNtarySummaryDomestic truck prices strengthened in several markets,\\nmany of those gains linked to monthly revisions for October\\nsupplies, while cargo prices also jumped.While German domestic prices were assessed €10/t\\nfirmer after some price erosion caused by plentiful supply\\nand high stocks being sold off during September, other key\\nnorthwest European markets like Benelux, UK and France\\nregistered €20/t, £20/t and €20-25/t gains respectively.\\nBut not all monthly deals between sellers and buyers had\\nbeen agreed and confirmed by 1 October, with more details\\nexpected from 4 October.Czech domestic and export prices also strengthened\\non tight refinery supply, although there was still plentiful\\navailability overall in most central and southeast European\\nmarkets.Sharp gains in fob Rotterdam high-sulphur fuel oil (HSFO)\\nprices in the last week of September drove up outright\\nbitumen values, but such gains coupled with early signs of\\nwinter and demand slowdown in parts of the Nordic/Scandi-\\nnavia region encouraged a modest $2-3/t slippage in Rot-\\nterdam and Baltic cargo export premiums to HSFO that were\\nassessed at $25-30/t and around $20/t fob respectively.Cross regional freight rates for standard 5,000t cargoes\\nwere yet to be pushed down significantly, but slim assessed\\ndeclines took Thames-bound rates to $22-24/t from Rotter-\\ndam, $29-31/t from Hamburg, $47-49/t from Klaipeda and\\n$39-43/t from La Coruna.ukDomestic truck prices in the UK were assessed £20/t firmer\\nat £380-390/t ex-works and £395-405/t delivered after Octo-\\nber monthly price hikes that followed hefty crude and fuel\\noil gains during September, versus the previous month.North and central Europe bitumen prices, 25 Sep-1 OctSouthern UK domestic and Rotterdam domestic$/tPage 3 of 22Copyright © 2021 Argus Media group\\nLicensed to: Shi Jia Lim, Argus Media Limited (London)',\n",
       " 3: \"Argus BitumenIssue 21-39 | Friday 1 October 2021North aNd CeNtral europe market CommeNtaryThe market was also being supported by buoyant levels\\nof construction work and bitumen requirements throughout\\nSeptember, with suppliers also pointing to healthy order\\nbooks into October and November.Bitumen availability from domestic refineries and ter-\\nminals, buoyed by steady cargo import flows, has also been\\nhigh, keeping the UK bitumen market broadly balanced.\\nCargoes delivered into Thames terminals jumped in in the\\nlast week of September to an indicated $495-500/t (£365-\\n370/t) cfr range.UK government data showed domestic bitumen consump-\\ntion at 156,00t in July, down 6,000t on the same month of\\nlast year. For the May to July period this year consumption\\nstood at 485,000t, up 59,000t on the same period of 2020.\\nFor year-to-date January to July, UK consumption stood at\\n1.05mn t, against 817,000t last year, after the negative im-\\npact on construction activity and demand in 2020 caused by\\nCovid-19 lockdowns, particularly from March to May.FranceFrench domestic prices rose by €20-25/t, reflecting sharp\\ngains in agreed prices for the new month of October, al-\\nthough not all supply deal values were yet finalised in discus-\\nsions between buyers and sellers.Relatively higher product availability in the north and\\ncentre, as compared with southern France, kept assessed\\ngains in the former regions to €20/t to reach the €475-485/t\\ndelivered range, while €25/t assessed in the south took\\nthose values to €445-455/t delivered. The partial mainte-\\nnance shutdown since early-September at the Petroineos\\nrefinery in Lavera on the French Mediterranean coast —\\nexpected to last until early November — was a key factor\\nbehind hefty October price hikes, with some domesticGermany: North vs South$/tsuppliers in France seeking monthly price hikes as high as\\n€30-40/t and in one case as much as €60/t.The return to normal production and supply from Exxon-\\nMobil's Port-Jerome refinery in Normandy, northern France,\\nwas taking longer than anticipated after the plant was hit by\\na fire in early September. But both cargo and truck buyers\\npointed to a steady improvement in the supply position and\\nan anticipated return to normal flows after 4 October.BeneluxDomestic truck prices in Benelux markets were assessed\\n€20/t firmer at $420-435/t ex-works, after October price\\nhikes following crude and fuel oil gains during September.While some monthly deals appeared to have been com-\\npleted, especially in the Netherlands, with price hikes of\\naround €20/t for October supplies versus September values,\\nsome talks, especially in Belgium, were expected to take\\na few more days, with some supplier hikes of up to €40/t\\nbeing sought in ongoing negotiations in a bid to make up\\nfor some of the large gains in crude and HSFO prices during\\nSeptember, pushing up refinery feedstock costs along with a\\nweakening euro versus dollar.Local market participants pointed to normal activity\\nlevels for the time of year, with some expecting October to\\nbe the busiest month of the year.GermanyModest price gains were registered on the domestic truck\\nmarket, effective from 1 October, after intra-month declines\\nduring September when high stocks held by some refinery\\nand terminal locations were being sold off.Domestic demand has also remained below expectations\\nfor the season, underlined by fresh German Bafa data that\\nshowed bitumen deliveries domestically were 211,102t for\\nJuly this year, down 17,000t on the same month of 2020. For\\nthe year until July deliveries for Germany domestic con-\\nsumption were 1.02mn t, compared to 1.07mn t in 2020, a\\ndrop of 4.4pc.Total refinery production of bitumen was 451,969t in\\nJuly, up by 82,359t on the same month of 2020. For the year\\nuntil July production stood at 2.19mn t, compared to 1.99mn\\nt last year, an increase of 10.2pc.Domestic prices were assessed €10/t up at €385-395/t\\nex-works in the north, €350-360/t ex-works in the northeast\\nand €365-380/t ex-works in the southwest.poland/Czech republicPolish demand was significant in the last week of SeptemberPage 4 of 22Copyright © 2021 Argus Media group\\nLicensed to: Shi Jia Lim, Argus Media Limited (London)\",\n",
       " 4: \"Argus BitumenIssue 21-39 | Friday 1 October 2021North aNd CeNtral europe market CommeNtarythanks to better weather encouraging more construction\\nwork, while market participants pointed to higher prices\\nfrom refiners in the country with ex-works prices rising for\\nOctober supplies as a result of crude gains.Some market participants also pointed to the poten-\\ntial for further price increases in Poland through October\\nas supply from Lotos’ Gdansk refinery was expected to be\\nreduced.Domestic prices in Poland were indicated as high as\\n€385/t ex-works, rising sharply by €15-20/t, while Polish\\nbitumen truck exports to Germany were assessed up €5/t at\\n€345-355/t ex-works.Czech exports to Germany were also assessed up €5/t\\nat €345-355/t ex-works, while Czech domestic prices were\\nassessed €15/t firmer at €375-385/t ex-works amid limited\\navailability of some supplies from PKN Orlen subsidiary Uni-\\npetrol’s Litvinov refinery, notably of pen 160/220.Polish truck exports to Ukraine were indicated at around\\n€360/t ex-works, with some offers from Germany into Poland\\nindicated at around €350-360/t ex-works.hungary/romania/BalkansRegional domestic and export prices were assessed un-\\nchanged, but market participants expected a steady rise\\nin demand as well as a hike in some prices, including in\\nRomania, related to crude and fuel oil gains through the rest\\nof the month.Romanian domestic were still assessed at €410-420/t\\nex-works, while imports from Poland, which market partici-\\npants said were uncompetitive with local Romanian supplies,\\nwere also unchanged at €350-360/t ex-works. More bitu-\\nmen truck loads were sold by a Greek firm to a Romanian\\nimporter in the week ending 1 October as importers in thecountry gear up for the expected rise in demand following\\nthe release of some funds to constructors, with a ramp up in\\ndemand expected by the end of October to last through until\\nyear end depending on weather conditions in the country.Vitol's local arm completed an expansion to around\\n7.000t capacity — from its previous 4,000t — at its Galati\\nimport terminal.Hungarian domestic truck prices were assessed un-\\nchanged at €380-390/t ex-works, while Hungarian exports to\\nRomania were assessed unchanged at €390-400/t ex-works\\nSzazhalombatta. Some exports from Mol’s Szazhalombatta\\nrefinery were indicated as low as €340-345/t ex-works into\\nthe Polish market.Rompetrol's Vega refinery in Ploiesti, Romania, was ex-\\npected to ramp up bitumen production following the restart\\nof the Midia refinery at Navodari around 20 September. The\\nrestart will lead to the resumption of feedstock flows to Ploi-\\nesti. The 4,999 dwt Sunpower loaded a cargo from Aspropyr-\\ngos, Greece, for discharge into Mangalia on Romania’s Black\\nSea coast.BalticsDemand in Latvia was strong with constructors working on\\nprojects in the run up to winter, with bitumen consumption\\nat healthy levels in the country, according to market partici-\\npants, while Lithuanian demand was also steady with a good\\nrate of bitumen demand.In Finland however, demand was slowly unwinding with\\nthe onset of snowfall in the north of the country, with\\nimporters looking to future supplies for storage over the\\nwinter.Fob Baltic cargo premiums to fob Rotterdam HSFO barges\\nwere assessed $2-3/t down at around $20/t to reflect signs of\\na slowdown in regional cargo demand.Hungary and Romania domestic$/tThe 4,999 dwt Seapower loaded a cargo from St Peters-\\nburg for discharge into Tallinn on 1 October, while the 6,065\\ndwt Acacia Rubra moved a cargo from Lomonosov to Pori,\\narriving 30 September. The 4,972 dwt Bitonia, its name\\nchanged from the Alcedo that was delivered to Sweden-\\nbased TSA Tanker Shipping in June after the firm purchased\\nit, moved a cargo from Hamburg to Akureyi, Iceland.Posted prices from Orlen's Mazeikiai refinery were up\\n€10/t, with pen 50/70 and 70/100 at €3980/t ex-works and\\npen 100/150 and 160/220 at €405/t ex-works.Page 5 of 22Copyright © 2021 Argus Media group\\nLicensed to: Shi Jia Lim, Argus Media Limited (London)\",\n",
       " 5: \"Argus BitumenIssue 21-39 | Friday 1 October 2021Mediterranean Market coMMentarySummaryMediterranean bitumen cargo prices ended September\\nwith sharp gains as high-sulphur fuel oil (HSFO) prices rose\\nsubstantially, while bitumen cargo premiums stabilised after\\ndeclining for much of the month.Spanish export premiums to HSFO were assessed un-\\nchanged at $20-25/t fob, Greek fob cargo premiums were\\nassessed unchanged at $15-20/t, with most Turkish export\\nflows indicated in the same range, while Italian fob cargo\\npremiums were also assessed unchanged at $15-20/t. The\\nimpact of a lack of westbound transatlantic arbitrage op-\\nportunities, as well as a general demand slowdown within\\nthe Mediterranean basin was leading to greater availabilities\\nacross the region.Delivered values into key north African markets were\\nfalling, with some delivered premium offers in the low\\n$50’s/t into Algerian terminals in October, although most\\nindications into Algeria and Morocco were still in the high\\n$50s/t, while delivered Egyptian values for end-October\\nwere also in the same high $50s/t to HSFO delivered area.The gains in Mediterranean outright values made it yet\\nmore unprofitable to move spot arbitrage cargoes to the US\\neast, with Spanish fob levels surging to around $460/t fob\\nduring the last week of September, higher than cif US east\\ncoast cargoes that were trading around $450/t.Egyptian state-refiner EGPC awarded a further 5,000-\\n6,000t cargo to trading firm BGN at a $57/t delivered pre-\\nmium, basis Alexandria, for end-October delivery, additional\\nto the firm's original four-cargo tender awarded to Puma\\nEnergy and 3B Trading.Cross-Mediterranean freight rates were assessed $1-2/t\\ndown on shorter routes and $2-3/t on the longer routes\\namid clear signs of reduced demand for cargoes as well as\\ntankers to move them. That has led to indications, as theCrude and refined products, 25 Sep-1 OctItaly domestic and Mediterranean HSFO fob cargoes $/tPage 6 of 22Copyright © 2021 Argus Media group\\nLicensed to: Shi Jia Lim, Argus Media Limited (London)\",\n",
       " 6: \"Argus BitumenIssue 21-39 | Friday 1 October 2021MediterrAneAn MArket coMMentArymarket enters its usual fourth quarter slowdown period, that\\na number of tankers are to become open for spot business\\nfrom around 5 October onwards. While vessel waiting and\\ndischarge lengthy delays at Alexandria, Egypt, mean some\\ntankers are being occupied for longer periods, with Ukraine\\nport delays anyway a feature of the shipping market this\\nyear, the bearish Mediterranean shipping picture is expected\\nto cause mounting downward pressures on rates for standard\\n5,000t movements.The Augusta-Mohammedia route was assessed $2-3/t\\ndown at $44-47/t, with Augusta-Alexandria and Greece-\\nAlexandria routes also assessed $2-3/t weaker at $41-44/t\\nand $35-37/t respectively. On the region's shorter routes,\\n$1-2/t assessed declines took values to $31-33/t for Tarrago-\\nna-Mohammedia, $24-26/t for Augusta-Tunisia, $28-30/t for\\nLivorno-Tunisia, $25-27/t for Tarragona-Ghazaouet and $29-\\n31/t on Greek ports to Gebze/Mersin, Turkey.Algeria/MoroccoDelivered cargo values into north African markets were fall-\\ning with indications from market participants for October\\ndelivered cargoes ranging from the low to the high $50s/t\\ninto Algeria and Morocco.Market participants estimated Algerian bitumen con-\\nsumption to have been around 65,000t in September, while\\nthey expected a slight increase in bitumen demand forArgus Asphalt Annual 2021\\nnow availableArgus Consulting Services is pleased to present the\\nArgus Asphalt Annual 2021. The report, now in a new\\nformat, is a comprehensive review of global and country\\nasphalt/bitumen supply and demand fundamentals.Our analysis covers 11 regions and 99 countries. The report\\ncovers global, regional and country data for 2016-25. The\\nreport has four years of historical data (2016-19), estimated\\ndata for 2020, and five years of forecast data (2021-25).Send comments and request more information at\\nfeedback@argusmedia.comPetroleum\\nilluminating the marketsOctober to 70,000t, as constructors were able to resume\\nwork on a greater number of projects after the release of\\nsome funds after a period over the past two months when\\nsuch government disbursements had been well below market\\nexpectations. Local suppliers are now looking ahead to what\\nthey expect to be a fairly busy fourth quarter.Output from Sonatrach’s Arzew refinery was around\\n400t/day, while some bitutainer volumes were sent from\\nArzew to Nouakchott, Mauritania, as well as by truck from\\nsouthern Algerian depots to Niger. The firm is expected to\\nsubstantially boost its overall bitutainer fleet to around 100\\nby the end of October to enable it to expand its regional\\nexport business.Several cargoes were heading into Algerian ports after\\na slowdown in the rate of imports in September. The 6,180\\ndwt Iver Balance loaded a cargo from Cadiz, Spain, for\\ndischarge into Oran on 30 September, while the 8,021 dwt\\nPoestella loaded a cargo from Augusta, Sicily, for discharge\\ninto Algiers by 2 October.Th 5,895 dwt The Deputy loaded a cargo from Cadiz,\\nSpain, for discharge into Mohammedia by 28 October, while\\na cargo was expected to be loaded at Port-Jerome, northern\\nFrance, in the first 10 days of October for delivery into Djen\\nDjen.egyptEgyptian state-owned EGPC awarded an additional cargo\\nto its original four-cargo award, with the fifth 5,000-6,000t\\ncargo awarded to trading firm BGN at a $57/t delivered pre-\\nmium to fob Mediterranean HSFO cargoes, basis Alexandria.The original tender tender for four 5,000-6,000t cargoes\\nof pen 60/70 bitumen for mid to late October delivery into\\nits Alexandria terminal saw two cargoes each awarded to\\nPuma Energy and BB Energy unit 3B Trading, at values be-\\ntween $57-58/t to HSFO delivered premiums.The 5,765 dwt Iver Agile loaded a cargo from Mersin,\\nTurkey, for 2 October delivery into Alexandria where lengthy\\ndischarge delays have emerged over the past few weeks.SpainSpanish fob cargo premiums to fob Mediterranean HSFO\\ncargoes were assessed unchanged at $20-25/t, while outright\\nvalues were up sharply.Demand for US east coast cargoes remained weak going\\ninto October with cif US east coast values steady around\\n$450/t from US east, lower than fob Spain outright price\\nindications of around $460/t in late-September, keeping the\\nwestbound arbitrage unprofitable.Page 7 of 22Copyright © 2021 Argus Media group\\nLicensed to: Shi Jia Lim, Argus Media Limited (London)\",\n",
       " 7: \"Argus BitumenIssue 21-39 | Friday 1 October 2021Mediterranean Market coMMentarySpanish domestic demand remained steady with domes-\\ntic truck prices assessed unchanged at €455-465/t ex-works\\non 1 October with no confirmation yet from sellers or buyers\\nof finalised monthly prices for October volumes.The 6,586 dwt Iver Bitumen loaded a cargo from Huelva\\nfor discharge into Tenerife, Canary Islands, arriving 1 Oc-\\ntober, while the 7,066 dwt Herbania loaded a cargo from\\nHuelva for discharge into Ghazaouet, Algeria, on 29 Septem-\\nber.The 6,118 dwt Ning Hai Wan loaded a cargo from Huelva\\nfor discharge into Donges, France, on 29 September.italyFob cargo premiums to Mediterranean HSFO prices from Ital-\\nian export terminals were assessed unchanged at $15-20/t\\nwith greater availability being indicated by some market\\nparticipants as regional demand begins to slow down.Italian domestic demand remained buoyant, but prices\\nwere unchanged going into October, with market partici-\\npants anticipating activity and demand to remain steady at\\nstrong levels during much of the fourth quarter.Strong gains in fuel oil and crude values have been the\\nmain driver of upward revisions of domestic Italian values,\\nwith some market participants anticipating renewed bitu-\\nmen truck price hikes during October as refiners aim to keep\\npace with rising crude oil prices.Domestic truck prices were assessed unchanged in the\\nweek ending 1 October at €390-400/t ex-works, including\\nthe €31/t domestic duty on sales of road paving penetra-\\ntion grades, while truck export prices into southern France\\nas well as Switzerland were indicated around €365-375/t\\nex-works.The 6,165 dwt An Hai Wan loaded a cargo from Tarra-\\ngona, Spain, for discharge into Naples, while the 5,897 dwt\\nIver Action loaded a cargo from Augusta for discharge into\\nthe southern French port of Lavera by 2 October.GreeceGreek export cargo premiums to fob Mediterranean HSFO\\ncargoes were assessed unchanged at $15-20/t fob, with\\nmarket participants indicating offers within that range for\\nprompt loadings.Demand for Greek loading spot cargoes was however thin\\namid a general downturn in Mediterranean demand heading\\ninto the fourth quarter, while refiners were highly reluctant\\nto allow their spot cargoes to be sold at markedly lower val-\\nues than those agreed under their annual contractual deals\\nfor 2021 supplies.Domestic Greek truck prices gained significant ground,\\nrising €24/t, with ex-works offers from Hellenic Petroleum's\\nAspropyrgos and Thessaloniki refineries at €424/t and\\n€426/t ex-works respectively, while truck sales from Motor\\nOil Hellas' Agio Theodori refinery were indicated at €424/t\\nex-works. Trucks continued to be sent into the Romanian\\nmarket, with a Greek firm sending a further 30 trucks into\\nthe country from its storage tanks at Thessaloniki in antici-\\npation of pick up in Romania activity and demand by the end\\nof October as money begins to reach more constructors in a\\nrush to complete road projects before winter.The 4,999 dwt Sunpower loaded a cargo from Aspro-\\npyrgos for discharge into Mangalia on Romania’s Black Sea\\ncoast. The 37,000 dwt Asphalt Synergy loaded a cargo on 22\\nSeptember from Agio Theodori and was located near Gibral-\\ntar on 1 October, with no end destination as yet clear for\\nits cargo. The 6,065 dwt Fuji Lava was loading a cargo from\\nAspropyrgos on 30 September, having previously discharged\\na cargo into Nikolaev, Ukraine.turkeyDomestic prices in Turkey continued their recent run of\\nstrength with posted prices at Tupras' refineries surging\\nTL313-314/t to TL4,718/t ex-works Izmit and Izmir refineries\\nand to TL4,762/t ex-works Batman and Kirikkale refineries,\\nwith those values effective from 28 September.The rise in prices is in part a result of higher crude\\nvalues and a weakening Turkish Lira, but market participants\\nalso noted a slowdown in imports from Iraqi Kurdistan and\\nother Iraqi export points, with production lower in part\\nlinked to rising vacuum residue feedstock costs and specifi-\\ncation issues on some bitumen grades.Domestic Turkish demand was also picking up pace in\\na final rush to complete works by constructors before the\\nusual winter halt in activity from December.A second cargo from the Mideast Gulf is expected in the\\ncoming weeks into the Toros Gubre terminal at Ceyhan, with\\nas yet no clear indication of which tanker is to make that\\njourney or any firm shipment dates.Page 8 of 22Copyright © 2021 Argus Media group\\nLicensed to: Shi Jia Lim, Argus Media Limited (London)\",\n",
       " 8: \"Argus BitumenIssue 21-39 | Friday 1 October 2021SUB-SAHARAN AfRicA mARket commeNtARySummaryBitumen prices shot up across sub-Saharan Africa, with deliv-\\nered cargo and drummed import prices racing higher, as did\\ndomestic and export values for South African volumes.The demand picture was fairly buoyant in several south-\\nern and east African markets, while the rainy season was\\nstill keeping a lid on west African activity rates.West AfricaCargo prices for delivery into regional import terminals\\nsurged as a renewed spike in crude and high-sulphur fuel oil\\n(HSFO) prices drove up outright bitumen values.Spanish and Ivory Coast cargo premiums to fob Mediter-\\nranean HSFO cargoes were assessed unchanged at $20-25/t\\nand around $115/t fob respectively after recent declines and\\namid marked reluctance amongst major European refinery\\nsuppliers to export product at yet lower premiums than\\nunder their existing contractual arrangements for 2021 sales.Freight rate assessments for standard 5,000t spot cargo\\nmovements from Spanish to Nigerian ports stayed in the\\n$150-160/t range, but mounting downward pressures on\\ncross-Mediterranean rates could exert similar pressure on\\nwest Africa-bound and intra-regional freight rates over the\\ncoming weeks.West African construction activity and bitumen demand\\nlevels remained subdued as rainy season conditions saw no\\nsign of letting up. The greatest concentration of rainfall\\naffecting the southern and western parts of the region, prin-\\ncipally Nigeria, Cameroon, Ivory Coast and Ghana.The 45,974 dwt Bitu Express arrived at the 36,000t\\ncapacity Rubis deep-water terminal at Lome, Togo, on 26\\nSeptember with a large cargo loaded at the Agio Theodori\\nterminal in Greece. The volume helped bolster regionalTanzania, cfr Dar es Salaam drums$/tSub-Saharan Africa bitumen prices, 25 Sep-1 octstocks in readiness for the end of the rainy season and the\\nresumption of dry season road project requirements, ex-\\npected in Nigeria to begin from the end of October.The final destination of the tanker's sister ship — the\\n45,986 dwt Bitu Atlantic — was so far undisclosed after it\\nloaded at the Tarragona export terminal in Spain and headed\\nwest to pass Gibraltar on 1 October. The destination could\\nbe either the US or west Africa.The 9,776 dwt Viveka returned to the Lome terminal\\nafter making a two-port shipment from the Togolese location\\ninto Cape Town and Durban, South Africa.mauritania/mali/NigerInternational container shipping rates showed no sign of\\neasing after recent hefty gains, but Algerian firm Naftal,\\nSonatrach's marketing and supply unit, was at end of Sep-\\ntember loading a second 300t bitutainer consignment at its\\nArzew bitumen plant and terminal for shipment to Nouak-\\nchott, Mauritania.The Algerian firm had in July won a tender to supply\\n10,000t of bitumen to Mauritania, as well as another 3,000t\\nto Mali. While security fears in Mali mean no near term pros-Page 9 of 22Copyright © 2021 Argus Media group\\nLicensed to: Shi Jia Lim, Argus Media Limited (London)\",\n",
       " 9: \"Argus BitumenIssue 21-39 | Friday 1 October 2021SUB-SAHARAN AfRICA mARkEt CommENtARypect of any deliveries into that market, Naftal had sent its\\nfirst 300t bitutainer volume to Nouakchott for the Maurita-\\nnian market in late-August, also from Arzew. Naftal, which\\nis in the process of expanding its fleet of bitutainers build by\\nan Algerian firm, has also been supplying small-scale bitut-\\nainer volumes into Niger from its depots in southern Algeria.NigeriaNigerian bitumen stocks remained at high levels after a\\nnumber of cargo deliveries into its terminals during Septem-\\nber at a time of weak demand amid continued and intensive\\nrainy season conditions.The latest data released by the country's Petroleum\\nProducts Pricing Regulatory Agency (PPPRA) showed stocks\\nof the product stood on 30 September at 31,106,384 litres\\n(31,707t), down slightly from a peak of 31,906,036 litres\\n(32,523t) on 22 September but still 26pc up from the 1 Sep-\\ntember level of 24,729,625 litres (25,208t).The 5,076 dwt Jane Asphalt arrived at the Abidjan ter-\\nminal in Ivory Coast to load its next cargo for delivery into\\nGradient Energy's Warri terminal in Nigeria's Delta State.\\nAll previous cargo shipments on board the tanker into the\\nGradient terminal during 2021 have been made from Spanish\\nexport terminals at Huelva, Tarragona and Cadiz, as well as\\none February cargo movement from Augusta, Sicily.The 11,406 dwt Biskra was still located off Port Harcourt\\non 29 September, having arrived there on 23 September with\\nthe second of its two-port discharges, the first having been\\ninto Sapele.Ghana/Ivory Coast/CameroonThe prospect of an alternative Ghanaian bulk bitumen im-\\nporter was pushed back by a few months as local firm GOILWest Africa cargo cfr- Med HSFO fob cargoesdelayed its 6,00t bitumen terminal project in the Tema port\\narea.The $35mn project in a joint venture with Ivory Coast\\nbitumen producer SMB, also includes a 30t/hour capacity\\nstyrene-butadiene-styrene (SBS) polymer-modified bitumen\\n(PMB) plant as well as a 60t/hr emulsions unit. The proj-\\nect had been slated for end-September completion, but is\\nnow being targeted to be ready at the end of this year (see\\nnews).Virtually all of Ghana's bulk cargo imports are currently\\nmade into its Takoradi terminal, mainly from SMB's Abidjan\\nrefinery and terminal complex, with Shell and Total receiv-\\ning those volumes of AC-10 and AC-20 and selling them to\\nlocal truck buyers.The 4,900 dwt SMB time-chartered San Biagio moved a\\ncargo from the firm's Abidjan refinery and terminal com-\\nplex to Douala, Cameroon, arriving there on 29 September.\\nArmed guards on board was indicated by vessel tracking\\nservices, underlining the continued security risks associated\\nwith shipping movements in the Gulf of Guinea.East AfricaRegional import prices for both drummed and bulk bitumen\\nimports from the Mideast Gulf maintained their upward mo-\\nmentum amid gains in both fob and delivered prices.The sharpest gains affected the Iranian drummed export\\ntrade to east African ports, with Iranian exports assessed\\n$16/t up at $365-380/t fob Bandar Abbas, while freight rates\\nfrom Bandar Abbas to Mombasa, Kenya, and Dar es Salaam,\\nTanzania, were assessed $10/t up at $95-100/t amid relent-\\nless gains in container shipping costs caused by global short-\\nage in that sector.Market participants reported price indications into Kenya\\nat values anywhere from $460/t up to the $475-485/t cfr\\nMombasa range for direct shipments from Bandar Abbas and\\nas high as $650-660/t for indirect flows via Jebel Ali.Regional suppliers said Iranian state-owned IRISL and its\\nHDS affiliate had raised direct shipping rates from Bandar\\nAbbas to Mombasa and Dar es Salaam to $1,850-1,950 per\\ncontainer ($90-100/t), while some east Africa bound move-\\nments made indirectly by international container ship-\\nping lines were indicated as high as $5,000 per container\\n($250/t).Market participants named several such lines that were\\noffering little or no services on Mideast Gulf to east and\\nother sub-Saharan Africa routes.Assessed freight rates from Bandar Abbas to Djibouti\\nwere also $10/t firmer at $185-190/t given that the route canPage 10 of 22Copyright © 2021 Argus Media group\\nLicensed to: Shi Jia Lim, Argus Media Limited (London)\",\n",
       " 10: \"Argus BitumenIssue 21-39 | Friday 1 October 2021SUB-SAHARAN AfRicA mARket commeNtARyonly be served by international shipping lines moving moves\\nin directly via UAE ports, principally Jebel Ali.Iranian bulk cargo exports were assessed $10-11/t up at\\n$290-305/t fob Bandar Abbas, while Bahraini state-owned re-\\nfiner Bapco announced it would raise its listed cargo export\\nprice by $15/t to $440/t fob Sitra with effect from 2 October\\nin the wake of two sets of hikes over the past month.kenya/Uganda/South SudanRegional suppliers pointed to more busy rates of construc-\\ntion activity and bitumen requirements in Kenya, Uganda\\nand South Sudan.While supply of Iranian drummed bitumen remains tight\\namid container shipping and container shortages as well as\\nregular delays in such shipping movements, especially on Ira-\\nnian state-owned IRISL vessels, bulk cargo supply movements\\nhave helped to alleviate some of the availability issues in\\neast African markets.The 3,764 dwt R Ocean was set to deliver its bulk cargo\\ninto the Skytrade Global terminal in Mombasa after its\\nscheduled 10 October arrival with its cargo loaded in the\\nMideast Gulf, following the previous 30 August delivery\\non the same tanker. While nearly all the volumes in the\\nprevious shipment have already been delivered to local and\\nregional buyers, around half of the new shipment's volume\\nwas understood to have already been pre-sold by the week\\nending 1 October.Domestic drummed and bulk truck prices were expected\\nto face upward pressure because of the spike in delivered\\nvalues into Mombasa, Kenya. Bulk truck volumes were\\nindicated at Kenyan Shillings 71-73/kg ($642-660/t) ex-works\\nMombasa, while drummed sales were at KES73-74/kg ($660-\\n669/t) and expected to rise in early October to as high as\\nKES75/kg ($679/t).New: Quick access to price history and chartsDear Argus customer,\\nIf you have a subscription to the online Argus Direct\\nservice, you now have quick access to a view of price\\nhistory direct from this PDF.\\nClick on a price series value, and provided you are con-\\nnected to the internet, you will be taken directly to the\\nprice series on Argus Direct in your browser, where you\\ncan view and chart the history.\\nIn advanced PDF viewers, you can also hover over the\\nprice to see the underlying Argus PA code.Southern AfricaSouth African domestic and truck export prices jumped,\\nwith some of the export flows now indicated at around Rand\\n8,300/t ($550-560/t) ex-works.A steady stream of requirements was reported into Zam-\\nbia, Malawi and Botswana, with drummed flows also heading\\ninto Zimbabwe from neighbouring South Africa.South AfricaDomestic truck prices shot up as South African refiners dra-\\nmatically raised their prices to reflect large gains in crude\\nand other feedstock costs during September as well as a\\nweakening Rand against the US dollar.Gains of R700-800/t from some suppliers were reported\\nby market participants to have already taken effect from\\n1 October, with assessments rising R750/t to the R9,200-\\n9,600/t ex-works range.Rates of construction activity have been rising during the\\ncurrent peak season period that began on 1 September, with\\nbuoyant rates of project work reported in KwaZulu-Natal\\nand Eastern Cape provinces. Some of that work is con-\\nnected with construction of the multi-billion Rand Msikaba\\nand Mtentu bridges that will form part of the N2 Wild Coast\\nmega road project. Funding allocations for the next round\\nof South African National Roads Authority (Sanral) backed\\nprojects was awaited, with those projects most likely to\\nstart sometime in 2022.Page 11 of 22Copyright © 2021 Argus Media group\\nLicensed to: Shi Jia Lim, Argus Media Limited (London)\",\n",
       " 11: 'Argus BitumenIssue 21-39 | Friday 1 October 2021ASiA-PACifiC And MiddLe eASt MArket COMMentArySingaporeSingapore bitumen prices edged up another $5/t this week,\\nsupported by stronger deals and discussions among local\\nsellers and regional buyers.On a fob Singapore basis, a key trader sold about 15,000t\\nin total to Indonesian buyers at $410/t for November-loading.\\nSeveral deals for October loading were also concluded at\\nabout $405-410/t levels. Two more deals to be loaded in\\nend-October were also concluded into Vietnam on a cfr\\nbasis, with fob values at $405-410/t.Offers from refiners and local traders ranged at $415-\\n425/t for late-October/early-November loading cargoes that\\nmet bids or buying indications in the $405-410/t range.Supply from Singapore is expected to be more balanced\\nin October on the back of production loss from 2-3 key\\nrefiners. The persistent negative spread between bitumen\\nand high-sulphur fuel oil (HSFO) could be pushing refiners to\\nincentivise production of HSFO versus bitumen.Tank truck prices from Singapore have continued to rise\\nand were at $406-415/t ex-refinery. Demand in Malaysia has\\nbeen slowing again from the central region of Peninsular\\nMalaysia, following the recent pick-up.Prices of tank trucks from Singapore jumped to around\\n$415-430/t ex-refinery. Regional players have also noted that\\ntighter bitumen supply across Singapore and Malaysia has\\nresulted in higher prices for tank trucks. An offer into Johore\\nwas at around 1920 ringgit/t ($456/t) on a delivered basis.Domestic prices in Singapore were raised by $20.50/t to\\n$420-445/t ex-tank for October on the back of higher crude\\nvalues in the past month. Domestic demand is expected\\nto however remain flat against September, with manpower\\nlimitations and expected wet weather to hamper works.Singapore pen 60/70 and HSFO cargoesSingapore pen 60/70 waterborne$/tAsia bitumen prices, 25 Sep-1 OctPage 12 of 22Copyright © 2021 Argus Media group\\nLicensed to: Shi Jia Lim, Argus Media Limited (London)',\n",
       " 12: 'Argus BitumenIssue 21-39 | Friday 1 October 2021ASiA-PACifiC And Middle eASt MARket COMMentARyBitumen freight, 25 Sep-1 OctMalaysiaBitumen demand in Malaysia was stable-to-firm as most con-\\nstruction projects across the country continued to operate\\nat a steady pace.Demand from the Klang Valley continued to occupy a\\nlarge share of total volumes lifted, with bitumen demand\\nfrom ongoing projects and premix plants remaining firm over\\nthe past three weeks.The state-owned refiner increased its tank truck prices\\nto around 1,830-1,880 ringgit/t ex-Malacca ($437-449/t).\\nPrices from Port Klang rose similarly to around 1,870-1,900/t\\nex-Klang ($447-454/t). Delivered prices in the north have\\nalso edged up to around 1,870-1960 ringgit/t ($447-466/t) in\\nresponse an increase in listed prices from the state-owned\\nrefiner’s Prai facility.Several players have expressed that erratic rainfall\\nover several construction sites has affected the progress\\nof projects, but demand across Peninsula Malaysia in the\\ncoming months is expected to remain firm as most construc-\\ntion projects continue to edge towards completion by end\\nNovember.ThailandPrices on a fob basis were assessed at $395-405/t in line\\nwith the trend seen in Singapore.Page 13 of 22Copyright © 2021 Argus Media group\\nLicensed to: Shi Jia Lim, Argus Media Limited (London)',\n",
       " 13: 'Argus BitumenIssue 21-39 | Friday 1 October 2021ASiA-PAcific And MiddLe eASt MArket cOMMentAryA deal for a 2,000-3,000t cargo bound for central Viet-\\nnam, with a laycan period set in the first week of November,\\nwas at around $395-400/t fob.Regional traders have noted firmer buying indications\\nfrom Vietnamese buyers for end October and first half No-\\nvember-loading cargoes. Demand from Vietnam is expected\\nto pick up in November, as the seasonal monsoon ends.Domestic demand for bitumen was mostly muted. Floods\\nacross several regions in Thailand after tropical storm\\nDianmu has hit operations in multiple construction sites in\\nBangkok and other parts of central Thailand.Domestic prices rose to around $490-550/t ex-refinery in\\nresponse to higher crude prices. The higher cost of produc-\\ntion has necessitated an increase in its listed prices.indonesiaBitumen demand in Indonesia continued to strengthen as the\\ncountry approached its annual peak season for the bitumen\\nmarket. Demand from the islands of Sumatra, Kalimantan\\nand Sulawesi continued to be relatively firm on the back of\\nongoing projects.A deal for a 1,500t Singapore origin cargo bound for\\nKalimantan with a loading period set in first half October\\nwas at above $430/t cfr Kalimantan. A 3,000t 1H October\\nloading cargo bound for North Sulawesi was concluded at\\naround $440/t cfr. Another deal for a 3,000t lot for first half\\nOctober loading to South Sumatra was concluded at around\\n$440/t cfr. A deal by a Singapore-based trader totalling up to\\n15,000t to be loaded across November and first half Decem-\\nber was also done this week.Buying ideas were in the $395-410/t fob range for end\\nOctober and early November loading cargoes. Most regional\\nplayers have continued to indicate their preference forDelivered cargoes: North and South China$/tlifting from the state-owned refiner’s terminals in Cilacap\\nand Gresik as an alternative compared with higher-priced\\ncargoes from regional markets.VietnamMore deals and discussions surfaced in Vietnam as demand\\nfirmed with the easing of lockdown. Some roadworks were\\nalso hampered this week by the ongoing wet weather.An importer concluded two October loading cargoes from\\nnorth Asia at $440-445/t cfr, with one small volume loading\\nfor south Vietnam from Thailand and another 5,000t cargo to\\nnorth Vietnam.Two 3,000t cargoes from Singapore were concluded at\\n$440/t cfr south Vietnam and $455/t cfr north Vietnam. This\\ncould not be confirmed with the buyer. Freight costs were\\nestimated at $30-35/t to south Vietnam and $45-50/t to\\nnorth Vietnam.An offer for an end-October loading cargo at $440/t cfr\\nwas seen from a Singapore-based refiner, with the volume\\nand discharge ports yet to be fixed. The cargo was under-\\nstood to be part of a larger shipment heading towards the\\nnorth in end-October. Other offers into Vietnam for second-\\nhalf October volumes were ranging between $445-455/t cfr\\nfor cargoes of both southeast Asian and northeast Asia ori-\\ngins, with most buying ideas at $440-445/t cfr. Discussions\\nfor November volumes had yet to commence.South koreaPrices in South Korea were unchanged on the back of limited\\ndiscussions or trades concluded.Page 14 of 22Copyright © 2021 Argus Media group\\nLicensed to: Shi Jia Lim, Argus Media Limited (London)',\n",
       " 14: 'Argus BitumenIssue 21-39 | Friday 1 October 2021ASIA-PAcIfIc AnD MIDDlE EASt MARkEt coMMEntARyOn a fob South Korea basis, no sell tenders were award-\\ned. But a key refiner is expected to open a sell tender for\\nits November loading cargoes in the coming weeks. Demand\\nfrom China remains weak and is anticipated to remain a\\nbearish factor for the Korean sellers.Meanwhile, some key refineries are continuing to produce\\nless bitumen on the back of strong HSFO economics. The\\nreduced physical volumes of bitumen has helped to balance\\nthe overall supply availability for October.Domestic prices in South Korea were raised by $51/t for\\nOctober, as recent firmness in crude values lent to higher\\ndomestic selling prices. Demand outlook for October remains\\nslightly mixed, with local players wary of the recent spike\\nin Covid-19 cases following the Thanksgiving festival holiday\\nrecently.In Japan, domestic prices were raised by ¥1,000/t to\\n¥63,513-71,619/t ex-tank. Demand in September has been\\nmostly stable against the previous month. More roadworks\\nare expected to commence in October, though some proj-\\nects might slow down with the upcoming general elections\\nin November. Some sellers were anticipating slightly tighter\\nsupply in October, with one refiner’s terminal in Yokohama\\nundergoing maintenance. This could not be confirmed.taiwanIn line with regional price movements, export prices from\\nTaiwan were assessed $2.50/t higher to $400-405/t fob\\nTaiwan.Volumes from the private refiner remain limited, with\\nno indications given on production levels for November and\\nDecember.Reduced volumes have also prompted buyers to seek\\nalternative cargoes of other origins.\\nDomestic prices from the state-owned refiner were un-\\nchanged at NT17,000/t ex-tank.chinaLimited negotiations were seen in China with the country\\nheading into the week-long break for Golden Week celebra-\\ntions from 1-7 October.A key state-owned refiner raised its domestic listed\\nprices by 20-70 yuan/t for key refineries in east China and\\nby 50 yuan/t for refineries in the south. The upward revi-\\nsions were seen as mostly in line with the firmness in global\\ncrude prices, with domestic demand expected to improve\\npost-Golden Week. Another smaller state-owned refiner\\nalso raised listed prices by 230 yuan/t at its terminal in the\\nsouthwest.Ongoing power shortages in parts of China had limited\\nimpact on production. Some refineries in areas affected by\\npower shortages may have slowed the rate of production,\\nbut supply levels were mostly unaffected.A state-owned refinery in Shandong also resumed opera-\\ntions on 25 September after a planned turnaround. Two\\nrefineries in the east and in the south are due to undergo a\\nmonth-long maintenance from October. Overall supply levels\\nare expected to remain ample with the refiner planning to\\nraise overall bitumen production by about 50,000-100,000t\\nin October. The planned increment comes on the back of re-\\nduced petroleum coke production which has been curtailed\\ndue to carbon emission reduction plans.Few discussions for imported cargoes were seen withPage 15 of 22Copyright © 2021 Argus Media group\\nLicensed to: Shi Jia Lim, Argus Media Limited (London)',\n",
       " 15: 'Argus BitumenIssue 21-39 | Friday 1 October 2021AsIA-PAcIfIc ANd MIddle eAst MArket coMMeNtArymost buyers preferring to delay negotiations until after 8\\nOctober. In east China, an offer for an October-loading South\\nKorean cargo was at 3,250 yuan/t. About 7,000t of October-\\nloading cargo from South Korea were also concluded at\\n3,300-3,350 yuan/t to east China. This could not be con-\\nfirmed. Another importer concluded a very prompt 5,000\\nSouth Korean cargo which loaded this week at $424/t cfr\\neast China.In south China, no firm discussions for imports were\\nseen amid scant buying interest. An offer for November and\\nDecember-loading cargoes from a Singapore-based refiner\\nwas made at $460/t cfr south China.Higher freight rates were quoted for cargoes from South\\nKorea to east China, with ship owners having to contend\\nwith higher demurrage fees due to ongoing port congestion,\\nparticularly along the Yangtze River. Freight rates were at\\n$38-45/t for 5,000t cargoes, though few to no buyers were\\nwilling to take the higher offers.Australia & New ZealandIn the state of Victoria, the ongoing construction sector\\nshutdown in Melbourne and other areas will be lifted from 5\\nOctober, with stringent Covid-19 measures in place. One sell-\\ner estimated a reduction of around 50pc of sales this week\\ndue to the shutdown, with some slowdown also attributed\\nto the wet weather. Overall demand is expected to pick up\\ngradually in October and firm further in November.Discussions were ongoing for November-loading cargoes,\\nwith indicative offers at higher than current fob Singapore\\nlevels. One importer also concluded a 7,000t cargo from\\nsoutheast Asia for loading mid-November on a formula basis.In New Zealand, demand from Auckland is expected to\\nreach similar levels to the rest of the country gradually, with\\nroadworks picking up despite the city remaining under the\\nstricter “level 3” Covid-19 measures. Ullage levels remain\\nmanageable with importers citing no need to delay or divert\\nincoming cargoes.IndiaIn the Indian market, demand is slowly returning as the\\nmonsoon is nearing its end. Roadworks are picking up slowly\\nin parts of the country with the monsoon expected to end in\\nanother 10 days time.Buying of bulk and drummed parcels from Iran picked up\\nthis week but port inventories remain on the high side, thus\\ndeterring a firm upturn. Local refiners also raised prices for\\nbulk by 1,600 Indian rupees/t and for drummed cargoes by\\n2,600 Indian rupees/t from 1 October.Iranian Vacuum Bottom prices from NIoc*, 25-30 sep* Exclusive of the 9pc tax for domestic sales and 14pc duty for export salesIranian domestic sales through the IMe, 25-30 sepBahrainBahrain’s state-owned refiner will be increasing its bitumen\\nlisted prices by $15/t with effect from 2 October on the back\\nof the recent hikes in crude and fuel oil prices. This price\\nhike will see listed prices increase to $440/t fob Sitra.This is the third time in a month where the refiner has\\nannounced a price increase.IranThe Iranian market firmed supported by higher VB feed\\nprices and improved demand. The exchange rate fluctuated\\nin the 233,000-273,000 rials range on the local platforms.\\nBulk prices were assessed at $290-305/t fob Bandar Abbas.\\nBulk cargoes from Bandar Imam Khomeini port were offered\\nat $285-290/t fob.A 5,000t VG40 bulk lot was sold at $292/t fob Bandar\\nAbbas to India for prompt delivery. A 4,000t bulk cargo was\\nsold at $287/t to India. A 6,000t vessel size cargo was sold\\nat $290/t to India for prompt delivery. A total 9,000t of bulk\\ncargoes were loaded based on previous contracts at $285/t\\nfob.Demand remained firm for bulk to Pakistan with at\\nleast 10,000t sold at 81,000-82,000 rials/kg (about $300/t)\\nex-Esfahan, up 3,000 rials/kg week-on-week. Demand from\\nAfghanistan remained subdued.Demand for drums was boosted in the past week and\\nprices were assessed at $365-375/t on different payment\\nterms. Buying interest for drums from India increased asPage 16 of 22Copyright © 2021 Argus Media group\\nLicensed to: Shi Jia Lim, Argus Media Limited (London)',\n",
       " 16: 'Argus BitumenIssue 21-39 | Friday 1 October 2021AsiA-PAcific And Middle eAst MArket coMMentArydemand is slowly firming, amid thin supply of Iraqi drums.\\nA producer sold 10,000t in drums at $365-367/t to Sri Lanka\\nand India. A total 10,000t of pen 60/70 in drums traded at\\n$365-367/t to Bangladesh, Sri Lanka and India on cash pay-\\nment basis.Total 2,000t were sold at $375/t for October laycan to\\neast Africa. A 5,000t Jey-embossed cargo sold at $373-376/t\\nfob, while several small cargoes were sold at $365-370/t to\\nTanzania, Sri Lanka, India, Bangladesh and the UAE. A total\\n5,000t in drums sold at $415-420/t cfr Turkmenistan for\\nprompt delivery, with freight and logistic charges estimated\\nat $65/t.Private shipping companies imposed a new General Rate\\nIncrease (GRI) for transshipment cargoes from Jebel Ali at\\nan average $100/container ($5/t) from 26 September. In ad-\\ndition to this, direct shipments from Iran to Kenya rose from\\n$1,550/container to $1,850/container from this week,while\\nno container was available by IRISL for exporters.Jumbo bag prices remained stable at $350-360/t, but\\ndemand was thin due to the low gap with drum cargoes.\\nIraqi bitumen supply has weakened over the past month and\\na major producer was offered drum cargoes at $355-360/t,\\nwhile a 10,000t drum cargo was sold at $335-340/t early\\nthis week to Myanmar and India. Market players said Iraqi\\nvacuum residue (VR) feed price rose sharply and availability\\nof VR in north Iraq fell sharply and several bitumen produc-\\ners in Kurdistan region has halted production.On the IME, prices moved up as competition rose be-\\ntween buyers. Jey Oil sold 8,000t of pen 60/70 in bulk at\\n86,206 rials/kg ($316/t) ex-Bandar Abbas, up by $10/t. Jey\\nOil also sold 7,000t at 80,350 rials/kg ($294/t)ex-Esfahan, up\\naround 3,900 rials/kg week-on-week and 10,000t in drums\\nwere sold at 93,009-97,666 rials/kg ($341-358/t) ex–Esfahan.Pasargad Oil increased prices to around 4,050 rials/\\nkg ($14/t) and sold 5,000t bulk on 81,700 rials/kg ($300/t)\\nex-Bandar Abbas. Another 2,000t in bulk was sold at 76,961\\nrials/kg ex-Arak refinery, while 10,000t bulk of pen 60/70\\nsold at 76,950 rials/kg ($283/t) ex-Abadan.iran local marketVB feed prices continued on an upward trend as the Oil Re-\\nfining Industry Association (Orica) revised VB feed prices on\\n25 September. VB feed prices from Bandar Abbas and Shiraz\\nRefineries were announced at 75,244 rials/kg, up by 4,970\\nrials/kg ($18/t) and from other refineries at 71,661 rials/kg,\\nup by 4,733 rials/kg ($17.5/t).But buying interest was healthy due to lowered VB sup-ply by refineries and expectations of further rise in prices\\nin the coming revision, led by hikes in crude and HSFO\\nprices. About 202,000t demand registered for VB feed, while\\n103,000t was sold by refineries on IME this week.Bandar Abbas refinery announced a planned maintenance\\nfor a month from mid-October. VB feed supply from Bandar\\nAbbas refinery is likely to drop by 50pc from this week until\\nthe end of November. Bandar Abbas Refinery offered 20,000t\\nof VB feed at 75,244 rials/kg and 71,000t demand was regis-\\ntered. They finally sold 20,000t at an average of 78,919 rials/\\nkg.Tehran Refinery may also undergo maintenance from\\nmid-October and likely will reduce VB feed supply too.\\nTehran Refinery sold 20,000t of VB feed at 75,421 rial/kg, up\\nby 4,000 rials/kg ($14.50/t). Esfahan Refinery sold 10,000t\\nat 75,004 rials/kg, up by 4,000 rials/kg ($14.50/t). Tabriz\\nRefinery sold 8,000t at 71,616 rials/kg, up by 3,100 rials/kg.\\nAbadan Refinery sold 20,000t at 71,661-74,999 rials/kg. Arak\\nRefinery sold 25,000t at 74,570 rials/kg, up by about 6,000\\nrials/kg. Shiraz Refinery sold 10,000t at 75,244 rials/kg, up\\nby about 3,000 rials/kg.Bitumen prices rose in the domestic market, following a\\nsurge in VB feed prices and producers sold 4,308t of differ-\\nent products at 74,000-110,000 rials/kg on IME.Proposal to change waterborne fob singa-\\npore assessmentArgus proposes to change the laycan timing of its\\nwaterborne fob Singapore assessment from the current\\n30-40 days forward to 15-40 days forward from the date\\nof publication. Argus also proposes to change the cur-\\nrent cargo sizes in the fobB Singapore assessment from\\n3,000-5,000t to 3,000-7,000t.Argus will accept comments on this proposed change\\nuntil 20 October 2021. To discuss this proposal, please\\ncontact the Asia Bitumen editor, Mahua Chakravarty, at\\nmahua.chakravarty@argusmedia.com or by phone on +65\\n6496 9935. Formal comments should be marked as such\\nand may be submitted by email to mahua.chakravarty@\\nargusmedia.com or by post to Mahua Chakravarty, Argus\\nMedia, 50 Raffles Place, #10-01 Singapore Land Tower,\\nSingapore 048623, and received by 20 October 2021.\\nPlease note that formal comments will be published\\nafter the consultation period unless confidentiality is\\nspecifically requested.Page 17 of 22Copyright © 2021 Argus Media group\\nLicensed to: Shi Jia Lim, Argus Media Limited (London)',\n",
       " 17: 'Argus BitumenIssue 21-39 | Friday 1 October 2021VEssEL TrACking inDiCATiOnsCopyright © 2021 Argus Media group\\nLicensed to: Shi Jia Lim, Argus Media Limited (London)Page 18 of 22',\n",
       " 18: \"Argus BitumenIssue 21-39 | Friday 1 October 2021NewsNarrow margins pressure Iran's bitumenIranian bitumen production fell by an estimated 22pc during\\nMarch-August, faced by the double whammy of higher costs\\nof production and weak demand from key markets.Iran's VB feed sales volume fell by about 22pc from\\n2.962mn t to 2.314mn t between 22 March and 22 August\\n2021 compared with the same period last year. As a result,\\nbitumen production also fell by at least about 22pc during\\nthe same period.Meanwhile, bitumen sellers have seen weak demand in\\ndomestic as well as regional markets. Producers have also\\nseen an increasing squeeze on margins on the rising cost of\\nVB feed prices. This, coupled with stronger high-sulphur fuel\\noil (HSFO) economics, has resulted in higher production of\\nfuel oil and has reduced export volumes.“We reduced trading activities for bitumen as there is\\nno profit margin, and have switched to other products,” said\\nseveral local traders.“As a producer, we have faced losses over the past\\nmonths and were forced to sell our cargoes only to pay our\\ndebts from purchasing VB feed that was bought earlier,” said\\nseveral producers.As a result, the number of companies trading or selling\\nbitumen within Iran has fallen over the past few months.A gap was seen in buy-sell expectations as higher offers\\nbased on higher costs of production were rejected by buy-\\ners from key markets. This was further underpinned by the\\nimpact of Covid-19, which resulted in issues with government\\nfunds and slowed paving activities in recent months.“We purchased VB feed at 70,274 rials/kg [$285/t] and\\nproduced bitumen at $315/t fob, including storage and VAT\\ncosts, but we have sold without any profit,” said industry\\nparticipants. The government did not give a tax rebate toSingapore and Rayong waterborneSingapore pen 60/70 waterborne\\nThailand pen 60/70 waterborne$/tmany exporters in the past two years and imposed a bitu-\\nmen export tax from March 2021 onwards.VB feed supply fell by 21pc from 3.24mn t to 2.56mn t\\nbetween 22 March and 22 August this year. This was sup-\\nported by a possible move by Iranian refineries to increase\\nfuel oil production because of higher demand, in contrast to\\nweak demand from bitumen producers.On the other hand, Iran's bitumen exports in August slid\\nby 32pc compared with a month earlier and was 48pc lower\\nyear-on-year amid low demand from Asian markets. Exports\\nfell to about 221,730t in August, down from 326,000t sold\\nin July. Meanwhile Iran’s export sales stood at 431,000t in\\nAugust 2020, according to data from the Iran Mercantile\\nExchange.Vietnam’s bitumen demand to riseBitumen demand from Vietnam looks set to increase in the\\nnext few years, supported by an ambitious road develop-\\nment plan that seeks to construct over 5,000km of express-\\nways between 2021-2030.The Road Network Development Plan which was unveiled\\nthis month seeks to develop over 5,000km of expressways in\\nthe country by 2030, up from 3,841km in 2021.Key areas for expressway development include exten-\\nsions to the ongoing North-South Expressway project, as well\\nas the 14 expressways in the north, which alone would total\\nabout 2,305km. It also includes 10 expressways making up\\naround 1,431km in the central and central highlands region,\\nand another 10 expressways totalling around 1,290km in the\\nsouth.On top of the new additions to the expressways, there\\nare also plans for 172 national highway routes totallingArgus successfully completes annual Iosco\\nassurance reviewArgus has completed the ninth external assurance\\nreview of its price benchmarks covering crude oil,\\nproducts, LPG, petrochemicals, biofuels, thermal coal,\\ncoking coal, iron ore, steel, natural gas and biomass\\nbenchmarks. The review was carried out by profes-\\nsional services firm PwC. Annual independent, external\\nreviews of oil benchmarks are required by international\\nregulatory group Iosco’s Principles for Oil Price Report-\\ning Agencies, and Iosco encourages extension of the re-\\nviews to non-oil benchmarks. For more information and\\nto download the review visit our website https://www.\\nargusmedia.com/en/about-us/governance-compliancePage 19 of 22Copyright © 2021 Argus Media group\\nLicensed to: Shi Jia Lim, Argus Media Limited (London)\",\n",
       " 19: \"Argus BitumenIssue 21-39 | Friday 1 October 2021News29,795km by 2030, and 3,034km of coastal roads spanning 28\\ncities and provinces.The road development plan is one of the five master\\nblueprints for the country’s transport sector, which include\\nplans for high-speed rail routes, sea ports and new inter-\\nnational airports to be constructed between this year and\\n2030. The investment capital for the plan is estimated to be\\nabout 900,000bn dong ($39.6bn), according to a draft issued\\nby Vietnam’s Ministry of Transport. The bulk of the project\\nfunding is expected to come from public-private partnership\\n(PPP) investment.The Vietnamese government had in January this yearArgus Consulting\\nServicesProviding clients with:• Business strategy support• Access to the local and global energy\\ncommodity market• Customized market analysis• Supply and demand, trade and price forecasts\\n• TrainingClick here to find out more »unveiled a new PPP framework to support the country’s\\ndevelopment plans, where investors of projects in transpor-\\ntation, healthcare, education, power transmission and water\\nsectors can receive benefits such as tax reductions or credit\\nsupport, among others.Vietnam does not produce bitumen, which is used in\\nroad construction. The country imported close to 890,000t\\nof bitumen in 2020, the highest in the last five years. New\\nroad construction projects are expected to continue as the\\ngovernment pushes for infrastructure development in tan-\\ndem with economic goals, and has positioned Vietnam as an\\nattractive business hub.The road development plan is also aligned with Vietnam’s\\n11th Socio-Economic Development Plan (SEDP), which covers\\nthe period of 2021-2025 and includes the goal of achieving\\nan average Gross Domestic Product (GDP) of 6.5-7pc in the\\nnext five years.Ghana's new bitumen terminal delayedGhanaian state-owned oil and gas marketing firm Goil has\\npushed back the completion date for a new $35mn bitumen\\nterminal and conversion project at the port of Tema to the\\nend of this year.The 6,000t terminal — which will supply imported AC-10\\nand AC-20 bitumen performance grades to newly built poly-\\nmer-modified bitumen (PMB) and bitumen emulsions plants\\n— had been slated for completion by the end of this month.\\nCovid-related issues are understood to be partly responsible\\nfor the delay.Goil's joint venture partner in the project is Ivory Coast\\nbitumen producer and exporter SMB, which has 300,000 t/yr\\nof bitumen production capacity at its Abidjan refinery. The\\nproject was announced in 2017 and construction work began\\ntwo years later. It is now 94pc complete.Once operations start, bitumen imports into Tema will be\\nfed to the terminal by a 3km pipeline, which will be electri-\\ncally heated to keep the road paving product liquid before it\\nis discharged into Goil's newly built storage tanks.The imported bitumen will then feed into the styrene-\\nbutadiene-styrene PMB plant, which will have the capacity\\nto produce 30 t/hour. Some local market participants expect\\nincreased use of PMB in major road and highway projects in\\nGhana over the coming years.One domestic construction sector player said its use had\\nyet to be pursued aggressively by the country's highways au-\\nthorities. The bitumen emulsions plant will have a capacity\\nof 60 t/hr. Bitumen emulsions are already in much wider use\\nin Ghana than PMB.Page 20 of 22Copyright © 2021 Argus Media group\\nLicensed to: Shi Jia Lim, Argus Media Limited (London)\",\n",
       " 20: \"Argus BitumenIssue 21-39 | Friday 1 October 2021NewsGermany's Schwedt refinery completes restartGerman refinery consortium PCK has completed the restart\\nof its 208,000 b/d Schwedt refinery in north eastern Ger-\\nmany.The plant is ramping up production in order to reach a\\n80-100pc utilisation rate. Repair works on a high conversion\\nsoaker cracking (HSC) unit will last until mid-October, ac-\\ncording to one of the refinery's shareholders.The PCK consortium comprises Russia's state-controlled\\nRosneft, Shell and Italian energy firm Eni.The facility was shut down by a regional electricity\\nfailure on 8 September. PCK began restart operations on the\\nsame day, but warned at the time that the process would\\ntake several days.Bahrain's Bapco raises bitumen prices by $15/tBahrain’s state-owned refiner Bapco will increase its bitu-\\nmen listed prices by $15/t from 2 October on the back of\\nhigher crude and fuel oil prices.This price hike will see listed prices increase to $440/t\\nfob Sitra. This is the third time in a month Bapco has an-\\nnounced a price increase. It raised listed prices by $20/t\\non two occasions, first on 11 September and again on 19\\nSeptember.Hikes in high-sulphur fuel oil (HSFO) prices have prompt-\\ned regional refiners to switch to producing HSFO over bitu-\\nmen.Romania's Midia refinery back to 'optimal'Repairs at Romania's 100,000 b/d Midia refinery, in Navodari\\non the Black Sea coast, have been largely completed, with\\noperations scheduled to return to “optimal” levels by the\\nend of October, Kazakh-owned operator Rompetrol Rafinare\\nsaid.The Effects of Coronavirus on MarketsView the Argus hub page >>>The refinery had been offline since early-July because of\\na fire, which killed three people and injured two others.Rompetrol Rafinare is performing the last technical\\nchecks to resume production and Midia's installations will be\\nrestarted in stages. The operator of the refinery said that\\nit is currently in the phase of starting up petrol and diesel\\nproduction units.Midia was previously expected to start on 20-24 Septem-\\nber. The plant already supplied some raw material to Rom-\\npetrol Rafinare's Vega bitumen plant in Ploiesti last week,\\nsuggesting some units were operating, but the operator\\ndeclined to say whether the restarting process began then.Midia's diesel hydrotreatment unit, where the fire broke\\nout in July, has been “technologically isolated” and its re-\\npairs and restart is scheduled for 2022, the company said.The fire also affected the kerosene hydrotreater and\\ncatalytic reformer units, along with nearby pipes connected\\nto the naphtha hydrotreater and saturated gases units, the\\ncompany said last month.BTK’s bitumen terminal to be upgradedBunkering company Baltic Fuel (BTK) has secured Rbs1bn\\n($14mn) of financing for a two-phase project to increase\\nbitumen loadings at its Turukhtannye Ostrova terminal at St\\nPetersburg port.BTK subsidiary Kontur reached a six-year loan agreement\\nwith St Petersburg Bank for the project, which aims to add\\n43,800m³ of storage and increase loading capacity for bitu-\\nmen and vacuum residue — a feedstock for bitumen produc-\\ntion — as well as providing facilities to manufacture polymer-\\nmodified bitumen. Turukhtannye Ostrova has capacity to\\nhandle about 1.8mn t/yr of products, mainly fuel oil and\\ngasoil, and more than 80,000m³ of tank-farm space — aroundNorth Sea Dated diff Maya$/blPage 21 of 22Copyright © 2021 Argus Media group\\nLicensed to: Shi Jia Lim, Argus Media Limited (London)\",\n",
       " 21: 'Argus BitumenIssue 21-39 | Friday 1 October 2021NEWS500,000 t/yr of terminal capacity is dedicated to bunkering\\noperations. Turukhtannye Ostrova began loading bitumen\\nin September last year — it shipped 64,000t in January-July\\nand 20,300t in the final four months of 2020. The product\\nloads in 4,000-6,000t cargoes at berth SV-15. Trading firm\\nVitol buys all bitumen shipped from Turukhtannye Ostrova.Argus Bitumen is published by Argus Media groupRegistered office\\nLacon House, 84 Theobald’s Road,\\nLondon, WC1X 8NL\\nTel: +44 20 7780 4200\\nemail: sales@argusmedia.comISSN: 2057-6749Copyright noticeCopyright © 2021 Argus Media group\\nAll rights reserved\\nAll intellectual property rights in this publica-\\ntion and the information published herein are the\\nexclusive property of Argus and/or its licensors\\n(including exchanges) and may only be used under\\nlicence from Argus. Without limiting the foregoing,\\nby accessing this publication you agree that you will\\nnot copy or reproduce or use any part of its contents\\n(including, but not limited to, single prices or any\\nother individual items of data) in any form or for\\nany purpose whatsoever except under valid licence\\nfrom Argus. Further, your access to and use of data\\nfrom exchanges may be subject to additional fees\\nand/or execution of a separate agreement, whether\\ndirectly with the exchanges or through Argus.Trademark noticeARGUS, the ARGUS logo, ARGUS MEDIA, INTEGER,\\nARGUS BITUMEN , other ARGUS publication titles\\nand ARGUS index names are trademarks of Argus\\nMedia Limited.\\nVisit www.argusmedia.com/Ft/trademarks for\\nmore information.DisclaimerThe data and other information published herein\\n(the “Data”) are provided on an “as is” basis.\\nArgus and its licensors (including exchanges)\\nmake no warranties, express or implied, as to the\\naccuracy, adequacy, timeliness, or completeness\\nof the Data or fitness for any particular purpose.\\nArgus and its licensors (including exchanges) shall\\nnot be liable for any loss, claims or damage arising\\nfrom any party’s reliance on the Data and disclaim\\nany and all liability related to or arising out of use\\nof the Data to the full extent permissible by law.All personal contact information is held and used\\nin accordance with Argus Media’s Privacy Policy\\nhttps://www.argusmedia.com/en/privacy-policyPetroleumilluminating the markets .Publisher\\nAdrian BinksChief operating officer\\nMatthew BurkleyGlobal compliance officer\\nJeffrey AmosCustomer support and sales:\\nsupport@argusmedia.com\\nsales@argusmedia.comChief commercial officer\\nJo LoudiadisPresident, Oil\\nEuan CraikGlobal SVP editorial\\nNeil FlemingEditor in chief\\nJim WasherManaging editor\\nAndrew BonningtonLondon, Tel: +44 20 7780 4200\\nBeijing, Tel: +86 10 6598 2000\\nDubai, Tel: +971 4434 5112\\nHamburg, Tel: +49 48 22 378 22-0\\nHouston, Tel: +1 713 968 0000\\nKyiv, Tel: +38 (044) 298 18 08\\nMoscow, Tel: +7 495 933 7571\\nMumbai, Tel: +91 22 4174 9900\\nNew York, Tel: +1 646 376 6130\\nParis, Tel: +33 1 53 05 57 58\\nSan Francisco, Tel: +1 415 829 4591\\nSao Paulo, Tel: +55 11 3235 2700\\nShanghai, Tel: +86 21 6377 0159\\nSingapore, Tel: +65 6496 9966\\nTokyo, Tel: +81 3 3561 1805\\nWashington, DC, Tel: +1 202 775 0240Editor\\nJonathan Weston\\nTel: +44 20 7199 5779\\nbitumen@argusmedia.comLicensed to: Shi Jia Lim, Argus Media Limited (London)'}"
      ]
     },
     "execution_count": 58,
     "metadata": {},
     "output_type": "execute_result"
    }
   ],
   "source": [
    "state[\"texts\"]"
   ]
  },
  {
   "cell_type": "code",
   "execution_count": 59,
   "metadata": {},
   "outputs": [
    {
     "data": {
      "text/plain": [
       "{0: \"- Bitumen cargo values increased in Europe and Asia-Pacific due to rising crude and fuel oil prices.\\n- Domestic truck prices in Europe mostly strengthened at the start of October.\\n- Cargo premiums to high-sulphur fuel oil (HSFO) in Rotterdam and the Baltics decreased by $2-3/t, but outright values continued to rise.\\n- Mediterranean premium values remained steady amid rising outright values and slowing demand.\\n- The Asia-Pacific bitumen market remained firm despite a slowdown expected during China's Golden Week holidays.\\n- Crude and HSFO prices in Asia-Pacific led refiners to consider price hikes or production cuts.\\n- Supply for October was balanced in key export locations like Singapore and South Korea due to lower bitumen production.\\n- Demand is anticipated to improve from Vietnam, Australia, China, and India due to seasonal factors and easing pandemic restrictions.\\n- Bitumen prices surged in sub-Saharan Africa, with higher delivered cargo and drummed import prices, as well as increased domestic and export values in South Africa.\",\n",
       " 1: '- Spanish export cargoes were sent to North African markets and Western Europe.\\n- Activity was generally slowing across the Mediterranean.\\n- The 6,118 dwt Ning Hai Wan loaded cargo from Huelva, Spain, for Donges, France, on 29 September.\\n- The 5,897 dwt Iver Accord loaded cargo from La Coruña, Spain, for Blaye, France, by 2 October.\\n- The 6,180 dwt Iver Balance loaded cargo from Cadiz, Spain, for Oran, Algeria, on 30 September.\\n- The 7,066 dwt Herbania loaded cargo from Huelva for Ghazaouet, Algeria, by 29 September.\\n- The 6,586 dwt Iver Bitumen loaded cargo from Huelva into Tenerife, Canary Islands, on 1 October.',\n",
       " 2: '- Domestic truck prices increased in several markets due to October supply revisions.\\n- German domestic prices rose by €10/t; Benelux, UK, and France saw gains of €20/t, £20/t, and €20-25/t respectively.\\n- Not all monthly deals were confirmed by 1 October; further details expected on 4 October.\\n- Czech domestic and export prices strengthened due to tight refinery supply, despite overall plentiful availability in central and southeast Europe.\\n- High-sulphur fuel oil (HSFO) price increases in late September raised bitumen values, but early winter signs led to a modest $2-3/t decrease in Rotterdam and Baltic cargo export premiums, assessed at $25-30/t and around $20/t fob respectively.\\n- Cross regional freight rates for 5,000t cargoes showed slight declines: £22-24/t from Rotterdam, £29-31/t from Hamburg, £47-49/t from Klaipeda, and £39-43/t from La Coruna.\\n- UK domestic truck prices were assessed £20/t higher at £380-390/t ex-works and £395-405/t delivered after October price hikes.',\n",
       " 3: '- **Market Overview**: Strong construction activity and bitumen demand in North and Central Europe during September; healthy order books for October and November.\\n- **UK Bitumen Market**: \\n  - Bitumen availability high due to steady cargo imports.\\n  - Cargoes delivered to Thames terminals: $495-500/t (£365-370/t).\\n  - Domestic consumption in July: 156,000t (down 6,000t YoY).\\n  - May to July consumption: 485,000t (up 59,000t YoY).\\n  - Year-to-date (Jan-Jul) consumption: 1.05mn t (up from 817,000t last year).\\n- **France**: \\n  - Domestic prices increased by €20-25/t for October.\\n  - Northern and central France prices: €475-485/t; Southern France: €445-455/t.\\n  - Petroineos refinery maintenance affecting supply until early November.\\n  - Price hikes sought by suppliers: €30-40/t, with one case at €60/t.\\n- **Germany**: \\n  - Domestic truck market saw modest price gains from 1 October.\\n  - July bitumen deliveries: 211,102t (down 17,000t YoY).\\n  - Year-to-date deliveries: 1.02mn t (down 4.4% YoY).\\n  - Total refinery production in July: 451,969t (up 82,359t YoY).\\n  - Domestic prices: €385-395/t (north), €350-360/t (northeast), €365-380/t (southwest).\\n- **Benelux**: \\n  - Domestic truck prices: $420-435/t ex-works (up €20/t).\\n  - Ongoing negotiations in Belgium for price hikes up to €40/t.\\n- **Poland/Czech Republic**: Significant Polish demand noted in the last week of September.',\n",
       " 4: \"- Better weather in North and Central Europe is boosting construction work.\\n- Ex-works prices in Poland for October supplies rose due to crude gains, with domestic prices reaching €385/t, an increase of €15-20/t.\\n- Polish bitumen truck exports to Germany assessed at €345-355/t, up €5/t.\\n- Czech domestic prices increased to €375-385/t, with exports to Germany also at €345-355/t, up €5/t.\\n- Romanian domestic prices remain at €410-420/t, with imports from Poland unchanged at €350-360/t.\\n- Hungarian domestic truck prices steady at €380-390/t, with exports to Romania at €390-400/t.\\n- Vitol's Galati terminal expanded capacity to 7,000t from 4,000t.\\n- Demand in Latvia and Lithuania is strong, while Finnish demand is declining due to snowfall.\\n- FOB Baltic cargo premiums to FOB Rotterdam HSFO barges assessed at $20/t, down $2-3/t.\\n- Orlen's Mazeikiai refinery posted prices up €10/t, with pen 50/70 and 70/100 at €398/t and pen 100/150 and 160/220 at €405/t.\",\n",
       " 5: '- Mediterranean bitumen cargo prices increased sharply at the end of September 2021 due to rising high-sulphur fuel oil (HSFO) prices.\\n- Spanish export premiums to HSFO: $20-25/t fob; Greek fob cargo premiums: $15-20/t; Turkish export flows: similar range; Italian fob cargo premiums: $15-20/t.\\n- Demand slowdown in the Mediterranean led to greater availability of bitumen.\\n- Delivered values into North African markets decreased, with offers into Algeria in the low $50s/t and indications into Algeria and Morocco in the high $50s/t.\\n- Delivered Egyptian values for end-October also in the high $50s/t.\\n- Spanish fob levels surged to around $460/t fob, surpassing cif US east coast cargoes at around $450/t.\\n- Egyptian state-refiner EGPC awarded a 5,000-6,000t cargo to BGN at a $57/t delivered premium for end-October delivery.\\n- Cross-Mediterranean freight rates decreased by $1-2/t on shorter routes and $2-3/t on longer routes due to reduced demand for cargoes and tankers.',\n",
       " 6: '- Mediterranean market entering fourth quarter slowdown; tankers available for spot business from around 5 October.\\n- Delays at Alexandria, Egypt, and Ukraine ports affecting shipping; downward pressure on rates for 5,000t movements.\\n- Augusta-Mohammedia route assessed at $44-47/t (down $2-3/t); Augusta-Alexandria at $41-44/t; Greece-Alexandria at $35-37/t.\\n- Shorter routes: Tarragona-Mohammedia at $31-33/t; Augusta-Tunisia at $24-26/t; Livorno-Tunisia at $28-30/t; Tarragona-Ghazaouet at $25-27/t; Greek ports to Gebze/Mersin at $29-31/t.\\n- Delivered cargo values into Algeria and Morocco falling, estimated at low to high $50s/t for October.\\n- Algerian bitumen consumption estimated at 65,000t in September, expected to rise to 70,000t in October.\\n- Sonatrach’s Arzew refinery output at 400t/day; plans to increase bitutainer fleet to 100 by end of October.\\n- Several cargoes heading to Algerian ports; Iver Balance and Poestella loading from Spain and Sicily for discharge in Algeria.\\n- Egyptian state-owned EGPC awarded additional cargo; fifth cargo at $57/t delivered premium to fob Mediterranean HSFO.\\n- Spanish fob cargo premiums steady at $20-25/t; US east coast demand weak, cif values around $450/t.',\n",
       " 7: '- **Spanish Domestic Demand**: Steady; truck prices unchanged at €455-465/t ex-works as of 1 October.\\n- **Shipments**: \\n  - 6,586 dwt Iver Bitumen from Huelva to Tenerife (arrived 1 October).\\n  - 7,066 dwt Herbania from Huelva to Ghazaouet (loaded 29 September).\\n  - 6,118 dwt Ning Hai Wan from Huelva to Donges (loaded 29 September).\\n  \\n- **Italian Market**: \\n  - Fob cargo premiums to Mediterranean HSFO unchanged at $15-20/t.\\n  - Domestic truck prices steady at €390-400/t ex-works (including €31/t duty).\\n  - Anticipated truck price hikes due to rising crude oil prices.\\n  - 6,165 dwt An Hai Wan from Tarragona to Naples; 5,897 dwt Iver Action from Augusta to Lavera (by 2 October).\\n\\n- **Greek Market**: \\n  - Export cargo premiums unchanged at $15-20/t fob.\\n  - Domestic truck prices increased by €24/t; Hellenic Petroleum prices at €424/t and €426/t ex-works.\\n  - 30 trucks sent to Romania in anticipation of increased demand.\\n  - 4,999 dwt Sunpower from Aspropyrgos to Mangalia; 37,000 dwt Asphalt Synergy near Gibraltar; 6,065 dwt Fuji Lava loading from Aspropyrgos.\\n\\n- **Turkish Market**: \\n  - Domestic prices surged to TL4,718/t (Izmit and Izmir) and TL4,762/t (Batman and Kirikkale) ex-works.\\n  - Price rise attributed to higher crude values and a weakening Turkish Lira.\\n  - Increased domestic demand as constructors rush to complete projects before winter.\\n  - Upcoming cargo from Mideast Gulf expected at Toros Gubre terminal in Ceyhan.',\n",
       " 8: \"- Bitumen prices increased across sub-Saharan Africa, with higher delivered cargo and drummed import prices.\\n- South African domestic and export values also rose.\\n- Demand was strong in southern and eastern Africa, while west African activity was limited due to the rainy season.\\n- Cargo prices for delivery to west African terminals surged due to rising crude and HSFO prices.\\n- Spanish and Ivory Coast cargo premiums were assessed at $20-25/t and around $115/t fob, respectively.\\n- Freight rates for 5,000t spot cargo from Spain to Nigeria remained in the $150-160/t range.\\n- West African construction activity and bitumen demand were subdued due to ongoing rainy conditions, particularly in Nigeria, Cameroon, Ivory Coast, and Ghana.\\n- The 45,974 dwt Bitu Express arrived in Togo on 26 September with a large cargo from Greece, aiding regional stocks for upcoming dry season projects.\\n- The Bitu Atlantic's destination was undisclosed after loading in Spain.\\n- Naftal was loading a 300t bitutainer for shipment to Nouakchott, Mauritania, as part of a tender for 10,000t of bitumen.\",\n",
       " 9: \"- Naftal sent its first 300t bitutainer volume to Nouakchott for Mauritania in late-August.\\n- Nigerian bitumen stocks on 30 September were 31,106,384 litres (31,707t), down from 31,906,036 litres (32,523t) on 22 September, but up 26% from 24,729,625 litres (25,208t) on 1 September.\\n- The 5,076 dwt Jane Asphalt arrived at Abidjan terminal for delivery to Gradient Energy's Warri terminal in Nigeria.\\n- Ghana's GOIL delayed its $35mn bitumen terminal project in Tema, now targeting completion by the end of the year.\\n- The 4,900 dwt SMB time-chartered San Biagio delivered a cargo from Abidjan to Douala, Cameroon, on 29 September.\\n- Iranian drummed bitumen exports to East Africa rose $16/t to $365-380/t fob Bandar Abbas; freight rates increased $10/t to $95-100/t.\\n- Price indications for shipments to Kenya ranged from $460/t to $475-485/t cfr Mombasa, with indirect flows via Jebel Ali reaching $650-660/t.\\n- Direct shipping rates from Bandar Abbas to Mombasa and Dar es Salaam were raised to $1,850-1,950 per container ($90-100/t).\",\n",
       " 10: '- **Iranian bulk cargo exports**: Increased to $290-305/t fob Bandar Abbas, up $10-11/t.\\n- **Bahraini Bapco**: Raised export price by $15/t to $440/t fob Sitra effective 2 October.\\n- **East Africa**: Increased construction activity and bitumen demand in Kenya, Uganda, and South Sudan.\\n- **Supply issues**: Tight supply of Iranian drummed bitumen due to shipping delays; bulk cargo movements alleviating some availability issues.\\n- **R Ocean**: Scheduled to deliver bulk cargo to Mombasa on 10 October; previous shipment delivered on 30 August.\\n- **Kenyan prices**: Bulk truck prices at KES 71-73/kg ($642-660/t); drummed sales at KES 73-74/kg ($660-669/t), expected to rise to KES 75/kg ($679/t).\\n- **South Africa**: Domestic truck export prices increased to around Rand 8,300/t ($550-560/t) ex-works.\\n- **Price hikes**: South African refiners raised prices by R700-800/t, with assessments at R9,200-9,600/t ex-works.\\n- **Construction activity**: Rising in KwaZulu-Natal and Eastern Cape, linked to multi-billion Rand Msikaba and Mtentu bridges for N2 Wild Coast project.',\n",
       " 11: '- Singapore bitumen prices increased by $5/t this week.\\n- Key trader sold approximately 15,000t to Indonesian buyers at $410/t for November-loading.\\n- October-loading deals concluded at $405-410/t levels.\\n- Two deals for end-October loading into Vietnam at cfr basis, with fob values at $405-410/t.\\n- Offers from refiners and local traders ranged from $415-425/t for late-October/early-November loading.\\n- Supply from Singapore expected to balance in October due to production loss from 2-3 key refiners.\\n- Tank truck prices from Singapore rose to $406-415/t ex-refinery.\\n- Prices for tank trucks jumped to around $415-430/t ex-refinery.\\n- Offer into Johore was around 1920 ringgit/t ($456/t) on a delivered basis.\\n- Domestic prices in Singapore increased by $20.50/t to $420-445/t ex-tank for October.\\n- Domestic demand expected to remain flat against September due to manpower limitations and anticipated wet weather.',\n",
       " 12: '- Bitumen demand in Malaysia remained stable-to-firm due to ongoing construction projects.\\n- Klang Valley accounted for a significant share of total volumes lifted.\\n- State-owned refiner increased tank truck prices to approximately 1,830-1,880 ringgit/t ex-Malacca ($437-449/t).\\n- Prices from Port Klang rose to around 1,870-1,900 ringgit/t ex-Klang ($447-454/t).\\n- Delivered prices in northern Malaysia increased to about 1,870-1,960 ringgit/t ($447-466/t).\\n- Erratic rainfall has impacted project progress, but demand is expected to stay firm as projects near completion by end of November.\\n- In Thailand, bitumen prices on a fob basis were assessed at $395-405/t.',\n",
       " 13: \"- A deal for a 2,000-3,000t cargo to central Vietnam was priced at $395-400/t fob, with demand expected to rise in November.\\n- Domestic bitumen prices in Thailand increased to $490-550/t ex-refinery due to higher crude prices, impacted by floods from tropical storm Dianmu.\\n- In Indonesia, bitumen demand strengthened with a deal for a 1,500t cargo to Kalimantan at above $430/t cfr and a 3,000t cargo to North Sulawesi at around $440/t cfr.\\n- Vietnam saw increased demand with two October loading cargoes from north Asia at $440-445/t cfr and offers for end-October cargoes at $440/t cfr.\\n- South Korea's prices remained unchanged due to limited trading activity.\",\n",
       " 14: \"- No sell tenders awarded on a fob South Korea basis; a key refiner to open a sell tender for November loading soon.\\n- Weak demand from China expected to negatively impact Korean sellers.\\n- Key refineries in South Korea producing less bitumen due to strong HSFO economics; reduced volumes help balance supply for October.\\n- Domestic prices in South Korea increased by $51/t for October; mixed demand outlook due to Covid-19 concerns post-Thanksgiving.\\n- In Japan, domestic prices raised by ¥1,000/t to ¥63,513-71,619/t ex-tank; stable demand in September with more roadworks expected in October.\\n- Taiwan's export prices assessed $2.50/t higher to $400-405/t fob; limited volumes from private refiner with unchanged domestic prices at NT17,000/t ex-tank.\\n- In China, limited negotiations ahead of Golden Week; key state-owned refiner raised domestic prices by 20-70 yuan/t; another refiner raised prices by 230 yuan/t.\\n- Power shortages in China had limited impact on production; Shandong refinery resumed operations on 25 September; two refineries undergoing maintenance in October.\\n- Overall supply expected to remain ample with a planned increase of 50,000-100,000t in October bitumen production.\",\n",
       " 15: \"- Most buyers are delaying negotiations until after 8 October.\\n- East China: \\n  - October-loading South Korean cargo offered at 3,250 yuan/t.\\n  - 7,000t concluded at 3,300-3,350 yuan/t (unconfirmed).\\n  - 5,000t prompt South Korean cargo sold at $424/t cfr.\\n- South China: \\n  - No firm discussions; Singapore-based refiner offered November/December cargoes at $460/t cfr.\\n- Higher freight rates from South Korea to east China: $38-45/t for 5,000t cargoes.\\n- Australia & New Zealand: \\n  - Victoria's construction sector shutdown ends on 5 October.\\n  - Estimated 50% sales reduction due to shutdown and wet weather.\\n  - Demand expected to gradually increase in October and firm in November.\\n- India: \\n  - Demand returning as monsoon ends in about 10 days.\\n  - Local refiners raised prices: bulk by 1,600 Indian rupees/t, drummed by 2,600 Indian rupees/t from 1 October.\\n- Bahrain: \\n  - State-owned refiner increasing bitumen prices by $15/t to $440/t fob Sitra effective 2 October.\\n- Iran: \\n  - Bulk prices assessed at $290-305/t fob Bandar Abbas.\\n  - 5,000t VG40 sold at $292/t fob to India.\\n  - Demand for bulk to Pakistan: 10,000t sold at 81,000-82,000 rials/kg (about $300/t). \\n  - Drum prices assessed at $365-375/t.\",\n",
       " 16: '- Demand for bitumen is slowly firming amid thin supply of Iraqi drums.\\n- 10,000t sold at $365-367/t to Sri Lanka and India; 10,000t of pen 60/70 traded at the same price to Bangladesh, Sri Lanka, and India.\\n- 2,000t sold at $375/t for October laycan to East Africa.\\n- 5,000t Jey-embossed cargo sold at $373-376/t fob; small cargoes sold at $365-370/t to Tanzania, Sri Lanka, India, Bangladesh, and UAE.\\n- 5,000t in drums sold at $415-420/t cfr Turkmenistan; freight and logistics estimated at $65/t.\\n- General Rate Increase (GRI) for transshipment cargoes from Jebel Ali at $100/container ($5/t) effective from 26 September.\\n- Direct shipments from Iran to Kenya increased from $1,550/container to $1,850/container.\\n- Jumbo bag prices stable at $350-360/t; demand low due to small gap with drum cargoes.\\n- Iraqi bitumen supply weakened; major producer offered drum cargoes at $355-360/t.\\n- 10,000t drum cargo sold at $335-340/t to Myanmar and India.\\n- Jey Oil sold 8,000t of pen 60/70 in bulk at 86,206 rials/kg ($316/t) ex-Bandar Abbas.\\n- Pasargad Oil sold 5,000t bulk at 81,700 rials/kg ($300/t) ex-Bandar Abbas.\\n- VB feed prices increased; 202,000t demand registered, 103,000t sold by refineries.\\n- Bandar Abbas refinery to undergo maintenance, likely reducing VB feed supply by 50%.\\n- Bitumen prices rose in the domestic market; 4,308t sold at 74,000-110,000 rials/kg on IME.\\n- Argus proposes changes to waterborne fob Singapore assessment: laycan timing from 30-40 days to 15-40 days; cargo sizes from 3,000-5,000t to 3,000-7,000t.',\n",
       " 17: '- Argus Bitumen Issue 21-39 published on Friday, 1 October 2021.\\n- Document is part of the Argus Media group.\\n- Licensed to Shi Jia Lim, Argus Media Limited (London).\\n- Contains vessel tracking indications.',\n",
       " 18: \"- Iranian bitumen production decreased by an estimated 22% from March to August 2021 due to higher production costs and weak demand.\\n- VB feed sales volume fell from 2.962 million tons to 2.314 million tons (22% decrease) during the same period.\\n- Bitumen sellers faced weak demand in both domestic and regional markets, leading to reduced trading activities.\\n- Producers reported losses and had to sell cargoes to pay debts from previous VB feed purchases.\\n- VB feed supply decreased by 21% from 3.24 million tons to 2.56 million tons between March and August 2021.\\n- Iran's bitumen exports in August 2021 dropped by 32% from July and were 48% lower year-on-year, totaling about 221,730 tons.\\n- Vietnam plans to develop over 5,000 km of expressways from 2021 to 2030, increasing bitumen demand.\\n- The Road Network Development Plan includes extensions to the North-South Expressway and 14 expressways in the north totaling about 2,305 km.\",\n",
       " 19: \"- Vietnam's road development plan aims to construct 29,795 km of roads by 2030, including 3,034 km of coastal roads across 28 cities and provinces.\\n- The investment capital for the plan is estimated at 900,000 bn dong ($39.6 bn), primarily funded through public-private partnerships (PPP).\\n- The Vietnamese government introduced a new PPP framework in January 2021 to attract investment in transportation, healthcare, education, power transmission, and water sectors.\\n- Vietnam imported approximately 890,000 t of bitumen in 2020, the highest in five years, as the country does not produce bitumen.\\n- The road development plan aligns with Vietnam's 11th Socio-Economic Development Plan (SEDP) for 2021-2025, targeting a GDP growth of 6.5-7% over the next five years.\\n- Ghana's Goil has delayed the completion of a $35 mn bitumen terminal at Tema port to the end of 2021, with the project 94% complete.\\n- The terminal will supply imported AC-10 and AC-20 bitumen grades to PMB and bitumen emulsions plants, with a 3 km heated pipeline for bitumen imports.\\n- The PMB plant will have a production capacity of 30 t/hour, while the bitumen emulsions plant will have a capacity of 60 t/hour.\",\n",
       " 20: \"- **Germany's Schwedt refinery**: \\n  - Restarted by PCK consortium (Rosneft, Shell, Eni).\\n  - Capacity: 208,000 b/d.\\n  - Target utilization rate: 80-100%.\\n  - Repair works on HSC unit until mid-October.\\n  - Shut down due to electricity failure on 8 September.\\n\\n- **Bahrain's Bapco**: \\n  - Bitumen price increase: $15/t from 2 October.\\n  - New price: $440/t fob Sitra.\\n  - Third price hike in a month (previous increases: $20/t on 11 and 19 September).\\n\\n- **Romania's Midia refinery**: \\n  - Capacity: 100,000 b/d.\\n  - Repairs largely completed; operations to return to optimal levels by end of October.\\n  - Offline since early July due to a fire (3 fatalities, 2 injuries).\\n  - Diesel hydrotreatment unit repairs and restart scheduled for 2022.\\n\\n- **BTK’s bitumen terminal**: \\n  - Secured Rbs1bn ($14mn) financing for upgrades.\\n  - Project to increase bitumen loadings at Turukhtannye Ostrova terminal, St Petersburg.\\n  - Aims to add 43,800m³ storage and increase loading capacity for bitumen and vacuum residue.\",\n",
       " 21: '- 500,000 t/yr of terminal capacity is allocated for bunkering operations.\\n- Turukhtannye Ostrova started loading bitumen in September 2020.\\n- It shipped 64,000 t of bitumen from January to July 2021 and 20,300 t in the last four months of 2020.\\n- Bitumen is loaded in cargoes of 4,000-6,000 t at berth SV-15.\\n- Trading firm Vitol purchases all bitumen shipped from Turukhtannye Ostrova.'}"
      ]
     },
     "execution_count": 59,
     "metadata": {},
     "output_type": "execute_result"
    }
   ],
   "source": [
    "state[\"text_summary\"]"
   ]
  }
 ],
 "metadata": {
  "kernelspec": {
   "display_name": "py-test",
   "language": "python",
   "name": "python3"
  },
  "language_info": {
   "codemirror_mode": {
    "name": "ipython",
    "version": 3
   },
   "file_extension": ".py",
   "mimetype": "text/x-python",
   "name": "python",
   "nbconvert_exporter": "python",
   "pygments_lexer": "ipython3",
   "version": "3.11.9"
  }
 },
 "nbformat": 4,
 "nbformat_minor": 2
}

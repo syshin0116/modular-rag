{
 "cells": [
  {
   "cell_type": "code",
   "execution_count": null,
   "metadata": {},
   "outputs": [],
   "source": [
    "# !pip install langchain-teddynote markdownify pymupdf"
   ]
  },
  {
   "cell_type": "code",
   "execution_count": 1,
   "metadata": {},
   "outputs": [],
   "source": [
    "import os\n",
    "import pymupdf\n",
    "from glob import glob\n",
    "import json\n",
    "import requests\n",
    "from PIL import Image"
   ]
  },
  {
   "cell_type": "code",
   "execution_count": 2,
   "metadata": {},
   "outputs": [],
   "source": [
    "SAMPLE = \"data/디지털 정부혁신 추진계획.pdf\""
   ]
  },
  {
   "cell_type": "code",
   "execution_count": 3,
   "metadata": {},
   "outputs": [],
   "source": [
    "def split_pdf(filepath, batch_size=10):\n",
    "    \"\"\"\n",
    "    입력 PDF를 여러 개의 작은 PDF 파일로 분할\n",
    "    \"\"\"\n",
    "    # PDF 파일 열기\n",
    "    input_pdf = pymupdf.open(filepath)\n",
    "    num_pages = len(input_pdf)\n",
    "    print(f\"총 페이지 수: {num_pages}\")\n",
    "\n",
    "    ret = []\n",
    "    # PDF 분할\n",
    "    for start_page in range(0, num_pages, batch_size):\n",
    "        end_page = min(start_page + batch_size, num_pages) - 1\n",
    "\n",
    "        # 분할된 PDF 저장\n",
    "        input_file_basename = os.path.splitext(filepath)[0]\n",
    "        output_file = f\"{input_file_basename}_{start_page:04d}_{end_page:04d}.pdf\"\n",
    "        print(f\"분할 PDF 생성: {output_file}\")\n",
    "        with pymupdf.open() as output_pdf:\n",
    "            output_pdf.insert_pdf(input_pdf, from_page=start_page, to_page=end_page)\n",
    "            output_pdf.save(output_file)\n",
    "            ret.append(output_file)\n",
    "\n",
    "    # 입력 PDF 파일 닫기\n",
    "    input_pdf.close()\n",
    "    return ret"
   ]
  },
  {
   "cell_type": "code",
   "execution_count": 4,
   "metadata": {},
   "outputs": [
    {
     "name": "stdout",
     "output_type": "stream",
     "text": [
      "총 페이지 수: 21\n",
      "분할 PDF 생성: data/디지털 정부혁신 추진계획_0000_0009.pdf\n",
      "분할 PDF 생성: data/디지털 정부혁신 추진계획_0010_0019.pdf\n",
      "분할 PDF 생성: data/디지털 정부혁신 추진계획_0020_0020.pdf\n"
     ]
    }
   ],
   "source": [
    "split_files = split_pdf(SAMPLE)"
   ]
  },
  {
   "cell_type": "markdown",
   "metadata": {},
   "source": [
    "## Upstage Layout Analyer"
   ]
  },
  {
   "cell_type": "code",
   "execution_count": 5,
   "metadata": {},
   "outputs": [],
   "source": [
    "class LayoutAnalyzer:\n",
    "    def __init__(self, api_key):\n",
    "        self.api_key = api_key\n",
    "\n",
    "    def _upstage_layout_analysis(self, input_file):\n",
    "        \"\"\"\n",
    "        레이아웃 분석 API 호출\n",
    "\n",
    "        :param input_file: 분석할 PDF 파일 경로\n",
    "        :param output_file: 분석 결과를 저장할 JSON 파일 경로\n",
    "        \"\"\"\n",
    "        # API 요청 보내기\n",
    "        response = requests.post(\n",
    "            \"https://api.upstage.ai/v1/document-ai/layout-analysis\",\n",
    "            headers={\"Authorization\": f\"Bearer {self.api_key}\"},\n",
    "            data={\"ocr\": False},\n",
    "            files={\"document\": open(input_file, \"rb\")},\n",
    "        )\n",
    "\n",
    "        # 응답 저장\n",
    "        if response.status_code == 200:\n",
    "            output_file = os.path.splitext(input_file)[0] + \".json\"\n",
    "            with open(output_file, \"w\") as f:\n",
    "                json.dump(response.json(), f, ensure_ascii=False)\n",
    "            return output_file\n",
    "        else:\n",
    "            raise ValueError(f\"예상치 못한 상태 코드: {response.status_code}\")\n",
    "\n",
    "    def execute(self, input_file):\n",
    "        return self._upstage_layout_analysis(input_file)"
   ]
  },
  {
   "cell_type": "code",
   "execution_count": 6,
   "metadata": {},
   "outputs": [],
   "source": [
    "analyzer = LayoutAnalyzer(os.environ.get(\"UPSTAGE_API_KEY\"))\n",
    "\n",
    "analyzed_files = []\n",
    "\n",
    "for file in split_files:\n",
    "    analyzed_files.append(analyzer.execute(file))"
   ]
  },
  {
   "cell_type": "code",
   "execution_count": 7,
   "metadata": {},
   "outputs": [
    {
     "data": {
      "text/plain": [
       "['data/디지털 정부혁신 추진계획_0000_0009.json',\n",
       " 'data/디지털 정부혁신 추진계획_0010_0019.json',\n",
       " 'data/디지털 정부혁신 추진계획_0020_0020.json']"
      ]
     },
     "execution_count": 7,
     "metadata": {},
     "output_type": "execute_result"
    }
   ],
   "source": [
    "analyzed_files"
   ]
  },
  {
   "cell_type": "markdown",
   "metadata": {},
   "source": [
    "## 이미지 처리"
   ]
  },
  {
   "cell_type": "code",
   "execution_count": 8,
   "metadata": {},
   "outputs": [],
   "source": [
    "import json\n",
    "import os\n",
    "from glob import glob\n",
    "from PIL import Image\n",
    "import pymupdf\n",
    "import re\n",
    "from bs4 import BeautifulSoup\n",
    "from markdownify import markdownify as markdown\n",
    "\n",
    "\n",
    "class PDFImageProcessor:\n",
    "    \"\"\"\n",
    "    PDF 이미지 처리를 위한 클래스\n",
    "\n",
    "    PDF 파일에서 이미지를 추출하고, HTML 및 Markdown 형식으로 변환하는 기능을 제공합니다.\n",
    "    \"\"\"\n",
    "\n",
    "    def __init__(self, pdf_file):\n",
    "        \"\"\"\n",
    "        PDFImageProcessor 클래스의 생성자\n",
    "\n",
    "        :param pdf_file: 처리할 PDF 파일의 경로\n",
    "        \"\"\"\n",
    "        self.pdf_file = pdf_file\n",
    "        self.json_files = sorted(glob(os.path.splitext(pdf_file)[0] + \"*.json\"))\n",
    "        self.output_folder = os.path.splitext(pdf_file)[0]\n",
    "        self.filename = os.path.splitext(os.path.basename(SAMPLE))[0]\n",
    "\n",
    "    @staticmethod\n",
    "    def _load_json(json_file):\n",
    "        \"\"\"\n",
    "        JSON 파일을 로드하는 정적 메서드\n",
    "\n",
    "        :param json_file: 로드할 JSON 파일의 경로\n",
    "        :return: JSON 데이터를 파이썬 객체로 변환한 결과\n",
    "        \"\"\"\n",
    "        with open(json_file, \"r\") as f:\n",
    "            return json.load(f)\n",
    "\n",
    "    @staticmethod\n",
    "    def _get_page_sizes(json_data):\n",
    "        \"\"\"\n",
    "        각 페이지의 크기 정보를 추출하는 정적 메서드\n",
    "\n",
    "        :param json_data: JSON 데이터\n",
    "        :return: 페이지 번호를 키로, [너비, 높이]를 값으로 하는 딕셔너리\n",
    "        \"\"\"\n",
    "        page_sizes = {}\n",
    "        for page_element in json_data[\"metadata\"][\"pages\"]:\n",
    "            width = page_element[\"width\"]\n",
    "            height = page_element[\"height\"]\n",
    "            page_num = page_element[\"page\"]\n",
    "            page_sizes[page_num] = [width, height]\n",
    "        return page_sizes\n",
    "\n",
    "    def pdf_to_image(self, page_num, dpi=300):\n",
    "        \"\"\"\n",
    "        PDF 파일의 특정 페이지를 이미지로 변환하는 메서드\n",
    "\n",
    "        :param page_num: 변환할 페이지 번호 (1부터 시작)\n",
    "        :param dpi: 이미지 해상도 (기본값: 300)\n",
    "        :return: 변환된 이미지 객체\n",
    "        \"\"\"\n",
    "        with pymupdf.open(self.pdf_file) as doc:\n",
    "            page = doc[page_num - 1].get_pixmap(dpi=dpi)\n",
    "            target_page_size = [page.width, page.height]\n",
    "            page_img = Image.frombytes(\"RGB\", target_page_size, page.samples)\n",
    "        return page_img\n",
    "\n",
    "    @staticmethod\n",
    "    def normalize_coordinates(coordinates, output_page_size):\n",
    "        \"\"\"\n",
    "        좌표를 정규화하는 정적 메서드\n",
    "\n",
    "        :param coordinates: 원본 좌표 리스트\n",
    "        :param output_page_size: 출력 페이지 크기 [너비, 높이]\n",
    "        :return: 정규화된 좌표 (x1, y1, x2, y2)\n",
    "        \"\"\"\n",
    "        x_values = [coord[\"x\"] for coord in coordinates]\n",
    "        y_values = [coord[\"y\"] for coord in coordinates]\n",
    "        x1, y1, x2, y2 = min(x_values), min(y_values), max(x_values), max(y_values)\n",
    "\n",
    "        return (\n",
    "            x1 / output_page_size[0],\n",
    "            y1 / output_page_size[1],\n",
    "            x2 / output_page_size[0],\n",
    "            y2 / output_page_size[1],\n",
    "        )\n",
    "\n",
    "    @staticmethod\n",
    "    def crop_image(img, coordinates, output_file):\n",
    "        \"\"\"\n",
    "        이미지를 주어진 좌표에 따라 자르고 저장하는 정적 메서드\n",
    "\n",
    "        :param img: 원본 이미지 객체\n",
    "        :param coordinates: 정규화된 좌표 (x1, y1, x2, y2)\n",
    "        :param output_file: 저장할 파일 경로\n",
    "        \"\"\"\n",
    "        img_width, img_height = img.size\n",
    "        x1, y1, x2, y2 = [\n",
    "            int(coord * dim)\n",
    "            for coord, dim in zip(coordinates, [img_width, img_height] * 2)\n",
    "        ]\n",
    "        cropped_img = img.crop((x1, y1, x2, y2))\n",
    "        cropped_img.save(output_file)\n",
    "\n",
    "    def extract_images(self):\n",
    "        \"\"\"\n",
    "        전체 이미지 처리 과정을 실행하는 메서드\n",
    "\n",
    "        PDF에서 이미지를 추출하고, HTML 및 Markdown 파일을 생성합니다.\n",
    "        \"\"\"\n",
    "        figure_count = {}  # 페이지별 figure 카운트를 저장하는 딕셔너리\n",
    "\n",
    "        output_folder = self.output_folder\n",
    "        os.makedirs(output_folder, exist_ok=True)\n",
    "\n",
    "        print(f\"폴더가 생성되었습니다: {output_folder}\")\n",
    "\n",
    "        html_content = []  # HTML 내용을 저장할 리스트\n",
    "\n",
    "        for json_file in self.json_files:\n",
    "            json_data = self._load_json(json_file)\n",
    "            page_sizes = self._get_page_sizes(json_data)\n",
    "\n",
    "            # 파일 이름에서 페이지 범위 추출\n",
    "            page_range = os.path.basename(json_file).split(\"_\")[1:]\n",
    "            start_page = int(page_range[0])\n",
    "\n",
    "            for element in json_data[\"elements\"]:\n",
    "                if element[\"category\"] == \"figure\":\n",
    "                    # 파일 내에서의 상대적인 페이지 번호 계산\n",
    "                    relative_page = element[\"page\"]\n",
    "                    page_num = start_page + relative_page\n",
    "                    coordinates = element[\"bounding_box\"]\n",
    "                    output_page_size = page_sizes[relative_page]\n",
    "                    pdf_image = self.pdf_to_image(page_num)\n",
    "                    normalized_coordinates = self.normalize_coordinates(\n",
    "                        coordinates, output_page_size\n",
    "                    )\n",
    "\n",
    "                    # 페이지별 figure 카운트 관리\n",
    "                    if page_num not in figure_count:\n",
    "                        figure_count[page_num] = 1\n",
    "                    else:\n",
    "                        figure_count[page_num] += 1\n",
    "\n",
    "                    # 출력 파일명 생성\n",
    "                    output_file = os.path.join(\n",
    "                        output_folder,\n",
    "                        f\"page_{page_num}_figure_{figure_count[page_num]}.png\",\n",
    "                    )\n",
    "\n",
    "                    self.crop_image(pdf_image, normalized_coordinates, output_file)\n",
    "\n",
    "                    # HTML에서 이미지 경로 업데이트\n",
    "                    soup = BeautifulSoup(element[\"html\"], \"html.parser\")\n",
    "                    img_tag = soup.find(\"img\")\n",
    "                    if img_tag:\n",
    "                        # 상대 경로로 변경\n",
    "                        relative_path = os.path.relpath(output_file, output_folder)\n",
    "                        img_tag[\"src\"] = relative_path.replace(\"\\\\\", \"/\")\n",
    "                    element[\"html\"] = str(soup)\n",
    "\n",
    "                    print(f\"이미지 저장됨: {output_file}\")\n",
    "\n",
    "                html_content.append(element[\"html\"])\n",
    "\n",
    "        # HTML 파일 저장\n",
    "        html_output_file = os.path.join(output_folder, f\"{self.filename}.html\")\n",
    "\n",
    "        combined_html_content = \"\\n\".join(html_content)\n",
    "        soup = BeautifulSoup(combined_html_content, \"html.parser\")\n",
    "        all_tags = set([tag.name for tag in soup.find_all()])\n",
    "        html_tag_list = [tag for tag in list(all_tags) if tag not in [\"br\"]]\n",
    "\n",
    "        with open(html_output_file, \"w\", encoding=\"utf-8\") as f:\n",
    "            f.write(combined_html_content)\n",
    "\n",
    "        print(f\"HTML 파일이 {html_output_file}에 저장되었습니다.\")\n",
    "\n",
    "        # Markdown 파일 저장\n",
    "        md_output_file = os.path.join(output_folder, f\"{self.filename}.md\")\n",
    "\n",
    "        md_output = markdown(\n",
    "            combined_html_content,\n",
    "            convert=html_tag_list,\n",
    "        )\n",
    "\n",
    "        with open(md_output_file, \"w\", encoding=\"utf-8\") as f:\n",
    "            f.write(md_output)\n",
    "\n",
    "        print(f\"Markdown 파일이 {md_output_file}에 저장되었습니다.\")"
   ]
  },
  {
   "cell_type": "code",
   "execution_count": 9,
   "metadata": {},
   "outputs": [],
   "source": [
    "image_processor = PDFImageProcessor(SAMPLE)"
   ]
  },
  {
   "cell_type": "code",
   "execution_count": 10,
   "metadata": {},
   "outputs": [
    {
     "name": "stdout",
     "output_type": "stream",
     "text": [
      "폴더가 생성되었습니다: data/디지털 정부혁신 추진계획\n",
      "이미지 저장됨: data/디지털 정부혁신 추진계획/page_7_figure_1.png\n",
      "이미지 저장됨: data/디지털 정부혁신 추진계획/page_11_figure_1.png\n",
      "이미지 저장됨: data/디지털 정부혁신 추진계획/page_20_figure_1.png\n",
      "이미지 저장됨: data/디지털 정부혁신 추진계획/page_20_figure_2.png\n",
      "이미지 저장됨: data/디지털 정부혁신 추진계획/page_20_figure_3.png\n",
      "이미지 저장됨: data/디지털 정부혁신 추진계획/page_21_figure_1.png\n",
      "이미지 저장됨: data/디지털 정부혁신 추진계획/page_21_figure_2.png\n",
      "이미지 저장됨: data/디지털 정부혁신 추진계획/page_21_figure_3.png\n",
      "HTML 파일이 data/디지털 정부혁신 추진계획/디지털 정부혁신 추진계획.html에 저장되었습니다.\n",
      "Markdown 파일이 data/디지털 정부혁신 추진계획/디지털 정부혁신 추진계획.md에 저장되었습니다.\n"
     ]
    }
   ],
   "source": [
    "image_processor.extract_images()"
   ]
  },
  {
   "cell_type": "markdown",
   "metadata": {},
   "source": [
    "## Clean up"
   ]
  },
  {
   "cell_type": "code",
   "execution_count": 11,
   "metadata": {},
   "outputs": [],
   "source": [
    "for file in split_files + analyzed_files:\n",
    "    os.remove(file)"
   ]
  },
  {
   "cell_type": "code",
   "execution_count": null,
   "metadata": {},
   "outputs": [],
   "source": []
  }
 ],
 "metadata": {
  "kernelspec": {
   "display_name": "modular-rag-oXRh758D-py3.11",
   "language": "python",
   "name": "python3"
  },
  "language_info": {
   "codemirror_mode": {
    "name": "ipython",
    "version": 3
   },
   "file_extension": ".py",
   "mimetype": "text/x-python",
   "name": "python",
   "nbconvert_exporter": "python",
   "pygments_lexer": "ipython3",
   "version": "3.11.5"
  }
 },
 "nbformat": 4,
 "nbformat_minor": 2
}
